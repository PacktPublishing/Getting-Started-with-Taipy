{
 "cells": [
  {
   "cell_type": "markdown",
   "id": "80a984d7",
   "metadata": {},
   "source": [
    "# Using Langchain and Google AI.\n",
    "\n",
    "## Create an account on Google's AI Studio\n",
    "\n",
    "Go to [Google AI Studio](https://aistudio.google.com/) and create an account, it's intuitive.\n",
    "\n",
    "![](../../img/google_ai_studio.png)\n",
    "\n",
    "Once in Google Studio, you can test Google's models from a UI. But what we want is an API key, click on \"Get API Key\", then on \"+ Create API Key\":\n",
    "\n",
    "![](../../img/google_api.png)\n",
    "\n",
    "Click on \"Select an API for a new project\", and you'll get an API for your projects. Copy it and keep it safe. We heavily recommend to store it in a secure environment variable:\n",
    "\n",
    "* For Linux\n",
    "```bash\n",
    "echo 'export GOOGLE_API_KEY=\"your-key\"' >> ~/.bashrc\n",
    "```\n",
    "\n",
    "* For Windows:\n",
    "```PowerShell\n",
    "setx GOOGLE_API_KEY \"your-key\" /M\n",
    "```\n",
    "\n",
    "## Billing Plan\n",
    "\n",
    "You can use Google's models for free within a rate limit, check it out:\n",
    "\n",
    "https://aistudio.google.com/plan_information\n",
    "\n",
    "## Using LangChain to connect to Google GenAI\n",
    "\n",
    "Check [LangChain's documentation](https://python.langchain.com/api_reference/google_genai/chat_models/langchain_google_genai.chat_models.ChatGoogleGenerativeAI.html) to connect to Google Gen AI. You'll have to install their [langchain-google-genai](https://pypi.org/project/langchain-google-genai/) library:\n",
    "\n",
    "```\n",
    "pip install langchain-google-genai\n",
    "```"
   ]
  },
  {
   "cell_type": "code",
   "execution_count": 1,
   "id": "45bca78d",
   "metadata": {},
   "outputs": [],
   "source": [
    "from langchain_google_genai import ChatGoogleGenerativeAI"
   ]
  },
  {
   "cell_type": "code",
   "execution_count": 4,
   "id": "47c87bed",
   "metadata": {},
   "outputs": [
    {
     "data": {
      "text/plain": [
       "AIMessage(content=\"## Creamy Spinach and Mushroom Pasta\\n\\nThis recipe is quick, easy, and delicious, perfect for a weeknight meal.  It's easily adaptable to your dietary needs – feel free to swap pasta types or add protein like chicken or chickpeas.\\n\\n**Yields:** 4 servings\\n**Prep time:** 10 minutes\\n**Cook time:** 20 minutes\\n\\n\\n**Ingredients:**\\n\\n* 1 pound pasta (penne, rotini, or your favorite shape)\\n* 8 ounces cremini mushrooms, sliced\\n* 10 ounces fresh spinach, roughly chopped\\n* 2 cloves garlic, minced\\n* 1/2 cup heavy cream (or coconut cream for vegan option)\\n* 1/4 cup grated Parmesan cheese (or nutritional yeast for vegan option)\\n* 2 tablespoons olive oil\\n* 1/4 teaspoon salt\\n* 1/4 teaspoon black pepper\\n* Red pepper flakes (optional, for a little heat)\\n\\n\\n**Instructions:**\\n\\n1. **Cook the pasta:** Bring a large pot of salted water to a boil. Add the pasta and cook according to package directions until al dente. Reserve about 1/2 cup of pasta water before draining.\\n2. **Sauté the mushrooms and garlic:** While the pasta is cooking, heat the olive oil in a large skillet over medium heat. Add the sliced mushrooms and cook for 5-7 minutes, until softened and lightly browned. Add the minced garlic and cook for another minute, until fragrant.\\n3. **Wilt the spinach:** Add the chopped spinach to the skillet and cook for 2-3 minutes, until wilted.\\n4. **Create the creamy sauce:** Stir in the heavy cream (or coconut cream), Parmesan cheese (or nutritional yeast), salt, pepper, and red pepper flakes (if using). Bring to a simmer and cook for 2-3 minutes, until the sauce has slightly thickened.\\n5. **Combine pasta and sauce:** Add the drained pasta to the skillet with the spinach and mushroom mixture. Toss to coat the pasta evenly with the creamy sauce. Add a little of the reserved pasta water if needed to loosen the sauce.\\n6. **Serve:** Serve immediately, garnished with extra Parmesan cheese (or nutritional yeast) and a sprinkle of black pepper, if desired.\\n\\n\\n**Tips and Variations:**\\n\\n* **Add protein:**  Cooked chicken breast, chickpeas, or sausage would be delicious additions. Add them to the skillet with the mushrooms.\\n* **Use different greens:** Kale or chard can be substituted for spinach.\\n* **Make it lighter:** Use half-and-half or milk instead of heavy cream for a lighter sauce.\\n* **Add other vegetables:**  Sun-dried tomatoes, artichoke hearts, or bell peppers would add extra flavor and texture.\\n* **Spice it up:** Add a pinch of nutmeg or a dash of Worcestershire sauce for a deeper flavor.\\n\\n\\nEnjoy your delicious and healthy spinach pasta!\", additional_kwargs={}, response_metadata={'prompt_feedback': {'block_reason': 0, 'safety_ratings': []}, 'finish_reason': 'STOP', 'model_name': 'gemini-1.5-flash', 'safety_ratings': []}, id='run-7eaac5e2-724d-4301-9756-bcd4cdc41c24-0', usage_metadata={'input_tokens': 5, 'output_tokens': 611, 'total_tokens': 616, 'input_token_details': {'cache_read': 0}})"
      ]
     },
     "execution_count": 4,
     "metadata": {},
     "output_type": "execute_result"
    }
   ],
   "source": [
    "llm = ChatGoogleGenerativeAI(\n",
    "    model=\"gemini-1.5-flash\", # A cheap model\n",
    "    # google_api_key = \"your-key\" ### OR set GOOGLE_API_KEY as env variable!\n",
    "    temperature = 0.5)\n",
    "llm.invoke(\"Make a recipe with spinach\")"
   ]
  },
  {
   "cell_type": "code",
   "execution_count": 5,
   "id": "9a84df05",
   "metadata": {},
   "outputs": [
    {
     "data": {
      "text/plain": [
       "AIMessage(content='## Roasted Asparagus with Lemon and Parmesan\\n\\nThis recipe is simple, quick, and highlights the fresh flavor of asparagus.\\n\\n**Yields:** 4 servings\\n**Prep time:** 5 minutes\\n**Cook time:** 10-15 minutes\\n\\n**Ingredients:**\\n\\n* 1 pound asparagus, trimmed\\n* 2 tablespoons olive oil\\n* 1 lemon, zested and juiced\\n* 1/4 cup grated Parmesan cheese\\n* Salt and freshly ground black pepper to taste\\n\\n**Equipment:**\\n* Baking sheet\\n* Parchment paper (optional)\\n\\n**Instructions**\\n\\n**Get started:**\\n\\n1. Preheat oven to 400°F (200°C). Line a baking sheet with parchment paper for easier cleanup (optional).\\n\\n**Prepare the asparagus:**\\n\\n2. Snap off the tough ends of the asparagus. You can do this by holding the bottom end of a spear and gently bending it until it naturally breaks. Discard the ends.\\n\\n**Roast the asparagus:**\\n\\n3. Place the asparagus spears on the prepared baking sheet.\\n4. Drizzle with olive oil and toss to coat evenly.\\n5. Sprinkle with lemon zest, salt, and pepper.\\n\\n6. Roast for 10-15 minutes, or until the asparagus is tender-crisp and slightly browned.  Thicker spears may take a bit longer.\\n\\n**Finish and serve:**\\n\\n7. Remove the asparagus from the oven and immediately squeeze the lemon juice over it.\\n8. Sprinkle with Parmesan cheese.\\n9. Serve hot as a side dish.\\n\\n\\n**Tips and variations:**\\n\\n* **Garlic lover?** Add 2-3 cloves of minced garlic to the asparagus before roasting.\\n* **Spice it up:** Add a pinch of red pepper flakes for a little heat.\\n* **Balsamic glaze:** Drizzle with balsamic glaze after roasting for an extra layer of flavor.\\n* **Different cheese:** Try using Pecorino Romano or Asiago cheese instead of Parmesan.\\n* **Grilling:** Asparagus can also be grilled.  Toss with olive oil, salt, and pepper and grill over medium heat for 5-7 minutes, turning occasionally.\\n\\n\\nEnjoy!', additional_kwargs={}, response_metadata={'prompt_feedback': {'block_reason': 0, 'safety_ratings': []}, 'finish_reason': 'STOP', 'model_name': 'gemini-1.5-pro-002', 'safety_ratings': []}, id='run-f2b0b33e-e354-4119-9b5d-83f15fb5ea1f-0', usage_metadata={'input_tokens': 7, 'output_tokens': 455, 'total_tokens': 462, 'input_token_details': {'cache_read': 0}})"
      ]
     },
     "execution_count": 5,
     "metadata": {},
     "output_type": "execute_result"
    }
   ],
   "source": [
    "\n",
    "llm = ChatGoogleGenerativeAI(\n",
    "    model=\"gemini-1.5-pro\", # An expensive model\n",
    "    # google_api_key = \"your-key\" ### OR set GOOGLE_API_KEY as env variable!\n",
    "    temperature = 0.8\n",
    ")\n",
    "llm.invoke(\"Make a recipe with asparragus\")"
   ]
  }
 ],
 "metadata": {
  "kernelspec": {
   "display_name": "mistral_test",
   "language": "python",
   "name": "python3"
  },
  "language_info": {
   "codemirror_mode": {
    "name": "ipython",
    "version": 3
   },
   "file_extension": ".py",
   "mimetype": "text/x-python",
   "name": "python",
   "nbconvert_exporter": "python",
   "pygments_lexer": "ipython3",
   "version": "3.12.2"
  }
 },
 "nbformat": 4,
 "nbformat_minor": 5
}

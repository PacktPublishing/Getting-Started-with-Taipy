{
 "cells": [
  {
   "cell_type": "code",
   "execution_count": 1,
   "id": "1cb06de9",
   "metadata": {},
   "outputs": [],
   "source": [
    "from langchain_mistralai.chat_models import ChatMistralAI\n",
    "from langchain_core.messages import AIMessage, HumanMessage, SystemMessage\n",
    "import base64"
   ]
  },
  {
   "cell_type": "markdown",
   "id": "9175cf1e",
   "metadata": {},
   "source": [
    "# Using Pixtral for image analysis\n",
    "\n",
    "Pixtral is Mistrral's [free model](https://docs.mistral.ai/getting-started/models/models_overview/) with image understanding capabilities.\n",
    "\n",
    "This model allows to send an image via an URL, with a written message to ask a question about an image. The model responds with a description of that image.\n",
    "\n",
    "For this small example, we'll use [lorem-picsum](https://picsum.photos/images) images. \n",
    "\n",
    "## Analyzing images from an ULR\n",
    "\n",
    "We create a `load_system_prompt` function to create an optional `SystemPrompt` LangChain object. \n",
    "\n",
    "We alse create a `analyze_image` function. Here, notice how the `content` argument is now a dictionary with a `text` and an `image_url` attributes:\n",
    "\n",
    "```\n",
    "{\"type\": \"text\", \"text\": \"Please describe the scene in this image:\"},\n",
    "{\"type\": \"image_url\", \"image_url\": uri_or_url},\n",
    "```\n"
   ]
  },
  {
   "cell_type": "code",
   "execution_count": 2,
   "id": "96cef61f",
   "metadata": {},
   "outputs": [],
   "source": [
    "def load_system_prompt(filename):\n",
    "    with open(filename, \"r\", encoding=\"utf-8\") as file:\n",
    "        content = file.read()\n",
    "    return SystemMessage(content=content)"
   ]
  },
  {
   "cell_type": "code",
   "execution_count": 3,
   "id": "f2fc19ab",
   "metadata": {},
   "outputs": [],
   "source": [
    "def analyze_image(\n",
    "    uri_or_url,\n",
    "    system_prompt=None,\n",
    "    text=\"Please describe the scene in this image:\",\n",
    "    model_name=\"pixtral-12b-2409\",\n",
    "    temperature=0.6,\n",
    "):\n",
    "    chat_bot = ChatMistralAI(model=model_name, temperature=temperature)\n",
    "    message_history = []\n",
    "\n",
    "    if system_prompt:\n",
    "        message_history.append(system_prompt)\n",
    "\n",
    "    message = HumanMessage(\n",
    "        content=[\n",
    "            {\"type\": \"text\", \"text\": text},\n",
    "            {\"type\": \"image_url\", \"image_url\": uri_or_url},\n",
    "        ]\n",
    "    )\n",
    "    message_history.append(message)\n",
    "\n",
    "    return chat_bot.invoke(message_history)"
   ]
  },
  {
   "cell_type": "code",
   "execution_count": 4,
   "id": "ae932724",
   "metadata": {},
   "outputs": [],
   "source": [
    "system_prompt = load_system_prompt(\"./system_prompt.txt\")"
   ]
  },
  {
   "cell_type": "code",
   "execution_count": 5,
   "id": "e44d0550",
   "metadata": {},
   "outputs": [],
   "source": [
    "image_url = \"https://fastly.picsum.photos/id/17/2500/1667.jpg?hmac=HD-JrnNUZjFiP2UZQvWcKrgLoC_pc_ouUSWv8kHsJJY\""
   ]
  },
  {
   "cell_type": "code",
   "execution_count": 11,
   "id": "e70da5ec",
   "metadata": {},
   "outputs": [
    {
     "data": {
      "text/plain": [
       "AIMessage(content='The image depicts an ancient stone church set against a backdrop of a cloudy sky. The church is constructed from large, irregularly shaped stones, giving it a rustic and historical appearance. The roof is made of dark slate tiles, contrasting with the lighter stone walls.\\n\\nThe church has a prominent square tower on its left side, topped with a small, arched window. Below the tower, there is a larger arched doorway, which serves as the main entrance. The door is made of dark wood and features a simple, arched design.\\n\\nOn the front facade of the church, there are three arched windows, each with a simple stone frame. The windows are small and rectangular, allowing limited light into the interior of the building. The walls of the church show signs of age and weathering, with some areas of the stonework appearing worn or eroded.\\n\\nSurrounding the church is a well-maintained grassy area, dotted with wildflowers. In the background, there are rolling hills and a few scattered trees, adding to the serene and tranquil atmosphere of the scene. The overall mood of the image is peaceful and reflective, evoking a sense of history and timelessness.', additional_kwargs={}, response_metadata={'token_usage': {'prompt_tokens': 3236, 'total_tokens': 3476, 'completion_tokens': 240}, 'model_name': 'pixtral-12b-2409', 'model': 'pixtral-12b-2409', 'finish_reason': 'stop'}, id='run--6aa36591-f3f2-498d-88e0-bd821877cc8f-0', usage_metadata={'input_tokens': 3236, 'output_tokens': 240, 'total_tokens': 3476})"
      ]
     },
     "execution_count": 11,
     "metadata": {},
     "output_type": "execute_result"
    }
   ],
   "source": [
    "analyze_image(image_url, system_prompt=system_prompt)"
   ]
  },
  {
   "cell_type": "markdown",
   "id": "47047331",
   "metadata": {},
   "source": [
    "## Sending a local image\n",
    "\n",
    "It's not possible to send a local image directly to the model, but we can convert the image into a base64-encoded data URI and send that instead. This allows the model to receive the image as if it were hosted online.\n",
    "\n",
    "We create a helper function create_uri to handle this conversion:"
   ]
  },
  {
   "cell_type": "code",
   "execution_count": 7,
   "id": "c2ad7a0a",
   "metadata": {},
   "outputs": [],
   "source": [
    "def create_uri(image_path):\n",
    "    with open(image_path, \"rb\") as image_file:\n",
    "        encoded_image = base64.b64encode(image_file.read()).decode(\"utf-8\")\n",
    "    return f\"data:image/jpeg;base64,{encoded_image}\""
   ]
  },
  {
   "cell_type": "markdown",
   "id": "12ff3dd9",
   "metadata": {},
   "source": [
    "Once encoded, we can pass the resulting URI to the analyze_image function just like a regular URL. The model will process and describe the image as usual."
   ]
  },
  {
   "cell_type": "code",
   "execution_count": 8,
   "id": "720e6dc1",
   "metadata": {},
   "outputs": [],
   "source": [
    "impage_uri = create_uri(\"./lorem_picsum.jpg\")"
   ]
  },
  {
   "cell_type": "code",
   "execution_count": 13,
   "id": "b67c0490",
   "metadata": {},
   "outputs": [],
   "source": [
    "response = analyze_image(impage_uri, system_prompt=system_prompt)"
   ]
  },
  {
   "cell_type": "code",
   "execution_count": 14,
   "id": "5c293eee",
   "metadata": {},
   "outputs": [
    {
     "data": {
      "text/plain": [
       "'The image depicts a serene and tranquil natural scene. A narrow, winding gravel path, composed of small gray stones, cuts through a lush green field. The path is flanked by vibrant green grass on both sides, with patches of taller, slightly yellowed grass near the edges. In the distance, a line of trees, predominantly coniferous with dense, dark green foliage, forms a natural backdrop. Among these trees, there are a few deciduous trees with white blossoms, adding a touch of contrast and softness to the scene. The sky above is a clear, bright blue, suggesting a sunny day. The overall mood of the image is peaceful and inviting, evoking a sense of calm and solitude.'"
      ]
     },
     "execution_count": 14,
     "metadata": {},
     "output_type": "execute_result"
    }
   ],
   "source": [
    "response.content"
   ]
  }
 ],
 "metadata": {
  "kernelspec": {
   "display_name": "mistral_test",
   "language": "python",
   "name": "python3"
  },
  "language_info": {
   "codemirror_mode": {
    "name": "ipython",
    "version": 3
   },
   "file_extension": ".py",
   "mimetype": "text/x-python",
   "name": "python",
   "nbconvert_exporter": "python",
   "pygments_lexer": "ipython3",
   "version": "3.12.2"
  }
 },
 "nbformat": 4,
 "nbformat_minor": 5
}

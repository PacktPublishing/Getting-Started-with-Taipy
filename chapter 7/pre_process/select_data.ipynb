{
 "cells": [
  {
   "cell_type": "code",
   "execution_count": 1,
   "metadata": {},
   "outputs": [],
   "source": [
    "import pandas as pd\n",
    "from connector import sql_to_df"
   ]
  },
  {
   "cell_type": "markdown",
   "metadata": {},
   "source": [
    "# Import data for the Sales Forecast Application\n",
    "\n",
    "First, retrive data from the database:\n",
    "\n",
    "* We only want bikes, which have a product sub-category in 1 (mountain bikes), 2 (road bikes) and 3 (touring bikes).\n",
    "* We retrieve the columns we need for the app, not more. We clean the data by trimming the columns with a `CHAR` type, and we transform the columns for better visualizations (day of week as 2-letter codes) and sub-categories as text instead of codes (*note that the original -complete_ AdventureWorksDW database has a subcategory table, here we just add a `CASE WHEN` statement to handle it*).\n"
   ]
  },
  {
   "cell_type": "code",
   "execution_count": 2,
   "metadata": {},
   "outputs": [],
   "source": [
    "df_sales = sql_to_df(\n",
    "    \"\"\"\n",
    "SELECT\n",
    "\tfulldatealternatekey AS date,\n",
    "\tCASE\n",
    "\t\tWHEN daynumberofweek = 1 THEN 'Su'\n",
    "\t\tWHEN daynumberofweek = 2 THEN 'Mo'\n",
    "\t\tWHEN daynumberofweek = 3 THEN 'Tu'\n",
    "\t\tWHEN daynumberofweek = 4 THEN 'We'\n",
    "\t\tWHEN daynumberofweek = 5 THEN 'Th'\n",
    "\t\tWHEN daynumberofweek = 6 THEN 'Fr'\n",
    "\t\tWHEN daynumberofweek = 7 THEN 'Sa'\n",
    "\t\tELSE '??'\n",
    "\tEND AS day,\n",
    "\tproductalternatekey AS product,\n",
    "\tCASE \n",
    "\t\tWHEN productsubcategorykey = 1 THEN 'Mountain'\n",
    "\t\tWHEN productsubcategorykey = 2 THEN 'Road'\n",
    "\t\tWHEN productsubcategorykey = 3 THEN 'Touring'\n",
    "\t\tELSE 'UNKNOWN'\n",
    "\tEND AS type,\n",
    "\tenglishproductname AS name,\n",
    "\tcolor AS color,\n",
    "\ttrim(style) AS style, \n",
    "\tcustomeralternatekey AS customer,\n",
    "\textract(year from birthdate) AS birth,\n",
    "\tCASE WHEN extract(year from birthdate) > 1980 THEN 'Millenial'\n",
    "\t\tWHEN extract(year from birthdate) BETWEEN 1966 AND 1980 THEN 'Gen X'\n",
    "        WHEN extract(year from birthdate) BETWEEN 1945 AND 1965 THEN 'Boomers'\n",
    "        WHEN extract(year from birthdate) < 1945 THEN 'Silent'\n",
    "        ELSE 'Unknown'\n",
    "    END AS generation,\n",
    "\tgender AS gender,\n",
    "\tunitprice AS unit_price,\n",
    "\torderquantity AS items,\n",
    "\tunitprice * orderquantity AS sales\n",
    "FROM\n",
    "    factinternetsales\n",
    "\tJOIN dimproduct ON dimproduct.productkey = factinternetsales.productkey\n",
    "\tJOIN dimdate on  dimdate.datekey = factinternetsales.orderdatekey\n",
    "\tJOIN dimcustomer on dimcustomer.customerkey = factinternetsales.customerkey\n",
    "WHERE \n",
    "\tproductsubcategorykey IN (1, 2, 3)\"\"\"\n",
    ")"
   ]
  },
  {
   "cell_type": "code",
   "execution_count": 3,
   "metadata": {},
   "outputs": [
    {
     "data": {
      "text/html": [
       "<div>\n",
       "<style scoped>\n",
       "    .dataframe tbody tr th:only-of-type {\n",
       "        vertical-align: middle;\n",
       "    }\n",
       "\n",
       "    .dataframe tbody tr th {\n",
       "        vertical-align: top;\n",
       "    }\n",
       "\n",
       "    .dataframe thead th {\n",
       "        text-align: right;\n",
       "    }\n",
       "</style>\n",
       "<table border=\"1\" class=\"dataframe\">\n",
       "  <thead>\n",
       "    <tr style=\"text-align: right;\">\n",
       "      <th></th>\n",
       "      <th>date</th>\n",
       "      <th>day</th>\n",
       "      <th>product</th>\n",
       "      <th>type</th>\n",
       "      <th>name</th>\n",
       "      <th>color</th>\n",
       "      <th>style</th>\n",
       "      <th>customer</th>\n",
       "      <th>birth</th>\n",
       "      <th>generation</th>\n",
       "      <th>gender</th>\n",
       "      <th>unit_price</th>\n",
       "      <th>items</th>\n",
       "      <th>sales</th>\n",
       "    </tr>\n",
       "  </thead>\n",
       "  <tbody>\n",
       "    <tr>\n",
       "      <th>4421</th>\n",
       "      <td>2012-09-21</td>\n",
       "      <td>Fr</td>\n",
       "      <td>BK-M68S-46</td>\n",
       "      <td>Mountain</td>\n",
       "      <td>Mountain-200 Silver, 46</td>\n",
       "      <td>Silver</td>\n",
       "      <td>U</td>\n",
       "      <td>AW00014236</td>\n",
       "      <td>1981.0</td>\n",
       "      <td>Millenial</td>\n",
       "      <td>F</td>\n",
       "      <td>2071.4196</td>\n",
       "      <td>1</td>\n",
       "      <td>2071.4196</td>\n",
       "    </tr>\n",
       "    <tr>\n",
       "      <th>14551</th>\n",
       "      <td>2013-12-12</td>\n",
       "      <td>Th</td>\n",
       "      <td>BK-R64Y-48</td>\n",
       "      <td>Road</td>\n",
       "      <td>Road-550-W Yellow, 48</td>\n",
       "      <td>Yellow</td>\n",
       "      <td>W</td>\n",
       "      <td>AW00021931</td>\n",
       "      <td>1966.0</td>\n",
       "      <td>Gen X</td>\n",
       "      <td>M</td>\n",
       "      <td>1120.4900</td>\n",
       "      <td>1</td>\n",
       "      <td>1120.4900</td>\n",
       "    </tr>\n",
       "    <tr>\n",
       "      <th>12799</th>\n",
       "      <td>2013-10-26</td>\n",
       "      <td>Sa</td>\n",
       "      <td>BK-R19B-44</td>\n",
       "      <td>Road</td>\n",
       "      <td>Road-750 Black, 44</td>\n",
       "      <td>Black</td>\n",
       "      <td>U</td>\n",
       "      <td>AW00025562</td>\n",
       "      <td>1985.0</td>\n",
       "      <td>Millenial</td>\n",
       "      <td>F</td>\n",
       "      <td>539.9900</td>\n",
       "      <td>1</td>\n",
       "      <td>539.9900</td>\n",
       "    </tr>\n",
       "    <tr>\n",
       "      <th>405</th>\n",
       "      <td>2011-03-22</td>\n",
       "      <td>Tu</td>\n",
       "      <td>BK-R93R-62</td>\n",
       "      <td>Road</td>\n",
       "      <td>Road-150 Red, 62</td>\n",
       "      <td>Red</td>\n",
       "      <td>U</td>\n",
       "      <td>AW00017056</td>\n",
       "      <td>1975.0</td>\n",
       "      <td>Gen X</td>\n",
       "      <td>M</td>\n",
       "      <td>3578.2700</td>\n",
       "      <td>1</td>\n",
       "      <td>3578.2700</td>\n",
       "    </tr>\n",
       "  </tbody>\n",
       "</table>\n",
       "</div>"
      ],
      "text/plain": [
       "             date day     product      type                     name   color  \\\n",
       "4421   2012-09-21  Fr  BK-M68S-46  Mountain  Mountain-200 Silver, 46  Silver   \n",
       "14551  2013-12-12  Th  BK-R64Y-48      Road    Road-550-W Yellow, 48  Yellow   \n",
       "12799  2013-10-26  Sa  BK-R19B-44      Road       Road-750 Black, 44   Black   \n",
       "405    2011-03-22  Tu  BK-R93R-62      Road         Road-150 Red, 62     Red   \n",
       "\n",
       "      style    customer   birth generation gender  unit_price  items  \\\n",
       "4421      U  AW00014236  1981.0  Millenial      F   2071.4196      1   \n",
       "14551     W  AW00021931  1966.0      Gen X      M   1120.4900      1   \n",
       "12799     U  AW00025562  1985.0  Millenial      F    539.9900      1   \n",
       "405       U  AW00017056  1975.0      Gen X      M   3578.2700      1   \n",
       "\n",
       "           sales  \n",
       "4421   2071.4196  \n",
       "14551  1120.4900  \n",
       "12799   539.9900  \n",
       "405    3578.2700  "
      ]
     },
     "execution_count": 3,
     "metadata": {},
     "output_type": "execute_result"
    }
   ],
   "source": [
    "df_sales.sample(4)"
   ]
  },
  {
   "cell_type": "code",
   "execution_count": 4,
   "metadata": {},
   "outputs": [
    {
     "data": {
      "text/plain": [
       "date           object\n",
       "day            object\n",
       "product        object\n",
       "type           object\n",
       "name           object\n",
       "color          object\n",
       "style          object\n",
       "customer       object\n",
       "birth         float64\n",
       "generation     object\n",
       "gender         object\n",
       "unit_price    float64\n",
       "items           int64\n",
       "sales         float64\n",
       "dtype: object"
      ]
     },
     "execution_count": 4,
     "metadata": {},
     "output_type": "execute_result"
    }
   ],
   "source": [
    "df_sales.dtypes"
   ]
  },
  {
   "cell_type": "code",
   "execution_count": 5,
   "metadata": {},
   "outputs": [
    {
     "name": "stdout",
     "output_type": "stream",
     "text": [
      "DataFrame size before changing data types: 8.32 Mb\n"
     ]
    }
   ],
   "source": [
    "# DataFrame size before type transformation\n",
    "print(\n",
    "    f\"DataFrame size before changing data types: {round(df_sales.memory_usage(deep=True).sum()/(1024*1024), 2)} Mb\"\n",
    ")"
   ]
  },
  {
   "cell_type": "code",
   "execution_count": 6,
   "metadata": {},
   "outputs": [],
   "source": [
    "df_sales = df_sales.astype(\n",
    "    {\n",
    "        \"date\": \"datetime64[ns]\",\n",
    "        \"day\": \"category\",\n",
    "        \"product\": \"category\",\n",
    "        \"type\": \"category\",\n",
    "        \"name\": str,\n",
    "        \"color\": \"category\",\n",
    "        \"style\": \"category\",\n",
    "        \"customer\": \"category\",\n",
    "        \"birth\": \"int\",\n",
    "        \"generation\": str,\n",
    "        \"gender\": \"category\",\n",
    "        \"unit_price\": \"float\",\n",
    "        \"items\": \"int\",\n",
    "        \"sales\": \"float\",\n",
    "    }\n",
    ")"
   ]
  },
  {
   "cell_type": "code",
   "execution_count": 7,
   "metadata": {},
   "outputs": [
    {
     "name": "stdout",
     "output_type": "stream",
     "text": [
      "DataFrame size after changing data types: 3.27 Mb\n"
     ]
    }
   ],
   "source": [
    "print(\n",
    "    f\"DataFrame size after changing data types: {round(df_sales.memory_usage(deep=True).sum()/(1024*1024), 2)} Mb\"\n",
    ")"
   ]
  },
  {
   "cell_type": "markdown",
   "metadata": {},
   "source": [
    "## Explorations\n",
    "\n",
    "We can plot some of the data to see how it's distributed, and look for anomalies."
   ]
  },
  {
   "cell_type": "code",
   "execution_count": 8,
   "metadata": {},
   "outputs": [
    {
     "data": {
      "text/html": [
       "<div>\n",
       "<style scoped>\n",
       "    .dataframe tbody tr th:only-of-type {\n",
       "        vertical-align: middle;\n",
       "    }\n",
       "\n",
       "    .dataframe tbody tr th {\n",
       "        vertical-align: top;\n",
       "    }\n",
       "\n",
       "    .dataframe thead th {\n",
       "        text-align: right;\n",
       "    }\n",
       "</style>\n",
       "<table border=\"1\" class=\"dataframe\">\n",
       "  <thead>\n",
       "    <tr style=\"text-align: right;\">\n",
       "      <th></th>\n",
       "      <th>date</th>\n",
       "      <th>day</th>\n",
       "      <th>product</th>\n",
       "      <th>type</th>\n",
       "      <th>name</th>\n",
       "      <th>color</th>\n",
       "      <th>style</th>\n",
       "      <th>customer</th>\n",
       "      <th>birth</th>\n",
       "      <th>generation</th>\n",
       "      <th>gender</th>\n",
       "      <th>unit_price</th>\n",
       "      <th>items</th>\n",
       "      <th>sales</th>\n",
       "    </tr>\n",
       "  </thead>\n",
       "  <tbody>\n",
       "  </tbody>\n",
       "</table>\n",
       "</div>"
      ],
      "text/plain": [
       "Empty DataFrame\n",
       "Columns: [date, day, product, type, name, color, style, customer, birth, generation, gender, unit_price, items, sales]\n",
       "Index: []"
      ]
     },
     "execution_count": 8,
     "metadata": {},
     "output_type": "execute_result"
    }
   ],
   "source": [
    "df_sales[df_sales[\"sales\"] < 0]"
   ]
  },
  {
   "cell_type": "code",
   "execution_count": 9,
   "metadata": {},
   "outputs": [
    {
     "data": {
      "text/plain": [
       "np.False_"
      ]
     },
     "execution_count": 9,
     "metadata": {},
     "output_type": "execute_result"
    }
   ],
   "source": [
    "df_sales.isnull().any().any()"
   ]
  },
  {
   "cell_type": "markdown",
   "metadata": {},
   "source": [
    "We don't have negative sales, and we don't have missing values, this dataset is rather clean.\n",
    "\n",
    "Let's look at sales evolution:"
   ]
  },
  {
   "cell_type": "code",
   "execution_count": 10,
   "metadata": {},
   "outputs": [],
   "source": [
    "def group_by_dimensions_and_facts(df, dimension_columns, orderby=\"sales\"):\n",
    "    \"\"\"\n",
    "    Groups a DataFrame by specified dimension columns, always aggregating:\n",
    "        - Count by the \"quantity\" column.\n",
    "        - Sum the \"total_sale\" column.\n",
    "\n",
    "    Args:\n",
    "        df (pd.DataFrame): The input DataFrame to group.\n",
    "        dimension_columns (list of str): List of column names to group by (dimensions).\n",
    "        orderby (str | list of str): columns name or list of columns to order the DataFrame. Defaults to \"sales\"\n",
    "\n",
    "\n",
    "    Returns:\n",
    "        pd.DataFrame: A grouped DataFrame with the sum of \"total_sale\" and count of \"quantity\" for each combination of dimensions.\n",
    "    \"\"\"\n",
    "    df_copy = df.copy()\n",
    "\n",
    "    # Sum \"total_sale\" and count \"quantity\"\n",
    "    df_grouped = df_copy.groupby(dimension_columns, observed=True).agg(\n",
    "        sales=(\"sales\", \"sum\"), items=(\"items\", \"count\")\n",
    "    )\n",
    "\n",
    "    df_grouped = df_grouped.sort_values(by=orderby, ascending=False)\n",
    "\n",
    "    # Format and return the DataFrame\n",
    "    df_grouped = df_grouped.round(2)\n",
    "    df_grouped = df_grouped.reset_index()\n",
    "    return df_grouped"
   ]
  },
  {
   "cell_type": "code",
   "execution_count": 11,
   "metadata": {},
   "outputs": [
    {
     "data": {
      "text/html": [
       "<div>\n",
       "<style scoped>\n",
       "    .dataframe tbody tr th:only-of-type {\n",
       "        vertical-align: middle;\n",
       "    }\n",
       "\n",
       "    .dataframe tbody tr th {\n",
       "        vertical-align: top;\n",
       "    }\n",
       "\n",
       "    .dataframe thead th {\n",
       "        text-align: right;\n",
       "    }\n",
       "</style>\n",
       "<table border=\"1\" class=\"dataframe\">\n",
       "  <thead>\n",
       "    <tr style=\"text-align: right;\">\n",
       "      <th></th>\n",
       "      <th>date</th>\n",
       "      <th>sales</th>\n",
       "      <th>items</th>\n",
       "    </tr>\n",
       "  </thead>\n",
       "  <tbody>\n",
       "    <tr>\n",
       "      <th>0</th>\n",
       "      <td>2013-12-28</td>\n",
       "      <td>45779.42</td>\n",
       "      <td>26</td>\n",
       "    </tr>\n",
       "    <tr>\n",
       "      <th>1</th>\n",
       "      <td>2013-12-27</td>\n",
       "      <td>57803.94</td>\n",
       "      <td>40</td>\n",
       "    </tr>\n",
       "  </tbody>\n",
       "</table>\n",
       "</div>"
      ],
      "text/plain": [
       "        date     sales  items\n",
       "0 2013-12-28  45779.42     26\n",
       "1 2013-12-27  57803.94     40"
      ]
     },
     "execution_count": 11,
     "metadata": {},
     "output_type": "execute_result"
    }
   ],
   "source": [
    "df_sales_by_date = group_by_dimensions_and_facts(df_sales, [\"date\"], orderby=\"date\")\n",
    "df_sales_by_date.head(2)"
   ]
  },
  {
   "cell_type": "code",
   "execution_count": 12,
   "metadata": {},
   "outputs": [
    {
     "data": {
      "text/plain": [
       "<Axes: xlabel='date', ylabel='sales'>"
      ]
     },
     "execution_count": 12,
     "metadata": {},
     "output_type": "execute_result"
    },
    {
     "data": {
      "image/png": "[encoded data removed]",
      "text/plain": [
       "<Figure size 640x480 with 1 Axes>"
      ]
     },
     "metadata": {},
     "output_type": "display_data"
    }
   ],
   "source": [
    "df_sales_by_date.plot(x=\"date\", y=\"sales\", kind=\"scatter\")"
   ]
  },
  {
   "cell_type": "markdown",
   "metadata": {},
   "source": [
    "## Create a simplified DataFrame\n",
    "\n",
    "By creating a smaller DataFrame, we can increase the efficiency of the application.\n",
    "\n",
    "We'll still use the bigger DataFrame to display data, in a table that doesn't update. But we can create a second subset, with less columns and some level of pre-aggregation to reduce the required effort to aggreate data.\n",
    "\n",
    "We remove the following columns, that we won't use for aggregation:\n",
    "\n",
    "* product (the product ID, we'll use the \"name\", it's less efficient, but better for end users).\n",
    "* customer (the customer ID).\n",
    "* birth (we won't aggregate by birthdate -not enough data-, but by \"generation\")."
   ]
  },
  {
   "cell_type": "code",
   "execution_count": 13,
   "metadata": {},
   "outputs": [
    {
     "data": {
      "text/plain": [
       "15205"
      ]
     },
     "execution_count": 13,
     "metadata": {},
     "output_type": "execute_result"
    }
   ],
   "source": [
    "len(df_sales)"
   ]
  },
  {
   "cell_type": "code",
   "execution_count": 14,
   "metadata": {},
   "outputs": [
    {
     "data": {
      "text/html": [
       "<div>\n",
       "<style scoped>\n",
       "    .dataframe tbody tr th:only-of-type {\n",
       "        vertical-align: middle;\n",
       "    }\n",
       "\n",
       "    .dataframe tbody tr th {\n",
       "        vertical-align: top;\n",
       "    }\n",
       "\n",
       "    .dataframe thead th {\n",
       "        text-align: right;\n",
       "    }\n",
       "</style>\n",
       "<table border=\"1\" class=\"dataframe\">\n",
       "  <thead>\n",
       "    <tr style=\"text-align: right;\">\n",
       "      <th></th>\n",
       "      <th>date</th>\n",
       "      <th>day</th>\n",
       "      <th>type</th>\n",
       "      <th>name</th>\n",
       "      <th>color</th>\n",
       "      <th>style</th>\n",
       "      <th>generation</th>\n",
       "      <th>gender</th>\n",
       "      <th>unit_price</th>\n",
       "      <th>sales</th>\n",
       "      <th>items</th>\n",
       "    </tr>\n",
       "  </thead>\n",
       "  <tbody>\n",
       "    <tr>\n",
       "      <th>0</th>\n",
       "      <td>2011-06-07</td>\n",
       "      <td>Tu</td>\n",
       "      <td>Road</td>\n",
       "      <td>Road-150 Red, 62</td>\n",
       "      <td>Red</td>\n",
       "      <td>U</td>\n",
       "      <td>Gen X</td>\n",
       "      <td>M</td>\n",
       "      <td>3578.27</td>\n",
       "      <td>14313.08</td>\n",
       "      <td>4</td>\n",
       "    </tr>\n",
       "    <tr>\n",
       "      <th>1</th>\n",
       "      <td>2011-05-16</td>\n",
       "      <td>Mo</td>\n",
       "      <td>Road</td>\n",
       "      <td>Road-150 Red, 52</td>\n",
       "      <td>Red</td>\n",
       "      <td>U</td>\n",
       "      <td>Gen X</td>\n",
       "      <td>F</td>\n",
       "      <td>3578.27</td>\n",
       "      <td>10734.81</td>\n",
       "      <td>3</td>\n",
       "    </tr>\n",
       "    <tr>\n",
       "      <th>2</th>\n",
       "      <td>2011-05-08</td>\n",
       "      <td>Su</td>\n",
       "      <td>Road</td>\n",
       "      <td>Road-150 Red, 56</td>\n",
       "      <td>Red</td>\n",
       "      <td>U</td>\n",
       "      <td>Gen X</td>\n",
       "      <td>M</td>\n",
       "      <td>3578.27</td>\n",
       "      <td>10734.81</td>\n",
       "      <td>3</td>\n",
       "    </tr>\n",
       "    <tr>\n",
       "      <th>3</th>\n",
       "      <td>2011-05-24</td>\n",
       "      <td>Tu</td>\n",
       "      <td>Road</td>\n",
       "      <td>Road-150 Red, 44</td>\n",
       "      <td>Red</td>\n",
       "      <td>U</td>\n",
       "      <td>Gen X</td>\n",
       "      <td>M</td>\n",
       "      <td>3578.27</td>\n",
       "      <td>10734.81</td>\n",
       "      <td>3</td>\n",
       "    </tr>\n",
       "    <tr>\n",
       "      <th>4</th>\n",
       "      <td>2011-06-17</td>\n",
       "      <td>Fr</td>\n",
       "      <td>Road</td>\n",
       "      <td>Road-150 Red, 48</td>\n",
       "      <td>Red</td>\n",
       "      <td>U</td>\n",
       "      <td>Gen X</td>\n",
       "      <td>F</td>\n",
       "      <td>3578.27</td>\n",
       "      <td>10734.81</td>\n",
       "      <td>3</td>\n",
       "    </tr>\n",
       "  </tbody>\n",
       "</table>\n",
       "</div>"
      ],
      "text/plain": [
       "        date day  type              name color style generation gender  \\\n",
       "0 2011-06-07  Tu  Road  Road-150 Red, 62   Red     U      Gen X      M   \n",
       "1 2011-05-16  Mo  Road  Road-150 Red, 52   Red     U      Gen X      F   \n",
       "2 2011-05-08  Su  Road  Road-150 Red, 56   Red     U      Gen X      M   \n",
       "3 2011-05-24  Tu  Road  Road-150 Red, 44   Red     U      Gen X      M   \n",
       "4 2011-06-17  Fr  Road  Road-150 Red, 48   Red     U      Gen X      F   \n",
       "\n",
       "   unit_price     sales  items  \n",
       "0     3578.27  14313.08      4  \n",
       "1     3578.27  10734.81      3  \n",
       "2     3578.27  10734.81      3  \n",
       "3     3578.27  10734.81      3  \n",
       "4     3578.27  10734.81      3  "
      ]
     },
     "execution_count": 14,
     "metadata": {},
     "output_type": "execute_result"
    }
   ],
   "source": [
    "df_sales_simplified = group_by_dimensions_and_facts(\n",
    "    df_sales,\n",
    "    [\n",
    "        \"date\",\n",
    "        \"day\",\n",
    "        \"type\",\n",
    "        \"name\",\n",
    "        \"color\",\n",
    "        \"style\",\n",
    "        \"generation\",\n",
    "        \"gender\",\n",
    "        \"unit_price\",\n",
    "    ],\n",
    ")\n",
    "df_sales_simplified.head()"
   ]
  },
  {
   "cell_type": "code",
   "execution_count": 15,
   "metadata": {},
   "outputs": [
    {
     "data": {
      "text/plain": [
       "14242"
      ]
     },
     "execution_count": 15,
     "metadata": {},
     "output_type": "execute_result"
    }
   ],
   "source": [
    "len(df_sales_simplified)"
   ]
  },
  {
   "cell_type": "markdown",
   "metadata": {},
   "source": [
    "### Aggregate by customer type\n",
    "\n",
    "This will only be used for table display, we'll use the simplified DataFrame for charts."
   ]
  },
  {
   "cell_type": "code",
   "execution_count": 16,
   "metadata": {},
   "outputs": [
    {
     "data": {
      "text/html": [
       "<div>\n",
       "<style scoped>\n",
       "    .dataframe tbody tr th:only-of-type {\n",
       "        vertical-align: middle;\n",
       "    }\n",
       "\n",
       "    .dataframe tbody tr th {\n",
       "        vertical-align: top;\n",
       "    }\n",
       "\n",
       "    .dataframe thead th {\n",
       "        text-align: right;\n",
       "    }\n",
       "</style>\n",
       "<table border=\"1\" class=\"dataframe\">\n",
       "  <thead>\n",
       "    <tr style=\"text-align: right;\">\n",
       "      <th></th>\n",
       "      <th>customer</th>\n",
       "      <th>birth</th>\n",
       "      <th>generation</th>\n",
       "      <th>gender</th>\n",
       "      <th>sales</th>\n",
       "      <th>items</th>\n",
       "    </tr>\n",
       "  </thead>\n",
       "  <tbody>\n",
       "    <tr>\n",
       "      <th>0</th>\n",
       "      <td>AW00012300</td>\n",
       "      <td>1952</td>\n",
       "      <td>Boomers</td>\n",
       "      <td>F</td>\n",
       "      <td>13109.75</td>\n",
       "      <td>5</td>\n",
       "    </tr>\n",
       "    <tr>\n",
       "      <th>1</th>\n",
       "      <td>AW00012131</td>\n",
       "      <td>1961</td>\n",
       "      <td>Boomers</td>\n",
       "      <td>M</td>\n",
       "      <td>13109.75</td>\n",
       "      <td>5</td>\n",
       "    </tr>\n",
       "    <tr>\n",
       "      <th>2</th>\n",
       "      <td>AW00012301</td>\n",
       "      <td>1952</td>\n",
       "      <td>Boomers</td>\n",
       "      <td>F</td>\n",
       "      <td>13109.75</td>\n",
       "      <td>5</td>\n",
       "    </tr>\n",
       "    <tr>\n",
       "      <th>3</th>\n",
       "      <td>AW00012321</td>\n",
       "      <td>1956</td>\n",
       "      <td>Boomers</td>\n",
       "      <td>F</td>\n",
       "      <td>13084.75</td>\n",
       "      <td>5</td>\n",
       "    </tr>\n",
       "    <tr>\n",
       "      <th>4</th>\n",
       "      <td>AW00012308</td>\n",
       "      <td>1970</td>\n",
       "      <td>Gen X</td>\n",
       "      <td>F</td>\n",
       "      <td>13084.75</td>\n",
       "      <td>5</td>\n",
       "    </tr>\n",
       "  </tbody>\n",
       "</table>\n",
       "</div>"
      ],
      "text/plain": [
       "     customer  birth generation gender     sales  items\n",
       "0  AW00012300   1952    Boomers      F  13109.75      5\n",
       "1  AW00012131   1961    Boomers      M  13109.75      5\n",
       "2  AW00012301   1952    Boomers      F  13109.75      5\n",
       "3  AW00012321   1956    Boomers      F  13084.75      5\n",
       "4  AW00012308   1970      Gen X      F  13084.75      5"
      ]
     },
     "execution_count": 16,
     "metadata": {},
     "output_type": "execute_result"
    }
   ],
   "source": [
    "df_sales_by_customer = group_by_dimensions_and_facts(\n",
    "    df_sales, [\"customer\", \"birth\", \"generation\", \"gender\"]\n",
    ")\n",
    "\n",
    "\n",
    "df_sales_by_customer.head()"
   ]
  },
  {
   "cell_type": "markdown",
   "metadata": {},
   "source": [
    "### Aggregate by product type\n",
    "\n",
    "This will only be used for table display, we'll use the simplified DataFrame for charts"
   ]
  },
  {
   "cell_type": "code",
   "execution_count": 17,
   "metadata": {},
   "outputs": [
    {
     "data": {
      "text/html": [
       "<div>\n",
       "<style scoped>\n",
       "    .dataframe tbody tr th:only-of-type {\n",
       "        vertical-align: middle;\n",
       "    }\n",
       "\n",
       "    .dataframe tbody tr th {\n",
       "        vertical-align: top;\n",
       "    }\n",
       "\n",
       "    .dataframe thead th {\n",
       "        text-align: right;\n",
       "    }\n",
       "</style>\n",
       "<table border=\"1\" class=\"dataframe\">\n",
       "  <thead>\n",
       "    <tr style=\"text-align: right;\">\n",
       "      <th></th>\n",
       "      <th>product</th>\n",
       "      <th>name</th>\n",
       "      <th>type</th>\n",
       "      <th>color</th>\n",
       "      <th>style</th>\n",
       "      <th>unit_price</th>\n",
       "      <th>sales</th>\n",
       "      <th>items</th>\n",
       "    </tr>\n",
       "  </thead>\n",
       "  <tbody>\n",
       "    <tr>\n",
       "      <th>0</th>\n",
       "      <td>BK-M68B-46</td>\n",
       "      <td>Mountain-200 Black, 46</td>\n",
       "      <td>Mountain</td>\n",
       "      <td>Black</td>\n",
       "      <td>U</td>\n",
       "      <td>2294.99</td>\n",
       "      <td>1373469.55</td>\n",
       "      <td>620</td>\n",
       "    </tr>\n",
       "    <tr>\n",
       "      <th>1</th>\n",
       "      <td>BK-M68B-42</td>\n",
       "      <td>Mountain-200 Black, 42</td>\n",
       "      <td>Mountain</td>\n",
       "      <td>Black</td>\n",
       "      <td>U</td>\n",
       "      <td>2294.99</td>\n",
       "      <td>1363142.09</td>\n",
       "      <td>614</td>\n",
       "    </tr>\n",
       "    <tr>\n",
       "      <th>2</th>\n",
       "      <td>BK-M68S-38</td>\n",
       "      <td>Mountain-200 Silver, 38</td>\n",
       "      <td>Mountain</td>\n",
       "      <td>Silver</td>\n",
       "      <td>U</td>\n",
       "      <td>2319.99</td>\n",
       "      <td>1339462.79</td>\n",
       "      <td>596</td>\n",
       "    </tr>\n",
       "    <tr>\n",
       "      <th>3</th>\n",
       "      <td>BK-M68S-46</td>\n",
       "      <td>Mountain-200 Silver, 46</td>\n",
       "      <td>Mountain</td>\n",
       "      <td>Silver</td>\n",
       "      <td>U</td>\n",
       "      <td>2319.99</td>\n",
       "      <td>1301100.10</td>\n",
       "      <td>580</td>\n",
       "    </tr>\n",
       "    <tr>\n",
       "      <th>4</th>\n",
       "      <td>BK-M68B-38</td>\n",
       "      <td>Mountain-200 Black, 38</td>\n",
       "      <td>Mountain</td>\n",
       "      <td>Black</td>\n",
       "      <td>U</td>\n",
       "      <td>2294.99</td>\n",
       "      <td>1294866.14</td>\n",
       "      <td>582</td>\n",
       "    </tr>\n",
       "  </tbody>\n",
       "</table>\n",
       "</div>"
      ],
      "text/plain": [
       "      product                     name      type   color style  unit_price  \\\n",
       "0  BK-M68B-46   Mountain-200 Black, 46  Mountain   Black     U     2294.99   \n",
       "1  BK-M68B-42   Mountain-200 Black, 42  Mountain   Black     U     2294.99   \n",
       "2  BK-M68S-38  Mountain-200 Silver, 38  Mountain  Silver     U     2319.99   \n",
       "3  BK-M68S-46  Mountain-200 Silver, 46  Mountain  Silver     U     2319.99   \n",
       "4  BK-M68B-38   Mountain-200 Black, 38  Mountain   Black     U     2294.99   \n",
       "\n",
       "        sales  items  \n",
       "0  1373469.55    620  \n",
       "1  1363142.09    614  \n",
       "2  1339462.79    596  \n",
       "3  1301100.10    580  \n",
       "4  1294866.14    582  "
      ]
     },
     "execution_count": 17,
     "metadata": {},
     "output_type": "execute_result"
    }
   ],
   "source": [
    "df_sales_by_product = group_by_dimensions_and_facts(\n",
    "    df_sales,\n",
    "    [\n",
    "        \"product\",\n",
    "        \"name\",\n",
    "        \"type\",\n",
    "        \"color\",\n",
    "        \"style\",\n",
    "        \"unit_price\",\n",
    "    ],\n",
    ")\n",
    "# We use the maximum unit_price value\n",
    "df_sales_by_product = (\n",
    "    df_sales_by_product.groupby(\n",
    "        [\"product\", \"name\", \"type\", \"color\", \"style\"], observed=True\n",
    "    )\n",
    "    .agg({\"unit_price\": \"max\", \"sales\": \"sum\", \"items\": \"sum\"})\n",
    "    .sort_values(by=\"sales\", ascending=False)\n",
    "    .round(2)\n",
    "    .reset_index()\n",
    ")\n",
    "\n",
    "df_sales_by_product.head()"
   ]
  },
  {
   "cell_type": "markdown",
   "metadata": {},
   "source": [
    "## Save DataFrames\n",
    "\n",
    "We save each DataFrame:\n",
    "\n",
    "* As CSV, for reference and so we can have a quick way to inspect data manually when we want to debug or as we build our dashboard, or to check some data with our clients.\n",
    "* As a parquet file for our application, it's a more efficient format."
   ]
  },
  {
   "cell_type": "code",
   "execution_count": 18,
   "metadata": {},
   "outputs": [],
   "source": [
    "# Save csv files\n",
    "\n",
    "df_sales.to_csv(\"./csv_files/sales.csv\", index=False)\n",
    "df_sales_simplified.to_csv(\"./csv_files/sales_simplified.csv\", index=False)\n",
    "df_sales_by_customer.to_csv(\"./csv_files/sales_by_customer.csv\", index=False)\n",
    "df_sales_by_product.to_csv(\"./csv_files/sales_by_product.csv\", index=False)"
   ]
  },
  {
   "cell_type": "code",
   "execution_count": 19,
   "metadata": {},
   "outputs": [],
   "source": [
    "df_sales.to_parquet(\"../src/data/sales.parquet\", index=False)\n",
    "df_sales_simplified.to_parquet(\"../src/data/sales_simplified.parquet\", index=False)\n",
    "df_sales_by_customer.to_parquet(\"../src/data/sales_by_customer.parquet\", index=False)\n",
    "df_sales_by_product.to_parquet(\"../src/data/sales_by_product.parquet\", index=False)"
   ]
  }
 ],
 "metadata": {
  "kernelspec": {
   "display_name": "taipy",
   "language": "python",
   "name": "python3"
  },
  "language_info": {
   "codemirror_mode": {
    "name": "ipython",
    "version": 3
   },
   "file_extension": ".py",
   "mimetype": "text/x-python",
   "name": "python",
   "nbconvert_exporter": "python",
   "pygments_lexer": "ipython3",
   "version": "3.12.8"
  }
 },
 "nbformat": 4,
 "nbformat_minor": 2
}

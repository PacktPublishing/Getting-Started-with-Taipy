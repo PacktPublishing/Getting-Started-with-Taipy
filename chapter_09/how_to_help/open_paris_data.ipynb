{
 "cells": [
  {
   "cell_type": "code",
   "execution_count": 1,
   "metadata": {},
   "outputs": [],
   "source": [
    "import os\n",
    "\n",
    "import geopandas as gpd\n",
    "import numpy as np\n",
    "import openeo\n",
    "import pandas as pd\n",
    "import plotly.express as px\n",
    "import rasterio\n",
    "from scipy.signal import savgol_filter"
   ]
  },
  {
   "cell_type": "markdown",
   "metadata": {},
   "source": [
    "## How to use GeoPandas and OpenEo\n",
    "\n",
    "This notebook shows some of the functions, libraries and file formats we use in the chapter, in case you're not familiar with them.\n",
    "\n",
    "GeoPandas is a library to work with tables holding geographic information. This geographic information is represented by sets of coordinates, which can define points, lines or polygons (or multi-polygons).\n",
    "\n",
    "Geopackage is a file type (`.gpkg`) that can hold layers of geographical information. In our case, the notebook in `/data_preparation` created a `.gpkg` with polygon/multipolygon geometries (Paris' parks) and a layer f points (Paris's Parks centroids).\n",
    "\n",
    "We can explore the `.gpkg` file with GeoPandas and the `list_layers` method:"
   ]
  },
  {
   "cell_type": "code",
   "execution_count": 2,
   "metadata": {},
   "outputs": [
    {
     "name": "stdout",
     "output_type": "stream",
     "text": [
      "              name geometry_type\n",
      "0   parks_polygons  MultiPolygon\n",
      "1  parks_centroids         Point\n"
     ]
    }
   ],
   "source": [
    "geopackage_path = \"../src/data/paris_parks.gpkg\"\n",
    "\n",
    "layer_names = gpd.list_layers(geopackage_path)\n",
    "\n",
    "print(layer_names)"
   ]
  },
  {
   "cell_type": "markdown",
   "metadata": {},
   "source": [
    "We can uise each layer to create a GeoPandas GeoDataFrame. GepDataFrames have tabular data (just like a pandas DataFrame), but also geographic information. Each column in the GeoDataFrame is an **attribute** of the geographical object (for example, `postal_code` is an attribute of Paris' parks):"
   ]
  },
  {
   "cell_type": "code",
   "execution_count": 3,
   "metadata": {},
   "outputs": [],
   "source": [
    "gdf_paris_parks = gpd.read_file(geopackage_path, layer=\"parks_polygons\")\n",
    "gdf_park_centroid = gpd.read_file(geopackage_path, layer=\"parks_centroids\")"
   ]
  },
  {
   "cell_type": "code",
   "execution_count": 4,
   "metadata": {},
   "outputs": [
    {
     "data": {
      "text/html": [
       "<div>\n",
       "<style scoped>\n",
       "    .dataframe tbody tr th:only-of-type {\n",
       "        vertical-align: middle;\n",
       "    }\n",
       "\n",
       "    .dataframe tbody tr th {\n",
       "        vertical-align: top;\n",
       "    }\n",
       "\n",
       "    .dataframe thead th {\n",
       "        text-align: right;\n",
       "    }\n",
       "</style>\n",
       "<table border=\"1\" class=\"dataframe\">\n",
       "  <thead>\n",
       "    <tr style=\"text-align: right;\">\n",
       "      <th></th>\n",
       "      <th>id</th>\n",
       "      <th>id_name</th>\n",
       "      <th>name</th>\n",
       "      <th>postal_code</th>\n",
       "      <th>type</th>\n",
       "      <th>category</th>\n",
       "      <th>perimeter</th>\n",
       "      <th>total_real_surface</th>\n",
       "      <th>has_fence</th>\n",
       "      <th>area_sqm</th>\n",
       "      <th>geometry</th>\n",
       "    </tr>\n",
       "  </thead>\n",
       "  <tbody>\n",
       "    <tr>\n",
       "      <th>0</th>\n",
       "      <td>5</td>\n",
       "      <td>5 - Jardins Des Champs Elysees- Jardin Line Re...</td>\n",
       "      <td>Jardins Des Champs Elysees- Jardin Line Renaud</td>\n",
       "      <td>75008</td>\n",
       "      <td>Open Promenades</td>\n",
       "      <td>Garden</td>\n",
       "      <td>NaN</td>\n",
       "      <td>NaN</td>\n",
       "      <td>0.0</td>\n",
       "      <td>19219</td>\n",
       "      <td>MULTIPOLYGON (((2.31728 48.86799, 2.31763 48.8...</td>\n",
       "    </tr>\n",
       "    <tr>\n",
       "      <th>1</th>\n",
       "      <td>13</td>\n",
       "      <td>13 - Jardin Monique Wittig</td>\n",
       "      <td>Jardin Monique Wittig</td>\n",
       "      <td>75014</td>\n",
       "      <td>Open Promenades</td>\n",
       "      <td>Small Garden</td>\n",
       "      <td>230.0</td>\n",
       "      <td>996.0</td>\n",
       "      <td>0.0</td>\n",
       "      <td>1391</td>\n",
       "      <td>MULTIPOLYGON (((2.30574 48.82854, 2.30571 48.8...</td>\n",
       "    </tr>\n",
       "    <tr>\n",
       "      <th>2</th>\n",
       "      <td>14</td>\n",
       "      <td>14 - Promenade Pc 18 - Ornano - Poissonniers</td>\n",
       "      <td>Promenade Pc 18 - Ornano - Poissonniers</td>\n",
       "      <td>75018</td>\n",
       "      <td>Open Promenades</td>\n",
       "      <td>Promenade</td>\n",
       "      <td>NaN</td>\n",
       "      <td>13440.0</td>\n",
       "      <td>1.0</td>\n",
       "      <td>9620</td>\n",
       "      <td>MULTIPOLYGON (((2.35279 48.89807, 2.35268 48.8...</td>\n",
       "    </tr>\n",
       "    <tr>\n",
       "      <th>3</th>\n",
       "      <td>18</td>\n",
       "      <td>18 - Jardin De La Rue Compans</td>\n",
       "      <td>Jardin De La Rue Compans</td>\n",
       "      <td>75019</td>\n",
       "      <td>Open Promenades</td>\n",
       "      <td>Garden</td>\n",
       "      <td>244.0</td>\n",
       "      <td>2444.0</td>\n",
       "      <td>1.0</td>\n",
       "      <td>2386</td>\n",
       "      <td>MULTIPOLYGON (((2.39199 48.87815, 2.39272 48.8...</td>\n",
       "    </tr>\n",
       "    <tr>\n",
       "      <th>4</th>\n",
       "      <td>19</td>\n",
       "      <td>19 - 00-06</td>\n",
       "      <td>00-06</td>\n",
       "      <td>75013</td>\n",
       "      <td>Ring Road</td>\n",
       "      <td>Slope</td>\n",
       "      <td>258.0</td>\n",
       "      <td>NaN</td>\n",
       "      <td>0.0</td>\n",
       "      <td>1890</td>\n",
       "      <td>MULTIPOLYGON (((2.38683 48.8251, 2.38696 48.82...</td>\n",
       "    </tr>\n",
       "  </tbody>\n",
       "</table>\n",
       "</div>"
      ],
      "text/plain": [
       "   id                                            id_name  \\\n",
       "0   5  5 - Jardins Des Champs Elysees- Jardin Line Re...   \n",
       "1  13                         13 - Jardin Monique Wittig   \n",
       "2  14       14 - Promenade Pc 18 - Ornano - Poissonniers   \n",
       "3  18                      18 - Jardin De La Rue Compans   \n",
       "4  19                                         19 - 00-06   \n",
       "\n",
       "                                             name postal_code  \\\n",
       "0  Jardins Des Champs Elysees- Jardin Line Renaud       75008   \n",
       "1                           Jardin Monique Wittig       75014   \n",
       "2         Promenade Pc 18 - Ornano - Poissonniers       75018   \n",
       "3                        Jardin De La Rue Compans       75019   \n",
       "4                                           00-06       75013   \n",
       "\n",
       "              type      category  perimeter  total_real_surface  has_fence  \\\n",
       "0  Open Promenades        Garden        NaN                 NaN        0.0   \n",
       "1  Open Promenades  Small Garden      230.0               996.0        0.0   \n",
       "2  Open Promenades     Promenade        NaN             13440.0        1.0   \n",
       "3  Open Promenades        Garden      244.0              2444.0        1.0   \n",
       "4        Ring Road         Slope      258.0                 NaN        0.0   \n",
       "\n",
       "   area_sqm                                           geometry  \n",
       "0     19219  MULTIPOLYGON (((2.31728 48.86799, 2.31763 48.8...  \n",
       "1      1391  MULTIPOLYGON (((2.30574 48.82854, 2.30571 48.8...  \n",
       "2      9620  MULTIPOLYGON (((2.35279 48.89807, 2.35268 48.8...  \n",
       "3      2386  MULTIPOLYGON (((2.39199 48.87815, 2.39272 48.8...  \n",
       "4      1890  MULTIPOLYGON (((2.38683 48.8251, 2.38696 48.82...  "
      ]
     },
     "execution_count": 4,
     "metadata": {},
     "output_type": "execute_result"
    }
   ],
   "source": [
    "gdf_paris_parks.head()"
   ]
  },
  {
   "cell_type": "markdown",
   "metadata": {},
   "source": [
    "Just like pandas, GeoPandas has a `.plot()` method, it \"knows\" what to plot. `gdf_paris_parks` has polygons, and `gdf_park_centroid` has points:"
   ]
  },
  {
   "cell_type": "code",
   "execution_count": 5,
   "metadata": {},
   "outputs": [
    {
     "data": {
      "text/html": [
       "<div>\n",
       "<style scoped>\n",
       "    .dataframe tbody tr th:only-of-type {\n",
       "        vertical-align: middle;\n",
       "    }\n",
       "\n",
       "    .dataframe tbody tr th {\n",
       "        vertical-align: top;\n",
       "    }\n",
       "\n",
       "    .dataframe thead th {\n",
       "        text-align: right;\n",
       "    }\n",
       "</style>\n",
       "<table border=\"1\" class=\"dataframe\">\n",
       "  <thead>\n",
       "    <tr style=\"text-align: right;\">\n",
       "      <th></th>\n",
       "      <th>id</th>\n",
       "      <th>id_name</th>\n",
       "      <th>name</th>\n",
       "      <th>postal_code</th>\n",
       "      <th>type</th>\n",
       "      <th>category</th>\n",
       "      <th>perimeter</th>\n",
       "      <th>total_real_surface</th>\n",
       "      <th>has_fence</th>\n",
       "      <th>area_sqm</th>\n",
       "      <th>geometry</th>\n",
       "    </tr>\n",
       "  </thead>\n",
       "  <tbody>\n",
       "    <tr>\n",
       "      <th>532</th>\n",
       "      <td>1679</td>\n",
       "      <td>1679 - Bois De Vincennes</td>\n",
       "      <td>Bois De Vincennes</td>\n",
       "      <td>75012</td>\n",
       "      <td>Woods</td>\n",
       "      <td>Woods</td>\n",
       "      <td>21984.0</td>\n",
       "      <td>NaN</td>\n",
       "      <td>0.0</td>\n",
       "      <td>9928813</td>\n",
       "      <td>MULTIPOLYGON (((2.41134 48.83384, 2.41194 48.8...</td>\n",
       "    </tr>\n",
       "  </tbody>\n",
       "</table>\n",
       "</div>"
      ],
      "text/plain": [
       "       id                   id_name               name postal_code   type  \\\n",
       "532  1679  1679 - Bois De Vincennes  Bois De Vincennes       75012  Woods   \n",
       "\n",
       "    category  perimeter  total_real_surface  has_fence  area_sqm  \\\n",
       "532    Woods    21984.0                 NaN        0.0   9928813   \n",
       "\n",
       "                                              geometry  \n",
       "532  MULTIPOLYGON (((2.41134 48.83384, 2.41194 48.8...  "
      ]
     },
     "execution_count": 5,
     "metadata": {},
     "output_type": "execute_result"
    }
   ],
   "source": [
    "id_vincennes = \"1679 - Bois De Vincennes\"\n",
    "gdf_paris_parks[gdf_paris_parks[\"id_name\"] == id_vincennes]"
   ]
  },
  {
   "cell_type": "code",
   "execution_count": 6,
   "metadata": {},
   "outputs": [
    {
     "data": {
      "text/plain": [
       "<Axes: >"
      ]
     },
     "execution_count": 6,
     "metadata": {},
     "output_type": "execute_result"
    },
    {
     "data": {
      "image/png": "[encoded data removed]",
      "text/plain": [
       "<Figure size 640x480 with 1 Axes>"
      ]
     },
     "metadata": {},
     "output_type": "display_data"
    }
   ],
   "source": [
    "gdf_paris_parks.plot()"
   ]
  },
  {
   "cell_type": "code",
   "execution_count": 7,
   "metadata": {},
   "outputs": [
    {
     "data": {
      "text/plain": [
       "<Axes: >"
      ]
     },
     "execution_count": 7,
     "metadata": {},
     "output_type": "execute_result"
    },
    {
     "data": {
      "image/png": "[encoded data removed]",
      "text/plain": [
       "<Figure size 640x480 with 1 Axes>"
      ]
     },
     "metadata": {},
     "output_type": "display_data"
    }
   ],
   "source": [
    "gdf_park_centroid.plot()"
   ]
  },
  {
   "cell_type": "markdown",
   "metadata": {},
   "source": [
    "## Ploting with Plotly\n",
    "\n",
    "We can plot GeoDataFrames with Plotly.\n",
    "Since we have centroids for each polygon, we can use them to center the map around them!"
   ]
  },
  {
   "cell_type": "code",
   "execution_count": 8,
   "metadata": {},
   "outputs": [],
   "source": [
    "def plot_park_with_centroid(\n",
    "    gdf_parks, gdf_park_centroid, id_name, map_style=\"open-street-map\"\n",
    "):\n",
    "    \"\"\"\n",
    "    Plots a specific park with its centroid on a Plotly map.\n",
    "\n",
    "    Args:\n",
    "        gdf_parks (geopandas.GeoDataFrame): GeoDataFrame containing park polygons.\n",
    "        gdf_park_centroid (geopandas.GeoDataFrame): GeoDataFrame containing park centroids.\n",
    "        id_name (str): The name and ID of the park to plot.\n",
    "        map_style (str, optional): Map style. Defaults to \"open-street-map\".\n",
    "\n",
    "    Returns:\n",
    "        plotly.graph_objects.Figure: A Plotly map figure, or None if the park is not found.\n",
    "    \"\"\"\n",
    "    park_polygon = gdf_parks[gdf_parks[\"id_name\"] == id_name].copy()\n",
    "\n",
    "    id = int(id_name.split(\"-\", 1)[0])\n",
    "    park_centroid = gdf_park_centroid[gdf_park_centroid[\"id\"] == id].copy()\n",
    "\n",
    "    if park_polygon.empty or park_centroid.empty:\n",
    "        return None\n",
    "\n",
    "    # Get centroid coordinates\n",
    "    centroid_point = park_centroid[\"geometry\"].iloc[0]\n",
    "    center = {\"lat\": centroid_point.y, \"lon\": centroid_point.x}\n",
    "\n",
    "    fig = px.choropleth_map(\n",
    "        park_polygon,\n",
    "        geojson=park_polygon.geometry.__geo_interface__,\n",
    "        locations=park_polygon.index,\n",
    "        center=center,\n",
    "        map_style=map_style,\n",
    "        zoom=15,\n",
    "        opacity=0.5,\n",
    "        hover_name=\"name\",\n",
    "        hover_data={\n",
    "            \"name\": True,\n",
    "            \"type\": True,\n",
    "            \"category\": True,\n",
    "            \"area_sqm\": True,\n",
    "        },\n",
    "    )\n",
    "\n",
    "    fig.update_layout(margin={\"r\": 0, \"t\": 0, \"l\": 0, \"b\": 0})\n",
    "    return fig"
   ]
  },
  {
   "cell_type": "code",
   "execution_count": 9,
   "metadata": {},
   "outputs": [
    {
     "data": {
      "application/vnd.plotly.v1+json": {
       "config": {
        "plotlyServerURL": "https://plot.ly"
       },
       "data": [
        {
         "colorscale": [
          [
           0,
           "#636efa"
          ],
          [
           1,
           "#636efa"
          ]
         ],
         "customdata": [
          [
           "Bois De Vincennes",
           "Woods",
           "Woods",
           9928813
          ]
         ],
         "geojson": {
          "bbox": [
           2.3993157050516363,
           48.817001905688294,
           2.4697628538264667,
           48.84591472145575
          ],
          "features": [
           {
            "bbox": [
             2.3993157050516363,
             48.817001905688294,
             2.4697628538264667,
             48.84591472145575
            ],
            "geometry": {
             "coordinates": [
              [
               [
                [
                 2.411344479132588,
                 48.83383944025172
                ],
                [
                 2.411940429948977,
                 48.83372456225073
                ],
                [
                 2.412352227668516,
                 48.83367420900323
                ],
                [
                 2.4132408676550416,
                 48.83359490296427
                ],
                [
                 2.4139019857030886,
                 48.83357299098098
                ],
                [
                 2.414649875554104,
                 48.83358679917906
                ],
                [
                 2.4156471836272124,
                 48.83368628439266
                ],
                [
                 2.4166554254763164,
                 48.83385015777545
                ],
                [
                 2.417240986502103,
                 48.8340143130872
                ],
                [
                 2.4179241425446194,
                 48.83421417843508
                ],
                [
                 2.4183795857145913,
                 48.83434980553785
                ],
                [
                 2.419041137974465,
                 48.8345782939981
                ],
                [
                 2.4199846284671933,
                 48.83489244530382
                ],
                [
                 2.4204726514799955,
                 48.835049506594984
                ],
                [
                 2.421372825190491,
                 48.835377985835876
                ],
                [
                 2.421969322414579,
                 48.83557789048399
                ],
                [
                 2.422240457218504,
                 48.835677857752394
                ],
                [
                 2.422164852076812,
                 48.83582817520911
                ],
                [
                 2.4219811418945425,
                 48.836157455828435
                ],
                [
                 2.421786612846993,
                 48.83649390295474
                ],
                [
                 2.42160297371529,
                 48.83685895704522
                ],
                [
                 2.421516870751666,
                 48.837223947369274
                ],
                [
                 2.421366313614321,
                 48.83792527787499
                ],
                [
                 2.421215594100224,
                 48.83854074602268
                ],
                [
                 2.4210539435788627,
                 48.839098973202304
                ],
                [
                 2.4208597826700933,
                 48.839664392968075
                ],
                [
                 2.42058970951612,
                 48.84021554130516
                ],
                [
                 2.420351898381527,
                 48.84061641490682
                ],
                [
                 2.4200163324739927,
                 48.84089572356664
                ],
                [
                 2.419745824696821,
                 48.84119644035525
                ],
                [
                 2.4195620557828583,
                 48.841511401386164
                ],
                [
                 2.4194340848992746,
                 48.842226805352986
                ],
                [
                 2.4194290738778164,
                 48.84248338999004
                ],
                [
                 2.419510927257034,
                 48.84267172034489
                ],
                [
                 2.419761344800462,
                 48.84286890226505
                ],
                [
                 2.419837629552971,
                 48.842967533208764
                ],
                [
                 2.4199085177049167,
                 48.843098460783395
                ],
                [
                 2.4199305894221967,
                 48.8432940194516
                ],
                [
                 2.419881874742613,
                 48.84342144499925
                ],
                [
                 2.4206169111606997,
                 48.84377142720318
                ],
                [
                 2.421379728570872,
                 48.84414815461909
                ],
                [
                 2.422101090378179,
                 48.84449757918407
                ],
                [
                 2.422283181901603,
                 48.84439901789418
                ],
                [
                 2.4223907646630662,
                 48.844327848896164
                ],
                [
                 2.422696871847894,
                 48.844081559551476
                ],
                [
                 2.4230523471560743,
                 48.84364383777834
                ],
                [
                 2.4232836233501462,
                 48.843249969481434
                ],
                [
                 2.4234654846649537,
                 48.84301469682716
                ],
                [
                 2.423754710632391,
                 48.842604371473605
                ],
                [
                 2.4240855374090122,
                 48.84229243910738
                ],
                [
                 2.4243999453848897,
                 48.84206800790009
                ],
                [
                 2.4245488412432343,
                 48.8419421299046
                ],
                [
                 2.424805589243508,
                 48.84190365808775
                ],
                [
                 2.424747373134495,
                 48.84177246330005
                ],
                [
                 2.425070367774682,
                 48.841723005442816
                ],
                [
                 2.426205120761349,
                 48.841623694853794
                ],
                [
                 2.427348152293302,
                 48.8415243672754
                ],
                [
                 2.4277291704317254,
                 48.84149125869261
                ],
                [
                 2.428317254357033,
                 48.84144703868175
                ],
                [
                 2.4291869415885725,
                 48.84136431382884
                ],
                [
                 2.4300814979520093,
                 48.84129250691484
                ],
                [
                 2.4312410693052184,
                 48.84118765935667
                ],
                [
                 2.432442077692042,
                 48.84108823143057
                ],
                [
                 2.433270343528386,
                 48.84101644590744
                ],
                [
                 2.433634773637688,
                 48.840983331682146
                ],
                [
                 2.4336848927120043,
                 48.8411910748024
                ],
                [
                 2.4347533552294283,
                 48.841102672483075
                ],
                [
                 2.4359377893940652,
                 48.84100322201299
                ],
                [
                 2.4371967431035713,
                 48.84089275966895
                ],
                [
                 2.4372720096331135,
                 48.84124811396252
                ],
                [
                 2.4373725495931504,
                 48.84180577472639
                ],
                [
                 2.437531397106859,
                 48.84252195262051
                ],
                [
                 2.437640292562786,
                 48.843112402681264
                ],
                [
                 2.437790852616599,
                 48.84382311999191
                ],
                [
                 2.437941461604607,
                 48.84455570734757
                ],
                [
                 2.438918902317886,
                 48.844483757865945
                ],
                [
                 2.4398134882262275,
                 48.84440639767025
                ],
                [
                 2.440517537241315,
                 48.84434013904139
                ],
                [
                 2.440584711521395,
                 48.844766586509344
                ],
                [
                 2.44060981285865,
                 48.84488686913243
                ],
                [
                 2.440825176297316,
                 48.844870261215505
                ],
                [
                 2.440875576756945,
                 48.84520377444029
                ],
                [
                 2.440701621264194,
                 48.84521486784867
                ],
                [
                 2.4407273506379994,
                 48.845635885997936
                ],
                [
                 2.44075262875169,
                 48.84583271498405
                ],
                [
                 2.440761082821548,
                 48.84591472145575
                ],
                [
                 2.441191828639017,
                 48.84588698991825
                ],
                [
                 2.44176345454892,
                 48.84587006256321
                ],
                [
                 2.442426241782441,
                 48.845869450724464
                ],
                [
                 2.442915046938246,
                 48.84586899649817
                ],
                [
                 2.443685506152522,
                 48.84585187406054
                ],
                [
                 2.4442985625822375,
                 48.84584036237136
                ],
                [
                 2.445060700914947,
                 48.84580682692593
                ],
                [
                 2.4458228622393086,
                 48.84578423094755
                ],
                [
                 2.446551835361654,
                 48.8457452585793
                ],
                [
                 2.446492895318428,
                 48.845313338338855
                ],
                [
                 2.446425997350607,
                 48.84502906013744
                ],
                [
                 2.446409225622317,
                 48.84493611899925
                ],
                [
                 2.4468399218840715,
                 48.84489196363523
                ],
                [
                 2.4473203498745906,
                 48.84485321585104
                ],
                [
                 2.4478836041969028,
                 48.84480346081451
                ],
                [
                 2.448372266125147,
                 48.84474283139023
                ],
                [
                 2.449233681487456,
                 48.84465449430693
                ],
                [
                 2.450033525952211,
                 48.84455531319627
                ],
                [
                 2.4507177762985486,
                 48.84446326484124
                ],
                [
                 2.4511559425142266,
                 48.84438161266291
                ],
                [
                 2.4516095245212477,
                 48.84431516834724
                ],
                [
                 2.452216882183341,
                 48.8442282611678
                ],
                [
                 2.4528549391326577,
                 48.84412609439989
                ],
                [
                 2.4533623843095245,
                 48.844069749379514
                ],
                [
                 2.453823670290716,
                 48.84401344060059
                ],
                [
                 2.4541850124540283,
                 48.84396738628755
                ],
                [
                 2.4552690735698404,
                 48.84384444030548
                ],
                [
                 2.456499164477031,
                 48.843690881136325
                ],
                [
                 2.457560059401162,
                 48.843537479396325
                ],
                [
                 2.4584440883015404,
                 48.84338426511534
                ],
                [
                 2.45907443775071,
                 48.84328207168036
                ],
                [
                 2.4596970372074742,
                 48.84315450515512
                ],
                [
                 2.4607039414525396,
                 48.84294530564781
                ],
                [
                 2.461457121766255,
                 48.84275667060547
                ],
                [
                 2.4618413491993905,
                 48.842644586563964
                ],
                [
                 2.462087266532491,
                 48.84257832834175
                ],
                [
                 2.4624100004881306,
                 48.842476453302694
                ],
                [
                 2.4627557503936943,
                 48.842354246550336
                ],
                [
                 2.4631014855103612,
                 48.842226968172334
                ],
                [
                 2.463424165478495,
                 48.84210478454125
                ],
                [
                 2.463746752549742,
                 48.84195215110596
                ],
                [
                 2.4640078902747207,
                 48.84182496389026
                ],
                [
                 2.4641922214603946,
                 48.84173339096078
                ],
                [
                 2.4644072118603537,
                 48.841606253370614
                ],
                [
                 2.4647067150460265,
                 48.841443490653305
                ],
                [
                 2.464952401231737,
                 48.84129093067399
                ],
                [
                 2.4651596633157222,
                 48.841148576035394
                ],
                [
                 2.4656227606735794,
                 48.84081304697894
                ],
                [
                 2.4658836231904906,
                 48.840584335234134
                ],
                [
                 2.4662160430243665,
                 48.840274318582864
                ],
                [
                 2.4664845056141043,
                 48.840010067173054
                ],
                [
                 2.4666684678484927,
                 48.839786521834455
                ],
                [
                 2.4669827762619523,
                 48.83941054435184
                ],
                [
                 2.4671130284723466,
                 48.83923273483921
                ],
                [
                 2.467358349524068,
                 48.838948202028796
                ],
                [
                 2.46798209876733,
                 48.83830791951387
                ],
                [
                 2.4685574529189465,
                 48.837794596448134
                ],
                [
                 2.4688975340685215,
                 48.83748456348946
                ],
                [
                 2.4692504562116024,
                 48.83718975772491
                ],
                [
                 2.4694573923707814,
                 48.83693571433832
                ],
                [
                 2.469743445194113,
                 48.836461201189614
                ],
                [
                 2.4697628538264667,
                 48.836143517220805
                ],
                [
                 2.469730712149283,
                 48.83562581405035
                ],
                [
                 2.469668692978839,
                 48.835432999990935
                ],
                [
                 2.469614084581958,
                 48.835143739146865
                ],
                [
                 2.46951352972593,
                 48.83491543981774
                ],
                [
                 2.469405183844157,
                 48.83465669037398
                ],
                [
                 2.4693124900695853,
                 48.83449437114436
                ],
                [
                 2.469227477904267,
                 48.834332032842475
                ],
                [
                 2.4689960327712903,
                 48.83403790526429
                ],
                [
                 2.4685952477083615,
                 48.83367290362999
                ],
                [
                 2.4683769897436902,
                 48.83352087185727
                ],
                [
                 2.4681537330408947,
                 48.83341453819803
                ],
                [
                 2.467899706557335,
                 48.83329808612634
                ],
                [
                 2.467591819315817,
                 48.83317154306517
                ],
                [
                 2.4673531081317845,
                 48.83303476587233
                ],
                [
                 2.4669373865568174,
                 48.83283220262003
                ],
                [
                 2.4666576382308305,
                 48.832680246938125
                ],
                [
                 2.466434269165816,
                 48.83252821832925
                ],
                [
                 2.4662339489543306,
                 48.83237109023652
                ],
                [
                 2.4660798473403243,
                 48.83223929626218
                ],
                [
                 2.465898346456814,
                 48.832078440972964
                ],
                [
                 2.465773993356877,
                 48.831951675527094
                ],
                [
                 2.4656309644554666,
                 48.831792188667286
                ],
                [
                 2.465487834226648,
                 48.83158766562187
                ],
                [
                 2.4653508981784387,
                 48.83138723696675
                ],
                [
                 2.465207555909107,
                 48.83110493572379
                ],
                [
                 2.465070286771912,
                 48.830773508543906
                ],
                [
                 2.465013985276729,
                 48.83058117178333
                ],
                [
                 2.4649266860355286,
                 48.830384777762326
                ],
                [
                 2.464845309387558,
                 48.8300860392611
                ],
                [
                 2.4647891163842566,
                 48.82993463726541
                ],
                [
                 2.464663882749966,
                 48.82945582237157
                ],
                [
                 2.464607394198065,
                 48.82918979858078
                ],
                [
                 2.4645383854794054,
                 48.82887876303818
                ],
                [
                 2.4645063032823153,
                 48.82845716298906
                ],
                [
                 2.464530141424313,
                 48.82808051967509
                ],
                [
                 2.4645545448413846,
                 48.82792493542923
                ],
                [
                 2.464609600485288,
                 48.827634226606826
                ],
                [
                 2.4648760567211423,
                 48.82757661779479
                ],
                [
                 2.4650867611731733,
                 48.82753953706466
                ],
                [
                 2.465217286203127,
                 48.82766219519867
                ],
                [
                 2.465446459847127,
                 48.82757188297342
                ],
                [
                 2.465712830953274,
                 48.827481519745945
                ],
                [
                 2.4661671371651086,
                 48.82734182299132
                ],
                [
                 2.4661295799240945,
                 48.82720268454567
                ],
                [
                 2.465674067473059,
                 48.826081550686936
                ],
                [
                 2.4655863908489866,
                 48.82574187570629
                ],
                [
                 2.465480207578617,
                 48.825434973497515
                ],
                [
                 2.4654488151978318,
                 48.82528764462846
                ],
                [
                 2.4653551027777247,
                 48.82500937980298
                ],
                [
                 2.46514426114835,
                 48.824989150067886
                ],
                [
                 2.4651848266980574,
                 48.82469027394018
                ],
                [
                 2.4652217150066633,
                 48.8245715182705
                ],
                [
                 2.465258720203028,
                 48.82449779082839
                ],
                [
                 2.465077971781068,
                 48.82412547710526
                ],
                [
                 2.464903232975023,
                 48.82367947136563
                ],
                [
                 2.464784830067987,
                 48.82344216843387
                ],
                [
                 2.464716219024567,
                 48.82327850456632
                ],
                [
                 2.464666587684092,
                 48.82326627672404
                ],
                [
                 2.4645358363009913,
                 48.82304537211695
                ],
                [
                 2.4643677114680944,
                 48.8227590057445
                ],
                [
                 2.4642120159950327,
                 48.82248081784704
                ],
                [
                 2.463792739011336,
                 48.82175671071633
                ],
                [
                 2.463705510245741,
                 48.821584875380125
                ],
                [
                 2.4635124699952473,
                 48.82124941684997
                ],
                [
                 2.463348508048668,
                 48.82096713686366
                ],
                [
                 2.4632177803753184,
                 48.820750321655666
                ],
                [
                 2.463068346164553,
                 48.820492593528364
                ],
                [
                 2.462943781021091,
                 48.82026757994374
                ],
                [
                 2.4629063935705298,
                 48.820189842169945
                ],
                [
                 2.462800136110082,
                 48.81984200252563
                ],
                [
                 2.4627126239890944,
                 48.8195555453711
                ],
                [
                 2.462637680144664,
                 48.819338667791875
                ],
                [
                 2.462525909233214,
                 48.81926510497676
                ],
                [
                 2.462822944072517,
                 48.81906010138011
                ],
                [
                 2.4627980772267617,
                 48.819027377538056
                ],
                [
                 2.4625746471760968,
                 48.81892528681197
                ],
                [
                 2.462251877741928,
                 48.81875780167728
                ],
                [
                 2.4615298616787165,
                 48.81841063687765
                ],
                [
                 2.461138839339003,
                 48.81821866430773
                ],
                [
                 2.460853363425095,
                 48.81808388622333
                ],
                [
                 2.4603981779516317,
                 48.81784695355852
                ],
                [
                 2.460129278464174,
                 48.817728532540414
                ],
                [
                 2.4599389344902436,
                 48.81763049208471
                ],
                [
                 2.459750652067696,
                 48.817528348693884
                ],
                [
                 2.4595644960892185,
                 48.81745487134197
                ],
                [
                 2.4593783864177334,
                 48.8173936604579
                ],
                [
                 2.4592605166658,
                 48.81735695285629
                ],
                [
                 2.4591984617321203,
                 48.81732835902178
                ],
                [
                 2.459247833254319,
                 48.81723824383439
                ],
                [
                 2.4589747963006987,
                 48.81712392414734
                ],
                [
                 2.4588072587394256,
                 48.81705041740094
                ],
                [
                 2.458614980865391,
                 48.81700558735316
                ],
                [
                 2.458230649559001,
                 48.817001905688294
                ],
                [
                 2.4577161570044583,
                 48.81700654532415
                ],
                [
                 2.4571810253281425,
                 48.817019395668005
                ],
                [
                 2.456796733160615,
                 48.817032085373896
                ],
                [
                 2.4564744263605567,
                 48.817044699479844
                ],
                [
                 2.4561624859887843,
                 48.81706959495274
                ],
                [
                 2.45515631463332,
                 48.81711158027642
                ],
                [
                 2.454480716532912,
                 48.81714093124804
                ],
                [
                 2.453592369505195,
                 48.81720324874306
                ],
                [
                 2.453344457486927,
                 48.817223969457544
                ],
                [
                 2.452991279753734,
                 48.81728983427601
                ],
                [
                 2.4523573011869617,
                 48.81744603599969
                ],
                [
                 2.4514011383867804,
                 48.81767214527212
                ],
                [
                 2.4508187638476753,
                 48.81781191917901
                ],
                [
                 2.449763182858174,
                 48.81794395904546
                ],
                [
                 2.4493789189031134,
                 48.81797299907007
                ],
                [
                 2.4481991373429643,
                 48.818006911540174
                ],
                [
                 2.4475710299494002,
                 48.81802799125616
                ],
                [
                 2.4470482220268934,
                 48.81801621488553
                ],
                [
                 2.446223727503423,
                 48.81799654229757
                ],
                [
                 2.4458889664303056,
                 48.817984579360804
                ],
                [
                 2.445019015937722,
                 48.817964942322774
                ],
                [
                 2.4446842416393624,
                 48.817952984043686
                ],
                [
                 2.4440684634528265,
                 48.81794537391258
                ],
                [
                 2.443659347308275,
                 48.8179498503156
                ],
                [
                 2.4427150796614114,
                 48.81795892387435
                ],
                [
                 2.44225636613837,
                 48.81796344221328
                ],
                [
                 2.4418452722424657,
                 48.81801294925298
                ],
                [
                 2.441145036117498,
                 48.818128215133726
                ],
                [
                 2.4406596645383476,
                 48.81822690485612
                ],
                [
                 2.4403684340347245,
                 48.818284480847225
                ],
                [
                 2.4401019996091153,
                 48.81834203283803
                ],
                [
                 2.439841684587405,
                 48.81836273675881
                ],
                [
                 2.4395048694115813,
                 48.81835893963398
                ],
                [
                 2.43909568101009,
                 48.818330657475805
                ],
                [
                 2.4387092377578177,
                 48.818310536384374
                ],
                [
                 2.4382628342666943,
                 48.81826999986864
                ],
                [
                 2.437754477836005,
                 48.818245884358404
                ],
                [
                 2.4373390808871074,
                 48.81821760026031
                ],
                [
                 2.4373641102713353,
                 48.818332200325926
                ],
                [
                 2.43737698652902,
                 48.81856552356413
                ],
                [
                 2.4374022221886533,
                 48.8187824598487
                ],
                [
                 2.4374336128821006,
                 48.81897892471298
                ],
                [
                 2.4374586533211304,
                 48.81910580837924
                ],
                [
                 2.437372011476079,
                 48.81917137969873
                ],
                [
                 2.437303887970641,
                 48.81920828242045
                ],
                [
                 2.437198644056421,
                 48.81927387849106
                ],
                [
                 2.437035523522104,
                 48.81933951677099
                ],
                [
                 2.4368620651608497,
                 48.81939697939944
                ],
                [
                 2.436713393369042,
                 48.81945032968744
                ],
                [
                 2.436484155067863,
                 48.81950784106678
                ],
                [
                 2.4362548849742285,
                 48.81955716036123
                ],
                [
                 2.436081365795941,
                 48.819585971121086
                ],
                [
                 2.435633038359779,
                 48.819623204428304
                ],
                [
                 2.4351867467489696,
                 48.81964405908493
                ],
                [
                 2.4350007014699138,
                 48.81961146822882
                ],
                [
                 2.434808399864485,
                 48.819542038840154
                ],
                [
                 2.434582916810441,
                 48.81941942695379
                ],
                [
                 2.4345084395930305,
                 48.8193703637656
                ],
                [
                 2.4343224745109997,
                 48.81937871621782
                ],
                [
                 2.434179707574816,
                 48.81927649960783
                ],
                [
                 2.434230057994359,
                 48.8196694404592
                ],
                [
                 2.4342676317879586,
                 48.81985771683352
                ],
                [
                 2.4342803352115614,
                 48.82001735367265
                ],
                [
                 2.434305398173206,
                 48.820152422319744
                ],
                [
                 2.434142397030051,
                 48.820275366159606
                ],
                [
                 2.4338761556522743,
                 48.82044752578213
                ],
                [
                 2.43360994796814,
                 48.82063196858973
                ],
                [
                 2.4333809295966358,
                 48.820808187769394
                ],
                [
                 2.4332075330616543,
                 48.82090248906343
                ],
                [
                 2.432972307308393,
                 48.821082803429675
                ],
                [
                 2.4326854220582073,
                 48.82126725307754
                ],
                [
                 2.4324811436112173,
                 48.82142298231168
                ],
                [
                 2.4328970231445717,
                 48.82169691115326
                ],
                [
                 2.432630838631117,
                 48.82189771850552
                ],
                [
                 2.432177750493701,
                 48.82161563647391
                ],
                [
                 2.43189917120151,
                 48.82182464499855
                ],
                [
                 2.431657695331247,
                 48.821980402901445
                ],
                [
                 2.4314533798373303,
                 48.82211975436815
                ],
                [
                 2.431092220172166,
                 48.82236976457287
                ],
                [
                 2.430813639583682,
                 48.82258286260312
                ],
                [
                 2.4305783529202616,
                 48.82273861263753
                ],
                [
                 2.4303802565421724,
                 48.822886149117586
                ],
                [
                 2.4305231477136955,
                 48.82304568025565
                ],
                [
                 2.430690871545794,
                 48.823229758141856
                ],
                [
                 2.430300582321562,
                 48.823377443242315
                ],
                [
                 2.429802850159025,
                 48.82354160031779
                ],
                [
                 2.4293505446694295,
                 48.82368114945987
                ],
                [
                 2.4284251550664946,
                 48.82390704982684
                ],
                [
                 2.427978914329978,
                 48.82398518584122
                ],
                [
                 2.4277124207833034,
                 48.8240345174868
                ],
                [
                 2.427220715612378,
                 48.824104504236054
                ],
                [
                 2.426966583212395,
                 48.824137448433184
                ],
                [
                 2.426588485395686,
                 48.82418278195214
                ],
                [
                 2.4258735522298736,
                 48.82423655436667
                ],
                [
                 2.425489196614044,
                 48.82424913796051
                ],
                [
                 2.42497259143866,
                 48.82426591498659
                ],
                [
                 2.42430095405445,
                 48.82426643388425
                ],
                [
                 2.423792563832675,
                 48.82425453834361
                ],
                [
                 2.4233337267444104,
                 48.82422214551004
                ],
                [
                 2.422879064671573,
                 48.82421020567001
                ],
                [
                 2.422445051414148,
                 48.82419006623188
                ],
                [
                 2.421955225272376,
                 48.82416177245461
                ],
                [
                 2.4213021455353405,
                 48.82413360951023
                ],
                [
                 2.4208433665271167,
                 48.82412576471855
                ],
                [
                 2.4200353958493115,
                 48.824155008741656
                ],
                [
                 2.4197564178480153,
                 48.824163396509796
                ],
                [
                 2.419500244827023,
                 48.824208619259934
                ],
                [
                 2.4189610277134523,
                 48.8243072544389
                ],
                [
                 2.4183908853372724,
                 48.82444275310521
                ],
                [
                 2.4177939196175107,
                 48.82461102105719
                ],
                [
                 2.417347682633518,
                 48.82469729905489
                ],
                [
                 2.4166452062947967,
                 48.82480013054432
                ],
                [
                 2.4162732823374493,
                 48.82484132629826
                ],
                [
                 2.415888919959276,
                 48.82485387813034
                ],
                [
                 2.4153847099061148,
                 48.82487878664271
                ],
                [
                 2.4147460947812895,
                 48.82485466624901
                ],
                [
                 2.414371998637275,
                 48.82482217077636
                ],
                [
                 2.4139131681984174,
                 48.82479383128373
                ],
                [
                 2.4132291315570864,
                 48.82479429201786
                ],
                [
                 2.412392216569288,
                 48.82482350251912
                ],
                [
                 2.4116400956936985,
                 48.82490587791172
                ],
                [
                 2.4111938267472532,
                 48.824979847416046
                ],
                [
                 2.4106277498008017,
                 48.82509483786538
                ],
                [
                 2.410262102454117,
                 48.82518513716424
                ],
                [
                 2.409566034303512,
                 48.82544756923519
                ],
                [
                 2.4088654941836447,
                 48.82577822838484
                ],
                [
                 2.408191125720622,
                 48.826150000816334
                ],
                [
                 2.4076131768780837,
                 48.82652169840522
                ],
                [
                 2.4070138706447155,
                 48.82694646518078
                ],
                [
                 2.406350011108046,
                 48.827491599351525
                ],
                [
                 2.405392669880051,
                 48.828252453244986
                ],
                [
                 2.4045577330406043,
                 48.82875161036935
                ],
                [
                 2.4039474834993317,
                 48.829049047831354
                ],
                [
                 2.403594921273717,
                 48.82920890224151
                ],
                [
                 2.4031261979875658,
                 48.829396981804585
                ],
                [
                 2.402787429030815,
                 48.82951602635066
                ],
                [
                 2.402439790490669,
                 48.829633286237886
                ],
                [
                 2.401477933068418,
                 48.829372705085206
                ],
                [
                 2.4012939844197225,
                 48.829498869660036
                ],
                [
                 2.4006580436873763,
                 48.8299134339026
                ],
                [
                 2.399840387931067,
                 48.830436152892645
                ],
                [
                 2.3993157050516363,
                 48.830774111254925
                ],
                [
                 2.3995635384954266,
                 48.83081449620889
                ],
                [
                 2.400034166981228,
                 48.83088176986622
                ],
                [
                 2.4005184289337533,
                 48.83094902635703
                ],
                [
                 2.4009163340695197,
                 48.8310253411672
                ],
                [
                 2.401311958463085,
                 48.83109715808099
                ],
                [
                 2.401653018374891,
                 48.83116899660216
                ],
                [
                 2.402007750062939,
                 48.83125883767888
                ],
                [
                 2.4022465129653336,
                 48.831317234570086
                ],
                [
                 2.4026081306622973,
                 48.83145208829788
                ],
                [
                 2.4029038465359243,
                 48.83160499947346
                ],
                [
                 2.4030881152380936,
                 48.83171744613383
                ],
                [
                 2.403313413644953,
                 48.831901908914446
                ],
                [
                 2.4037229982571056,
                 48.83220781779535
                ],
                [
                 2.4039619491692474,
                 48.83240127262313
                ],
                [
                 2.4041664754310283,
                 48.832360631255966
                ],
                [
                 2.40421063775132,
                 48.83246281687351
                ],
                [
                 2.4044217457533263,
                 48.83295524216318
                ],
                [
                 2.405221298000973,
                 48.833182101613225
                ],
                [
                 2.4056104376743725,
                 48.83329553490455
                ],
                [
                 2.406076323944405,
                 48.833556266497006
                ],
                [
                 2.406627283914159,
                 48.83385483094214
                ],
                [
                 2.4068953193245726,
                 48.83399780398722
                ],
                [
                 2.4072016626627133,
                 48.83417022169567
                ],
                [
                 2.4076569035900746,
                 48.834414111056
                ],
                [
                 2.4078102177213325,
                 48.83460345696135
                ],
                [
                 2.40799547801789,
                 48.834822260225884
                ],
                [
                 2.408308061148989,
                 48.8348936290353
                ],
                [
                 2.4085502776330205,
                 48.834817703862754
                ],
                [
                 2.408875348738221,
                 48.83470803796246
                ],
                [
                 2.4093555421497657,
                 48.83455617917304
                ],
                [
                 2.40989733552132,
                 48.834379017483286
                ],
                [
                 2.4103562594100567,
                 48.83422716664112
                ],
                [
                 2.4107769605867437,
                 48.83409638311115
                ],
                [
                 2.411038283024752,
                 48.83400359668611
                ],
                [
                 2.4113187485939904,
                 48.833923423056106
                ],
                [
                 2.411216621359591,
                 48.833856133579154
                ],
                [
                 2.411344479132588,
                 48.83383944025172
                ]
               ]
              ]
             ],
             "type": "MultiPolygon"
            },
            "id": "532",
            "properties": {},
            "type": "Feature"
           }
          ],
          "type": "FeatureCollection"
         },
         "hovertemplate": "<b>%{hovertext}</b><br><br>index=%{location}<br>name=%{customdata[0]}<br>type=%{customdata[1]}<br>category=%{customdata[2]}<br>area_sqm=%{customdata[3]}<extra></extra>",
         "hovertext": [
          "Bois De Vincennes"
         ],
         "locations": {
          "bdata": "FAI=",
          "dtype": "i2"
         },
         "marker": {
          "opacity": 0.5
         },
         "name": "",
         "showlegend": true,
         "showscale": false,
         "subplot": "map",
         "type": "choroplethmap",
         "z": [
          1
         ]
        }
       ],
       "layout": {
        "legend": {
         "tracegroupgap": 0
        },
        "map": {
         "center": {
          "lat": 48.831357674387206,
          "lon": 2.440863508547963
         },
         "domain": {
          "x": [
           0,
           1
          ],
          "y": [
           0,
           1
          ]
         },
         "style": "open-street-map",
         "zoom": 15
        },
        "mapbox": {
         "center": {
          "lat": 48.831357674387206,
          "lon": 2.440863508547963
         },
         "style": "open-street-map",
         "zoom": 15
        },
        "margin": {
         "b": 0,
         "l": 0,
         "r": 0,
         "t": 0
        },
        "template": {
         "data": {
          "bar": [
           {
            "error_x": {
             "color": "#2a3f5f"
            },
            "error_y": {
             "color": "#2a3f5f"
            },
            "marker": {
             "line": {
              "color": "#E5ECF6",
              "width": 0.5
             },
             "pattern": {
              "fillmode": "overlay",
              "size": 10,
              "solidity": 0.2
             }
            },
            "type": "bar"
           }
          ],
          "barpolar": [
           {
            "marker": {
             "line": {
              "color": "#E5ECF6",
              "width": 0.5
             },
             "pattern": {
              "fillmode": "overlay",
              "size": 10,
              "solidity": 0.2
             }
            },
            "type": "barpolar"
           }
          ],
          "carpet": [
           {
            "aaxis": {
             "endlinecolor": "#2a3f5f",
             "gridcolor": "white",
             "linecolor": "white",
             "minorgridcolor": "white",
             "startlinecolor": "#2a3f5f"
            },
            "baxis": {
             "endlinecolor": "#2a3f5f",
             "gridcolor": "white",
             "linecolor": "white",
             "minorgridcolor": "white",
             "startlinecolor": "#2a3f5f"
            },
            "type": "carpet"
           }
          ],
          "choropleth": [
           {
            "colorbar": {
             "outlinewidth": 0,
             "ticks": ""
            },
            "type": "choropleth"
           }
          ],
          "contour": [
           {
            "colorbar": {
             "outlinewidth": 0,
             "ticks": ""
            },
            "colorscale": [
             [
              0,
              "#0d0887"
             ],
             [
              0.1111111111111111,
              "#46039f"
             ],
             [
              0.2222222222222222,
              "#7201a8"
             ],
             [
              0.3333333333333333,
              "#9c179e"
             ],
             [
              0.4444444444444444,
              "#bd3786"
             ],
             [
              0.5555555555555556,
              "#d8576b"
             ],
             [
              0.6666666666666666,
              "#ed7953"
             ],
             [
              0.7777777777777778,
              "#fb9f3a"
             ],
             [
              0.8888888888888888,
              "#fdca26"
             ],
             [
              1,
              "#f0f921"
             ]
            ],
            "type": "contour"
           }
          ],
          "contourcarpet": [
           {
            "colorbar": {
             "outlinewidth": 0,
             "ticks": ""
            },
            "type": "contourcarpet"
           }
          ],
          "heatmap": [
           {
            "colorbar": {
             "outlinewidth": 0,
             "ticks": ""
            },
            "colorscale": [
             [
              0,
              "#0d0887"
             ],
             [
              0.1111111111111111,
              "#46039f"
             ],
             [
              0.2222222222222222,
              "#7201a8"
             ],
             [
              0.3333333333333333,
              "#9c179e"
             ],
             [
              0.4444444444444444,
              "#bd3786"
             ],
             [
              0.5555555555555556,
              "#d8576b"
             ],
             [
              0.6666666666666666,
              "#ed7953"
             ],
             [
              0.7777777777777778,
              "#fb9f3a"
             ],
             [
              0.8888888888888888,
              "#fdca26"
             ],
             [
              1,
              "#f0f921"
             ]
            ],
            "type": "heatmap"
           }
          ],
          "histogram": [
           {
            "marker": {
             "pattern": {
              "fillmode": "overlay",
              "size": 10,
              "solidity": 0.2
             }
            },
            "type": "histogram"
           }
          ],
          "histogram2d": [
           {
            "colorbar": {
             "outlinewidth": 0,
             "ticks": ""
            },
            "colorscale": [
             [
              0,
              "#0d0887"
             ],
             [
              0.1111111111111111,
              "#46039f"
             ],
             [
              0.2222222222222222,
              "#7201a8"
             ],
             [
              0.3333333333333333,
              "#9c179e"
             ],
             [
              0.4444444444444444,
              "#bd3786"
             ],
             [
              0.5555555555555556,
              "#d8576b"
             ],
             [
              0.6666666666666666,
              "#ed7953"
             ],
             [
              0.7777777777777778,
              "#fb9f3a"
             ],
             [
              0.8888888888888888,
              "#fdca26"
             ],
             [
              1,
              "#f0f921"
             ]
            ],
            "type": "histogram2d"
           }
          ],
          "histogram2dcontour": [
           {
            "colorbar": {
             "outlinewidth": 0,
             "ticks": ""
            },
            "colorscale": [
             [
              0,
              "#0d0887"
             ],
             [
              0.1111111111111111,
              "#46039f"
             ],
             [
              0.2222222222222222,
              "#7201a8"
             ],
             [
              0.3333333333333333,
              "#9c179e"
             ],
             [
              0.4444444444444444,
              "#bd3786"
             ],
             [
              0.5555555555555556,
              "#d8576b"
             ],
             [
              0.6666666666666666,
              "#ed7953"
             ],
             [
              0.7777777777777778,
              "#fb9f3a"
             ],
             [
              0.8888888888888888,
              "#fdca26"
             ],
             [
              1,
              "#f0f921"
             ]
            ],
            "type": "histogram2dcontour"
           }
          ],
          "mesh3d": [
           {
            "colorbar": {
             "outlinewidth": 0,
             "ticks": ""
            },
            "type": "mesh3d"
           }
          ],
          "parcoords": [
           {
            "line": {
             "colorbar": {
              "outlinewidth": 0,
              "ticks": ""
             }
            },
            "type": "parcoords"
           }
          ],
          "pie": [
           {
            "automargin": true,
            "type": "pie"
           }
          ],
          "scatter": [
           {
            "fillpattern": {
             "fillmode": "overlay",
             "size": 10,
             "solidity": 0.2
            },
            "type": "scatter"
           }
          ],
          "scatter3d": [
           {
            "line": {
             "colorbar": {
              "outlinewidth": 0,
              "ticks": ""
             }
            },
            "marker": {
             "colorbar": {
              "outlinewidth": 0,
              "ticks": ""
             }
            },
            "type": "scatter3d"
           }
          ],
          "scattercarpet": [
           {
            "marker": {
             "colorbar": {
              "outlinewidth": 0,
              "ticks": ""
             }
            },
            "type": "scattercarpet"
           }
          ],
          "scattergeo": [
           {
            "marker": {
             "colorbar": {
              "outlinewidth": 0,
              "ticks": ""
             }
            },
            "type": "scattergeo"
           }
          ],
          "scattergl": [
           {
            "marker": {
             "colorbar": {
              "outlinewidth": 0,
              "ticks": ""
             }
            },
            "type": "scattergl"
           }
          ],
          "scattermap": [
           {
            "marker": {
             "colorbar": {
              "outlinewidth": 0,
              "ticks": ""
             }
            },
            "type": "scattermap"
           }
          ],
          "scattermapbox": [
           {
            "marker": {
             "colorbar": {
              "outlinewidth": 0,
              "ticks": ""
             }
            },
            "type": "scattermapbox"
           }
          ],
          "scatterpolar": [
           {
            "marker": {
             "colorbar": {
              "outlinewidth": 0,
              "ticks": ""
             }
            },
            "type": "scatterpolar"
           }
          ],
          "scatterpolargl": [
           {
            "marker": {
             "colorbar": {
              "outlinewidth": 0,
              "ticks": ""
             }
            },
            "type": "scatterpolargl"
           }
          ],
          "scatterternary": [
           {
            "marker": {
             "colorbar": {
              "outlinewidth": 0,
              "ticks": ""
             }
            },
            "type": "scatterternary"
           }
          ],
          "surface": [
           {
            "colorbar": {
             "outlinewidth": 0,
             "ticks": ""
            },
            "colorscale": [
             [
              0,
              "#0d0887"
             ],
             [
              0.1111111111111111,
              "#46039f"
             ],
             [
              0.2222222222222222,
              "#7201a8"
             ],
             [
              0.3333333333333333,
              "#9c179e"
             ],
             [
              0.4444444444444444,
              "#bd3786"
             ],
             [
              0.5555555555555556,
              "#d8576b"
             ],
             [
              0.6666666666666666,
              "#ed7953"
             ],
             [
              0.7777777777777778,
              "#fb9f3a"
             ],
             [
              0.8888888888888888,
              "#fdca26"
             ],
             [
              1,
              "#f0f921"
             ]
            ],
            "type": "surface"
           }
          ],
          "table": [
           {
            "cells": {
             "fill": {
              "color": "#EBF0F8"
             },
             "line": {
              "color": "white"
             }
            },
            "header": {
             "fill": {
              "color": "#C8D4E3"
             },
             "line": {
              "color": "white"
             }
            },
            "type": "table"
           }
          ]
         },
         "layout": {
          "annotationdefaults": {
           "arrowcolor": "#2a3f5f",
           "arrowhead": 0,
           "arrowwidth": 1
          },
          "autotypenumbers": "strict",
          "coloraxis": {
           "colorbar": {
            "outlinewidth": 0,
            "ticks": ""
           }
          },
          "colorscale": {
           "diverging": [
            [
             0,
             "#8e0152"
            ],
            [
             0.1,
             "#c51b7d"
            ],
            [
             0.2,
             "#de77ae"
            ],
            [
             0.3,
             "#f1b6da"
            ],
            [
             0.4,
             "#fde0ef"
            ],
            [
             0.5,
             "#f7f7f7"
            ],
            [
             0.6,
             "#e6f5d0"
            ],
            [
             0.7,
             "#b8e186"
            ],
            [
             0.8,
             "#7fbc41"
            ],
            [
             0.9,
             "#4d9221"
            ],
            [
             1,
             "#276419"
            ]
           ],
           "sequential": [
            [
             0,
             "#0d0887"
            ],
            [
             0.1111111111111111,
             "#46039f"
            ],
            [
             0.2222222222222222,
             "#7201a8"
            ],
            [
             0.3333333333333333,
             "#9c179e"
            ],
            [
             0.4444444444444444,
             "#bd3786"
            ],
            [
             0.5555555555555556,
             "#d8576b"
            ],
            [
             0.6666666666666666,
             "#ed7953"
            ],
            [
             0.7777777777777778,
             "#fb9f3a"
            ],
            [
             0.8888888888888888,
             "#fdca26"
            ],
            [
             1,
             "#f0f921"
            ]
           ],
           "sequentialminus": [
            [
             0,
             "#0d0887"
            ],
            [
             0.1111111111111111,
             "#46039f"
            ],
            [
             0.2222222222222222,
             "#7201a8"
            ],
            [
             0.3333333333333333,
             "#9c179e"
            ],
            [
             0.4444444444444444,
             "#bd3786"
            ],
            [
             0.5555555555555556,
             "#d8576b"
            ],
            [
             0.6666666666666666,
             "#ed7953"
            ],
            [
             0.7777777777777778,
             "#fb9f3a"
            ],
            [
             0.8888888888888888,
             "#fdca26"
            ],
            [
             1,
             "#f0f921"
            ]
           ]
          },
          "colorway": [
           "#636efa",
           "#EF553B",
           "#00cc96",
           "#ab63fa",
           "#FFA15A",
           "#19d3f3",
           "#FF6692",
           "#B6E880",
           "#FF97FF",
           "#FECB52"
          ],
          "font": {
           "color": "#2a3f5f"
          },
          "geo": {
           "bgcolor": "white",
           "lakecolor": "white",
           "landcolor": "#E5ECF6",
           "showlakes": true,
           "showland": true,
           "subunitcolor": "white"
          },
          "hoverlabel": {
           "align": "left"
          },
          "hovermode": "closest",
          "mapbox": {
           "style": "light"
          },
          "paper_bgcolor": "white",
          "plot_bgcolor": "#E5ECF6",
          "polar": {
           "angularaxis": {
            "gridcolor": "white",
            "linecolor": "white",
            "ticks": ""
           },
           "bgcolor": "#E5ECF6",
           "radialaxis": {
            "gridcolor": "white",
            "linecolor": "white",
            "ticks": ""
           }
          },
          "scene": {
           "xaxis": {
            "backgroundcolor": "#E5ECF6",
            "gridcolor": "white",
            "gridwidth": 2,
            "linecolor": "white",
            "showbackground": true,
            "ticks": "",
            "zerolinecolor": "white"
           },
           "yaxis": {
            "backgroundcolor": "#E5ECF6",
            "gridcolor": "white",
            "gridwidth": 2,
            "linecolor": "white",
            "showbackground": true,
            "ticks": "",
            "zerolinecolor": "white"
           },
           "zaxis": {
            "backgroundcolor": "#E5ECF6",
            "gridcolor": "white",
            "gridwidth": 2,
            "linecolor": "white",
            "showbackground": true,
            "ticks": "",
            "zerolinecolor": "white"
           }
          },
          "shapedefaults": {
           "line": {
            "color": "#2a3f5f"
           }
          },
          "ternary": {
           "aaxis": {
            "gridcolor": "white",
            "linecolor": "white",
            "ticks": ""
           },
           "baxis": {
            "gridcolor": "white",
            "linecolor": "white",
            "ticks": ""
           },
           "bgcolor": "#E5ECF6",
           "caxis": {
            "gridcolor": "white",
            "linecolor": "white",
            "ticks": ""
           }
          },
          "title": {
           "x": 0.05
          },
          "xaxis": {
           "automargin": true,
           "gridcolor": "white",
           "linecolor": "white",
           "ticks": "",
           "title": {
            "standoff": 15
           },
           "zerolinecolor": "white",
           "zerolinewidth": 2
          },
          "yaxis": {
           "automargin": true,
           "gridcolor": "white",
           "linecolor": "white",
           "ticks": "",
           "title": {
            "standoff": 15
           },
           "zerolinecolor": "white",
           "zerolinewidth": 2
          }
         }
        }
       }
      }
     },
     "metadata": {},
     "output_type": "display_data"
    }
   ],
   "source": [
    "plot_park_with_centroid(\n",
    "    gdf_parks=gdf_paris_parks,\n",
    "    gdf_park_centroid=gdf_park_centroid,\n",
    "    id_name=id_vincennes,\n",
    "    map_style=\"open-street-map\",\n",
    ")"
   ]
  },
  {
   "cell_type": "markdown",
   "metadata": {},
   "source": [
    "## Converting to DataFrame\n",
    "\n",
    "In case you need it, you can convert a GeoDataFrame into a DataFrame:"
   ]
  },
  {
   "cell_type": "code",
   "execution_count": 10,
   "metadata": {},
   "outputs": [],
   "source": [
    "df_paris_parks = pd.DataFrame(gdf_paris_parks)"
   ]
  },
  {
   "cell_type": "code",
   "execution_count": 11,
   "metadata": {},
   "outputs": [
    {
     "data": {
      "text/html": [
       "<div>\n",
       "<style scoped>\n",
       "    .dataframe tbody tr th:only-of-type {\n",
       "        vertical-align: middle;\n",
       "    }\n",
       "\n",
       "    .dataframe tbody tr th {\n",
       "        vertical-align: top;\n",
       "    }\n",
       "\n",
       "    .dataframe thead th {\n",
       "        text-align: right;\n",
       "    }\n",
       "</style>\n",
       "<table border=\"1\" class=\"dataframe\">\n",
       "  <thead>\n",
       "    <tr style=\"text-align: right;\">\n",
       "      <th></th>\n",
       "      <th>type</th>\n",
       "      <th>count</th>\n",
       "    </tr>\n",
       "  </thead>\n",
       "  <tbody>\n",
       "    <tr>\n",
       "      <th>0</th>\n",
       "      <td>Cemeteries</td>\n",
       "      <td>20</td>\n",
       "    </tr>\n",
       "    <tr>\n",
       "      <th>1</th>\n",
       "      <td>Decorative Gardens</td>\n",
       "      <td>27</td>\n",
       "    </tr>\n",
       "    <tr>\n",
       "      <th>2</th>\n",
       "      <td>Open Promenades</td>\n",
       "      <td>496</td>\n",
       "    </tr>\n",
       "    <tr>\n",
       "      <th>3</th>\n",
       "      <td>Private Gardens</td>\n",
       "      <td>9</td>\n",
       "    </tr>\n",
       "    <tr>\n",
       "      <th>4</th>\n",
       "      <td>Ring Road</td>\n",
       "      <td>139</td>\n",
       "    </tr>\n",
       "    <tr>\n",
       "      <th>5</th>\n",
       "      <td>Sports Facilities</td>\n",
       "      <td>14</td>\n",
       "    </tr>\n",
       "    <tr>\n",
       "      <th>6</th>\n",
       "      <td>Street Decorations</td>\n",
       "      <td>64</td>\n",
       "    </tr>\n",
       "    <tr>\n",
       "      <th>7</th>\n",
       "      <td>Temporary, Shared, Educational Spaces</td>\n",
       "      <td>8</td>\n",
       "    </tr>\n",
       "    <tr>\n",
       "      <th>8</th>\n",
       "      <td>Woods</td>\n",
       "      <td>2</td>\n",
       "    </tr>\n",
       "  </tbody>\n",
       "</table>\n",
       "</div>"
      ],
      "text/plain": [
       "                                    type  count\n",
       "0                             Cemeteries     20\n",
       "1                     Decorative Gardens     27\n",
       "2                        Open Promenades    496\n",
       "3                        Private Gardens      9\n",
       "4                              Ring Road    139\n",
       "5                      Sports Facilities     14\n",
       "6                     Street Decorations     64\n",
       "7  Temporary, Shared, Educational Spaces      8\n",
       "8                                  Woods      2"
      ]
     },
     "execution_count": 11,
     "metadata": {},
     "output_type": "execute_result"
    }
   ],
   "source": [
    "df_paris_parks.groupby(\"type\").size().reset_index(name=\"count\")"
   ]
  },
  {
   "cell_type": "markdown",
   "metadata": {},
   "source": [
    "## OpenEO\n",
    "\n",
    "[OpenEO](https://pypi.org/project/openeo/) (\"EO\" for Earth Observation) is a Python library that provides an API to interact with backends that serve geographic information.\n",
    "\n",
    "For our app, we'll be using Sentinel-2 data, from the European Space Agency (ESA).\n",
    "\n",
    "**You need to create an account: https://dataspace.copernicus.eu/**.\n",
    "\n",
    "![](../img/account.png)\n",
    "\n",
    "**You'll also need to create credentials**:\n",
    "\n",
    "* Go to your account's settings (likely: https://shapps.dataspace.copernicus.eu/dashboard/#/account/settings)\n",
    "\n",
    "\n",
    "### Important resources:\n",
    "\n",
    "* [OpenEO's documentation about datacubes, the most important concept to understand the app's algorithms](https://openeo.org/documentation/1.0/datacubes.html#what-are-datacubes]).\n",
    "\n",
    "* [Notebooks to chek out]( https://dataspace.copernicus.eu/cases).\n",
    "\n",
    "## Defining functions\n",
    "\n",
    "These are the functions we use in the pipelines, for pour Scenario and also for our Generic Data Nodes.\n",
    "\n",
    "The first one retrieves a Polygon from our previou GeoDataFrame:"
   ]
  },
  {
   "cell_type": "code",
   "execution_count": 12,
   "metadata": {},
   "outputs": [],
   "source": [
    "def get_polygon(gdf_paris_parks, id_name):\n",
    "    polygon = gdf_paris_parks[\n",
    "        gdf_paris_parks[\"id_name\"] == id_name\n",
    "    ].geometry.__geo_interface__\n",
    "    return polygon"
   ]
  },
  {
   "cell_type": "markdown",
   "metadata": {},
   "source": [
    "**IMPORTANT:** This function returns the connector to our Copernicus's space. You'll need to provide your credentials.\n",
    "\n",
    "**We highly recommend using environment variables to store your credentials!**"
   ]
  },
  {
   "cell_type": "code",
   "execution_count": 13,
   "metadata": {},
   "outputs": [],
   "source": [
    "def connect_to_copernicus(\n",
    "    client_id, client_secret, url=\"https://openeo.dataspace.copernicus.eu\"\n",
    "):\n",
    "    connection = openeo.connect(url)\n",
    "    connection.authenticate_oidc_client_credentials(\n",
    "        client_id=client_id, client_secret=client_secret\n",
    "    )\n",
    "    return connection"
   ]
  },
  {
   "cell_type": "markdown",
   "metadata": {},
   "source": [
    "A **datacube** holds the following dimensions:\n",
    "\n",
    "* **Time**: we need to provide the time extent for the Earth's Observations. Sentinel 2 goes over each spot on Earth every 3 days more or less. Each observation is one picture from the satellite.\n",
    "* **Spatial Extent**: The surface of the observed area. Bigger surfaces give more pixels.\n",
    "* **Spectral resolution:** These are the \"bands\" that record specific waves. For example, Band 04 has Near Infra Red information, and Band 08 has red information.\n",
    "\n",
    "In our case, **we'll use the app's UI to select a specific year for time obeservation, and a specific Paris' park (a polygon) for spatial extent**."
   ]
  },
  {
   "cell_type": "code",
   "execution_count": 14,
   "metadata": {},
   "outputs": [],
   "source": [
    "def create_datacube(polygon, start, end, connection):\n",
    "    datacube = connection.load_collection(\n",
    "        \"SENTINEL2_L2A\",\n",
    "        temporal_extent=[start, end],\n",
    "        spatial_extent=polygon,\n",
    "        bands=[\"B04\", \"B08\", \"SCL\"],  # Red and NIR for NDVI and SCL for clouds\n",
    "    )\n",
    "    return datacube"
   ]
  },
  {
   "cell_type": "markdown",
   "metadata": {
    "vscode": {
     "languageId": "bat"
    }
   },
   "source": [
    "The SCL band can be used to mask cloud data. When satellites take images of the Earth, sometimes... there are clouds. Cloud pixels alter the observation results, so we can mask them (we remove them from the observation, from the cube)."
   ]
  },
  {
   "cell_type": "code",
   "execution_count": 15,
   "metadata": {},
   "outputs": [],
   "source": [
    "def mask_clouds(datacube):\n",
    "    \"\"\"\n",
    "    Applies a cloud mask to a given data cube by filtering out cloud-covered pixels.\n",
    "\n",
    "    Args:\n",
    "    datacube (openeo.DataCube): The data cube containing Sentinel-2 bands.\n",
    "\n",
    "    Returns:\n",
    "    openeo.DataCube: The masked data cube with clouds removed.\n",
    "    \"\"\"\n",
    "    scl = datacube.band(\"SCL\")\n",
    "    cloud_mask = (scl == 8) | (scl == 9)  # Cloud classes\n",
    "    datacube = datacube.mask(cloud_mask)\n",
    "    return datacube"
   ]
  },
  {
   "cell_type": "markdown",
   "metadata": {},
   "source": [
    "**We can create datacube from another datacube**. The `ndvi` object we creeate in this function uses the bands 8 and 4 from the `datacube` object we pass as argument. It returns a datacube with a single computed band. However, we have the same spatial and time dimmensions!"
   ]
  },
  {
   "cell_type": "code",
   "execution_count": 16,
   "metadata": {},
   "outputs": [],
   "source": [
    "def create_ndvi(datacube):\n",
    "    \"\"\"\n",
    "    Calculates Normalized Difference Vegetation Index (NDVI) from a given data cube.\n",
    "\n",
    "    Args:\n",
    "        datacube (openeo.DataCube): The data cube containing Red (B04)\n",
    "            and Near Infra-Red (NIR - B08) bands.\n",
    "\n",
    "    Returns:\n",
    "        openeo.DataCube: The computed NDVI data cube\n",
    "    \"\"\"\n",
    "    ndvi = (datacube.band(\"B08\") - datacube.band(\"B04\")) / (\n",
    "        datacube.band(\"B08\") + datacube.band(\"B04\")\n",
    "    )\n",
    "    return ndvi"
   ]
  },
  {
   "cell_type": "markdown",
   "metadata": {},
   "source": [
    "The following funtion groups previous steps to return a `ndvi` datacube object."
   ]
  },
  {
   "cell_type": "code",
   "execution_count": 17,
   "metadata": {},
   "outputs": [],
   "source": [
    "def get_ndvi(polygon, year):\n",
    "    \"\"\"\n",
    "    Retrieves and processes NDVI data for a given polygon and year.\n",
    "\n",
    "    Args:\n",
    "        polygon (dict): The spatial extent of interest in geo-interface format\n",
    "        year (int or str): The year of interest for NDVI calculation\n",
    "\n",
    "    Returns:\n",
    "        openeo.DataCube: Processed NDVI data cube with cloud masking applied\n",
    "    \"\"\"\n",
    "    connection = connect_to_copernicus(\n",
    "        client_id=os.getenv(\"COPERNICUS_ID\"),\n",
    "        client_secret=os.getenv(\"COPERNICUS_SECRET\"),\n",
    "    )\n",
    "\n",
    "    datacube = create_datacube(polygon, f\"{year}-01-01\", f\"{year}-12-31\", connection)\n",
    "    datacube = mask_clouds(datacube)\n",
    "\n",
    "    ndvi = create_ndvi(datacube)\n",
    "\n",
    "    return ndvi"
   ]
  },
  {
   "cell_type": "markdown",
   "metadata": {},
   "source": [
    "**Reducing by time and aggregating by space are well explained in Open'EO's documentation**.\n",
    "\n",
    "\n",
    "In time reductions, for each pixel, we \"summarize\" the NDVI value for all the observation period, in this case we use the median, we could also use maximum values, the mean, or other aggregates. This gives us a 2-D array that represents the median values for the selected period, for each pixel. \n",
    "\n",
    "In spatial aggregation, we get the median NDVI value for all the pixels of each image (each 2D array) of the cube. This gives us a time series, with all the individual median values for each observation date."
   ]
  },
  {
   "cell_type": "code",
   "execution_count": 18,
   "metadata": {},
   "outputs": [],
   "source": [
    "def reduce_by_time(ndvi):\n",
    "    \"\"\"\n",
    "    Reduces the temporal dimension of an NDVI data cube by computing the median value.\n",
    "\n",
    "    Args:\n",
    "        ndvi (openeo.DataCube): The NDVI data cube with a temporal dimension\n",
    "\n",
    "    Returns:\n",
    "        openeo.DataCube: The time-reduced data cube with median values\n",
    "    \"\"\"\n",
    "    ndvi_time_reduced = ndvi.reduce_dimension(dimension=\"t\", reducer=\"median\")\n",
    "    return ndvi_time_reduced"
   ]
  },
  {
   "cell_type": "code",
   "execution_count": 19,
   "metadata": {},
   "outputs": [],
   "source": [
    "def get_time_series(ndvi, polygon):\n",
    "    \"\"\"\n",
    "    Computes a median NDVI time series for the specified polygon geometry.\n",
    "\n",
    "    Args:\n",
    "        ndvi (openeo.DataCube): The NDVI data cube with temporal dimension\n",
    "        polygon (dict): GeoJSON-like polygon geometry for spatial aggregation\n",
    "\n",
    "    Returns:\n",
    "        openeo.DataCube: Time series data cube with median NDVI values\n",
    "    \"\"\"\n",
    "    timeseries = ndvi.aggregate_spatial(geometries=polygon, reducer=\"median\")\n",
    "    return timeseries"
   ]
  },
  {
   "cell_type": "markdown",
   "metadata": {},
   "source": [
    "Utility functions:\n"
   ]
  },
  {
   "cell_type": "code",
   "execution_count": 20,
   "metadata": {},
   "outputs": [],
   "source": [
    "def download_ndvi(ndvi, park_id_name, year):\n",
    "    \"\"\"\n",
    "    Downloads an NDVI data cube as a TIFF file.\n",
    "\n",
    "    Args:\n",
    "        ndvi: NDVI data cube to be downloaded (numpy array)\n",
    "        park_id_name (str): Name and id of the park to include in filename\n",
    "        year (int): Year of the data to include in filename\n",
    "\n",
    "    Returns:\n",
    "        int: 0\n",
    "    \"\"\"\n",
    "\n",
    "    ndvi.download(f\"{park_id_name} - {year}.tiff\")\n",
    "\n",
    "    return 0"
   ]
  },
  {
   "cell_type": "code",
   "execution_count": 21,
   "metadata": {},
   "outputs": [],
   "source": [
    "def download_time_series(ndvi_timeseries, park_id_name, year):\n",
    "    title = f\"{park_id_name} - {year}\"\n",
    "    job = ndvi_timeseries.execute_batch(out_format=\"CSV\", title=title)\n",
    "    job.get_results().download_file(f\"{title}.csv\")"
   ]
  },
  {
   "cell_type": "code",
   "execution_count": null,
   "metadata": {},
   "outputs": [],
   "source": [
    "def read_time_series(id_name, year):\n",
    "    time_series_name = f\"{id_name} - {year}.csv\"\n",
    "    df_time_series = pd.read_csv(time_series_name, index_col=0)\n",
    "\n",
    "    df_time_series.index = pd.to_datetime(df_time_series.index)\n",
    "    df_time_series = df_time_series.rename(columns={\"band_unnamed\": \"ndvi\"})\n",
    "    df_time_series = df_time_series.drop(columns=\"feature_index\")\n",
    "    df_time_series.sort_index(inplace=True)\n",
    "    df_time_series = df_time_series.interpolate(method=\"time\")\n",
    "    df_time_series[\"date\"] = df_time_series.index\n",
    "\n",
    "    # Apply Savitzky-Golay Smoothing\n",
    "    window_length = 5\n",
    "    polyorder = 2\n",
    "    df_time_series[\"ndvi\"] = savgol_filter(\n",
    "        df_time_series[\"ndvi\"], window_length, polyorder\n",
    "    )\n",
    "    df_time_series[\"date\"] = df_time_series.index\n",
    "\n",
    "    return df_time_series"
   ]
  },
  {
   "cell_type": "markdown",
   "metadata": {},
   "source": [
    "## Using the functions!\n",
    "\n",
    "You can use the functions sequentially, see how they work!! Try selecting different parks.\n",
    "\n",
    "**IMPORTANT:** Processing each image takes some time, about 5 minutes, especially for the time series!"
   ]
  },
  {
   "cell_type": "code",
   "execution_count": 23,
   "metadata": {},
   "outputs": [],
   "source": [
    "polygon = get_polygon(gdf_paris_parks, id_vincennes)"
   ]
  },
  {
   "cell_type": "code",
   "execution_count": 24,
   "metadata": {},
   "outputs": [],
   "source": [
    "ndvi = get_ndvi(polygon, 2023)"
   ]
  },
  {
   "cell_type": "code",
   "execution_count": 25,
   "metadata": {},
   "outputs": [],
   "source": [
    "reduced_t_ndvi = reduce_by_time(ndvi)"
   ]
  },
  {
   "cell_type": "code",
   "execution_count": 26,
   "metadata": {},
   "outputs": [
    {
     "data": {
      "text/plain": [
       "0"
      ]
     },
     "execution_count": 26,
     "metadata": {},
     "output_type": "execute_result"
    }
   ],
   "source": [
    "download_ndvi(reduced_t_ndvi, id_vincennes, 2023)"
   ]
  },
  {
   "cell_type": "code",
   "execution_count": 27,
   "metadata": {},
   "outputs": [],
   "source": [
    "ndvi_time_series = get_time_series(ndvi, polygon)"
   ]
  },
  {
   "cell_type": "code",
   "execution_count": 31,
   "metadata": {},
   "outputs": [
    {
     "name": "stdout",
     "output_type": "stream",
     "text": [
      "0:00:00 Job 'j-25041408412243d694d74dcfcb3eead8': send 'start'\n",
      "0:00:14 Job 'j-25041408412243d694d74dcfcb3eead8': created (progress 0%)\n",
      "0:00:20 Job 'j-25041408412243d694d74dcfcb3eead8': created (progress 0%)\n",
      "0:00:27 Job 'j-25041408412243d694d74dcfcb3eead8': created (progress 0%)\n",
      "0:00:35 Job 'j-25041408412243d694d74dcfcb3eead8': created (progress 0%)\n",
      "0:00:45 Job 'j-25041408412243d694d74dcfcb3eead8': created (progress 0%)\n",
      "0:00:58 Job 'j-25041408412243d694d74dcfcb3eead8': running (progress N/A)\n",
      "0:01:14 Job 'j-25041408412243d694d74dcfcb3eead8': running (progress N/A)\n",
      "0:01:33 Job 'j-25041408412243d694d74dcfcb3eead8': running (progress N/A)\n",
      "0:01:57 Job 'j-25041408412243d694d74dcfcb3eead8': running (progress N/A)\n",
      "0:02:28 Job 'j-25041408412243d694d74dcfcb3eead8': running (progress N/A)\n",
      "0:03:05 Job 'j-25041408412243d694d74dcfcb3eead8': running (progress N/A)\n",
      "0:03:52 Job 'j-25041408412243d694d74dcfcb3eead8': running (progress N/A)\n",
      "0:04:51 Job 'j-25041408412243d694d74dcfcb3eead8': running (progress N/A)\n",
      "0:05:51 Job 'j-25041408412243d694d74dcfcb3eead8': running (progress N/A)\n",
      "0:06:52 Job 'j-25041408412243d694d74dcfcb3eead8': finished (progress 100%)\n"
     ]
    }
   ],
   "source": [
    "download_time_series(ndvi_time_series, id_vincennes, 2023)"
   ]
  },
  {
   "cell_type": "markdown",
   "metadata": {},
   "source": [
    "## Using the resulting objects"
   ]
  },
  {
   "cell_type": "code",
   "execution_count": 32,
   "metadata": {},
   "outputs": [],
   "source": [
    "df_time_series = read_time_series(id_vincennes, 2023)"
   ]
  },
  {
   "cell_type": "code",
   "execution_count": 33,
   "metadata": {},
   "outputs": [
    {
     "data": {
      "text/html": [
       "<div>\n",
       "<style scoped>\n",
       "    .dataframe tbody tr th:only-of-type {\n",
       "        vertical-align: middle;\n",
       "    }\n",
       "\n",
       "    .dataframe tbody tr th {\n",
       "        vertical-align: top;\n",
       "    }\n",
       "\n",
       "    .dataframe thead th {\n",
       "        text-align: right;\n",
       "    }\n",
       "</style>\n",
       "<table border=\"1\" class=\"dataframe\">\n",
       "  <thead>\n",
       "    <tr style=\"text-align: right;\">\n",
       "      <th></th>\n",
       "      <th>ndvi</th>\n",
       "      <th>date</th>\n",
       "    </tr>\n",
       "    <tr>\n",
       "      <th>date</th>\n",
       "      <th></th>\n",
       "      <th></th>\n",
       "    </tr>\n",
       "  </thead>\n",
       "  <tbody>\n",
       "    <tr>\n",
       "      <th>2023-01-03 00:00:00+00:00</th>\n",
       "      <td>0.078834</td>\n",
       "      <td>2023-01-03 00:00:00+00:00</td>\n",
       "    </tr>\n",
       "    <tr>\n",
       "      <th>2023-01-05 00:00:00+00:00</th>\n",
       "      <td>0.231509</td>\n",
       "      <td>2023-01-05 00:00:00+00:00</td>\n",
       "    </tr>\n",
       "    <tr>\n",
       "      <th>2023-01-08 00:00:00+00:00</th>\n",
       "      <td>0.338586</td>\n",
       "      <td>2023-01-08 00:00:00+00:00</td>\n",
       "    </tr>\n",
       "    <tr>\n",
       "      <th>2023-01-10 00:00:00+00:00</th>\n",
       "      <td>0.410656</td>\n",
       "      <td>2023-01-10 00:00:00+00:00</td>\n",
       "    </tr>\n",
       "    <tr>\n",
       "      <th>2023-01-13 00:00:00+00:00</th>\n",
       "      <td>0.371800</td>\n",
       "      <td>2023-01-13 00:00:00+00:00</td>\n",
       "    </tr>\n",
       "  </tbody>\n",
       "</table>\n",
       "</div>"
      ],
      "text/plain": [
       "                               ndvi                      date\n",
       "date                                                         \n",
       "2023-01-03 00:00:00+00:00  0.078834 2023-01-03 00:00:00+00:00\n",
       "2023-01-05 00:00:00+00:00  0.231509 2023-01-05 00:00:00+00:00\n",
       "2023-01-08 00:00:00+00:00  0.338586 2023-01-08 00:00:00+00:00\n",
       "2023-01-10 00:00:00+00:00  0.410656 2023-01-10 00:00:00+00:00\n",
       "2023-01-13 00:00:00+00:00  0.371800 2023-01-13 00:00:00+00:00"
      ]
     },
     "execution_count": 33,
     "metadata": {},
     "output_type": "execute_result"
    }
   ],
   "source": [
    "df_time_series.head()"
   ]
  },
  {
   "cell_type": "markdown",
   "metadata": {},
   "source": [
    "## Plot images with Plotly\n",
    "\n",
    "Once that we have a `.tiff` image, we can use [rasterio](https://pypi.org/project/rasterio/) to open it and return a NumPy array. Take a look at the functions below, we'll use them to plot the result of the selectors in our Taipy app!"
   ]
  },
  {
   "cell_type": "code",
   "execution_count": 34,
   "metadata": {},
   "outputs": [],
   "source": [
    "def read_tiff(id_name, year):\n",
    "    \"\"\"\n",
    "    Reads a NDVI TIFF file and returns the image data as a numpy array.\n",
    "\n",
    "    Args:\n",
    "        park_id_name (str): Name and id of the park used in the filename\n",
    "        year (int): Year of the data used in the filename\n",
    "\n",
    "    Returns:\n",
    "        numpy.ndarray: 2D array containing NDVI values from the TIFF file\n",
    "    \"\"\"\n",
    "    tiff_image = f\"{id_name} - {year}.tiff\"\n",
    "\n",
    "    with rasterio.open(tiff_image) as src:\n",
    "        ndvi_image = src.read(1)  # NDVI is one band\n",
    "\n",
    "    return ndvi_image"
   ]
  },
  {
   "cell_type": "code",
   "execution_count": 35,
   "metadata": {},
   "outputs": [],
   "source": [
    "def plot_ndvi(np_image):\n",
    "    \"\"\"\n",
    "    Create an NDVI image from a NumPy Array.\n",
    "    Args:\n",
    "        np_image: np.ndarray: A NumPy array with median season values\n",
    "            for each pixel.\n",
    "    Returns:\n",
    "        Plotly imshow figure\n",
    "    \"\"\"\n",
    "    fig = px.imshow(\n",
    "        np_image,\n",
    "        color_continuous_scale=\"RdYlGn\",\n",
    "        range_color=(-1, 1),\n",
    "        labels={\"color\": \"NDVI\"},\n",
    "    )\n",
    "    fig.update_traces(\n",
    "        hovertemplate=\"NDVI: %{z}<extra></extra>\",\n",
    "    )\n",
    "    fig.update_layout(title=\"NDVI Map\", coloraxis_colorbar=dict(title=\"NDVI\"))\n",
    "    return fig"
   ]
  },
  {
   "cell_type": "code",
   "execution_count": null,
   "metadata": {},
   "outputs": [],
   "source": [
    "np_image = read_tiff(id_vincennes, 2023)"
   ]
  },
  {
   "cell_type": "code",
   "execution_count": null,
   "metadata": {},
   "outputs": [],
   "source": [
    "plot_ndvi(np_image)"
   ]
  },
  {
   "cell_type": "code",
   "execution_count": null,
   "metadata": {},
   "outputs": [],
   "source": [
    "def plot_box(ndvi_array, id_name, year):\n",
    "    \"\"\"\n",
    "    Creates violin plot of the NDVI median yearly array.\n",
    "\n",
    "    Args:\n",
    "    ndvi_array : numpy.ndarray\n",
    "        Array with NDVI values\n",
    "    park_id_name : str\n",
    "        Name and id of the park as a string\n",
    "    year : int or str\n",
    "        Observation year\n",
    "\n",
    "    Returns:\n",
    "    violin plot plotly figure\n",
    "    \"\"\"\n",
    "    flattened_data = ndvi_array.flatten()\n",
    "\n",
    "    fig = px.violin(\n",
    "        y=flattened_data,\n",
    "        title=f\"NDVI distribution for {id_name}, {year}\",\n",
    "        labels={\"y\": \"NDVI\"},\n",
    "        color_discrete_sequence=[\"#12b049\"],\n",
    "    )\n",
    "\n",
    "    fig.update_layout(\n",
    "        showlegend=False,\n",
    "        yaxis_title=\"NDVI Value\",\n",
    "        xaxis_title=\"\",\n",
    "        plot_bgcolor=\"rgba(240,240,240,0.8)\",\n",
    "        paper_bgcolor=\"rgba(240,240,240,0.5)\",\n",
    "        font=dict(family=\"Arial\", size=12),\n",
    "        margin=dict(l=20, r=20, t=40, b=20),\n",
    "    )\n",
    "\n",
    "    # NDVI range for scale: (-1 to 1)\n",
    "    fig.update_yaxes(range=[-1, 1])\n",
    "\n",
    "    # Add horizontal lines at important NDVI thresholds\n",
    "    fig.add_hline(y=0, line_dash=\"dot\", line_color=\"gray\")\n",
    "    fig.add_hline(y=0.5, line_dash=\"dot\", line_color=\"gray\")\n",
    "    fig.add_hline(y=-0.5, line_dash=\"dot\", line_color=\"gray\")\n",
    "\n",
    "    return fig"
   ]
  },
  {
   "cell_type": "code",
   "execution_count": null,
   "metadata": {},
   "outputs": [],
   "source": [
    "plot_box(np_image, \"1679 - Bois de Vincennes\", 2023)"
   ]
  },
  {
   "cell_type": "code",
   "execution_count": null,
   "metadata": {},
   "outputs": [],
   "source": [
    "def plot_ndvi_timeseries(df, title):\n",
    "    \"\"\"\n",
    "    Line plot for time series DataFrame. The plot has indicator lines\n",
    "    for healthy vegetation and for non-vegetation index rates.\n",
    "\n",
    "    Args:\n",
    "        df : DataFrame\n",
    "            NDVI time series with a 'date' column.\n",
    "        title : str\n",
    "            Title for the plot.\n",
    "\n",
    "    Returns:\n",
    "        plotly.graph_objects.Figure\n",
    "            Line chart for the time series.\n",
    "    \"\"\"\n",
    "    df = df.copy()\n",
    "    df[\"date\"] = pd.to_datetime(\n",
    "        df[\"date\"]\n",
    "    ).dt.date  # Convert to date format (remove time)\n",
    "\n",
    "    title = f\"NDVI Trend: {title}\"\n",
    "\n",
    "    fig = px.line(\n",
    "        df,\n",
    "        x=\"date\",\n",
    "        y=\"ndvi\",\n",
    "        title=title,\n",
    "        labels={\"ndvi\": \"NDVI Value\", \"date\": \"Date\"},\n",
    "        color_discrete_sequence=[\"#12b049\"],\n",
    "        template=\"plotly_white\",\n",
    "    )\n",
    "\n",
    "    fig.update_traces(\n",
    "        line_width=2.5,\n",
    "        hovertemplate=\"<b>Date</b>: %{x|%b %d}<br><b>NDVI</b>: %{y:.2f}\",\n",
    "        mode=\"lines\",\n",
    "    )\n",
    "\n",
    "    fig.update_layout(\n",
    "        yaxis_title=\"NDVI Value\",\n",
    "        xaxis_title=\"\",\n",
    "        yaxis_range=[-1, 1.05],\n",
    "        hovermode=\"x unified\",\n",
    "        plot_bgcolor=\"white\",\n",
    "        font=dict(family=\"Arial\"),\n",
    "        margin=dict(l=50, r=50, t=60, b=30),\n",
    "    )\n",
    "\n",
    "    # NDVI reference lines\n",
    "    for y, color, name in [\n",
    "        (0.5, \"#8BC34A\", \"Healthy\"),\n",
    "        (0, \"#FFC107\", \"Neutral\"),\n",
    "        (-0.2, \"#F44336\", \"Barren\"),\n",
    "    ]:\n",
    "        fig.add_hline(\n",
    "            y=y,\n",
    "            line_dash=\"dot\",\n",
    "            line_color=color,\n",
    "            opacity=0.5,\n",
    "            annotation_text=name,\n",
    "            annotation_position=\"right\",\n",
    "            annotation_font_size=10,\n",
    "        )\n",
    "\n",
    "    return fig"
   ]
  },
  {
   "cell_type": "code",
   "execution_count": null,
   "metadata": {},
   "outputs": [],
   "source": [
    "plot_ndvi_timeseries(df_time_series, id_vincennes)"
   ]
  }
 ],
 "metadata": {
  "kernelspec": {
   "display_name": "taipy_book",
   "language": "python",
   "name": "python3"
  },
  "language_info": {
   "codemirror_mode": {
    "name": "ipython",
    "version": 3
   },
   "file_extension": ".py",
   "mimetype": "text/x-python",
   "name": "python",
   "nbconvert_exporter": "python",
   "pygments_lexer": "ipython3",
   "version": "3.12.9"
  }
 },
 "nbformat": 4,
 "nbformat_minor": 2
}

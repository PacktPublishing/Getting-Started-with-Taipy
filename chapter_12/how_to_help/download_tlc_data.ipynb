{
 "cells": [
  {
   "cell_type": "code",
   "execution_count": null,
   "id": "8e46a4c5",
   "metadata": {},
   "outputs": [],
   "source": [
    "import requests\n",
    "import shutil\n"
   ]
  },
  {
   "cell_type": "code",
   "execution_count": null,
   "metadata": {},
   "outputs": [],
   "source": [
    "for month in range (1, 13):\n",
    "    str_month = str.zfill(str(month), 2)\n",
    "    page = f\"https://d37ci6vzurychx.cloudfront.net/trip-data/yellow_tripdata_2023-{str_month}.parquet\"\n",
    "    filename = f\"yellow_tripdata_2023_{str_month}.parquet\"\n",
    "    with requests.get(page, stream=True) as r:\n",
    "        with open(filename, 'wb') as f:\n",
    "            # Use shutil to efficiently write the content to the file\n",
    "            shutil.copyfileobj(r.raw, f)\n",
    "    print(f\"Done: {month}/12\")"
   ]
  }
 ],
 "metadata": {
  "kernelspec": {
   "display_name": "chapter13",
   "language": "python",
   "name": "python3"
  },
  "language_info": {
   "codemirror_mode": {
    "name": "ipython",
    "version": 3
   },
   "file_extension": ".py",
   "mimetype": "text/x-python",
   "name": "python",
   "nbconvert_exporter": "python",
   "pygments_lexer": "ipython3",
   "version": "3.12.11"
  }
 },
 "nbformat": 4,
 "nbformat_minor": 5
}

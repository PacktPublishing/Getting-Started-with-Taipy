{
 "cells": [
  {
   "cell_type": "markdown",
   "metadata": {},
   "source": [
    "# Answer 3\n"
   ]
  },
  {
   "cell_type": "code",
   "execution_count": null,
   "metadata": {},
   "outputs": [],
   "source": [
    "import taipy as tp\n",
    "import taipy.gui.builder as tgb\n",
    "from taipy import Config, Gui, Orchestrator\n",
    "import time\n",
    "import numpy as np\n",
    "import pandas as pd"
   ]
  },
  {
   "cell_type": "code",
   "execution_count": null,
   "metadata": {},
   "outputs": [],
   "source": [
    "def calculate_exponential(number):\n",
    "    x = np.linspace(-10, 10, 100)\n",
    "    y = x**number\n",
    "    df = pd.DataFrame({'x': x, 'y': y})\n",
    "    return df"
   ]
  },
  {
   "cell_type": "code",
   "execution_count": null,
   "metadata": {},
   "outputs": [],
   "source": [
    "exponential_number = 0\n",
    "df_chart = calculate_exponential(exponential_number)\n",
    "df_chart.sample(5)"
   ]
  },
  {
   "cell_type": "code",
   "execution_count": null,
   "metadata": {},
   "outputs": [],
   "source": [
    "with tgb.Page() as page:\n",
    "    tgb.text(\"# A Taipy app\", mode=\"md\")\n",
    "    tgb.text(\"## Exponential number: {exponential_number}\", mode=\"md\")\n",
    "    \n",
    "    tgb.chart(data=\"{df_chart}\", mode=\"lines\", x=\"x\", y=\"y\")\n"
   ]
  },
  {
   "cell_type": "code",
   "execution_count": null,
   "metadata": {},
   "outputs": [],
   "source": [
    "gui = Gui(page=page)\n",
    "gui.run()"
   ]
  },
  {
   "cell_type": "markdown",
   "metadata": {},
   "source": [
    "## Change values in a loop!\n",
    "\n",
    "* Run the cell below as many times as you want.\n",
    "* Try different values for i :)"
   ]
  },
  {
   "cell_type": "code",
   "execution_count": null,
   "metadata": {},
   "outputs": [],
   "source": [
    "for i in range(5):\n",
    "    gui.state.exponential_number = i\n",
    "    gui.state.df_chart = calculate_exponential(i)\n",
    "    time.sleep(1)"
   ]
  }
 ],
 "metadata": {
  "kernelspec": {
   "display_name": "taipy",
   "language": "python",
   "name": "python3"
  },
  "language_info": {
   "codemirror_mode": {
    "name": "ipython",
    "version": 3
   },
   "file_extension": ".py",
   "mimetype": "text/x-python",
   "name": "python",
   "nbconvert_exporter": "python",
   "pygments_lexer": "ipython3",
   "version": "3.11.7"
  }
 },
 "nbformat": 4,
 "nbformat_minor": 2
}

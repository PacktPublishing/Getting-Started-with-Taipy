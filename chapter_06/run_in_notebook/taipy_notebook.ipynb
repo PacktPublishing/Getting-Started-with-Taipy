{
 "cells": [
  {
   "cell_type": "markdown",
   "metadata": {},
   "source": [
    "# Running a Taipy application from a notebook"
   ]
  },
  {
   "cell_type": "code",
   "execution_count": null,
   "metadata": {},
   "outputs": [],
   "source": [
    "import taipy as tp\n",
    "import taipy.gui.builder as tgb\n",
    "from taipy import Config, Gui, Orchestrator\n",
    "\n",
    "\n",
    "def say_hi(person):\n",
    "    return f\"hi {person}!\"\n",
    "\n",
    "\n",
    "node_config_input = Config.configure_data_node(\n",
    "    id=\"node_in\",\n",
    "    default_data=\"notebook\",\n",
    ")\n",
    "node_config_output = Config.configure_data_node(\n",
    "    id=\"node_out\",\n",
    ")\n",
    "task_config = Config.configure_task(\n",
    "    id=\"task\", input=node_config_input, output=node_config_output, function=say_hi\n",
    ")\n",
    "\n",
    "scenario_config = Config.configure_scenario(id=\"node\", task_configs=[task_config])"
   ]
  },
  {
   "cell_type": "code",
   "execution_count": null,
   "metadata": {},
   "outputs": [],
   "source": [
    "some_value = 10"
   ]
  },
  {
   "cell_type": "code",
   "execution_count": null,
   "metadata": {},
   "outputs": [],
   "source": [
    "with tgb.Page() as page:\n",
    "    tgb.text(\"# A Taipy app\", mode=\"md\")\n",
    "    tgb.text(\"## {node_message}\", mode=\"md\")\n",
    "    tgb.slider(\"{some_value}\")"
   ]
  },
  {
   "cell_type": "code",
   "execution_count": null,
   "metadata": {},
   "outputs": [],
   "source": [
    "Orchestrator().run()\n",
    "scenario = tp.create_scenario(scenario_config)\n",
    "scenario.submit()\n",
    "node_message = scenario.node_out.read()\n",
    "print(node_message)\n",
    "\n",
    "gui = Gui(page=page)\n",
    "gui.run()"
   ]
  },
  {
   "cell_type": "markdown",
   "metadata": {},
   "source": [
    "## Access values from the GUI\n",
    "\n",
    "Change the values of `some_value` using the slider, and then run the cell below. You'll see that the bound variable is updated (but the original variable isn't):"
   ]
  },
  {
   "cell_type": "code",
   "execution_count": null,
   "metadata": {},
   "outputs": [],
   "source": [
    "print(some_value)\n",
    "print(gui.state.some_value)"
   ]
  }
 ],
 "metadata": {
  "kernelspec": {
   "display_name": "taipy",
   "language": "python",
   "name": "python3"
  },
  "language_info": {
   "codemirror_mode": {
    "name": "ipython",
    "version": 3
   },
   "file_extension": ".py",
   "mimetype": "text/x-python",
   "name": "python",
   "nbconvert_exporter": "python",
   "pygments_lexer": "ipython3",
   "version": "3.11.7"
  }
 },
 "nbformat": 4,
 "nbformat_minor": 2
}

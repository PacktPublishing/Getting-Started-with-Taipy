{
 "cells": [
  {
   "cell_type": "code",
   "execution_count": 1,
   "id": "43c48943",
   "metadata": {},
   "outputs": [],
   "source": [
    "from math import atan2, cos, radians, sin, sqrt\n",
    "\n",
    "import pandas as pd\n",
    "import pulp\n",
    "import plotly.express as px\n",
    "import plotly.graph_objects as go\n"
   ]
  },
  {
   "cell_type": "markdown",
   "id": "54eff4c1",
   "metadata": {},
   "source": [
    "# Introduction to PuLP\n",
    "\n",
    "In this demo notebook, we’ll take a quick look at [PuLP](https://pypi.org/project/PuLP/), a Python library for defining and solving linear programming (LP) problems. Our app in Chapter 8 uses PuLP to determine which warehouses a company should choose to reduce cost or carbon emissions. \n",
    "\n",
    "You don't need to be an optimization expert to follow along! This is just a lightweight intro so you can understand what’s happening under the hood when our app uses PuLP to solve problems. We'll be explaining the algorithms from our app, you can find more examples in [PuLP's GitHub repo / documentation](https://github.com/coin-or/pulp).\n",
    "\n",
    "## What is Linear Programming?\n",
    "\n",
    "Linear Programming is a mathematical method used to determine the best outcome (like maximum profit or lowest cost) in a situation with certain constraints (like limited resources, time, or capacity). It’s widely used in fields like logistics, finance, energy, and operations research.\n",
    "\n",
    "## What is PuLP?\n",
    "PuLP is a Python library that lets you:\n",
    "\n",
    "* Define optimization problems using Python code\n",
    "* Set constraints and objective functions\n",
    "* Use solvers (like CBC, which comes with PuLP) to find optimal solutions. I also provides an API to use commercial solvers such as CPLEX, GUROBI and more\n",
    "\n",
    "It’s a great tool for integrating optimization into Python applications, just like our demo app!\n",
    "\n",
    "\n",
    "## Application Problem\n",
    "\n",
    "Our app tries to solve a **facility location problem** using linear programming.\n",
    "\n",
    "The first step of the application DOES NOT involve Linear Programming: \n",
    "\n",
    "1. First, we need to read in the data from our CSV files\n",
    "2. Then we calculate a distance matrix between customers and warehouses using the [haversine formumla](https://en.wikipedia.org/wiki/Haversine_formula) (we create a function)"
   ]
  },
  {
   "cell_type": "code",
   "execution_count": 2,
   "id": "7ce008dd",
   "metadata": {},
   "outputs": [
    {
     "data": {
      "text/html": [
       "<div>\n",
       "<style scoped>\n",
       "    .dataframe tbody tr th:only-of-type {\n",
       "        vertical-align: middle;\n",
       "    }\n",
       "\n",
       "    .dataframe tbody tr th {\n",
       "        vertical-align: top;\n",
       "    }\n",
       "\n",
       "    .dataframe thead th {\n",
       "        text-align: right;\n",
       "    }\n",
       "</style>\n",
       "<table border=\"1\" class=\"dataframe\">\n",
       "  <thead>\n",
       "    <tr style=\"text-align: right;\">\n",
       "      <th></th>\n",
       "      <th>warehouse</th>\n",
       "      <th>country</th>\n",
       "      <th>city</th>\n",
       "      <th>latitude</th>\n",
       "      <th>longitude</th>\n",
       "      <th>yearly_cost</th>\n",
       "      <th>yearly_co2_tons</th>\n",
       "    </tr>\n",
       "  </thead>\n",
       "  <tbody>\n",
       "    <tr>\n",
       "      <th>0</th>\n",
       "      <td>Warehouse 3</td>\n",
       "      <td>Spain</td>\n",
       "      <td>Logroño</td>\n",
       "      <td>42.4627</td>\n",
       "      <td>-2.4444</td>\n",
       "      <td>850071</td>\n",
       "      <td>441</td>\n",
       "    </tr>\n",
       "    <tr>\n",
       "      <th>1</th>\n",
       "      <td>Warehouse 10</td>\n",
       "      <td>France</td>\n",
       "      <td>Clermont-Ferrand</td>\n",
       "      <td>45.7772</td>\n",
       "      <td>3.0870</td>\n",
       "      <td>901430</td>\n",
       "      <td>568</td>\n",
       "    </tr>\n",
       "  </tbody>\n",
       "</table>\n",
       "</div>"
      ],
      "text/plain": [
       "      warehouse country              city  latitude  longitude  yearly_cost  \\\n",
       "0   Warehouse 3   Spain           Logroño   42.4627    -2.4444       850071   \n",
       "1  Warehouse 10  France  Clermont-Ferrand   45.7772     3.0870       901430   \n",
       "\n",
       "   yearly_co2_tons  \n",
       "0              441  \n",
       "1              568  "
      ]
     },
     "execution_count": 2,
     "metadata": {},
     "output_type": "execute_result"
    }
   ],
   "source": [
    "df_warehouses = pd.read_csv(\"../src/data/warehouses.csv\")\n",
    "df_warehouses.head(2)\n"
   ]
  },
  {
   "cell_type": "code",
   "execution_count": 3,
   "id": "bd82c128",
   "metadata": {},
   "outputs": [
    {
     "data": {
      "text/html": [
       "<div>\n",
       "<style scoped>\n",
       "    .dataframe tbody tr th:only-of-type {\n",
       "        vertical-align: middle;\n",
       "    }\n",
       "\n",
       "    .dataframe tbody tr th {\n",
       "        vertical-align: top;\n",
       "    }\n",
       "\n",
       "    .dataframe thead th {\n",
       "        text-align: right;\n",
       "    }\n",
       "</style>\n",
       "<table border=\"1\" class=\"dataframe\">\n",
       "  <thead>\n",
       "    <tr style=\"text-align: right;\">\n",
       "      <th></th>\n",
       "      <th>id</th>\n",
       "      <th>country</th>\n",
       "      <th>city</th>\n",
       "      <th>latitude</th>\n",
       "      <th>longitude</th>\n",
       "      <th>company_name</th>\n",
       "      <th>yearly_orders</th>\n",
       "    </tr>\n",
       "  </thead>\n",
       "  <tbody>\n",
       "    <tr>\n",
       "      <th>0</th>\n",
       "      <td>64</td>\n",
       "      <td>Italy</td>\n",
       "      <td>Bologna</td>\n",
       "      <td>44.4949</td>\n",
       "      <td>11.3426</td>\n",
       "      <td>64 - Lombardo-Martinelli SPA</td>\n",
       "      <td>60</td>\n",
       "    </tr>\n",
       "    <tr>\n",
       "      <th>1</th>\n",
       "      <td>21</td>\n",
       "      <td>Spain</td>\n",
       "      <td>Guadalajara</td>\n",
       "      <td>40.6292</td>\n",
       "      <td>-3.1614</td>\n",
       "      <td>21 - Vázquez &amp; Asociados S.Com.</td>\n",
       "      <td>113</td>\n",
       "    </tr>\n",
       "  </tbody>\n",
       "</table>\n",
       "</div>"
      ],
      "text/plain": [
       "   id country         city  latitude  longitude  \\\n",
       "0  64   Italy      Bologna   44.4949    11.3426   \n",
       "1  21   Spain  Guadalajara   40.6292    -3.1614   \n",
       "\n",
       "                      company_name  yearly_orders  \n",
       "0     64 - Lombardo-Martinelli SPA             60  \n",
       "1  21 - Vázquez & Asociados S.Com.            113  "
      ]
     },
     "execution_count": 3,
     "metadata": {},
     "output_type": "execute_result"
    }
   ],
   "source": [
    "df_customers = pd.read_csv(\"../src/data/customers.csv\")\n",
    "df_customers.head(2)\n"
   ]
  },
  {
   "cell_type": "markdown",
   "id": "c24abeda",
   "metadata": {},
   "source": [
    "### Plotting the warehouses\n",
    "\n",
    "This function plots the warehouses in a map, it's the one we use in the chapter (we add two helper functions to make it more modular):"
   ]
  },
  {
   "cell_type": "code",
   "execution_count": 4,
   "id": "4d2c7c39",
   "metadata": {},
   "outputs": [],
   "source": [
    "def _prepare_data(df_customers, df_warehouses):\n",
    "    df_cust = df_customers.copy()\n",
    "    df_wh = df_warehouses.copy()\n",
    "    df_cust[\"type\"] = \"Customer\"\n",
    "    df_wh[\"type\"] = \"Warehouse\"\n",
    "    data = pd.concat([df_cust, df_wh])\n",
    "    return data\n",
    "\n",
    "\n",
    "def _add_columns_to_data(data):\n",
    "    data[\"hover_amount\"] = data.apply(\n",
    "        lambda row: (\n",
    "            f\"Yearly Orders: {row['yearly_orders']}\"\n",
    "            if row[\"type\"] == \"Customer\"\n",
    "            else f\"Yearly Rent: {row['yearly_cost']:,.0f} €\"\n",
    "        ),\n",
    "        axis=1,\n",
    "    )\n",
    "    data[\"hover_name\"] = data.apply(\n",
    "        lambda row: (\n",
    "            f\"Company Name: {row['company_name']}\"\n",
    "            if row[\"type\"] == \"Customer\"\n",
    "            else f\"Warehouse {row['warehouse']}\"\n",
    "        ),\n",
    "        axis=1,\n",
    "    )\n",
    "    # Different marker size for Warehouses and customers\n",
    "    data[\"size\"] = data[\"type\"].map({\"Customer\": 5, \"Warehouse\": 22})\n",
    "    return data\n",
    "\n",
    "\n",
    "def plot_customers_warehouses(df_customers, df_warehouses):\n",
    "    data = _prepare_data(df_customers, df_warehouses)\n",
    "    data = _add_columns_to_data(data)\n",
    "\n",
    "    # Create the map\n",
    "    fig = px.scatter_map(\n",
    "        data,\n",
    "        lat=\"latitude\",\n",
    "        lon=\"longitude\",\n",
    "        color=\"type\",\n",
    "        size=\"size\",\n",
    "        hover_name=\"hover_name\",\n",
    "        hover_data={\n",
    "            \"city\": True,\n",
    "            \"hover_amount\": True,\n",
    "            \"latitude\": False,\n",
    "            \"longitude\": False,\n",
    "        },\n",
    "        map_style=\"carto-positron\",\n",
    "        zoom=3,\n",
    "        center={\"lat\": 50, \"lon\": 10},  # Center on Europe\n",
    "        size_max=10,\n",
    "    )\n",
    "\n",
    "    fig.update_traces(\n",
    "        hovertemplate=\"<b>%{hovertext}</b><br>%{customdata[0]}<br>%{customdata[1]}<extra></extra>\"\n",
    "    )\n",
    "    # Customize legend (inside map, white background)\n",
    "    fig.update_layout(\n",
    "        title=\"📍 Customers & Potential Warehouses\",\n",
    "        height=700,\n",
    "        margin={\"r\": 0, \"t\": 50, \"l\": 0, \"b\": 0},\n",
    "        legend=dict(\n",
    "            x=0.02,\n",
    "            y=0.98,  # Position: top-left inside the map\n",
    "            bgcolor=\"rgba(255,255,255,0.8)\",  # White semi-transparent background\n",
    "            bordercolor=\"black\",\n",
    "            borderwidth=1,\n",
    "        ),\n",
    "    )\n",
    "\n",
    "    return fig\n"
   ]
  },
  {
   "cell_type": "code",
   "execution_count": 5,
   "id": "6408ea7a",
   "metadata": {},
   "outputs": [
    {
     "data": {
      "application/vnd.plotly.v1+json": {
       "config": {
        "plotlyServerURL": "https://plot.ly"
       },
       "data": [
        {
         "customdata": [
          [
           "Bologna",
           "Yearly Orders: 60.0",
           44.4949,
           11.3426
          ],
          [
           "Guadalajara",
           "Yearly Orders: 113.0",
           40.6292,
           -3.1614
          ],
          [
           "Lyon",
           "Yearly Orders: 114.0",
           45.764,
           4.8357
          ],
          [
           "Parma",
           "Yearly Orders: 130.0",
           44.8015,
           10.3279
          ],
          [
           "Ghent",
           "Yearly Orders: 132.0",
           51.0543,
           3.7174
          ],
          [
           "Ciampino",
           "Yearly Orders: 134.0",
           41.4598,
           12.8461
          ],
          [
           "Modena",
           "Yearly Orders: 138.0",
           44.6471,
           10.9252
          ],
          [
           "Strasbourg",
           "Yearly Orders: 145.0",
           48.5734,
           7.7521
          ],
          [
           "Genoa",
           "Yearly Orders: 148.0",
           44.4056,
           8.9463
          ],
          [
           "Essen",
           "Yearly Orders: 150.0",
           51.4556,
           7.0116
          ],
          [
           "Vila Real",
           "Yearly Orders: 153.0",
           41.2956,
           -7.7464
          ],
          [
           "Berlin",
           "Yearly Orders: 164.0",
           52.52,
           13.405
          ],
          [
           "Metz",
           "Yearly Orders: 166.0",
           49.1193,
           6.1757
          ],
          [
           "Rotterdam",
           "Yearly Orders: 171.0",
           51.9225,
           4.4792
          ],
          [
           "Liège",
           "Yearly Orders: 174.0",
           50.6326,
           5.5797
          ],
          [
           "Pescara",
           "Yearly Orders: 175.0",
           42.4618,
           14.2139
          ],
          [
           "Valladolid",
           "Yearly Orders: 178.0",
           41.6523,
           -4.7236
          ],
          [
           "Nice",
           "Yearly Orders: 186.0",
           43.7102,
           7.262
          ],
          [
           "Linz",
           "Yearly Orders: 188.0",
           48.3069,
           14.2858
          ],
          [
           "Tours",
           "Yearly Orders: 190.0",
           47.3941,
           0.6848
          ],
          [
           "Turin",
           "Yearly Orders: 192.0",
           45.0703,
           7.6869
          ],
          [
           "Monaco",
           "Yearly Orders: 201.0",
           43.7384,
           7.4246
          ],
          [
           "Verona",
           "Yearly Orders: 205.0",
           45.4384,
           10.9916
          ],
          [
           "Bern",
           "Yearly Orders: 205.0",
           46.948,
           7.4474
          ],
          [
           "Talavera de la Reina",
           "Yearly Orders: 207.0",
           39.9596,
           -4.8308
          ],
          [
           "Setúbal",
           "Yearly Orders: 207.0",
           38.5243,
           -8.8926
          ],
          [
           "Savigny sur Orge",
           "Yearly Orders: 209.0",
           48.6797,
           2.35
          ],
          [
           "Valence",
           "Yearly Orders: 217.0",
           44.9333,
           4.8924
          ],
          [
           "Legnica",
           "Yearly Orders: 222.0",
           51.2076,
           16.1589
          ],
          [
           "Brescia",
           "Yearly Orders: 230.0",
           45.5416,
           10.2118
          ],
          [
           "Stuttgart",
           "Yearly Orders: 232.0",
           48.7758,
           9.1829
          ],
          [
           "Bordeaux",
           "Yearly Orders: 235.0",
           44.8378,
           -0.5792
          ],
          [
           "Bilbao",
           "Yearly Orders: 246.0",
           43.263,
           -2.935
          ],
          [
           "Antwerp",
           "Yearly Orders: 248.0",
           51.2194,
           4.4025
          ],
          [
           "Lisbon",
           "Yearly Orders: 251.0",
           38.7169,
           -9.1399
          ],
          [
           "Augsburg",
           "Yearly Orders: 256.0",
           48.3705,
           10.8978
          ],
          [
           "Porto",
           "Yearly Orders: 257.0",
           41.1496,
           -8.6109
          ],
          [
           "Charleroi",
           "Yearly Orders: 258.0",
           50.4114,
           4.4445
          ],
          [
           "Salzburg",
           "Yearly Orders: 259.0",
           47.8095,
           13.055
          ],
          [
           "Catanzaro",
           "Yearly Orders: 260.0",
           38.9108,
           16.5874
          ],
          [
           "Rouen",
           "Yearly Orders: 260.0",
           49.4432,
           1.0999
          ],
          [
           "Mannheim",
           "Yearly Orders: 263.0",
           49.4875,
           8.466
          ],
          [
           "Nanterre",
           "Yearly Orders: 266.0",
           48.8924,
           2.2153
          ],
          [
           "Borgo Maggiore",
           "Yearly Orders: 268.0",
           43.9415,
           12.4474
          ],
          [
           "Münster",
           "Yearly Orders: 268.0",
           51.9607,
           7.6261
          ],
          [
           "Würzburg",
           "Yearly Orders: 269.0",
           49.7913,
           9.9534
          ],
          [
           "Faro",
           "Yearly Orders: 271.0",
           37.0194,
           -7.9302
          ],
          [
           "Caserta",
           "Yearly Orders: 272.0",
           41.0822,
           14.3346
          ],
          [
           "Brno",
           "Yearly Orders: 272.0",
           49.1951,
           16.6068
          ],
          [
           "Esch-sur-Alzette",
           "Yearly Orders: 273.0",
           49.4958,
           5.9804
          ],
          [
           "Vigo",
           "Yearly Orders: 277.0",
           42.2406,
           -8.7207
          ],
          [
           "Leipzig",
           "Yearly Orders: 277.0",
           51.3397,
           12.3731
          ],
          [
           "Freiburg",
           "Yearly Orders: 277.0",
           47.999,
           7.8421
          ],
          [
           "Toulouse",
           "Yearly Orders: 280.0",
           43.6045,
           1.4442
          ],
          [
           "Motril",
           "Yearly Orders: 281.0",
           36.742,
           -3.5179
          ],
          [
           "Aveiro",
           "Yearly Orders: 283.0",
           40.6405,
           -8.6538
          ],
          [
           "Albacete",
           "Yearly Orders: 284.0",
           38.9943,
           -1.8585
          ],
          [
           "Schaan",
           "Yearly Orders: 287.0",
           47.165,
           9.5087
          ],
          [
           "Dortmund",
           "Yearly Orders: 287.0",
           51.5136,
           7.4653
          ],
          [
           "Saint-Étienne",
           "Yearly Orders: 288.0",
           45.4397,
           4.3872
          ],
          [
           "Foggia",
           "Yearly Orders: 289.0",
           41.4623,
           15.5446
          ],
          [
           "Rennes",
           "Yearly Orders: 289.0",
           48.1173,
           -1.6778
          ],
          [
           "Erfurt",
           "Yearly Orders: 289.0",
           50.9787,
           11.0328
          ],
          [
           "León",
           "Yearly Orders: 291.0",
           42.5987,
           -5.5671
          ],
          [
           "Reims",
           "Yearly Orders: 291.0",
           49.2583,
           4.0317
          ],
          [
           "Brest",
           "Yearly Orders: 294.0",
           48.3904,
           -4.4861
          ],
          [
           "Bergerac",
           "Yearly Orders: 294.0",
           44.8562,
           0.4819
          ],
          [
           "Lodz",
           "Yearly Orders: 295.0",
           51.7592,
           19.455
          ],
          [
           "Graz",
           "Yearly Orders: 298.0",
           47.0707,
           15.4395
          ],
          [
           "Wrocław",
           "Yearly Orders: 298.0",
           51.1079,
           17.0385
          ],
          [
           "Zaragoza",
           "Yearly Orders: 304.0",
           41.6488,
           -0.8891
          ],
          [
           "Düsseldorf",
           "Yearly Orders: 308.0",
           51.2277,
           6.7735
          ],
          [
           "Melun",
           "Yearly Orders: 309.0",
           48.5459,
           2.6458
          ],
          [
           "Constance",
           "Yearly Orders: 309.0",
           47.6603,
           9.1758
          ],
          [
           "Chojnice",
           "Yearly Orders: 311.0",
           53.6956,
           17.5573
          ],
          [
           "Burgos",
           "Yearly Orders: 314.0",
           42.3439,
           -3.6969
          ],
          [
           "Andorra la Vella",
           "Yearly Orders: 318.0",
           42.5078,
           1.5211
          ],
          [
           "Dijon",
           "Yearly Orders: 319.0",
           47.322,
           5.0415
          ],
          [
           "Köln",
           "Yearly Orders: 319.0",
           50.9375,
           6.9603
          ],
          [
           "Winterthur",
           "Yearly Orders: 321.0",
           47.4999,
           8.7266
          ],
          [
           "Aarhus",
           "Yearly Orders: 323.0",
           56.1629,
           10.2039
          ],
          [
           "Aranda de Duero",
           "Yearly Orders: 323.0",
           41.6696,
           -3.6892
          ],
          [
           "Eindhoven",
           "Yearly Orders: 325.0",
           51.4416,
           5.4697
          ],
          [
           "Utrecht",
           "Yearly Orders: 328.0",
           52.0907,
           5.1214
          ],
          [
           "Lille",
           "Yearly Orders: 330.0",
           50.6292,
           3.0573
          ],
          [
           "Moura",
           "Yearly Orders: 331.0",
           38.1401,
           -7.4486
          ],
          [
           "Nancy",
           "Yearly Orders: 332.0",
           48.6921,
           6.1844
          ],
          [
           "Reggio de Calabre",
           "Yearly Orders: 332.0",
           38.1112,
           15.6473
          ],
          [
           "Pamplona",
           "Yearly Orders: 336.0",
           42.8125,
           -1.6458
          ],
          [
           "Bremen",
           "Yearly Orders: 336.0",
           53.0793,
           8.8017
          ],
          [
           "Padua",
           "Yearly Orders: 342.0",
           45.4064,
           11.8779
          ],
          [
           "Ulm",
           "Yearly Orders: 342.0",
           48.4,
           9.9833
          ],
          [
           "Miranda do Douro",
           "Yearly Orders: 344.0",
           41.4969,
           -6.2732
          ],
          [
           "Katowice",
           "Yearly Orders: 348.0",
           50.2707,
           19.0399
          ]
         ],
         "hovertemplate": "<b>%{hovertext}</b><br>%{customdata[0]}<br>%{customdata[1]}<extra></extra>",
         "hovertext": [
          "Company Name: 64 - Lombardo-Martinelli SPA",
          "Company Name: 21 - Vázquez & Asociados S.Com.",
          "Company Name: 24 - Girard",
          "Company Name: 67 - Ariasso, Fibonacci e Campano SPA",
          "Company Name: 78 - Meyer-Gustin",
          "Company Name: 73 - Roccabonella-Finzi SPA",
          "Company Name: 68 - Redi e figli",
          "Company Name: 26 - Boulanger SA",
          "Company Name: 62 - Bertoni, Pellico e Bettin Group",
          "Company Name: 42 - Scholtz Weitzel GmbH",
          "Company Name: 8 - Rodrigues Pires S.A.",
          "Company Name: 50 - Kohl Lorch KG",
          "Company Name: 22 - Hervé",
          "Company Name: 80 - Koninklijke van Cuijck",
          "Company Name: 76 - Ghislain-Motte",
          "Company Name: 72 - Almagià-Loredan s.r.l.",
          "Company Name: 11 - Logística VWFK S.L.L.",
          "Company Name: 32 - Fleury",
          "Company Name: 60 - Kensy Etzler AG",
          "Company Name: 35 - Bègue Munoz et Fils",
          "Company Name: 61 - Garozzo-Spanevello e figli",
          "Company Name: 94 - Bouchet SARL",
          "Company Name: 65 - Canil-Rosselli s.r.l.",
          "Company Name: 88 - Rosenow Wiek GmbH",
          "Company Name: 20 - Soluciones BMV S.L.L.",
          "Company Name: 3 - Fernandes",
          "Company Name: 38 - Leclerc",
          "Company Name: 40 - Guérin",
          "Company Name: 86 - Kurzyna-Semenowicz Sp. z o.o.",
          "Company Name: 63 - Aloisio, Sraffa e Ceci s.r.l.",
          "Company Name: 44 - Ladeck Lorch KG",
          "Company Name: 31 - Hardy Thomas S.A.",
          "Company Name: 17 - Talleres OSMZ S.Com.",
          "Company Name: 77 - Delhaye, Gilles and Dubois",
          "Company Name: 2 - Araújo",
          "Company Name: 52 - Jopich",
          "Company Name: 1 - Campos S/A",
          "Company Name: 75 - Lemaire, Delattre and Wouters",
          "Company Name: 58 - Geisler Stadelmann GmbH & Co. OHG",
          "Company Name: 70 - Rensi-Giorgetti SPA",
          "Company Name: 25 - Gérard",
          "Company Name: 46 - Weiß Schäfer GbR",
          "Company Name: 37 - Bertin",
          "Company Name: 93 - Cerquiglini-Capone e figli",
          "Company Name: 53 - Mende GmbH",
          "Company Name: 55 - Steinberg AG",
          "Company Name: 6 - Machado",
          "Company Name: 71 - Surian-Carosone e figli",
          "Company Name: 90 - Růžička",
          "Company Name: 91 - Sevrin, Gustin and De Clercq",
          "Company Name: 18 - Cadenas y Tejero S.L.N.E",
          "Company Name: 45 - Peukert AG & Co. KG",
          "Company Name: 51 - Geisel",
          "Company Name: 30 - Moulin Merle et Fils",
          "Company Name: 16 - Suministros Cabrera & Asociados S.A.",
          "Company Name: 4 - Ferreira",
          "Company Name: 14 - Servicios Pont & Asociados S.A.",
          "Company Name: 92 - Holzapfel Tintzmann KGaA",
          "Company Name: 43 - Fliegner",
          "Company Name: 41 - Legrand Dos Santos et Fils",
          "Company Name: 74 - Morricone SPA",
          "Company Name: 33 - Ferreira",
          "Company Name: 57 - Lindau",
          "Company Name: 15 - Suministros Globales S.A.",
          "Company Name: 29 - Bouchet",
          "Company Name: 34 - Gros",
          "Company Name: 39 - Neveu",
          "Company Name: 84 - Majorczyk-Groth Sp.k.",
          "Company Name: 59 - Reichmann",
          "Company Name: 82 - Grupa Wota-Breś i syn s.c.",
          "Company Name: 12 - Sierra y Blanca S.L.U.",
          "Company Name: 48 - Süßebier",
          "Company Name: 36 - Da Silva",
          "Company Name: 56 - Bolzmann",
          "Company Name: 85 - Stowarzyszenie Lada",
          "Company Name: 13 - Juana Costa Isern S.L.U.",
          "Company Name: 9 - Alba & Asociados S.L.L.",
          "Company Name: 28 - Mallet",
          "Company Name: 49 - Martin GbR",
          "Company Name: 87 - Killer",
          "Company Name: 89 - Thygesen & Søn A/S",
          "Company Name: 10 - Despacho Ferrando S.A.U",
          "Company Name: 79 - de Bruyn & van Goerle",
          "Company Name: 81 - Royal Chrodtrud",
          "Company Name: 23 - Garcia Chartier SA",
          "Company Name: 7 - Pereira",
          "Company Name: 27 - Durand",
          "Company Name: 69 - Foà, Scarpetta e Monte s.r.l.",
          "Company Name: 19 - Instalaciones del Noroeste S.L.U.",
          "Company Name: 47 - Dippel GmbH",
          "Company Name: 66 - Spinelli, Duodo e Balla e figli",
          "Company Name: 54 - Kraus",
          "Company Name: 5 - Figueiredo",
          "Company Name: 83 - Bubak S.A."
         ],
         "lat": {
          "bdata": "LGUZ4lg/RkBUUiegiVBEQG8Sg8DK4UZAO99PjZdmRkAeFmpN84ZJQLRZ9bnaukRA7Z48LNRSRkBhw9MrZUlIQPmgZ7PqM0ZAXwfOGVG6SUBLWYY41qVEQMP1KFyPQkpA1zTvOEWPSECuR+F6FPZJQIy5awn5UElAeqUsQxw7RUAkl/+QftNEQELPZtXn2kVAOpLLf0gnSEBDrWnecbJHQFR0JJf/iEZA5q4l5IPeRUCASL99HbhGQNNNYhBYeUdA7Z48LNT6Q0B6pSxDHENDQKyL22gAV0hArK3YX3Z3RkAmUwWjkppJQL7BFyZTxUZATx4Wak1jSEBeS8gHPWtGQIts5/upoUVAB1+YTBWcSUBPQBNhw1tDQIGVQ4tsL0hApb3BFyaTRECGyVTBqDRJQFYOLbKd50dAMZkqGJV0Q0ApyxDHurhIQGZmZmZmvkhAp3nHKTpySECNl24Sg/hFQDSitDf4+klAk6mCUUnlSEBtxf6ye4JCQJjdk4eFikRAjLlrCfmYSECsrdhfdr9IQHS1FfvLHkVAwTkjSnurSUAdWmQ73/9HQEw3iUFgzUVA5dAi2/leQkBEi2zn+1FEQNc07zhFf0NAhetRuB6VR0DgnBGlvcFJQI4G8BZIuEZAbHh6pSy7REAQ6bevAw9IQDBMpgpGfUlAvw6cM6JMRUBFR3L5D6FIQOAtkKD4MUhA6Gor9pdtRkDFjzF3LeFJQOLplbIMiUdAhJ7Nqs+NSUCJ0t7gC9NEQEymCkYlnUlAdnEbDeBFSEA/xty1hNRHQH6MuWsJ2UpAFYxK6gQsRUBUdCSX/0BFQPCnxks3qUdAAAAAAAB4SUCcoiO5/L9HQFtCPujZFExAaLPqc7XVREDx9EpZhrhJQKTfvg6cC0pAVFInoIlQSUC1FfvL7hFDQOPHmLuWWEhAWKg1zTsOQ0AAAAAAAGhFQFJJnYAmikpAFYxK6gS0RkAzMzMzMzNIQPKwUGuav0RAe4MvTKYiSUA=",
          "dtype": "f8"
         },
         "legendgroup": "Customer",
         "lon": {
          "bdata": "HThnRGmvJkBfmEwVjEoJwJ0Rpb3BVxNAgLdAguKnJEAFNBE2PL0NQIxK6gQ0sSlAtoR80LPZJUBSSZ2AJgIfQNxoAG+B5CFAzojS3uALHEAH8BZIUPwewI/C9ShczypA+aBns+qzGEAJ+aBns+oRQP32deCcURZAkzoBTYRtLEDbiv1l9+QSwD81XrpJDB1Aw2SqYFSSLEAnoImw4enlP1Z9rrZivx5AwoanV8qyHUBdbcX+svslQO7rwDkjyh1ANBE2PL1SE8C30QDeAskhwM3MzMzMzAJANs07TtGRE0CbVZ+rrSgwQOqVsgxxbCRAduCcEaVdIkB/+zpwzojiv3sUrkfhegfAXI/C9SicEUC6awn5oEciwJayDHGsyyVAuECC4sc4IcC6SQwCK8cRQFyPwvUoHCpAn6ut2F+WMEAp7Q2+MJnxPzvfT42X7iBAYqHWNO+4AUD3deCcEeUoQDcawFsggR5ARwN4CyToI0Dx9EpZhrgfwLN78rBQqyxAejarPlebMEBd/kP67esXQFR0JJf/cCHAdEaU9ga/KECu2F92T14fQJYhjnVxG/c/hslUwagkDMDmP6Tfvk4hwCPb+X5qvP2/TfOOU3QEI0CxUGuad9wdQHgLJCh+jBFAn82qz9UWL0AqqRPQRNj6vxueXinLECZAFD/G3LVEFsD/If32dSAQQKhXyjLE8RHASFD8GHPX3j8UrkfhenQzQBsv3SQG4S5AYOXQItsJMUCI9NvXgXPsv/LSTWIQGBtA7Q2+MJkqBUALRiV1AloiQJEPejarjjFAwaikTkCTDcAtIR/0bFb4P9Ei2/l+KhRALGUZ4ljXG0AVjErqBHQhQA5Pr5RlaCRAwTkjSnuDDcCMuWsJ+eAVQAfwFkhQfBRAhXzQs1l1CEBB8WPMXcsdwJSHhVrTvBhAz2bV52pLL0DaG3xhMlX6vwpoImx4miFAGlHaG3zBJ0BIUPwYc/cjQJ0Rpb3BFxnAQxzr4jYKM0A=",
          "dtype": "f8"
         },
         "marker": {
          "color": "#636efa",
          "size": {
           "bdata": "BQUFBQUFBQUFBQUFBQUFBQUFBQUFBQUFBQUFBQUFBQUFBQUFBQUFBQUFBQUFBQUFBQUFBQUFBQUFBQUFBQUFBQUFBQUFBQUFBQUFBQUFBQUFBQUFBQUFBQUFBQUFBQ==",
           "dtype": "i1"
          },
          "sizemode": "area",
          "sizeref": 0.22
         },
         "mode": "markers",
         "name": "Customer",
         "showlegend": true,
         "subplot": "map",
         "type": "scattermap"
        },
        {
         "customdata": [
          [
           "Logroño",
           "Yearly Rent: 850,071 €",
           42.4627,
           -2.4444
          ],
          [
           "Clermont-Ferrand",
           "Yearly Rent: 901,430 €",
           45.7772,
           3.087
          ],
          [
           "Hanover",
           "Yearly Rent: 1,003,279 €",
           52.3759,
           9.732
          ],
          [
           "Bari",
           "Yearly Rent: 1,022,038 €",
           41.1171,
           16.8719
          ],
          [
           "Braga",
           "Yearly Rent: 1,146,105 €",
           41.5454,
           -8.4265
          ],
          [
           "Grenoble",
           "Yearly Rent: 1,232,975 €",
           45.1885,
           5.7245
          ],
          [
           "Dresden",
           "Yearly Rent: 1,483,614 €",
           51.0504,
           13.7373
          ],
          [
           "Taranto",
           "Yearly Rent: 1,592,572 €",
           40.4643,
           17.247
          ],
          [
           "Karlsruhe",
           "Yearly Rent: 1,687,606 €",
           49.0069,
           8.4037
          ],
          [
           "Florence",
           "Yearly Rent: 1,754,934 €",
           43.7696,
           11.2558
          ],
          [
           "Caen",
           "Yearly Rent: 1,839,312 €",
           49.1829,
           -0.3707
          ],
          [
           "Nuremberg",
           "Yearly Rent: 1,868,830 €",
           49.4521,
           11.0767
          ],
          [
           "Nantes",
           "Yearly Rent: 1,971,488 €",
           47.2184,
           -1.5536
          ],
          [
           "Gdańsk",
           "Yearly Rent: 2,133,166 €",
           54.352,
           18.6466
          ],
          [
           "Magdeburg",
           "Yearly Rent: 2,157,918 €",
           52.1317,
           11.6399
          ],
          [
           "Toledo",
           "Yearly Rent: 2,232,801 €",
           39.8628,
           -4.0273
          ],
          [
           "Kiel",
           "Yearly Rent: 2,235,314 €",
           54.3233,
           10.1394
          ],
          [
           "Perpignan",
           "Yearly Rent: 2,256,649 €",
           42.6973,
           2.8956
          ],
          [
           "Salamanca",
           "Yearly Rent: 2,283,738 €",
           40.9701,
           -5.6635
          ],
          [
           "Coimbra",
           "Yearly Rent: 2,342,458 €",
           40.2033,
           -8.4103
          ]
         ],
         "hovertemplate": "<b>%{hovertext}</b><br>%{customdata[0]}<br>%{customdata[1]}<extra></extra>",
         "hovertext": [
          "Warehouse Warehouse 3",
          "Warehouse Warehouse 10",
          "Warehouse Warehouse 11",
          "Warehouse Warehouse 18",
          "Warehouse Warehouse 1",
          "Warehouse Warehouse 6",
          "Warehouse Warehouse 12",
          "Warehouse Warehouse 19",
          "Warehouse Warehouse 13",
          "Warehouse Warehouse 17",
          "Warehouse Warehouse 7",
          "Warehouse Warehouse 15",
          "Warehouse Warehouse 9",
          "Warehouse Warehouse 20",
          "Warehouse Warehouse 16",
          "Warehouse Warehouse 5",
          "Warehouse Warehouse 14",
          "Warehouse Warehouse 8",
          "Warehouse Warehouse 4",
          "Warehouse Warehouse 2"
         ],
         "lat": {
          "bdata": "+u3rwDk7RUDBOSNKe+NGQIBIv30dMEpASS7/If2ORECEns2qz8VEQOOlm8QgmEZA9dvXgXOGSUAzxLEubjtEQNQrZRnigEhANIC3QILiRUAdOGdEaZdIQMRCrWneuUhAJLn8h/SbR0CTGARWDi1LQA1xrIvbEEpAkX77OnDuQ0D+ZffkYSlLQBrAWyBBWUVAwOyePCx8REBuowG8BRpEQA==",
          "dtype": "f8"
         },
         "legendgroup": "Warehouse",
         "lon": {
          "bdata": "PL1SliGOA8AZBFYOLbIIQBBYObTIdiNA5WGh1jTfMEDufD81XtogwNnO91Pj5RZAfa62Yn95K0CsHFpkOz8xQFjKMsSxziBANKK0N/iCJkALJCh+jLnXv9c07zhFJyZAswxxrIvb+L/2l92Th6UyQLprCfmgRydAJLn8h/QbEMDzH9JvX0ckQHxhMlUwKgdAgZVDi2ynFsD8GHPXEtIgwA==",
          "dtype": "f8"
         },
         "marker": {
          "color": "#EF553B",
          "size": {
           "bdata": "FhYWFhYWFhYWFhYWFhYWFhYWFhY=",
           "dtype": "i1"
          },
          "sizemode": "area",
          "sizeref": 0.22
         },
         "mode": "markers",
         "name": "Warehouse",
         "showlegend": true,
         "subplot": "map",
         "type": "scattermap"
        }
       ],
       "layout": {
        "height": 700,
        "legend": {
         "bgcolor": "rgba(255,255,255,0.8)",
         "bordercolor": "black",
         "borderwidth": 1,
         "itemsizing": "constant",
         "title": {
          "text": "type"
         },
         "tracegroupgap": 0,
         "x": 0.02,
         "y": 0.98
        },
        "map": {
         "center": {
          "lat": 50,
          "lon": 10
         },
         "domain": {
          "x": [
           0,
           1
          ],
          "y": [
           0,
           1
          ]
         },
         "style": "carto-positron",
         "zoom": 3
        },
        "mapbox": {
         "center": {
          "lat": 50,
          "lon": 10
         },
         "style": "carto-positron",
         "zoom": 3
        },
        "margin": {
         "b": 0,
         "l": 0,
         "r": 0,
         "t": 50
        },
        "template": {
         "data": {
          "bar": [
           {
            "error_x": {
             "color": "#2a3f5f"
            },
            "error_y": {
             "color": "#2a3f5f"
            },
            "marker": {
             "line": {
              "color": "#E5ECF6",
              "width": 0.5
             },
             "pattern": {
              "fillmode": "overlay",
              "size": 10,
              "solidity": 0.2
             }
            },
            "type": "bar"
           }
          ],
          "barpolar": [
           {
            "marker": {
             "line": {
              "color": "#E5ECF6",
              "width": 0.5
             },
             "pattern": {
              "fillmode": "overlay",
              "size": 10,
              "solidity": 0.2
             }
            },
            "type": "barpolar"
           }
          ],
          "carpet": [
           {
            "aaxis": {
             "endlinecolor": "#2a3f5f",
             "gridcolor": "white",
             "linecolor": "white",
             "minorgridcolor": "white",
             "startlinecolor": "#2a3f5f"
            },
            "baxis": {
             "endlinecolor": "#2a3f5f",
             "gridcolor": "white",
             "linecolor": "white",
             "minorgridcolor": "white",
             "startlinecolor": "#2a3f5f"
            },
            "type": "carpet"
           }
          ],
          "choropleth": [
           {
            "colorbar": {
             "outlinewidth": 0,
             "ticks": ""
            },
            "type": "choropleth"
           }
          ],
          "contour": [
           {
            "colorbar": {
             "outlinewidth": 0,
             "ticks": ""
            },
            "colorscale": [
             [
              0,
              "#0d0887"
             ],
             [
              0.1111111111111111,
              "#46039f"
             ],
             [
              0.2222222222222222,
              "#7201a8"
             ],
             [
              0.3333333333333333,
              "#9c179e"
             ],
             [
              0.4444444444444444,
              "#bd3786"
             ],
             [
              0.5555555555555556,
              "#d8576b"
             ],
             [
              0.6666666666666666,
              "#ed7953"
             ],
             [
              0.7777777777777778,
              "#fb9f3a"
             ],
             [
              0.8888888888888888,
              "#fdca26"
             ],
             [
              1,
              "#f0f921"
             ]
            ],
            "type": "contour"
           }
          ],
          "contourcarpet": [
           {
            "colorbar": {
             "outlinewidth": 0,
             "ticks": ""
            },
            "type": "contourcarpet"
           }
          ],
          "heatmap": [
           {
            "colorbar": {
             "outlinewidth": 0,
             "ticks": ""
            },
            "colorscale": [
             [
              0,
              "#0d0887"
             ],
             [
              0.1111111111111111,
              "#46039f"
             ],
             [
              0.2222222222222222,
              "#7201a8"
             ],
             [
              0.3333333333333333,
              "#9c179e"
             ],
             [
              0.4444444444444444,
              "#bd3786"
             ],
             [
              0.5555555555555556,
              "#d8576b"
             ],
             [
              0.6666666666666666,
              "#ed7953"
             ],
             [
              0.7777777777777778,
              "#fb9f3a"
             ],
             [
              0.8888888888888888,
              "#fdca26"
             ],
             [
              1,
              "#f0f921"
             ]
            ],
            "type": "heatmap"
           }
          ],
          "histogram": [
           {
            "marker": {
             "pattern": {
              "fillmode": "overlay",
              "size": 10,
              "solidity": 0.2
             }
            },
            "type": "histogram"
           }
          ],
          "histogram2d": [
           {
            "colorbar": {
             "outlinewidth": 0,
             "ticks": ""
            },
            "colorscale": [
             [
              0,
              "#0d0887"
             ],
             [
              0.1111111111111111,
              "#46039f"
             ],
             [
              0.2222222222222222,
              "#7201a8"
             ],
             [
              0.3333333333333333,
              "#9c179e"
             ],
             [
              0.4444444444444444,
              "#bd3786"
             ],
             [
              0.5555555555555556,
              "#d8576b"
             ],
             [
              0.6666666666666666,
              "#ed7953"
             ],
             [
              0.7777777777777778,
              "#fb9f3a"
             ],
             [
              0.8888888888888888,
              "#fdca26"
             ],
             [
              1,
              "#f0f921"
             ]
            ],
            "type": "histogram2d"
           }
          ],
          "histogram2dcontour": [
           {
            "colorbar": {
             "outlinewidth": 0,
             "ticks": ""
            },
            "colorscale": [
             [
              0,
              "#0d0887"
             ],
             [
              0.1111111111111111,
              "#46039f"
             ],
             [
              0.2222222222222222,
              "#7201a8"
             ],
             [
              0.3333333333333333,
              "#9c179e"
             ],
             [
              0.4444444444444444,
              "#bd3786"
             ],
             [
              0.5555555555555556,
              "#d8576b"
             ],
             [
              0.6666666666666666,
              "#ed7953"
             ],
             [
              0.7777777777777778,
              "#fb9f3a"
             ],
             [
              0.8888888888888888,
              "#fdca26"
             ],
             [
              1,
              "#f0f921"
             ]
            ],
            "type": "histogram2dcontour"
           }
          ],
          "mesh3d": [
           {
            "colorbar": {
             "outlinewidth": 0,
             "ticks": ""
            },
            "type": "mesh3d"
           }
          ],
          "parcoords": [
           {
            "line": {
             "colorbar": {
              "outlinewidth": 0,
              "ticks": ""
             }
            },
            "type": "parcoords"
           }
          ],
          "pie": [
           {
            "automargin": true,
            "type": "pie"
           }
          ],
          "scatter": [
           {
            "fillpattern": {
             "fillmode": "overlay",
             "size": 10,
             "solidity": 0.2
            },
            "type": "scatter"
           }
          ],
          "scatter3d": [
           {
            "line": {
             "colorbar": {
              "outlinewidth": 0,
              "ticks": ""
             }
            },
            "marker": {
             "colorbar": {
              "outlinewidth": 0,
              "ticks": ""
             }
            },
            "type": "scatter3d"
           }
          ],
          "scattercarpet": [
           {
            "marker": {
             "colorbar": {
              "outlinewidth": 0,
              "ticks": ""
             }
            },
            "type": "scattercarpet"
           }
          ],
          "scattergeo": [
           {
            "marker": {
             "colorbar": {
              "outlinewidth": 0,
              "ticks": ""
             }
            },
            "type": "scattergeo"
           }
          ],
          "scattergl": [
           {
            "marker": {
             "colorbar": {
              "outlinewidth": 0,
              "ticks": ""
             }
            },
            "type": "scattergl"
           }
          ],
          "scattermap": [
           {
            "marker": {
             "colorbar": {
              "outlinewidth": 0,
              "ticks": ""
             }
            },
            "type": "scattermap"
           }
          ],
          "scattermapbox": [
           {
            "marker": {
             "colorbar": {
              "outlinewidth": 0,
              "ticks": ""
             }
            },
            "type": "scattermapbox"
           }
          ],
          "scatterpolar": [
           {
            "marker": {
             "colorbar": {
              "outlinewidth": 0,
              "ticks": ""
             }
            },
            "type": "scatterpolar"
           }
          ],
          "scatterpolargl": [
           {
            "marker": {
             "colorbar": {
              "outlinewidth": 0,
              "ticks": ""
             }
            },
            "type": "scatterpolargl"
           }
          ],
          "scatterternary": [
           {
            "marker": {
             "colorbar": {
              "outlinewidth": 0,
              "ticks": ""
             }
            },
            "type": "scatterternary"
           }
          ],
          "surface": [
           {
            "colorbar": {
             "outlinewidth": 0,
             "ticks": ""
            },
            "colorscale": [
             [
              0,
              "#0d0887"
             ],
             [
              0.1111111111111111,
              "#46039f"
             ],
             [
              0.2222222222222222,
              "#7201a8"
             ],
             [
              0.3333333333333333,
              "#9c179e"
             ],
             [
              0.4444444444444444,
              "#bd3786"
             ],
             [
              0.5555555555555556,
              "#d8576b"
             ],
             [
              0.6666666666666666,
              "#ed7953"
             ],
             [
              0.7777777777777778,
              "#fb9f3a"
             ],
             [
              0.8888888888888888,
              "#fdca26"
             ],
             [
              1,
              "#f0f921"
             ]
            ],
            "type": "surface"
           }
          ],
          "table": [
           {
            "cells": {
             "fill": {
              "color": "#EBF0F8"
             },
             "line": {
              "color": "white"
             }
            },
            "header": {
             "fill": {
              "color": "#C8D4E3"
             },
             "line": {
              "color": "white"
             }
            },
            "type": "table"
           }
          ]
         },
         "layout": {
          "annotationdefaults": {
           "arrowcolor": "#2a3f5f",
           "arrowhead": 0,
           "arrowwidth": 1
          },
          "autotypenumbers": "strict",
          "coloraxis": {
           "colorbar": {
            "outlinewidth": 0,
            "ticks": ""
           }
          },
          "colorscale": {
           "diverging": [
            [
             0,
             "#8e0152"
            ],
            [
             0.1,
             "#c51b7d"
            ],
            [
             0.2,
             "#de77ae"
            ],
            [
             0.3,
             "#f1b6da"
            ],
            [
             0.4,
             "#fde0ef"
            ],
            [
             0.5,
             "#f7f7f7"
            ],
            [
             0.6,
             "#e6f5d0"
            ],
            [
             0.7,
             "#b8e186"
            ],
            [
             0.8,
             "#7fbc41"
            ],
            [
             0.9,
             "#4d9221"
            ],
            [
             1,
             "#276419"
            ]
           ],
           "sequential": [
            [
             0,
             "#0d0887"
            ],
            [
             0.1111111111111111,
             "#46039f"
            ],
            [
             0.2222222222222222,
             "#7201a8"
            ],
            [
             0.3333333333333333,
             "#9c179e"
            ],
            [
             0.4444444444444444,
             "#bd3786"
            ],
            [
             0.5555555555555556,
             "#d8576b"
            ],
            [
             0.6666666666666666,
             "#ed7953"
            ],
            [
             0.7777777777777778,
             "#fb9f3a"
            ],
            [
             0.8888888888888888,
             "#fdca26"
            ],
            [
             1,
             "#f0f921"
            ]
           ],
           "sequentialminus": [
            [
             0,
             "#0d0887"
            ],
            [
             0.1111111111111111,
             "#46039f"
            ],
            [
             0.2222222222222222,
             "#7201a8"
            ],
            [
             0.3333333333333333,
             "#9c179e"
            ],
            [
             0.4444444444444444,
             "#bd3786"
            ],
            [
             0.5555555555555556,
             "#d8576b"
            ],
            [
             0.6666666666666666,
             "#ed7953"
            ],
            [
             0.7777777777777778,
             "#fb9f3a"
            ],
            [
             0.8888888888888888,
             "#fdca26"
            ],
            [
             1,
             "#f0f921"
            ]
           ]
          },
          "colorway": [
           "#636efa",
           "#EF553B",
           "#00cc96",
           "#ab63fa",
           "#FFA15A",
           "#19d3f3",
           "#FF6692",
           "#B6E880",
           "#FF97FF",
           "#FECB52"
          ],
          "font": {
           "color": "#2a3f5f"
          },
          "geo": {
           "bgcolor": "white",
           "lakecolor": "white",
           "landcolor": "#E5ECF6",
           "showlakes": true,
           "showland": true,
           "subunitcolor": "white"
          },
          "hoverlabel": {
           "align": "left"
          },
          "hovermode": "closest",
          "mapbox": {
           "style": "light"
          },
          "paper_bgcolor": "white",
          "plot_bgcolor": "#E5ECF6",
          "polar": {
           "angularaxis": {
            "gridcolor": "white",
            "linecolor": "white",
            "ticks": ""
           },
           "bgcolor": "#E5ECF6",
           "radialaxis": {
            "gridcolor": "white",
            "linecolor": "white",
            "ticks": ""
           }
          },
          "scene": {
           "xaxis": {
            "backgroundcolor": "#E5ECF6",
            "gridcolor": "white",
            "gridwidth": 2,
            "linecolor": "white",
            "showbackground": true,
            "ticks": "",
            "zerolinecolor": "white"
           },
           "yaxis": {
            "backgroundcolor": "#E5ECF6",
            "gridcolor": "white",
            "gridwidth": 2,
            "linecolor": "white",
            "showbackground": true,
            "ticks": "",
            "zerolinecolor": "white"
           },
           "zaxis": {
            "backgroundcolor": "#E5ECF6",
            "gridcolor": "white",
            "gridwidth": 2,
            "linecolor": "white",
            "showbackground": true,
            "ticks": "",
            "zerolinecolor": "white"
           }
          },
          "shapedefaults": {
           "line": {
            "color": "#2a3f5f"
           }
          },
          "ternary": {
           "aaxis": {
            "gridcolor": "white",
            "linecolor": "white",
            "ticks": ""
           },
           "baxis": {
            "gridcolor": "white",
            "linecolor": "white",
            "ticks": ""
           },
           "bgcolor": "#E5ECF6",
           "caxis": {
            "gridcolor": "white",
            "linecolor": "white",
            "ticks": ""
           }
          },
          "title": {
           "x": 0.05
          },
          "xaxis": {
           "automargin": true,
           "gridcolor": "white",
           "linecolor": "white",
           "ticks": "",
           "title": {
            "standoff": 15
           },
           "zerolinecolor": "white",
           "zerolinewidth": 2
          },
          "yaxis": {
           "automargin": true,
           "gridcolor": "white",
           "linecolor": "white",
           "ticks": "",
           "title": {
            "standoff": 15
           },
           "zerolinecolor": "white",
           "zerolinewidth": 2
          }
         }
        },
        "title": {
         "text": "📍 Customers & Potential Warehouses"
        }
       }
      }
     },
     "metadata": {},
     "output_type": "display_data"
    }
   ],
   "source": [
    "plot_customers_warehouses(df_customers, df_warehouses)"
   ]
  },
  {
   "cell_type": "markdown",
   "id": "fc22199c",
   "metadata": {},
   "source": [
    "Next, we create the functions to create the distance matrix:"
   ]
  },
  {
   "cell_type": "code",
   "execution_count": 6,
   "id": "567173fa",
   "metadata": {},
   "outputs": [],
   "source": [
    "def haversine(lat1: float, lon1: float, lat2: float, lon2: float) -> float:\n",
    "    \"\"\"\n",
    "    Calculate the great-circle distance (in km) between two points on Earth.\n",
    "    \"\"\"\n",
    "    lat1, lon1, lat2, lon2 = map(radians, [lat1, lon1, lat2, lon2])\n",
    "    dlat = lat2 - lat1\n",
    "    dlon = lon2 - lon1\n",
    "    a = sin(dlat / 2) ** 2 + cos(lat1) * cos(lat2) * sin(dlon / 2) ** 2\n",
    "    return 6371 * 2 * atan2(sqrt(a), sqrt(1 - a))  # Earth radius = 6371 km\n",
    "\n",
    "\n",
    "def calculate_distance_matrix(df_warehouses, df_customers):\n",
    "    \"\"\"\n",
    "    Returns a DataFrame where rows = warehouses, columns = customers,\n",
    "    and values = distances in km.\n",
    "    \"\"\"\n",
    "    df_warehouses[\"id\"] = df_warehouses.index\n",
    "    df_customers[\"id\"] = df_customers.index  # 2 customers can have the same name\n",
    "    distance_matrix = pd.DataFrame(\n",
    "        index=df_warehouses[\"id\"],\n",
    "        columns=df_customers[\"id\"],\n",
    "        data=[\n",
    "            [\n",
    "                haversine(\n",
    "                    wh_row[\"latitude\"],\n",
    "                    wh_row[\"longitude\"],\n",
    "                    cust_row[\"latitude\"],\n",
    "                    cust_row[\"longitude\"],\n",
    "                )\n",
    "                for _, cust_row in df_customers.iterrows()\n",
    "            ]\n",
    "            for _, wh_row in df_warehouses.iterrows()\n",
    "        ],\n",
    "    )\n",
    "    return distance_matrix"
   ]
  },
  {
   "cell_type": "markdown",
   "id": "adfa6013",
   "metadata": {},
   "source": [
    "We calculate the distance matrix before we can start looking for optimum solutions:"
   ]
  },
  {
   "cell_type": "code",
   "execution_count": 7,
   "id": "97c03489",
   "metadata": {},
   "outputs": [
    {
     "data": {
      "text/html": [
       "<div>\n",
       "<style scoped>\n",
       "    .dataframe tbody tr th:only-of-type {\n",
       "        vertical-align: middle;\n",
       "    }\n",
       "\n",
       "    .dataframe tbody tr th {\n",
       "        vertical-align: top;\n",
       "    }\n",
       "\n",
       "    .dataframe thead th {\n",
       "        text-align: right;\n",
       "    }\n",
       "</style>\n",
       "<table border=\"1\" class=\"dataframe\">\n",
       "  <thead>\n",
       "    <tr style=\"text-align: right;\">\n",
       "      <th>id</th>\n",
       "      <th>0</th>\n",
       "      <th>1</th>\n",
       "      <th>2</th>\n",
       "      <th>3</th>\n",
       "      <th>4</th>\n",
       "      <th>5</th>\n",
       "      <th>6</th>\n",
       "      <th>7</th>\n",
       "      <th>8</th>\n",
       "      <th>9</th>\n",
       "      <th>...</th>\n",
       "      <th>84</th>\n",
       "      <th>85</th>\n",
       "      <th>86</th>\n",
       "      <th>87</th>\n",
       "      <th>88</th>\n",
       "      <th>89</th>\n",
       "      <th>90</th>\n",
       "      <th>91</th>\n",
       "      <th>92</th>\n",
       "      <th>93</th>\n",
       "    </tr>\n",
       "    <tr>\n",
       "      <th>id</th>\n",
       "      <th></th>\n",
       "      <th></th>\n",
       "      <th></th>\n",
       "      <th></th>\n",
       "      <th></th>\n",
       "      <th></th>\n",
       "      <th></th>\n",
       "      <th></th>\n",
       "      <th></th>\n",
       "      <th></th>\n",
       "      <th></th>\n",
       "      <th></th>\n",
       "      <th></th>\n",
       "      <th></th>\n",
       "      <th></th>\n",
       "      <th></th>\n",
       "      <th></th>\n",
       "      <th></th>\n",
       "      <th></th>\n",
       "      <th></th>\n",
       "      <th></th>\n",
       "    </tr>\n",
       "  </thead>\n",
       "  <tbody>\n",
       "    <tr>\n",
       "      <th>0</th>\n",
       "      <td>1133.680545</td>\n",
       "      <td>212.425946</td>\n",
       "      <td>686.999790</td>\n",
       "      <td>1059.075333</td>\n",
       "      <td>1063.519727</td>\n",
       "      <td>1267.460200</td>\n",
       "      <td>1103.052740</td>\n",
       "      <td>1043.796088</td>\n",
       "      <td>943.927554</td>\n",
       "      <td>1228.663320</td>\n",
       "      <td>...</td>\n",
       "      <td>1000.127611</td>\n",
       "      <td>640.936111</td>\n",
       "      <td>963.616740</td>\n",
       "      <td>1605.368973</td>\n",
       "      <td>76.028457</td>\n",
       "      <td>1445.455733</td>\n",
       "      <td>1190.810487</td>\n",
       "      <td>1170.891189</td>\n",
       "      <td>334.176109</td>\n",
       "      <td>1853.755348</td>\n",
       "    </tr>\n",
       "    <tr>\n",
       "      <th>1</th>\n",
       "      <td>662.750903</td>\n",
       "      <td>763.822384</td>\n",
       "      <td>135.638112</td>\n",
       "      <td>576.527536</td>\n",
       "      <td>588.622024</td>\n",
       "      <td>919.697018</td>\n",
       "      <td>626.456539</td>\n",
       "      <td>469.959903</td>\n",
       "      <td>484.450810</td>\n",
       "      <td>693.945204</td>\n",
       "      <td>...</td>\n",
       "      <td>539.522261</td>\n",
       "      <td>1214.606183</td>\n",
       "      <td>399.604662</td>\n",
       "      <td>1341.010853</td>\n",
       "      <td>500.398582</td>\n",
       "      <td>910.398219</td>\n",
       "      <td>684.917781</td>\n",
       "      <td>597.717260</td>\n",
       "      <td>890.134474</td>\n",
       "      <td>1284.051350</td>\n",
       "    </tr>\n",
       "    <tr>\n",
       "      <th>2</th>\n",
       "      <td>884.284892</td>\n",
       "      <td>1631.856436</td>\n",
       "      <td>816.705892</td>\n",
       "      <td>843.366419</td>\n",
       "      <td>439.491997</td>\n",
       "      <td>1236.337138</td>\n",
       "      <td>863.853444</td>\n",
       "      <td>445.383629</td>\n",
       "      <td>888.139034</td>\n",
       "      <td>212.784740</td>\n",
       "      <td>...</td>\n",
       "      <td>500.923398</td>\n",
       "      <td>2066.252463</td>\n",
       "      <td>480.132966</td>\n",
       "      <td>1650.995871</td>\n",
       "      <td>1360.026810</td>\n",
       "      <td>100.208522</td>\n",
       "      <td>790.597740</td>\n",
       "      <td>442.457978</td>\n",
       "      <td>1707.397731</td>\n",
       "      <td>687.247254</td>\n",
       "    </tr>\n",
       "    <tr>\n",
       "      <th>3</th>\n",
       "      <td>586.733774</td>\n",
       "      <td>1681.584685</td>\n",
       "      <td>1098.987626</td>\n",
       "      <td>671.516874</td>\n",
       "      <td>1495.623047</td>\n",
       "      <td>338.481912</td>\n",
       "      <td>623.277688</td>\n",
       "      <td>1095.866171</td>\n",
       "      <td>742.725109</td>\n",
       "      <td>1374.123197</td>\n",
       "      <td>...</td>\n",
       "      <td>1499.571049</td>\n",
       "      <td>2101.937946</td>\n",
       "      <td>1188.625170</td>\n",
       "      <td>350.303884</td>\n",
       "      <td>1539.436611</td>\n",
       "      <td>1461.512618</td>\n",
       "      <td>625.047573</td>\n",
       "      <td>974.624278</td>\n",
       "      <td>1927.934603</td>\n",
       "      <td>1031.546026</td>\n",
       "    </tr>\n",
       "    <tr>\n",
       "      <th>4</th>\n",
       "      <td>1635.988679</td>\n",
       "      <td>452.788205</td>\n",
       "      <td>1163.655618</td>\n",
       "      <td>1559.517778</td>\n",
       "      <td>1406.431571</td>\n",
       "      <td>1767.038521</td>\n",
       "      <td>1604.569644</td>\n",
       "      <td>1487.278541</td>\n",
       "      <td>1445.727350</td>\n",
       "      <td>1609.676796</td>\n",
       "      <td>...</td>\n",
       "      <td>1340.248123</td>\n",
       "      <td>387.738898</td>\n",
       "      <td>1391.169280</td>\n",
       "      <td>2083.830908</td>\n",
       "      <td>576.047358</td>\n",
       "      <td>1816.344916</td>\n",
       "      <td>1688.621835</td>\n",
       "      <td>1630.694647</td>\n",
       "      <td>179.344859</td>\n",
       "      <td>2318.581372</td>\n",
       "    </tr>\n",
       "  </tbody>\n",
       "</table>\n",
       "<p>5 rows × 94 columns</p>\n",
       "</div>"
      ],
      "text/plain": [
       "id           0            1            2            3            4   \\\n",
       "id                                                                    \n",
       "0   1133.680545   212.425946   686.999790  1059.075333  1063.519727   \n",
       "1    662.750903   763.822384   135.638112   576.527536   588.622024   \n",
       "2    884.284892  1631.856436   816.705892   843.366419   439.491997   \n",
       "3    586.733774  1681.584685  1098.987626   671.516874  1495.623047   \n",
       "4   1635.988679   452.788205  1163.655618  1559.517778  1406.431571   \n",
       "\n",
       "id           5            6            7            8            9   ...  \\\n",
       "id                                                                   ...   \n",
       "0   1267.460200  1103.052740  1043.796088   943.927554  1228.663320  ...   \n",
       "1    919.697018   626.456539   469.959903   484.450810   693.945204  ...   \n",
       "2   1236.337138   863.853444   445.383629   888.139034   212.784740  ...   \n",
       "3    338.481912   623.277688  1095.866171   742.725109  1374.123197  ...   \n",
       "4   1767.038521  1604.569644  1487.278541  1445.727350  1609.676796  ...   \n",
       "\n",
       "id           84           85           86           87           88  \\\n",
       "id                                                                    \n",
       "0   1000.127611   640.936111   963.616740  1605.368973    76.028457   \n",
       "1    539.522261  1214.606183   399.604662  1341.010853   500.398582   \n",
       "2    500.923398  2066.252463   480.132966  1650.995871  1360.026810   \n",
       "3   1499.571049  2101.937946  1188.625170   350.303884  1539.436611   \n",
       "4   1340.248123   387.738898  1391.169280  2083.830908   576.047358   \n",
       "\n",
       "id           89           90           91           92           93  \n",
       "id                                                                   \n",
       "0   1445.455733  1190.810487  1170.891189   334.176109  1853.755348  \n",
       "1    910.398219   684.917781   597.717260   890.134474  1284.051350  \n",
       "2    100.208522   790.597740   442.457978  1707.397731   687.247254  \n",
       "3   1461.512618   625.047573   974.624278  1927.934603  1031.546026  \n",
       "4   1816.344916  1688.621835  1630.694647   179.344859  2318.581372  \n",
       "\n",
       "[5 rows x 94 columns]"
      ]
     },
     "execution_count": 7,
     "metadata": {},
     "output_type": "execute_result"
    }
   ],
   "source": [
    "df_matrix = calculate_distance_matrix(df_warehouses, df_customers)\n",
    "df_matrix.head()"
   ]
  },
  {
   "cell_type": "markdown",
   "id": "659cd419",
   "metadata": {},
   "source": [
    "## Optimization Time 🧮: Selecting the Best Warehouses\n",
    "\n",
    "Now that we have our data and distance matrix ready, it's time to solve the actual optimization problem using PuLP.\n",
    "\n",
    "Our objective is to minimize either the total cost or the CO₂ emissions of serving all customers from a subset of warehouses. We will:\n",
    "\n",
    "1. Create an optimization model using PuLP\n",
    "2. Define decision variables, the objective function, and constraints\n",
    "3. Extract the optimal solution and present it as user-friendly data\n",
    "\n",
    "To keep things clean and modular, we’ll break the process into smaller, well-defined functions before combining them in the main create_pulp_model function.\n",
    "\n",
    "### Steps: \n",
    "\n",
    "1. Problem Initialization: return the `pulp.LpProblem()` object, setting the optimization goal. in our case, it's minimization (we want to minimie cost)\n",
    "2. Defining Decision Variables. These variables represent:\n",
    "    * Whether each warehouse is selected\n",
    "    * Which warehouse each customer is assigned to\n",
    "3. Setting the objective function: This function sets the optimization goal — minimize total cost or total CO₂.\n",
    "4. Adding Constraints: These constraints make sure that:\n",
    "    * Every customer is served\n",
    "    * Only open warehouses serve customers\n",
    "    * We respect the warehouse number and geographical rules\n",
    "5. Running the optimization function --> This step happens in the main `create_pulp_model` function\n",
    "6. Extract the results into pandas DataFrames\n",
    "\n",
    "\n",
    "### Step 1 — Initialize the Optimization Problem\n",
    "\n",
    "Before we can add variables, objectives, or constraints, we need to define our optimization problem.\n",
    "\n",
    "We’ll create a minimization problem, which tells PuLP that our goal is to minimize something — in our case, total cost or total CO₂ emissions."
   ]
  },
  {
   "cell_type": "code",
   "execution_count": 8,
   "id": "08f4ad3c",
   "metadata": {},
   "outputs": [],
   "source": [
    "def initialize_problem():\n",
    "    \"\"\"\n",
    "    Initialize a PuLP minimization problem.\n",
    "    \"\"\"\n",
    "    return pulp.LpProblem(\"Warehouse_Selection\", pulp.LpMinimize)"
   ]
  },
  {
   "cell_type": "markdown",
   "id": "49d35ce6",
   "metadata": {},
   "source": [
    "### Step 2: Define Decision Variables\n",
    "Now that we have an optimization problem initialized, we need to define what decisions the solver can make.\n",
    "\n",
    "We define two sets of binary decision variables:\n",
    "\n",
    "* `warehouse_var[w]`:\n",
    "Equals 1 if warehouse w is opened, 0 otherwise.\n",
    "\n",
    "* `assignment_var[(w, c)]`:\n",
    "Equals 1 if customer c is assigned to warehouse w, 0 otherwise.\n",
    "\n",
    "These are created using `pulp.LpVariable.dicts`, which lets us create many variables at once in a dictionary-like structure."
   ]
  },
  {
   "cell_type": "code",
   "execution_count": 9,
   "id": "34e5e12e",
   "metadata": {},
   "outputs": [],
   "source": [
    "def define_variables(df_warehouses, df_customers):\n",
    "    \"\"\"\n",
    "    Creates binary decision variables for warehouse selection and customer assignment.\n",
    "    \"\"\"\n",
    "    warehouses = df_warehouses.index.tolist()\n",
    "    customers = df_customers.index.tolist()\n",
    "\n",
    "    warehouse_var = pulp.LpVariable.dicts(\"Warehouse\", warehouses, cat=\"Binary\")\n",
    "    assignment_var = pulp.LpVariable.dicts(\n",
    "        \"Assignment\", [(w, c) for w in warehouses for c in customers], cat=\"Binary\"\n",
    "    )\n",
    "    return warehouse_var, assignment_var"
   ]
  },
  {
   "cell_type": "markdown",
   "id": "a6b3b160",
   "metadata": {},
   "source": [
    "--> **What does `LpVariable.dicts` do?**\n",
    "It creates a dictionary of variables.\n",
    "\n",
    "`cat=\"Binary\"` tells PuLP these variables can only take values 0 or 1 (typical for yes/no decisions in optimization).\n",
    "\n",
    "You can access a variable like `warehouse_var[2]` or `assignment_var[(1, 5)]`. \n",
    "\n",
    "**For example:**"
   ]
  },
  {
   "cell_type": "code",
   "execution_count": 10,
   "id": "6f479da3",
   "metadata": {},
   "outputs": [
    {
     "data": {
      "text/plain": [
       "({0: Warehouse_0,\n",
       "  1: Warehouse_1,\n",
       "  2: Warehouse_2,\n",
       "  3: Warehouse_3,\n",
       "  4: Warehouse_4,\n",
       "  5: Warehouse_5,\n",
       "  6: Warehouse_6,\n",
       "  7: Warehouse_7,\n",
       "  8: Warehouse_8,\n",
       "  9: Warehouse_9,\n",
       "  10: Warehouse_10,\n",
       "  11: Warehouse_11,\n",
       "  12: Warehouse_12,\n",
       "  13: Warehouse_13,\n",
       "  14: Warehouse_14,\n",
       "  15: Warehouse_15,\n",
       "  16: Warehouse_16,\n",
       "  17: Warehouse_17,\n",
       "  18: Warehouse_18,\n",
       "  19: Warehouse_19},\n",
       " {(0, 0): Assignment_(0,_0),\n",
       "  (0, 1): Assignment_(0,_1),\n",
       "  (0, 2): Assignment_(0,_2),\n",
       "  (0, 3): Assignment_(0,_3),\n",
       "  (0, 4): Assignment_(0,_4),\n",
       "  (0, 5): Assignment_(0,_5),\n",
       "  (0, 6): Assignment_(0,_6),\n",
       "  (0, 7): Assignment_(0,_7),\n",
       "  (0, 8): Assignment_(0,_8),\n",
       "  (0, 9): Assignment_(0,_9),\n",
       "  (0, 10): Assignment_(0,_10),\n",
       "  (0, 11): Assignment_(0,_11),\n",
       "  (0, 12): Assignment_(0,_12),\n",
       "  (0, 13): Assignment_(0,_13),\n",
       "  (0, 14): Assignment_(0,_14),\n",
       "  (0, 15): Assignment_(0,_15),\n",
       "  (0, 16): Assignment_(0,_16),\n",
       "  (0, 17): Assignment_(0,_17),\n",
       "  (0, 18): Assignment_(0,_18),\n",
       "  (0, 19): Assignment_(0,_19),\n",
       "  (0, 20): Assignment_(0,_20),\n",
       "  (0, 21): Assignment_(0,_21),\n",
       "  (0, 22): Assignment_(0,_22),\n",
       "  (0, 23): Assignment_(0,_23),\n",
       "  (0, 24): Assignment_(0,_24),\n",
       "  (0, 25): Assignment_(0,_25),\n",
       "  (0, 26): Assignment_(0,_26),\n",
       "  (0, 27): Assignment_(0,_27),\n",
       "  (0, 28): Assignment_(0,_28),\n",
       "  (0, 29): Assignment_(0,_29),\n",
       "  (0, 30): Assignment_(0,_30),\n",
       "  (0, 31): Assignment_(0,_31),\n",
       "  (0, 32): Assignment_(0,_32),\n",
       "  (0, 33): Assignment_(0,_33),\n",
       "  (0, 34): Assignment_(0,_34),\n",
       "  (0, 35): Assignment_(0,_35),\n",
       "  (0, 36): Assignment_(0,_36),\n",
       "  (0, 37): Assignment_(0,_37),\n",
       "  (0, 38): Assignment_(0,_38),\n",
       "  (0, 39): Assignment_(0,_39),\n",
       "  (0, 40): Assignment_(0,_40),\n",
       "  (0, 41): Assignment_(0,_41),\n",
       "  (0, 42): Assignment_(0,_42),\n",
       "  (0, 43): Assignment_(0,_43),\n",
       "  (0, 44): Assignment_(0,_44),\n",
       "  (0, 45): Assignment_(0,_45),\n",
       "  (0, 46): Assignment_(0,_46),\n",
       "  (0, 47): Assignment_(0,_47),\n",
       "  (0, 48): Assignment_(0,_48),\n",
       "  (0, 49): Assignment_(0,_49),\n",
       "  (0, 50): Assignment_(0,_50),\n",
       "  (0, 51): Assignment_(0,_51),\n",
       "  (0, 52): Assignment_(0,_52),\n",
       "  (0, 53): Assignment_(0,_53),\n",
       "  (0, 54): Assignment_(0,_54),\n",
       "  (0, 55): Assignment_(0,_55),\n",
       "  (0, 56): Assignment_(0,_56),\n",
       "  (0, 57): Assignment_(0,_57),\n",
       "  (0, 58): Assignment_(0,_58),\n",
       "  (0, 59): Assignment_(0,_59),\n",
       "  (0, 60): Assignment_(0,_60),\n",
       "  (0, 61): Assignment_(0,_61),\n",
       "  (0, 62): Assignment_(0,_62),\n",
       "  (0, 63): Assignment_(0,_63),\n",
       "  (0, 64): Assignment_(0,_64),\n",
       "  (0, 65): Assignment_(0,_65),\n",
       "  (0, 66): Assignment_(0,_66),\n",
       "  (0, 67): Assignment_(0,_67),\n",
       "  (0, 68): Assignment_(0,_68),\n",
       "  (0, 69): Assignment_(0,_69),\n",
       "  (0, 70): Assignment_(0,_70),\n",
       "  (0, 71): Assignment_(0,_71),\n",
       "  (0, 72): Assignment_(0,_72),\n",
       "  (0, 73): Assignment_(0,_73),\n",
       "  (0, 74): Assignment_(0,_74),\n",
       "  (0, 75): Assignment_(0,_75),\n",
       "  (0, 76): Assignment_(0,_76),\n",
       "  (0, 77): Assignment_(0,_77),\n",
       "  (0, 78): Assignment_(0,_78),\n",
       "  (0, 79): Assignment_(0,_79),\n",
       "  (0, 80): Assignment_(0,_80),\n",
       "  (0, 81): Assignment_(0,_81),\n",
       "  (0, 82): Assignment_(0,_82),\n",
       "  (0, 83): Assignment_(0,_83),\n",
       "  (0, 84): Assignment_(0,_84),\n",
       "  (0, 85): Assignment_(0,_85),\n",
       "  (0, 86): Assignment_(0,_86),\n",
       "  (0, 87): Assignment_(0,_87),\n",
       "  (0, 88): Assignment_(0,_88),\n",
       "  (0, 89): Assignment_(0,_89),\n",
       "  (0, 90): Assignment_(0,_90),\n",
       "  (0, 91): Assignment_(0,_91),\n",
       "  (0, 92): Assignment_(0,_92),\n",
       "  (0, 93): Assignment_(0,_93),\n",
       "  (1, 0): Assignment_(1,_0),\n",
       "  (1, 1): Assignment_(1,_1),\n",
       "  (1, 2): Assignment_(1,_2),\n",
       "  (1, 3): Assignment_(1,_3),\n",
       "  (1, 4): Assignment_(1,_4),\n",
       "  (1, 5): Assignment_(1,_5),\n",
       "  (1, 6): Assignment_(1,_6),\n",
       "  (1, 7): Assignment_(1,_7),\n",
       "  (1, 8): Assignment_(1,_8),\n",
       "  (1, 9): Assignment_(1,_9),\n",
       "  (1, 10): Assignment_(1,_10),\n",
       "  (1, 11): Assignment_(1,_11),\n",
       "  (1, 12): Assignment_(1,_12),\n",
       "  (1, 13): Assignment_(1,_13),\n",
       "  (1, 14): Assignment_(1,_14),\n",
       "  (1, 15): Assignment_(1,_15),\n",
       "  (1, 16): Assignment_(1,_16),\n",
       "  (1, 17): Assignment_(1,_17),\n",
       "  (1, 18): Assignment_(1,_18),\n",
       "  (1, 19): Assignment_(1,_19),\n",
       "  (1, 20): Assignment_(1,_20),\n",
       "  (1, 21): Assignment_(1,_21),\n",
       "  (1, 22): Assignment_(1,_22),\n",
       "  (1, 23): Assignment_(1,_23),\n",
       "  (1, 24): Assignment_(1,_24),\n",
       "  (1, 25): Assignment_(1,_25),\n",
       "  (1, 26): Assignment_(1,_26),\n",
       "  (1, 27): Assignment_(1,_27),\n",
       "  (1, 28): Assignment_(1,_28),\n",
       "  (1, 29): Assignment_(1,_29),\n",
       "  (1, 30): Assignment_(1,_30),\n",
       "  (1, 31): Assignment_(1,_31),\n",
       "  (1, 32): Assignment_(1,_32),\n",
       "  (1, 33): Assignment_(1,_33),\n",
       "  (1, 34): Assignment_(1,_34),\n",
       "  (1, 35): Assignment_(1,_35),\n",
       "  (1, 36): Assignment_(1,_36),\n",
       "  (1, 37): Assignment_(1,_37),\n",
       "  (1, 38): Assignment_(1,_38),\n",
       "  (1, 39): Assignment_(1,_39),\n",
       "  (1, 40): Assignment_(1,_40),\n",
       "  (1, 41): Assignment_(1,_41),\n",
       "  (1, 42): Assignment_(1,_42),\n",
       "  (1, 43): Assignment_(1,_43),\n",
       "  (1, 44): Assignment_(1,_44),\n",
       "  (1, 45): Assignment_(1,_45),\n",
       "  (1, 46): Assignment_(1,_46),\n",
       "  (1, 47): Assignment_(1,_47),\n",
       "  (1, 48): Assignment_(1,_48),\n",
       "  (1, 49): Assignment_(1,_49),\n",
       "  (1, 50): Assignment_(1,_50),\n",
       "  (1, 51): Assignment_(1,_51),\n",
       "  (1, 52): Assignment_(1,_52),\n",
       "  (1, 53): Assignment_(1,_53),\n",
       "  (1, 54): Assignment_(1,_54),\n",
       "  (1, 55): Assignment_(1,_55),\n",
       "  (1, 56): Assignment_(1,_56),\n",
       "  (1, 57): Assignment_(1,_57),\n",
       "  (1, 58): Assignment_(1,_58),\n",
       "  (1, 59): Assignment_(1,_59),\n",
       "  (1, 60): Assignment_(1,_60),\n",
       "  (1, 61): Assignment_(1,_61),\n",
       "  (1, 62): Assignment_(1,_62),\n",
       "  (1, 63): Assignment_(1,_63),\n",
       "  (1, 64): Assignment_(1,_64),\n",
       "  (1, 65): Assignment_(1,_65),\n",
       "  (1, 66): Assignment_(1,_66),\n",
       "  (1, 67): Assignment_(1,_67),\n",
       "  (1, 68): Assignment_(1,_68),\n",
       "  (1, 69): Assignment_(1,_69),\n",
       "  (1, 70): Assignment_(1,_70),\n",
       "  (1, 71): Assignment_(1,_71),\n",
       "  (1, 72): Assignment_(1,_72),\n",
       "  (1, 73): Assignment_(1,_73),\n",
       "  (1, 74): Assignment_(1,_74),\n",
       "  (1, 75): Assignment_(1,_75),\n",
       "  (1, 76): Assignment_(1,_76),\n",
       "  (1, 77): Assignment_(1,_77),\n",
       "  (1, 78): Assignment_(1,_78),\n",
       "  (1, 79): Assignment_(1,_79),\n",
       "  (1, 80): Assignment_(1,_80),\n",
       "  (1, 81): Assignment_(1,_81),\n",
       "  (1, 82): Assignment_(1,_82),\n",
       "  (1, 83): Assignment_(1,_83),\n",
       "  (1, 84): Assignment_(1,_84),\n",
       "  (1, 85): Assignment_(1,_85),\n",
       "  (1, 86): Assignment_(1,_86),\n",
       "  (1, 87): Assignment_(1,_87),\n",
       "  (1, 88): Assignment_(1,_88),\n",
       "  (1, 89): Assignment_(1,_89),\n",
       "  (1, 90): Assignment_(1,_90),\n",
       "  (1, 91): Assignment_(1,_91),\n",
       "  (1, 92): Assignment_(1,_92),\n",
       "  (1, 93): Assignment_(1,_93),\n",
       "  (2, 0): Assignment_(2,_0),\n",
       "  (2, 1): Assignment_(2,_1),\n",
       "  (2, 2): Assignment_(2,_2),\n",
       "  (2, 3): Assignment_(2,_3),\n",
       "  (2, 4): Assignment_(2,_4),\n",
       "  (2, 5): Assignment_(2,_5),\n",
       "  (2, 6): Assignment_(2,_6),\n",
       "  (2, 7): Assignment_(2,_7),\n",
       "  (2, 8): Assignment_(2,_8),\n",
       "  (2, 9): Assignment_(2,_9),\n",
       "  (2, 10): Assignment_(2,_10),\n",
       "  (2, 11): Assignment_(2,_11),\n",
       "  (2, 12): Assignment_(2,_12),\n",
       "  (2, 13): Assignment_(2,_13),\n",
       "  (2, 14): Assignment_(2,_14),\n",
       "  (2, 15): Assignment_(2,_15),\n",
       "  (2, 16): Assignment_(2,_16),\n",
       "  (2, 17): Assignment_(2,_17),\n",
       "  (2, 18): Assignment_(2,_18),\n",
       "  (2, 19): Assignment_(2,_19),\n",
       "  (2, 20): Assignment_(2,_20),\n",
       "  (2, 21): Assignment_(2,_21),\n",
       "  (2, 22): Assignment_(2,_22),\n",
       "  (2, 23): Assignment_(2,_23),\n",
       "  (2, 24): Assignment_(2,_24),\n",
       "  (2, 25): Assignment_(2,_25),\n",
       "  (2, 26): Assignment_(2,_26),\n",
       "  (2, 27): Assignment_(2,_27),\n",
       "  (2, 28): Assignment_(2,_28),\n",
       "  (2, 29): Assignment_(2,_29),\n",
       "  (2, 30): Assignment_(2,_30),\n",
       "  (2, 31): Assignment_(2,_31),\n",
       "  (2, 32): Assignment_(2,_32),\n",
       "  (2, 33): Assignment_(2,_33),\n",
       "  (2, 34): Assignment_(2,_34),\n",
       "  (2, 35): Assignment_(2,_35),\n",
       "  (2, 36): Assignment_(2,_36),\n",
       "  (2, 37): Assignment_(2,_37),\n",
       "  (2, 38): Assignment_(2,_38),\n",
       "  (2, 39): Assignment_(2,_39),\n",
       "  (2, 40): Assignment_(2,_40),\n",
       "  (2, 41): Assignment_(2,_41),\n",
       "  (2, 42): Assignment_(2,_42),\n",
       "  (2, 43): Assignment_(2,_43),\n",
       "  (2, 44): Assignment_(2,_44),\n",
       "  (2, 45): Assignment_(2,_45),\n",
       "  (2, 46): Assignment_(2,_46),\n",
       "  (2, 47): Assignment_(2,_47),\n",
       "  (2, 48): Assignment_(2,_48),\n",
       "  (2, 49): Assignment_(2,_49),\n",
       "  (2, 50): Assignment_(2,_50),\n",
       "  (2, 51): Assignment_(2,_51),\n",
       "  (2, 52): Assignment_(2,_52),\n",
       "  (2, 53): Assignment_(2,_53),\n",
       "  (2, 54): Assignment_(2,_54),\n",
       "  (2, 55): Assignment_(2,_55),\n",
       "  (2, 56): Assignment_(2,_56),\n",
       "  (2, 57): Assignment_(2,_57),\n",
       "  (2, 58): Assignment_(2,_58),\n",
       "  (2, 59): Assignment_(2,_59),\n",
       "  (2, 60): Assignment_(2,_60),\n",
       "  (2, 61): Assignment_(2,_61),\n",
       "  (2, 62): Assignment_(2,_62),\n",
       "  (2, 63): Assignment_(2,_63),\n",
       "  (2, 64): Assignment_(2,_64),\n",
       "  (2, 65): Assignment_(2,_65),\n",
       "  (2, 66): Assignment_(2,_66),\n",
       "  (2, 67): Assignment_(2,_67),\n",
       "  (2, 68): Assignment_(2,_68),\n",
       "  (2, 69): Assignment_(2,_69),\n",
       "  (2, 70): Assignment_(2,_70),\n",
       "  (2, 71): Assignment_(2,_71),\n",
       "  (2, 72): Assignment_(2,_72),\n",
       "  (2, 73): Assignment_(2,_73),\n",
       "  (2, 74): Assignment_(2,_74),\n",
       "  (2, 75): Assignment_(2,_75),\n",
       "  (2, 76): Assignment_(2,_76),\n",
       "  (2, 77): Assignment_(2,_77),\n",
       "  (2, 78): Assignment_(2,_78),\n",
       "  (2, 79): Assignment_(2,_79),\n",
       "  (2, 80): Assignment_(2,_80),\n",
       "  (2, 81): Assignment_(2,_81),\n",
       "  (2, 82): Assignment_(2,_82),\n",
       "  (2, 83): Assignment_(2,_83),\n",
       "  (2, 84): Assignment_(2,_84),\n",
       "  (2, 85): Assignment_(2,_85),\n",
       "  (2, 86): Assignment_(2,_86),\n",
       "  (2, 87): Assignment_(2,_87),\n",
       "  (2, 88): Assignment_(2,_88),\n",
       "  (2, 89): Assignment_(2,_89),\n",
       "  (2, 90): Assignment_(2,_90),\n",
       "  (2, 91): Assignment_(2,_91),\n",
       "  (2, 92): Assignment_(2,_92),\n",
       "  (2, 93): Assignment_(2,_93),\n",
       "  (3, 0): Assignment_(3,_0),\n",
       "  (3, 1): Assignment_(3,_1),\n",
       "  (3, 2): Assignment_(3,_2),\n",
       "  (3, 3): Assignment_(3,_3),\n",
       "  (3, 4): Assignment_(3,_4),\n",
       "  (3, 5): Assignment_(3,_5),\n",
       "  (3, 6): Assignment_(3,_6),\n",
       "  (3, 7): Assignment_(3,_7),\n",
       "  (3, 8): Assignment_(3,_8),\n",
       "  (3, 9): Assignment_(3,_9),\n",
       "  (3, 10): Assignment_(3,_10),\n",
       "  (3, 11): Assignment_(3,_11),\n",
       "  (3, 12): Assignment_(3,_12),\n",
       "  (3, 13): Assignment_(3,_13),\n",
       "  (3, 14): Assignment_(3,_14),\n",
       "  (3, 15): Assignment_(3,_15),\n",
       "  (3, 16): Assignment_(3,_16),\n",
       "  (3, 17): Assignment_(3,_17),\n",
       "  (3, 18): Assignment_(3,_18),\n",
       "  (3, 19): Assignment_(3,_19),\n",
       "  (3, 20): Assignment_(3,_20),\n",
       "  (3, 21): Assignment_(3,_21),\n",
       "  (3, 22): Assignment_(3,_22),\n",
       "  (3, 23): Assignment_(3,_23),\n",
       "  (3, 24): Assignment_(3,_24),\n",
       "  (3, 25): Assignment_(3,_25),\n",
       "  (3, 26): Assignment_(3,_26),\n",
       "  (3, 27): Assignment_(3,_27),\n",
       "  (3, 28): Assignment_(3,_28),\n",
       "  (3, 29): Assignment_(3,_29),\n",
       "  (3, 30): Assignment_(3,_30),\n",
       "  (3, 31): Assignment_(3,_31),\n",
       "  (3, 32): Assignment_(3,_32),\n",
       "  (3, 33): Assignment_(3,_33),\n",
       "  (3, 34): Assignment_(3,_34),\n",
       "  (3, 35): Assignment_(3,_35),\n",
       "  (3, 36): Assignment_(3,_36),\n",
       "  (3, 37): Assignment_(3,_37),\n",
       "  (3, 38): Assignment_(3,_38),\n",
       "  (3, 39): Assignment_(3,_39),\n",
       "  (3, 40): Assignment_(3,_40),\n",
       "  (3, 41): Assignment_(3,_41),\n",
       "  (3, 42): Assignment_(3,_42),\n",
       "  (3, 43): Assignment_(3,_43),\n",
       "  (3, 44): Assignment_(3,_44),\n",
       "  (3, 45): Assignment_(3,_45),\n",
       "  (3, 46): Assignment_(3,_46),\n",
       "  (3, 47): Assignment_(3,_47),\n",
       "  (3, 48): Assignment_(3,_48),\n",
       "  (3, 49): Assignment_(3,_49),\n",
       "  (3, 50): Assignment_(3,_50),\n",
       "  (3, 51): Assignment_(3,_51),\n",
       "  (3, 52): Assignment_(3,_52),\n",
       "  (3, 53): Assignment_(3,_53),\n",
       "  (3, 54): Assignment_(3,_54),\n",
       "  (3, 55): Assignment_(3,_55),\n",
       "  (3, 56): Assignment_(3,_56),\n",
       "  (3, 57): Assignment_(3,_57),\n",
       "  (3, 58): Assignment_(3,_58),\n",
       "  (3, 59): Assignment_(3,_59),\n",
       "  (3, 60): Assignment_(3,_60),\n",
       "  (3, 61): Assignment_(3,_61),\n",
       "  (3, 62): Assignment_(3,_62),\n",
       "  (3, 63): Assignment_(3,_63),\n",
       "  (3, 64): Assignment_(3,_64),\n",
       "  (3, 65): Assignment_(3,_65),\n",
       "  (3, 66): Assignment_(3,_66),\n",
       "  (3, 67): Assignment_(3,_67),\n",
       "  (3, 68): Assignment_(3,_68),\n",
       "  (3, 69): Assignment_(3,_69),\n",
       "  (3, 70): Assignment_(3,_70),\n",
       "  (3, 71): Assignment_(3,_71),\n",
       "  (3, 72): Assignment_(3,_72),\n",
       "  (3, 73): Assignment_(3,_73),\n",
       "  (3, 74): Assignment_(3,_74),\n",
       "  (3, 75): Assignment_(3,_75),\n",
       "  (3, 76): Assignment_(3,_76),\n",
       "  (3, 77): Assignment_(3,_77),\n",
       "  (3, 78): Assignment_(3,_78),\n",
       "  (3, 79): Assignment_(3,_79),\n",
       "  (3, 80): Assignment_(3,_80),\n",
       "  (3, 81): Assignment_(3,_81),\n",
       "  (3, 82): Assignment_(3,_82),\n",
       "  (3, 83): Assignment_(3,_83),\n",
       "  (3, 84): Assignment_(3,_84),\n",
       "  (3, 85): Assignment_(3,_85),\n",
       "  (3, 86): Assignment_(3,_86),\n",
       "  (3, 87): Assignment_(3,_87),\n",
       "  (3, 88): Assignment_(3,_88),\n",
       "  (3, 89): Assignment_(3,_89),\n",
       "  (3, 90): Assignment_(3,_90),\n",
       "  (3, 91): Assignment_(3,_91),\n",
       "  (3, 92): Assignment_(3,_92),\n",
       "  (3, 93): Assignment_(3,_93),\n",
       "  (4, 0): Assignment_(4,_0),\n",
       "  (4, 1): Assignment_(4,_1),\n",
       "  (4, 2): Assignment_(4,_2),\n",
       "  (4, 3): Assignment_(4,_3),\n",
       "  (4, 4): Assignment_(4,_4),\n",
       "  (4, 5): Assignment_(4,_5),\n",
       "  (4, 6): Assignment_(4,_6),\n",
       "  (4, 7): Assignment_(4,_7),\n",
       "  (4, 8): Assignment_(4,_8),\n",
       "  (4, 9): Assignment_(4,_9),\n",
       "  (4, 10): Assignment_(4,_10),\n",
       "  (4, 11): Assignment_(4,_11),\n",
       "  (4, 12): Assignment_(4,_12),\n",
       "  (4, 13): Assignment_(4,_13),\n",
       "  (4, 14): Assignment_(4,_14),\n",
       "  (4, 15): Assignment_(4,_15),\n",
       "  (4, 16): Assignment_(4,_16),\n",
       "  (4, 17): Assignment_(4,_17),\n",
       "  (4, 18): Assignment_(4,_18),\n",
       "  (4, 19): Assignment_(4,_19),\n",
       "  (4, 20): Assignment_(4,_20),\n",
       "  (4, 21): Assignment_(4,_21),\n",
       "  (4, 22): Assignment_(4,_22),\n",
       "  (4, 23): Assignment_(4,_23),\n",
       "  (4, 24): Assignment_(4,_24),\n",
       "  (4, 25): Assignment_(4,_25),\n",
       "  (4, 26): Assignment_(4,_26),\n",
       "  (4, 27): Assignment_(4,_27),\n",
       "  (4, 28): Assignment_(4,_28),\n",
       "  (4, 29): Assignment_(4,_29),\n",
       "  (4, 30): Assignment_(4,_30),\n",
       "  (4, 31): Assignment_(4,_31),\n",
       "  (4, 32): Assignment_(4,_32),\n",
       "  (4, 33): Assignment_(4,_33),\n",
       "  (4, 34): Assignment_(4,_34),\n",
       "  (4, 35): Assignment_(4,_35),\n",
       "  (4, 36): Assignment_(4,_36),\n",
       "  (4, 37): Assignment_(4,_37),\n",
       "  (4, 38): Assignment_(4,_38),\n",
       "  (4, 39): Assignment_(4,_39),\n",
       "  (4, 40): Assignment_(4,_40),\n",
       "  (4, 41): Assignment_(4,_41),\n",
       "  (4, 42): Assignment_(4,_42),\n",
       "  (4, 43): Assignment_(4,_43),\n",
       "  (4, 44): Assignment_(4,_44),\n",
       "  (4, 45): Assignment_(4,_45),\n",
       "  (4, 46): Assignment_(4,_46),\n",
       "  (4, 47): Assignment_(4,_47),\n",
       "  (4, 48): Assignment_(4,_48),\n",
       "  (4, 49): Assignment_(4,_49),\n",
       "  (4, 50): Assignment_(4,_50),\n",
       "  (4, 51): Assignment_(4,_51),\n",
       "  (4, 52): Assignment_(4,_52),\n",
       "  (4, 53): Assignment_(4,_53),\n",
       "  (4, 54): Assignment_(4,_54),\n",
       "  (4, 55): Assignment_(4,_55),\n",
       "  (4, 56): Assignment_(4,_56),\n",
       "  (4, 57): Assignment_(4,_57),\n",
       "  (4, 58): Assignment_(4,_58),\n",
       "  (4, 59): Assignment_(4,_59),\n",
       "  (4, 60): Assignment_(4,_60),\n",
       "  (4, 61): Assignment_(4,_61),\n",
       "  (4, 62): Assignment_(4,_62),\n",
       "  (4, 63): Assignment_(4,_63),\n",
       "  (4, 64): Assignment_(4,_64),\n",
       "  (4, 65): Assignment_(4,_65),\n",
       "  (4, 66): Assignment_(4,_66),\n",
       "  (4, 67): Assignment_(4,_67),\n",
       "  (4, 68): Assignment_(4,_68),\n",
       "  (4, 69): Assignment_(4,_69),\n",
       "  (4, 70): Assignment_(4,_70),\n",
       "  (4, 71): Assignment_(4,_71),\n",
       "  (4, 72): Assignment_(4,_72),\n",
       "  (4, 73): Assignment_(4,_73),\n",
       "  (4, 74): Assignment_(4,_74),\n",
       "  (4, 75): Assignment_(4,_75),\n",
       "  (4, 76): Assignment_(4,_76),\n",
       "  (4, 77): Assignment_(4,_77),\n",
       "  (4, 78): Assignment_(4,_78),\n",
       "  (4, 79): Assignment_(4,_79),\n",
       "  (4, 80): Assignment_(4,_80),\n",
       "  (4, 81): Assignment_(4,_81),\n",
       "  (4, 82): Assignment_(4,_82),\n",
       "  (4, 83): Assignment_(4,_83),\n",
       "  (4, 84): Assignment_(4,_84),\n",
       "  (4, 85): Assignment_(4,_85),\n",
       "  (4, 86): Assignment_(4,_86),\n",
       "  (4, 87): Assignment_(4,_87),\n",
       "  (4, 88): Assignment_(4,_88),\n",
       "  (4, 89): Assignment_(4,_89),\n",
       "  (4, 90): Assignment_(4,_90),\n",
       "  (4, 91): Assignment_(4,_91),\n",
       "  (4, 92): Assignment_(4,_92),\n",
       "  (4, 93): Assignment_(4,_93),\n",
       "  (5, 0): Assignment_(5,_0),\n",
       "  (5, 1): Assignment_(5,_1),\n",
       "  (5, 2): Assignment_(5,_2),\n",
       "  (5, 3): Assignment_(5,_3),\n",
       "  (5, 4): Assignment_(5,_4),\n",
       "  (5, 5): Assignment_(5,_5),\n",
       "  (5, 6): Assignment_(5,_6),\n",
       "  (5, 7): Assignment_(5,_7),\n",
       "  (5, 8): Assignment_(5,_8),\n",
       "  (5, 9): Assignment_(5,_9),\n",
       "  (5, 10): Assignment_(5,_10),\n",
       "  (5, 11): Assignment_(5,_11),\n",
       "  (5, 12): Assignment_(5,_12),\n",
       "  (5, 13): Assignment_(5,_13),\n",
       "  (5, 14): Assignment_(5,_14),\n",
       "  (5, 15): Assignment_(5,_15),\n",
       "  (5, 16): Assignment_(5,_16),\n",
       "  (5, 17): Assignment_(5,_17),\n",
       "  (5, 18): Assignment_(5,_18),\n",
       "  (5, 19): Assignment_(5,_19),\n",
       "  (5, 20): Assignment_(5,_20),\n",
       "  (5, 21): Assignment_(5,_21),\n",
       "  (5, 22): Assignment_(5,_22),\n",
       "  (5, 23): Assignment_(5,_23),\n",
       "  (5, 24): Assignment_(5,_24),\n",
       "  (5, 25): Assignment_(5,_25),\n",
       "  (5, 26): Assignment_(5,_26),\n",
       "  (5, 27): Assignment_(5,_27),\n",
       "  (5, 28): Assignment_(5,_28),\n",
       "  (5, 29): Assignment_(5,_29),\n",
       "  (5, 30): Assignment_(5,_30),\n",
       "  (5, 31): Assignment_(5,_31),\n",
       "  (5, 32): Assignment_(5,_32),\n",
       "  (5, 33): Assignment_(5,_33),\n",
       "  (5, 34): Assignment_(5,_34),\n",
       "  (5, 35): Assignment_(5,_35),\n",
       "  (5, 36): Assignment_(5,_36),\n",
       "  (5, 37): Assignment_(5,_37),\n",
       "  (5, 38): Assignment_(5,_38),\n",
       "  (5, 39): Assignment_(5,_39),\n",
       "  (5, 40): Assignment_(5,_40),\n",
       "  (5, 41): Assignment_(5,_41),\n",
       "  (5, 42): Assignment_(5,_42),\n",
       "  (5, 43): Assignment_(5,_43),\n",
       "  (5, 44): Assignment_(5,_44),\n",
       "  (5, 45): Assignment_(5,_45),\n",
       "  (5, 46): Assignment_(5,_46),\n",
       "  (5, 47): Assignment_(5,_47),\n",
       "  (5, 48): Assignment_(5,_48),\n",
       "  (5, 49): Assignment_(5,_49),\n",
       "  (5, 50): Assignment_(5,_50),\n",
       "  (5, 51): Assignment_(5,_51),\n",
       "  (5, 52): Assignment_(5,_52),\n",
       "  (5, 53): Assignment_(5,_53),\n",
       "  (5, 54): Assignment_(5,_54),\n",
       "  (5, 55): Assignment_(5,_55),\n",
       "  (5, 56): Assignment_(5,_56),\n",
       "  (5, 57): Assignment_(5,_57),\n",
       "  (5, 58): Assignment_(5,_58),\n",
       "  (5, 59): Assignment_(5,_59),\n",
       "  (5, 60): Assignment_(5,_60),\n",
       "  (5, 61): Assignment_(5,_61),\n",
       "  (5, 62): Assignment_(5,_62),\n",
       "  (5, 63): Assignment_(5,_63),\n",
       "  (5, 64): Assignment_(5,_64),\n",
       "  (5, 65): Assignment_(5,_65),\n",
       "  (5, 66): Assignment_(5,_66),\n",
       "  (5, 67): Assignment_(5,_67),\n",
       "  (5, 68): Assignment_(5,_68),\n",
       "  (5, 69): Assignment_(5,_69),\n",
       "  (5, 70): Assignment_(5,_70),\n",
       "  (5, 71): Assignment_(5,_71),\n",
       "  (5, 72): Assignment_(5,_72),\n",
       "  (5, 73): Assignment_(5,_73),\n",
       "  (5, 74): Assignment_(5,_74),\n",
       "  (5, 75): Assignment_(5,_75),\n",
       "  (5, 76): Assignment_(5,_76),\n",
       "  (5, 77): Assignment_(5,_77),\n",
       "  (5, 78): Assignment_(5,_78),\n",
       "  (5, 79): Assignment_(5,_79),\n",
       "  (5, 80): Assignment_(5,_80),\n",
       "  (5, 81): Assignment_(5,_81),\n",
       "  (5, 82): Assignment_(5,_82),\n",
       "  (5, 83): Assignment_(5,_83),\n",
       "  (5, 84): Assignment_(5,_84),\n",
       "  (5, 85): Assignment_(5,_85),\n",
       "  (5, 86): Assignment_(5,_86),\n",
       "  (5, 87): Assignment_(5,_87),\n",
       "  (5, 88): Assignment_(5,_88),\n",
       "  (5, 89): Assignment_(5,_89),\n",
       "  (5, 90): Assignment_(5,_90),\n",
       "  (5, 91): Assignment_(5,_91),\n",
       "  (5, 92): Assignment_(5,_92),\n",
       "  (5, 93): Assignment_(5,_93),\n",
       "  (6, 0): Assignment_(6,_0),\n",
       "  (6, 1): Assignment_(6,_1),\n",
       "  (6, 2): Assignment_(6,_2),\n",
       "  (6, 3): Assignment_(6,_3),\n",
       "  (6, 4): Assignment_(6,_4),\n",
       "  (6, 5): Assignment_(6,_5),\n",
       "  (6, 6): Assignment_(6,_6),\n",
       "  (6, 7): Assignment_(6,_7),\n",
       "  (6, 8): Assignment_(6,_8),\n",
       "  (6, 9): Assignment_(6,_9),\n",
       "  (6, 10): Assignment_(6,_10),\n",
       "  (6, 11): Assignment_(6,_11),\n",
       "  (6, 12): Assignment_(6,_12),\n",
       "  (6, 13): Assignment_(6,_13),\n",
       "  (6, 14): Assignment_(6,_14),\n",
       "  (6, 15): Assignment_(6,_15),\n",
       "  (6, 16): Assignment_(6,_16),\n",
       "  (6, 17): Assignment_(6,_17),\n",
       "  (6, 18): Assignment_(6,_18),\n",
       "  (6, 19): Assignment_(6,_19),\n",
       "  (6, 20): Assignment_(6,_20),\n",
       "  (6, 21): Assignment_(6,_21),\n",
       "  (6, 22): Assignment_(6,_22),\n",
       "  (6, 23): Assignment_(6,_23),\n",
       "  (6, 24): Assignment_(6,_24),\n",
       "  (6, 25): Assignment_(6,_25),\n",
       "  (6, 26): Assignment_(6,_26),\n",
       "  (6, 27): Assignment_(6,_27),\n",
       "  (6, 28): Assignment_(6,_28),\n",
       "  (6, 29): Assignment_(6,_29),\n",
       "  (6, 30): Assignment_(6,_30),\n",
       "  (6, 31): Assignment_(6,_31),\n",
       "  (6, 32): Assignment_(6,_32),\n",
       "  (6, 33): Assignment_(6,_33),\n",
       "  (6, 34): Assignment_(6,_34),\n",
       "  (6, 35): Assignment_(6,_35),\n",
       "  (6, 36): Assignment_(6,_36),\n",
       "  (6, 37): Assignment_(6,_37),\n",
       "  (6, 38): Assignment_(6,_38),\n",
       "  (6, 39): Assignment_(6,_39),\n",
       "  (6, 40): Assignment_(6,_40),\n",
       "  (6, 41): Assignment_(6,_41),\n",
       "  (6, 42): Assignment_(6,_42),\n",
       "  (6, 43): Assignment_(6,_43),\n",
       "  (6, 44): Assignment_(6,_44),\n",
       "  (6, 45): Assignment_(6,_45),\n",
       "  (6, 46): Assignment_(6,_46),\n",
       "  (6, 47): Assignment_(6,_47),\n",
       "  (6, 48): Assignment_(6,_48),\n",
       "  (6, 49): Assignment_(6,_49),\n",
       "  (6, 50): Assignment_(6,_50),\n",
       "  (6, 51): Assignment_(6,_51),\n",
       "  (6, 52): Assignment_(6,_52),\n",
       "  (6, 53): Assignment_(6,_53),\n",
       "  (6, 54): Assignment_(6,_54),\n",
       "  (6, 55): Assignment_(6,_55),\n",
       "  (6, 56): Assignment_(6,_56),\n",
       "  (6, 57): Assignment_(6,_57),\n",
       "  (6, 58): Assignment_(6,_58),\n",
       "  (6, 59): Assignment_(6,_59),\n",
       "  (6, 60): Assignment_(6,_60),\n",
       "  (6, 61): Assignment_(6,_61),\n",
       "  (6, 62): Assignment_(6,_62),\n",
       "  (6, 63): Assignment_(6,_63),\n",
       "  (6, 64): Assignment_(6,_64),\n",
       "  (6, 65): Assignment_(6,_65),\n",
       "  (6, 66): Assignment_(6,_66),\n",
       "  (6, 67): Assignment_(6,_67),\n",
       "  (6, 68): Assignment_(6,_68),\n",
       "  (6, 69): Assignment_(6,_69),\n",
       "  (6, 70): Assignment_(6,_70),\n",
       "  (6, 71): Assignment_(6,_71),\n",
       "  (6, 72): Assignment_(6,_72),\n",
       "  (6, 73): Assignment_(6,_73),\n",
       "  (6, 74): Assignment_(6,_74),\n",
       "  (6, 75): Assignment_(6,_75),\n",
       "  (6, 76): Assignment_(6,_76),\n",
       "  (6, 77): Assignment_(6,_77),\n",
       "  (6, 78): Assignment_(6,_78),\n",
       "  (6, 79): Assignment_(6,_79),\n",
       "  (6, 80): Assignment_(6,_80),\n",
       "  (6, 81): Assignment_(6,_81),\n",
       "  (6, 82): Assignment_(6,_82),\n",
       "  (6, 83): Assignment_(6,_83),\n",
       "  (6, 84): Assignment_(6,_84),\n",
       "  (6, 85): Assignment_(6,_85),\n",
       "  (6, 86): Assignment_(6,_86),\n",
       "  (6, 87): Assignment_(6,_87),\n",
       "  (6, 88): Assignment_(6,_88),\n",
       "  (6, 89): Assignment_(6,_89),\n",
       "  (6, 90): Assignment_(6,_90),\n",
       "  (6, 91): Assignment_(6,_91),\n",
       "  (6, 92): Assignment_(6,_92),\n",
       "  (6, 93): Assignment_(6,_93),\n",
       "  (7, 0): Assignment_(7,_0),\n",
       "  (7, 1): Assignment_(7,_1),\n",
       "  (7, 2): Assignment_(7,_2),\n",
       "  (7, 3): Assignment_(7,_3),\n",
       "  (7, 4): Assignment_(7,_4),\n",
       "  (7, 5): Assignment_(7,_5),\n",
       "  (7, 6): Assignment_(7,_6),\n",
       "  (7, 7): Assignment_(7,_7),\n",
       "  (7, 8): Assignment_(7,_8),\n",
       "  (7, 9): Assignment_(7,_9),\n",
       "  (7, 10): Assignment_(7,_10),\n",
       "  (7, 11): Assignment_(7,_11),\n",
       "  (7, 12): Assignment_(7,_12),\n",
       "  (7, 13): Assignment_(7,_13),\n",
       "  (7, 14): Assignment_(7,_14),\n",
       "  (7, 15): Assignment_(7,_15),\n",
       "  (7, 16): Assignment_(7,_16),\n",
       "  (7, 17): Assignment_(7,_17),\n",
       "  (7, 18): Assignment_(7,_18),\n",
       "  (7, 19): Assignment_(7,_19),\n",
       "  (7, 20): Assignment_(7,_20),\n",
       "  (7, 21): Assignment_(7,_21),\n",
       "  (7, 22): Assignment_(7,_22),\n",
       "  (7, 23): Assignment_(7,_23),\n",
       "  (7, 24): Assignment_(7,_24),\n",
       "  (7, 25): Assignment_(7,_25),\n",
       "  (7, 26): Assignment_(7,_26),\n",
       "  (7, 27): Assignment_(7,_27),\n",
       "  (7, 28): Assignment_(7,_28),\n",
       "  (7, 29): Assignment_(7,_29),\n",
       "  (7, 30): Assignment_(7,_30),\n",
       "  (7, 31): Assignment_(7,_31),\n",
       "  (7, 32): Assignment_(7,_32),\n",
       "  (7, 33): Assignment_(7,_33),\n",
       "  (7, 34): Assignment_(7,_34),\n",
       "  (7, 35): Assignment_(7,_35),\n",
       "  (7, 36): Assignment_(7,_36),\n",
       "  (7, 37): Assignment_(7,_37),\n",
       "  (7, 38): Assignment_(7,_38),\n",
       "  (7, 39): Assignment_(7,_39),\n",
       "  (7, 40): Assignment_(7,_40),\n",
       "  (7, 41): Assignment_(7,_41),\n",
       "  (7, 42): Assignment_(7,_42),\n",
       "  (7, 43): Assignment_(7,_43),\n",
       "  (7, 44): Assignment_(7,_44),\n",
       "  (7, 45): Assignment_(7,_45),\n",
       "  (7, 46): Assignment_(7,_46),\n",
       "  (7, 47): Assignment_(7,_47),\n",
       "  (7, 48): Assignment_(7,_48),\n",
       "  (7, 49): Assignment_(7,_49),\n",
       "  (7, 50): Assignment_(7,_50),\n",
       "  (7, 51): Assignment_(7,_51),\n",
       "  (7, 52): Assignment_(7,_52),\n",
       "  (7, 53): Assignment_(7,_53),\n",
       "  (7, 54): Assignment_(7,_54),\n",
       "  (7, 55): Assignment_(7,_55),\n",
       "  (7, 56): Assignment_(7,_56),\n",
       "  (7, 57): Assignment_(7,_57),\n",
       "  (7, 58): Assignment_(7,_58),\n",
       "  (7, 59): Assignment_(7,_59),\n",
       "  (7, 60): Assignment_(7,_60),\n",
       "  (7, 61): Assignment_(7,_61),\n",
       "  (7, 62): Assignment_(7,_62),\n",
       "  (7, 63): Assignment_(7,_63),\n",
       "  (7, 64): Assignment_(7,_64),\n",
       "  (7, 65): Assignment_(7,_65),\n",
       "  (7, 66): Assignment_(7,_66),\n",
       "  (7, 67): Assignment_(7,_67),\n",
       "  (7, 68): Assignment_(7,_68),\n",
       "  (7, 69): Assignment_(7,_69),\n",
       "  (7, 70): Assignment_(7,_70),\n",
       "  (7, 71): Assignment_(7,_71),\n",
       "  (7, 72): Assignment_(7,_72),\n",
       "  (7, 73): Assignment_(7,_73),\n",
       "  (7, 74): Assignment_(7,_74),\n",
       "  (7, 75): Assignment_(7,_75),\n",
       "  (7, 76): Assignment_(7,_76),\n",
       "  (7, 77): Assignment_(7,_77),\n",
       "  (7, 78): Assignment_(7,_78),\n",
       "  (7, 79): Assignment_(7,_79),\n",
       "  (7, 80): Assignment_(7,_80),\n",
       "  (7, 81): Assignment_(7,_81),\n",
       "  (7, 82): Assignment_(7,_82),\n",
       "  (7, 83): Assignment_(7,_83),\n",
       "  (7, 84): Assignment_(7,_84),\n",
       "  (7, 85): Assignment_(7,_85),\n",
       "  (7, 86): Assignment_(7,_86),\n",
       "  (7, 87): Assignment_(7,_87),\n",
       "  (7, 88): Assignment_(7,_88),\n",
       "  (7, 89): Assignment_(7,_89),\n",
       "  (7, 90): Assignment_(7,_90),\n",
       "  (7, 91): Assignment_(7,_91),\n",
       "  (7, 92): Assignment_(7,_92),\n",
       "  (7, 93): Assignment_(7,_93),\n",
       "  (8, 0): Assignment_(8,_0),\n",
       "  (8, 1): Assignment_(8,_1),\n",
       "  (8, 2): Assignment_(8,_2),\n",
       "  (8, 3): Assignment_(8,_3),\n",
       "  (8, 4): Assignment_(8,_4),\n",
       "  (8, 5): Assignment_(8,_5),\n",
       "  (8, 6): Assignment_(8,_6),\n",
       "  (8, 7): Assignment_(8,_7),\n",
       "  (8, 8): Assignment_(8,_8),\n",
       "  (8, 9): Assignment_(8,_9),\n",
       "  (8, 10): Assignment_(8,_10),\n",
       "  (8, 11): Assignment_(8,_11),\n",
       "  (8, 12): Assignment_(8,_12),\n",
       "  (8, 13): Assignment_(8,_13),\n",
       "  (8, 14): Assignment_(8,_14),\n",
       "  (8, 15): Assignment_(8,_15),\n",
       "  (8, 16): Assignment_(8,_16),\n",
       "  (8, 17): Assignment_(8,_17),\n",
       "  (8, 18): Assignment_(8,_18),\n",
       "  (8, 19): Assignment_(8,_19),\n",
       "  (8, 20): Assignment_(8,_20),\n",
       "  (8, 21): Assignment_(8,_21),\n",
       "  (8, 22): Assignment_(8,_22),\n",
       "  (8, 23): Assignment_(8,_23),\n",
       "  (8, 24): Assignment_(8,_24),\n",
       "  (8, 25): Assignment_(8,_25),\n",
       "  (8, 26): Assignment_(8,_26),\n",
       "  (8, 27): Assignment_(8,_27),\n",
       "  (8, 28): Assignment_(8,_28),\n",
       "  (8, 29): Assignment_(8,_29),\n",
       "  (8, 30): Assignment_(8,_30),\n",
       "  (8, 31): Assignment_(8,_31),\n",
       "  (8, 32): Assignment_(8,_32),\n",
       "  (8, 33): Assignment_(8,_33),\n",
       "  (8, 34): Assignment_(8,_34),\n",
       "  (8, 35): Assignment_(8,_35),\n",
       "  (8, 36): Assignment_(8,_36),\n",
       "  (8, 37): Assignment_(8,_37),\n",
       "  (8, 38): Assignment_(8,_38),\n",
       "  (8, 39): Assignment_(8,_39),\n",
       "  (8, 40): Assignment_(8,_40),\n",
       "  (8, 41): Assignment_(8,_41),\n",
       "  (8, 42): Assignment_(8,_42),\n",
       "  (8, 43): Assignment_(8,_43),\n",
       "  (8, 44): Assignment_(8,_44),\n",
       "  (8, 45): Assignment_(8,_45),\n",
       "  (8, 46): Assignment_(8,_46),\n",
       "  (8, 47): Assignment_(8,_47),\n",
       "  (8, 48): Assignment_(8,_48),\n",
       "  (8, 49): Assignment_(8,_49),\n",
       "  (8, 50): Assignment_(8,_50),\n",
       "  (8, 51): Assignment_(8,_51),\n",
       "  (8, 52): Assignment_(8,_52),\n",
       "  (8, 53): Assignment_(8,_53),\n",
       "  (8, 54): Assignment_(8,_54),\n",
       "  (8, 55): Assignment_(8,_55),\n",
       "  (8, 56): Assignment_(8,_56),\n",
       "  (8, 57): Assignment_(8,_57),\n",
       "  (8, 58): Assignment_(8,_58),\n",
       "  (8, 59): Assignment_(8,_59),\n",
       "  (8, 60): Assignment_(8,_60),\n",
       "  (8, 61): Assignment_(8,_61),\n",
       "  (8, 62): Assignment_(8,_62),\n",
       "  (8, 63): Assignment_(8,_63),\n",
       "  (8, 64): Assignment_(8,_64),\n",
       "  (8, 65): Assignment_(8,_65),\n",
       "  (8, 66): Assignment_(8,_66),\n",
       "  (8, 67): Assignment_(8,_67),\n",
       "  (8, 68): Assignment_(8,_68),\n",
       "  (8, 69): Assignment_(8,_69),\n",
       "  (8, 70): Assignment_(8,_70),\n",
       "  (8, 71): Assignment_(8,_71),\n",
       "  (8, 72): Assignment_(8,_72),\n",
       "  (8, 73): Assignment_(8,_73),\n",
       "  (8, 74): Assignment_(8,_74),\n",
       "  (8, 75): Assignment_(8,_75),\n",
       "  (8, 76): Assignment_(8,_76),\n",
       "  (8, 77): Assignment_(8,_77),\n",
       "  (8, 78): Assignment_(8,_78),\n",
       "  (8, 79): Assignment_(8,_79),\n",
       "  (8, 80): Assignment_(8,_80),\n",
       "  (8, 81): Assignment_(8,_81),\n",
       "  (8, 82): Assignment_(8,_82),\n",
       "  (8, 83): Assignment_(8,_83),\n",
       "  (8, 84): Assignment_(8,_84),\n",
       "  (8, 85): Assignment_(8,_85),\n",
       "  (8, 86): Assignment_(8,_86),\n",
       "  (8, 87): Assignment_(8,_87),\n",
       "  (8, 88): Assignment_(8,_88),\n",
       "  (8, 89): Assignment_(8,_89),\n",
       "  (8, 90): Assignment_(8,_90),\n",
       "  (8, 91): Assignment_(8,_91),\n",
       "  (8, 92): Assignment_(8,_92),\n",
       "  (8, 93): Assignment_(8,_93),\n",
       "  (9, 0): Assignment_(9,_0),\n",
       "  (9, 1): Assignment_(9,_1),\n",
       "  (9, 2): Assignment_(9,_2),\n",
       "  (9, 3): Assignment_(9,_3),\n",
       "  (9, 4): Assignment_(9,_4),\n",
       "  (9, 5): Assignment_(9,_5),\n",
       "  (9, 6): Assignment_(9,_6),\n",
       "  (9, 7): Assignment_(9,_7),\n",
       "  (9, 8): Assignment_(9,_8),\n",
       "  (9, 9): Assignment_(9,_9),\n",
       "  (9, 10): Assignment_(9,_10),\n",
       "  (9, 11): Assignment_(9,_11),\n",
       "  (9, 12): Assignment_(9,_12),\n",
       "  (9, 13): Assignment_(9,_13),\n",
       "  (9, 14): Assignment_(9,_14),\n",
       "  (9, 15): Assignment_(9,_15),\n",
       "  (9, 16): Assignment_(9,_16),\n",
       "  (9, 17): Assignment_(9,_17),\n",
       "  (9, 18): Assignment_(9,_18),\n",
       "  (9, 19): Assignment_(9,_19),\n",
       "  (9, 20): Assignment_(9,_20),\n",
       "  (9, 21): Assignment_(9,_21),\n",
       "  (9, 22): Assignment_(9,_22),\n",
       "  (9, 23): Assignment_(9,_23),\n",
       "  (9, 24): Assignment_(9,_24),\n",
       "  (9, 25): Assignment_(9,_25),\n",
       "  (9, 26): Assignment_(9,_26),\n",
       "  (9, 27): Assignment_(9,_27),\n",
       "  (9, 28): Assignment_(9,_28),\n",
       "  (9, 29): Assignment_(9,_29),\n",
       "  (9, 30): Assignment_(9,_30),\n",
       "  (9, 31): Assignment_(9,_31),\n",
       "  (9, 32): Assignment_(9,_32),\n",
       "  (9, 33): Assignment_(9,_33),\n",
       "  (9, 34): Assignment_(9,_34),\n",
       "  (9, 35): Assignment_(9,_35),\n",
       "  (9, 36): Assignment_(9,_36),\n",
       "  (9, 37): Assignment_(9,_37),\n",
       "  (9, 38): Assignment_(9,_38),\n",
       "  (9, 39): Assignment_(9,_39),\n",
       "  (9, 40): Assignment_(9,_40),\n",
       "  (9, 41): Assignment_(9,_41),\n",
       "  (9, 42): Assignment_(9,_42),\n",
       "  (9, 43): Assignment_(9,_43),\n",
       "  (9, 44): Assignment_(9,_44),\n",
       "  (9, 45): Assignment_(9,_45),\n",
       "  (9, 46): Assignment_(9,_46),\n",
       "  (9, 47): Assignment_(9,_47),\n",
       "  (9, 48): Assignment_(9,_48),\n",
       "  (9, 49): Assignment_(9,_49),\n",
       "  (9, 50): Assignment_(9,_50),\n",
       "  (9, 51): Assignment_(9,_51),\n",
       "  (9, 52): Assignment_(9,_52),\n",
       "  (9, 53): Assignment_(9,_53),\n",
       "  (9, 54): Assignment_(9,_54),\n",
       "  (9, 55): Assignment_(9,_55),\n",
       "  (9, 56): Assignment_(9,_56),\n",
       "  (9, 57): Assignment_(9,_57),\n",
       "  (9, 58): Assignment_(9,_58),\n",
       "  (9, 59): Assignment_(9,_59),\n",
       "  (9, 60): Assignment_(9,_60),\n",
       "  (9, 61): Assignment_(9,_61),\n",
       "  (9, 62): Assignment_(9,_62),\n",
       "  (9, 63): Assignment_(9,_63),\n",
       "  (9, 64): Assignment_(9,_64),\n",
       "  (9, 65): Assignment_(9,_65),\n",
       "  (9, 66): Assignment_(9,_66),\n",
       "  (9, 67): Assignment_(9,_67),\n",
       "  (9, 68): Assignment_(9,_68),\n",
       "  (9, 69): Assignment_(9,_69),\n",
       "  (9, 70): Assignment_(9,_70),\n",
       "  (9, 71): Assignment_(9,_71),\n",
       "  (9, 72): Assignment_(9,_72),\n",
       "  (9, 73): Assignment_(9,_73),\n",
       "  (9, 74): Assignment_(9,_74),\n",
       "  (9, 75): Assignment_(9,_75),\n",
       "  (9, 76): Assignment_(9,_76),\n",
       "  (9, 77): Assignment_(9,_77),\n",
       "  (9, 78): Assignment_(9,_78),\n",
       "  (9, 79): Assignment_(9,_79),\n",
       "  (9, 80): Assignment_(9,_80),\n",
       "  (9, 81): Assignment_(9,_81),\n",
       "  (9, 82): Assignment_(9,_82),\n",
       "  (9, 83): Assignment_(9,_83),\n",
       "  (9, 84): Assignment_(9,_84),\n",
       "  (9, 85): Assignment_(9,_85),\n",
       "  (9, 86): Assignment_(9,_86),\n",
       "  (9, 87): Assignment_(9,_87),\n",
       "  (9, 88): Assignment_(9,_88),\n",
       "  (9, 89): Assignment_(9,_89),\n",
       "  (9, 90): Assignment_(9,_90),\n",
       "  (9, 91): Assignment_(9,_91),\n",
       "  (9, 92): Assignment_(9,_92),\n",
       "  (9, 93): Assignment_(9,_93),\n",
       "  (10, 0): Assignment_(10,_0),\n",
       "  (10, 1): Assignment_(10,_1),\n",
       "  (10, 2): Assignment_(10,_2),\n",
       "  (10, 3): Assignment_(10,_3),\n",
       "  (10, 4): Assignment_(10,_4),\n",
       "  (10, 5): Assignment_(10,_5),\n",
       "  (10, 6): Assignment_(10,_6),\n",
       "  (10, 7): Assignment_(10,_7),\n",
       "  (10, 8): Assignment_(10,_8),\n",
       "  (10, 9): Assignment_(10,_9),\n",
       "  (10, 10): Assignment_(10,_10),\n",
       "  (10, 11): Assignment_(10,_11),\n",
       "  (10, 12): Assignment_(10,_12),\n",
       "  (10, 13): Assignment_(10,_13),\n",
       "  (10, 14): Assignment_(10,_14),\n",
       "  (10, 15): Assignment_(10,_15),\n",
       "  (10, 16): Assignment_(10,_16),\n",
       "  (10, 17): Assignment_(10,_17),\n",
       "  (10, 18): Assignment_(10,_18),\n",
       "  (10, 19): Assignment_(10,_19),\n",
       "  (10, 20): Assignment_(10,_20),\n",
       "  (10, 21): Assignment_(10,_21),\n",
       "  (10, 22): Assignment_(10,_22),\n",
       "  (10, 23): Assignment_(10,_23),\n",
       "  (10, 24): Assignment_(10,_24),\n",
       "  (10, 25): Assignment_(10,_25),\n",
       "  (10, 26): Assignment_(10,_26),\n",
       "  (10, 27): Assignment_(10,_27),\n",
       "  (10, 28): Assignment_(10,_28),\n",
       "  (10, 29): Assignment_(10,_29),\n",
       "  (10, 30): Assignment_(10,_30),\n",
       "  (10, 31): Assignment_(10,_31),\n",
       "  (10, 32): Assignment_(10,_32),\n",
       "  (10, 33): Assignment_(10,_33),\n",
       "  (10, 34): Assignment_(10,_34),\n",
       "  (10, 35): Assignment_(10,_35),\n",
       "  (10, 36): Assignment_(10,_36),\n",
       "  (10, 37): Assignment_(10,_37),\n",
       "  (10, 38): Assignment_(10,_38),\n",
       "  (10, 39): Assignment_(10,_39),\n",
       "  (10, 40): Assignment_(10,_40),\n",
       "  (10, 41): Assignment_(10,_41),\n",
       "  (10, 42): Assignment_(10,_42),\n",
       "  (10, 43): Assignment_(10,_43),\n",
       "  (10, 44): Assignment_(10,_44),\n",
       "  (10, 45): Assignment_(10,_45),\n",
       "  (10, 46): Assignment_(10,_46),\n",
       "  (10, 47): Assignment_(10,_47),\n",
       "  (10, 48): Assignment_(10,_48),\n",
       "  (10, 49): Assignment_(10,_49),\n",
       "  (10, 50): Assignment_(10,_50),\n",
       "  (10, 51): Assignment_(10,_51),\n",
       "  (10, 52): Assignment_(10,_52),\n",
       "  (10, 53): Assignment_(10,_53),\n",
       "  (10, 54): Assignment_(10,_54),\n",
       "  (10, 55): Assignment_(10,_55),\n",
       "  (10, 56): Assignment_(10,_56),\n",
       "  (10, 57): Assignment_(10,_57),\n",
       "  (10, 58): Assignment_(10,_58),\n",
       "  (10, 59): Assignment_(10,_59),\n",
       "  ...})"
      ]
     },
     "execution_count": 10,
     "metadata": {},
     "output_type": "execute_result"
    }
   ],
   "source": [
    "define_variables(df_warehouses, df_customers)"
   ]
  },
  {
   "cell_type": "markdown",
   "id": "7781e05a",
   "metadata": {},
   "source": [
    "### Step 3: Setting the objective function\n",
    "\n",
    "Once the decision variables are in place, we need to tell the solver what we want to minimize.\n",
    "\n",
    "Our app supports two optimization goals:\n",
    "\n",
    "* Minimize cost (including warehouse rent + transportation)\n",
    "* Minimize CO₂ emissions (including warehouse emissions + transport emissions)\n",
    "\n",
    "To keep things modular and readable, we use two helper functions (prefixed with _) to build each version of the objective.\n",
    "\n",
    "\n",
    "`pulp.lpSum(...)` is PuLP’s way of building up a linear expression: it sums over large sets of variables.\n",
    "\n",
    "In both objectives, we combine fixed costs/emissions of operating a warehouse with the variable transport costs/emissions based on how far customers are from selected warehouses.\n",
    "\n",
    "`prob +=` expression sets this expression as the thing we want to minimize; the `prob` variable comes from the initialization, it represents the problem we are trying to solve."
   ]
  },
  {
   "cell_type": "code",
   "execution_count": 11,
   "id": "b4fc1424",
   "metadata": {},
   "outputs": [],
   "source": [
    "def _objective_total(assignment_var, warehouse_var, df_warehouses, df_customers, distance_matrix,\n",
    "                     transport_unit_cost, warehouse_cost_column, warehouse_cost_multiplier=1):\n",
    "    \"\"\"\n",
    "    Generic objective builder for either price or CO₂.\n",
    "    \"\"\"\n",
    "    warehouses = df_warehouses.index.tolist()\n",
    "    customers = df_customers.index.tolist()\n",
    "\n",
    "    transport_total = pulp.lpSum(\n",
    "        assignment_var[(w, c)] *\n",
    "        distance_matrix.at[w, c] *\n",
    "        transport_unit_cost *\n",
    "        df_customers.at[c, \"yearly_orders\"]\n",
    "        for w in warehouses for c in customers\n",
    "    )\n",
    "\n",
    "    warehouse_total = pulp.lpSum(\n",
    "        warehouse_var[w] *\n",
    "        df_warehouses.at[w, warehouse_cost_column] *\n",
    "        warehouse_cost_multiplier\n",
    "        for w in warehouses\n",
    "    )\n",
    "\n",
    "    return transport_total + warehouse_total"
   ]
  },
  {
   "cell_type": "code",
   "execution_count": 12,
   "id": "0d24bf16",
   "metadata": {},
   "outputs": [],
   "source": [
    "def set_objective_function(\n",
    "    prob,\n",
    "    assignment_var,\n",
    "    warehouse_var,\n",
    "    df_warehouses,\n",
    "    df_customers,\n",
    "    distance_matrix,\n",
    "    optimize,\n",
    "    price_per_km=4,\n",
    "    co2_per_km=2\n",
    "):\n",
    "    \"\"\"\n",
    "    Adds the selected objective (price or co2) to the optimization problem.\n",
    "    \"\"\"\n",
    "    if optimize == \"price\":\n",
    "        prob += _objective_total(\n",
    "            assignment_var,\n",
    "            warehouse_var,\n",
    "            df_warehouses,\n",
    "            df_customers,\n",
    "            distance_matrix,\n",
    "            transport_unit_cost=price_per_km,\n",
    "            warehouse_cost_column=\"yearly_cost\"\n",
    "        )\n",
    "    else:\n",
    "        prob += _objective_total(\n",
    "            assignment_var,\n",
    "            warehouse_var,\n",
    "            df_warehouses,\n",
    "            df_customers,\n",
    "            distance_matrix,\n",
    "            transport_unit_cost=co2_per_km,\n",
    "            warehouse_cost_column=\"yearly_co2_tons\",\n",
    "            warehouse_cost_multiplier=1000  # Convert tons to kg\n",
    "        )"
   ]
  },
  {
   "cell_type": "markdown",
   "id": "8879e9e5",
   "metadata": {},
   "source": [
    "### Step 4: Adding Constraints\n",
    "\n",
    "This function tells the optimization model how the problem works. It defines the rules (called **constraints**) that the solution must follow. Without these rules, the model could give us crazy or meaningless results.\n",
    "\n",
    "With PuLP, we build the problem by combining an objective function (from the function beofre this one!) with a list of constraints (what the solution is allowed to do). --> This function add the constraints to the same `prob` element. \n",
    "\n",
    "In other words: The objective + the constraints define a problem to solve.\n",
    "\n",
    "#### What constraints we add, and WHY:\n",
    "\n",
    "1. **Each customer must be assigned to exactly one warehouse**\n",
    "\n",
    "Every customer needs to receive deliveries from some warehouse, but only one. \n",
    "This constraint forces the model to pick exactly one warehouse for each customer.\n",
    "\n",
    "2. **Customers can only be assigned to warehouses that are open**\n",
    "\n",
    "We don’t want the model to assign customers to warehouses we didn’t even open — that would be like shipping from an imaginary location.\n",
    "This rule ties the assignment of a customer to a warehouse to whether that warehouse is actually selected/open.\n",
    "\n",
    "3. **Limit the total number of warehouses**\n",
    "\n",
    "The end application lets users select how many warehouses to add to the solution. Sometimes we want exactly `n` warehouses, sometimes we’re flexible.\n",
    "This part adds either:\n",
    "\n",
    "* A fixed number of warehouses (if the user says `number_of_warehouses` = `n`)\n",
    "* Or a reasonable range (like between 1 and 10), if the user just says \"any\"\n",
    "\n",
    "4. **(Optional) Require warehouses in specific countries**\n",
    "\n",
    "Sometimes, for strategic, political, or logistical reasons, we want to make sure we operate in certain countries.\n",
    "If the user passes a list like [\"France\", \"Germany\"], this rule tells the model:\n",
    "\n",
    "\"Hey, make sure you open at least one warehouse in France and one in Germany.\"\n",
    "\n",
    "It’s optional — we only add this if the user asks for it.\n",
    "\n"
   ]
  },
  {
   "cell_type": "code",
   "execution_count": 13,
   "id": "6d86eaaa",
   "metadata": {},
   "outputs": [],
   "source": [
    "def add_constraints(prob, assignment_var, warehouse_var, df_warehouses, df_customers, number_of_warehouses, country_list=None):\n",
    "    \"\"\"\n",
    "    Adds problem constraints.\n",
    "    \"\"\"\n",
    "    warehouses = df_warehouses.index.tolist()\n",
    "    customers = df_customers.index.tolist()\n",
    "\n",
    "    # 1. Each customer is assigned to exactly one warehouse\n",
    "    for c in customers:\n",
    "        prob += pulp.lpSum(assignment_var[(w, c)] for w in warehouses) == 1\n",
    "\n",
    "    # 2. Customers can only be assigned to selected warehouses\n",
    "    for w in warehouses:\n",
    "        for c in customers:\n",
    "            prob += assignment_var[(w, c)] <= warehouse_var[w]\n",
    "\n",
    "    # 3. Limit number of warehouses\n",
    "    if number_of_warehouses != \"any\":\n",
    "        prob += pulp.lpSum(warehouse_var[w] for w in warehouses) == int(number_of_warehouses)\n",
    "    else:\n",
    "        prob += pulp.lpSum(warehouse_var[w] for w in warehouses) >= 1\n",
    "        prob += pulp.lpSum(warehouse_var[w] for w in warehouses) <= 10\n",
    "\n",
    "    # 4. Country constraints (optional)\n",
    "    if country_list:\n",
    "        for country in country_list:\n",
    "            wh_in_country = df_warehouses[df_warehouses[\"country\"] == country].index.tolist()\n",
    "            prob += pulp.lpSum(warehouse_var[w] for w in wh_in_country) >= 1\n"
   ]
  },
  {
   "cell_type": "markdown",
   "id": "3a677d19",
   "metadata": {},
   "source": [
    "### Step 6. Extracting results\n",
    "\n",
    "**Important!** You may think we forgot step 5... Not quite! Step 5 is to launch the optimization function, wich happens in the main function!\n",
    "\n",
    "This step collects the results after the solver gives us a solution. It formats it so it’s human-readable and ready for analysis or visualization.\n",
    "\n",
    "We're basically asking:\n",
    "\n",
    "“Which warehouses did the model choose? Which customers are assigned to which warehouse? And what are the total costs and CO₂ emissions?”"
   ]
  },
  {
   "cell_type": "code",
   "execution_count": 14,
   "id": "14a7ec53",
   "metadata": {},
   "outputs": [],
   "source": [
    "def extract_results(warehouse_var, assignment_var, df_warehouses, df_customers, distance_matrix, price_per_km=4, co2_per_km=2):\n",
    "    \"\"\"\n",
    "    Extracts the results from the solved problem and formats them.\n",
    "    \"\"\"\n",
    "    selected_warehouses = [w for w in df_warehouses.index if pulp.value(warehouse_var[w]) == 1]\n",
    "    customers = df_customers.index.tolist()\n",
    "\n",
    "    assignments = []\n",
    "    scenario_costs = []\n",
    "    scenario_co2s = []\n",
    "    scenario_orders = []\n",
    "\n",
    "    for w in selected_warehouses:\n",
    "        yearly_cost = df_warehouses.at[w, \"yearly_cost\"]\n",
    "        yearly_co2_tons = df_warehouses.at[w, \"yearly_co2_tons\"]\n",
    "        total_transport_cost = 0\n",
    "        total_transport_co2 = 0\n",
    "        warehouse_orders = 0\n",
    "\n",
    "        for c in customers:\n",
    "            if pulp.value(assignment_var[(w, c)]) == 1:\n",
    "                distance = distance_matrix.at[w, c]\n",
    "                orders = df_customers.at[c, \"yearly_orders\"]\n",
    "\n",
    "                total_transport_cost += distance * price_per_km * orders\n",
    "                total_transport_co2 += distance * co2_per_km * orders\n",
    "                warehouse_orders += orders\n",
    "\n",
    "                assignments.append({\n",
    "                    \"warehouse\": df_warehouses.at[w, \"warehouse\"],\n",
    "                    \"warehouse_lat\": df_warehouses.at[w, \"latitude\"],\n",
    "                    \"warehouse_lon\": df_warehouses.at[w, \"longitude\"],\n",
    "                    \"customer\": df_customers.at[c, \"company_name\"],\n",
    "                    \"customer_lat\": df_customers.at[c, \"latitude\"],\n",
    "                    \"customer_lon\": df_customers.at[c, \"longitude\"],\n",
    "                    \"distance_km\": distance,\n",
    "                    \"orders\": orders,\n",
    "                    \"total_cost\": int(distance * price_per_km * orders),\n",
    "                    \"total_co2_kg\": int(distance * co2_per_km * orders),\n",
    "                })\n",
    "\n",
    "        scenario_costs.append(int(yearly_cost + total_transport_cost))\n",
    "        scenario_co2s.append(int(yearly_co2_tons + total_transport_co2 / 1000))\n",
    "        scenario_orders.append(warehouse_orders)\n",
    "\n",
    "    df_selected = df_warehouses.loc[selected_warehouses].copy()\n",
    "    df_selected[\"scenario_cost\"] = scenario_costs\n",
    "    df_selected[\"scenario_co2_tons\"] = scenario_co2s\n",
    "    df_selected[\"scenario_orders\"] = scenario_orders\n",
    "    df_assignments = pd.DataFrame(assignments)\n",
    "\n",
    "    return df_selected, df_assignments"
   ]
  },
  {
   "cell_type": "markdown",
   "id": "e71b4028",
   "metadata": {},
   "source": [
    "### Main optimization function\n",
    "\n",
    "We call all our previous functions from a main module.\n",
    "\n",
    "**To summarize:**\n",
    "\n",
    "1. We create an empty problem (`prob` variable)\n",
    "2. We create variables for the mathematical equations\n",
    "3. We add the objective: this is what to solve\n",
    "4. We add the constraints: this is the conditions the solution needs to respect\n",
    "5. We solve the problem using a solver, in our case, we use `PULP_CBC_CMD`:**\n",
    "\n",
    "```python\n",
    "    prob.solve(pulp.PULP_CBC_CMD(msg=False))\n",
    "```\n",
    "\n",
    "6. We extract the results\n",
    "\n",
    "In our case:\n",
    "\n",
    "1. We create a minimization problem\n",
    "2. Our variables are the warehouses that we can select, and each possible warehouse - customer combination\n",
    "3. Our objective can be selected by users (from the app's UI). They have to choices:\n",
    "    * Reduce (optimize) price (cost)\n",
    "    * Reduce (optimize) CO2 emissions\n",
    "4. Some constraints are \"mandatory\", like each customer needs to be asigned to one and only one warehouse. Some constraints are selected by the user from the UI (like mandatory country presence, or number of warehouses to include in the solution)\n",
    "5. We use the `PULP_CBC_CMD` solver, because this is a simple problem.\n",
    "6. We extract 2 DataFrames from the solution:\n",
    "    * The warehouses from the solution\n",
    "    * The customer - warehouse relationship"
   ]
  },
  {
   "cell_type": "code",
   "execution_count": 15,
   "id": "4f1dd886",
   "metadata": {},
   "outputs": [],
   "source": [
    "def create_pulp_model(\n",
    "    df_warehouses,\n",
    "    df_customers,\n",
    "    distance_matrix,\n",
    "    optimize=\"price\",\n",
    "    number_of_warehouses=\"any\",\n",
    "    country_list=None,\n",
    "    price_per_km=4,\n",
    "    co2_per_km=2\n",
    "):\n",
    "    \"\"\"\n",
    "    Creates and solves the warehouse optimization problem using PuLP.\n",
    "    \"\"\"\n",
    "    df_warehouses = df_warehouses.copy()\n",
    "    df_customers = df_customers.copy()\n",
    "    df_warehouses[\"id\"] = df_warehouses.index\n",
    "    df_customers[\"id\"] = df_customers.index\n",
    "\n",
    "    prob = initialize_problem()\n",
    "    warehouse_var, assignment_var = define_variables(df_warehouses, df_customers)\n",
    "    set_objective_function(prob, assignment_var, warehouse_var, df_warehouses, df_customers, distance_matrix, optimize, price_per_km, co2_per_km)\n",
    "    add_constraints(prob, assignment_var, warehouse_var, df_warehouses, df_customers, number_of_warehouses, country_list)\n",
    "    prob.solve(pulp.PULP_CBC_CMD(msg=False))\n",
    "\n",
    "    return extract_results(warehouse_var, assignment_var, df_warehouses, df_customers, distance_matrix, price_per_km, co2_per_km)\n"
   ]
  },
  {
   "cell_type": "markdown",
   "id": "8e310d0e",
   "metadata": {},
   "source": [
    "## Using our function!\n",
    "\n",
    "We create a notebook cell with variables, feel free to change their value and then re-run the model below!"
   ]
  },
  {
   "cell_type": "code",
   "execution_count": 16,
   "id": "3248952d",
   "metadata": {},
   "outputs": [],
   "source": [
    "number_of_warehouses = 3\n",
    "optimize = \"price\"  # or \"co2\"\n",
    "country_list = [\"France\", \"Germany\"]  # optional\n",
    "price_per_km = 4\n",
    "co2_per_km = 2"
   ]
  },
  {
   "cell_type": "code",
   "execution_count": 17,
   "id": "c851eefd",
   "metadata": {},
   "outputs": [
    {
     "data": {
      "text/html": [
       "<div>\n",
       "<style scoped>\n",
       "    .dataframe tbody tr th:only-of-type {\n",
       "        vertical-align: middle;\n",
       "    }\n",
       "\n",
       "    .dataframe tbody tr th {\n",
       "        vertical-align: top;\n",
       "    }\n",
       "\n",
       "    .dataframe thead th {\n",
       "        text-align: right;\n",
       "    }\n",
       "</style>\n",
       "<table border=\"1\" class=\"dataframe\">\n",
       "  <thead>\n",
       "    <tr style=\"text-align: right;\">\n",
       "      <th></th>\n",
       "      <th>warehouse</th>\n",
       "      <th>country</th>\n",
       "      <th>city</th>\n",
       "      <th>latitude</th>\n",
       "      <th>longitude</th>\n",
       "      <th>yearly_cost</th>\n",
       "      <th>yearly_co2_tons</th>\n",
       "      <th>id</th>\n",
       "      <th>scenario_cost</th>\n",
       "      <th>scenario_co2_tons</th>\n",
       "      <th>scenario_orders</th>\n",
       "    </tr>\n",
       "  </thead>\n",
       "  <tbody>\n",
       "    <tr>\n",
       "      <th>0</th>\n",
       "      <td>Warehouse 3</td>\n",
       "      <td>Spain</td>\n",
       "      <td>Logroño</td>\n",
       "      <td>42.4627</td>\n",
       "      <td>-2.4444</td>\n",
       "      <td>850071</td>\n",
       "      <td>441</td>\n",
       "      <td>0</td>\n",
       "      <td>12008864</td>\n",
       "      <td>6020</td>\n",
       "      <td>6961</td>\n",
       "    </tr>\n",
       "    <tr>\n",
       "      <th>5</th>\n",
       "      <td>Warehouse 6</td>\n",
       "      <td>France</td>\n",
       "      <td>Grenoble</td>\n",
       "      <td>45.1885</td>\n",
       "      <td>5.7245</td>\n",
       "      <td>1232975</td>\n",
       "      <td>552</td>\n",
       "      <td>5</td>\n",
       "      <td>10227741</td>\n",
       "      <td>5049</td>\n",
       "      <td>4553</td>\n",
       "    </tr>\n",
       "    <tr>\n",
       "      <th>8</th>\n",
       "      <td>Warehouse 13</td>\n",
       "      <td>Germany</td>\n",
       "      <td>Karlsruhe</td>\n",
       "      <td>49.0069</td>\n",
       "      <td>8.4037</td>\n",
       "      <td>1687606</td>\n",
       "      <td>737</td>\n",
       "      <td>8</td>\n",
       "      <td>20322985</td>\n",
       "      <td>10054</td>\n",
       "      <td>12327</td>\n",
       "    </tr>\n",
       "  </tbody>\n",
       "</table>\n",
       "</div>"
      ],
      "text/plain": [
       "      warehouse  country       city  latitude  longitude  yearly_cost  \\\n",
       "0   Warehouse 3    Spain    Logroño   42.4627    -2.4444       850071   \n",
       "5   Warehouse 6   France   Grenoble   45.1885     5.7245      1232975   \n",
       "8  Warehouse 13  Germany  Karlsruhe   49.0069     8.4037      1687606   \n",
       "\n",
       "   yearly_co2_tons  id  scenario_cost  scenario_co2_tons  scenario_orders  \n",
       "0              441   0       12008864               6020             6961  \n",
       "5              552   5       10227741               5049             4553  \n",
       "8              737   8       20322985              10054            12327  "
      ]
     },
     "execution_count": 17,
     "metadata": {},
     "output_type": "execute_result"
    }
   ],
   "source": [
    "# Run optimization\n",
    "df_selected, df_assignments = create_pulp_model(\n",
    "    df_warehouses,\n",
    "    df_customers,\n",
    "    df_matrix,\n",
    "    optimize=optimize,\n",
    "    number_of_warehouses=number_of_warehouses,\n",
    "    country_list=country_list,\n",
    "    price_per_km=price_per_km,\n",
    "    co2_per_km=co2_per_km\n",
    ")\n",
    "\n",
    "# Display results\n",
    "df_selected.head()"
   ]
  },
  {
   "cell_type": "code",
   "execution_count": 18,
   "id": "a419574b",
   "metadata": {},
   "outputs": [
    {
     "data": {
      "text/html": [
       "<div>\n",
       "<style scoped>\n",
       "    .dataframe tbody tr th:only-of-type {\n",
       "        vertical-align: middle;\n",
       "    }\n",
       "\n",
       "    .dataframe tbody tr th {\n",
       "        vertical-align: top;\n",
       "    }\n",
       "\n",
       "    .dataframe thead th {\n",
       "        text-align: right;\n",
       "    }\n",
       "</style>\n",
       "<table border=\"1\" class=\"dataframe\">\n",
       "  <thead>\n",
       "    <tr style=\"text-align: right;\">\n",
       "      <th></th>\n",
       "      <th>warehouse</th>\n",
       "      <th>warehouse_lat</th>\n",
       "      <th>warehouse_lon</th>\n",
       "      <th>customer</th>\n",
       "      <th>customer_lat</th>\n",
       "      <th>customer_lon</th>\n",
       "      <th>distance_km</th>\n",
       "      <th>orders</th>\n",
       "      <th>total_cost</th>\n",
       "      <th>total_co2_kg</th>\n",
       "    </tr>\n",
       "  </thead>\n",
       "  <tbody>\n",
       "    <tr>\n",
       "      <th>0</th>\n",
       "      <td>Warehouse 3</td>\n",
       "      <td>42.4627</td>\n",
       "      <td>-2.4444</td>\n",
       "      <td>21 - Vázquez &amp; Asociados S.Com.</td>\n",
       "      <td>40.6292</td>\n",
       "      <td>-3.1614</td>\n",
       "      <td>212.425946</td>\n",
       "      <td>113</td>\n",
       "      <td>96016</td>\n",
       "      <td>48008</td>\n",
       "    </tr>\n",
       "    <tr>\n",
       "      <th>1</th>\n",
       "      <td>Warehouse 3</td>\n",
       "      <td>42.4627</td>\n",
       "      <td>-2.4444</td>\n",
       "      <td>8 - Rodrigues Pires S.A.</td>\n",
       "      <td>41.2956</td>\n",
       "      <td>-7.7464</td>\n",
       "      <td>457.646412</td>\n",
       "      <td>153</td>\n",
       "      <td>280079</td>\n",
       "      <td>140039</td>\n",
       "    </tr>\n",
       "    <tr>\n",
       "      <th>2</th>\n",
       "      <td>Warehouse 3</td>\n",
       "      <td>42.4627</td>\n",
       "      <td>-2.4444</td>\n",
       "      <td>11 - Logística VWFK S.L.L.</td>\n",
       "      <td>41.6523</td>\n",
       "      <td>-4.7236</td>\n",
       "      <td>208.623292</td>\n",
       "      <td>178</td>\n",
       "      <td>148539</td>\n",
       "      <td>74269</td>\n",
       "    </tr>\n",
       "    <tr>\n",
       "      <th>3</th>\n",
       "      <td>Warehouse 3</td>\n",
       "      <td>42.4627</td>\n",
       "      <td>-2.4444</td>\n",
       "      <td>20 - Soluciones BMV S.L.L.</td>\n",
       "      <td>39.9596</td>\n",
       "      <td>-4.8308</td>\n",
       "      <td>342.483312</td>\n",
       "      <td>207</td>\n",
       "      <td>283576</td>\n",
       "      <td>141788</td>\n",
       "    </tr>\n",
       "    <tr>\n",
       "      <th>4</th>\n",
       "      <td>Warehouse 3</td>\n",
       "      <td>42.4627</td>\n",
       "      <td>-2.4444</td>\n",
       "      <td>3 - Fernandes</td>\n",
       "      <td>38.5243</td>\n",
       "      <td>-8.8926</td>\n",
       "      <td>698.996247</td>\n",
       "      <td>207</td>\n",
       "      <td>578768</td>\n",
       "      <td>289384</td>\n",
       "    </tr>\n",
       "  </tbody>\n",
       "</table>\n",
       "</div>"
      ],
      "text/plain": [
       "     warehouse  warehouse_lat  warehouse_lon                         customer  \\\n",
       "0  Warehouse 3        42.4627        -2.4444  21 - Vázquez & Asociados S.Com.   \n",
       "1  Warehouse 3        42.4627        -2.4444         8 - Rodrigues Pires S.A.   \n",
       "2  Warehouse 3        42.4627        -2.4444       11 - Logística VWFK S.L.L.   \n",
       "3  Warehouse 3        42.4627        -2.4444       20 - Soluciones BMV S.L.L.   \n",
       "4  Warehouse 3        42.4627        -2.4444                    3 - Fernandes   \n",
       "\n",
       "   customer_lat  customer_lon  distance_km  orders  total_cost  total_co2_kg  \n",
       "0       40.6292       -3.1614   212.425946     113       96016         48008  \n",
       "1       41.2956       -7.7464   457.646412     153      280079        140039  \n",
       "2       41.6523       -4.7236   208.623292     178      148539         74269  \n",
       "3       39.9596       -4.8308   342.483312     207      283576        141788  \n",
       "4       38.5243       -8.8926   698.996247     207      578768        289384  "
      ]
     },
     "execution_count": 18,
     "metadata": {},
     "output_type": "execute_result"
    }
   ],
   "source": [
    "df_assignments.head()"
   ]
  },
  {
   "cell_type": "markdown",
   "id": "b82299e3",
   "metadata": {},
   "source": [
    "## Plotting the results!\n",
    "\n",
    "We create a different version of the map function to show the selected warehouses and the link o each customer:"
   ]
  },
  {
   "cell_type": "code",
   "execution_count": 19,
   "id": "289c0390",
   "metadata": {},
   "outputs": [],
   "source": [
    "def _prepare_data(df_assignments):\n",
    "    # Extract unique warehouses and customers\n",
    "    df_warehouses_unique = df_assignments[\n",
    "        [\"warehouse\", \"warehouse_lat\", \"warehouse_lon\"]\n",
    "    ].drop_duplicates()\n",
    "    df_warehouses_unique = df_warehouses_unique.rename(\n",
    "        columns={\"warehouse\": \"name\", \"warehouse_lat\": \"lat\", \"warehouse_lon\": \"lon\"}\n",
    "    )\n",
    "    df_warehouses_unique[\"type\"] = \"Warehouse\"\n",
    "\n",
    "    df_customers_unique = df_assignments[\n",
    "        [\"customer\", \"customer_lat\", \"customer_lon\"]\n",
    "    ].drop_duplicates()\n",
    "    df_customers_unique = df_customers_unique.rename(\n",
    "        columns={\"customer\": \"name\", \"customer_lat\": \"lat\", \"customer_lon\": \"lon\"}\n",
    "    )\n",
    "    df_customers_unique[\"type\"] = \"Customer\"\n",
    "\n",
    "    data = pd.concat([df_warehouses_unique, df_customers_unique], ignore_index=True)\n",
    "    return data\n",
    "\n",
    "\n",
    "def _add_columns_to_data(data):\n",
    "    # Prepare hover name and size\n",
    "    data[\"hover_name\"] = data.apply(\n",
    "        lambda row: (\n",
    "            f\"Warehouse {row['name']}\"\n",
    "            if row[\"type\"] == \"Warehouse\"\n",
    "            else f\"Customer: {row['name']}\"\n",
    "        ),\n",
    "        axis=1,\n",
    "    )\n",
    "    data[\"size\"] = data[\"type\"].map({\"Warehouse\": 22, \"Customer\": 5})\n",
    "    return data\n",
    "\n",
    "\n",
    "def plot_assignments(df_assignments):\n",
    "    data = _prepare_data(df_assignments)\n",
    "    data = _add_columns_to_data(data)\n",
    "\n",
    "    # Create the base figure with markers\n",
    "    fig = px.scatter_map(\n",
    "        data,\n",
    "        lat=\"lat\",\n",
    "        lon=\"lon\",\n",
    "        color=\"type\",\n",
    "        color_discrete_map={\"Customer\": \"blue\", \"Warehouse\": \"red\"},\n",
    "        size=\"size\",\n",
    "        hover_name=\"hover_name\",\n",
    "        hover_data={\n",
    "            \"lat\": False,\n",
    "            \"lon\": False,\n",
    "            \"type\": False,\n",
    "            \"name\": False,\n",
    "            \"size\": False,\n",
    "        },\n",
    "        map_style=\"carto-positron\",\n",
    "        zoom=3,\n",
    "        center={\"lat\": 50, \"lon\": 10},  # Center on Europe\n",
    "        size_max=10,\n",
    "    )\n",
    "\n",
    "    # Prepare line coordinates for assignments\n",
    "    lons = []\n",
    "    lats = []\n",
    "    for _, row in df_assignments.iterrows():\n",
    "        lons.extend([row[\"warehouse_lon\"], row[\"customer_lon\"], None])\n",
    "        lats.extend([row[\"warehouse_lat\"], row[\"customer_lat\"], None])\n",
    "\n",
    "    # Add lines to the figure\n",
    "    fig.add_trace(\n",
    "        go.Scattermap(\n",
    "            lon=lons,\n",
    "            lat=lats,\n",
    "            mode=\"lines\",\n",
    "            line=dict(width=1, color=\"#003399\"),\n",
    "            showlegend=False,\n",
    "        )\n",
    "    )\n",
    "\n",
    "    # Customize layout similar to the example function\n",
    "    fig.update_layout(\n",
    "        title=\"📍 Customer-Warehouse Assignments\",\n",
    "        height=700,\n",
    "        margin={\"r\": 0, \"t\": 50, \"l\": 0, \"b\": 0},\n",
    "        legend=dict(\n",
    "            x=0.02,\n",
    "            y=0.98,\n",
    "            bgcolor=\"rgba(255,255,255,0.8)\",\n",
    "            bordercolor=\"black\",\n",
    "            borderwidth=1,\n",
    "        ),\n",
    "    )\n",
    "\n",
    "    # Update hovertemplate to only show the hover_name\n",
    "    fig.update_traces(hovertemplate=\"<b>%{hovertext}</b><extra></extra>\")\n",
    "\n",
    "    return fig"
   ]
  },
  {
   "cell_type": "code",
   "execution_count": 20,
   "id": "81679aa6",
   "metadata": {},
   "outputs": [
    {
     "data": {
      "application/vnd.plotly.v1+json": {
       "config": {
        "plotlyServerURL": "https://plot.ly"
       },
       "data": [
        {
         "customdata": [
          [
           42.4627,
           -2.4444,
           "Warehouse",
           "Warehouse 3",
           22
          ],
          [
           45.1885,
           5.7245,
           "Warehouse",
           "Warehouse 6",
           22
          ],
          [
           49.0069,
           8.4037,
           "Warehouse",
           "Warehouse 13",
           22
          ]
         ],
         "hovertemplate": "<b>%{hovertext}</b><extra></extra>",
         "hovertext": [
          "Warehouse Warehouse 3",
          "Warehouse Warehouse 6",
          "Warehouse Warehouse 13"
         ],
         "lat": {
          "bdata": "+u3rwDk7RUDjpZvEIJhGQNQrZRnigEhA",
          "dtype": "f8"
         },
         "legendgroup": "Warehouse",
         "lon": {
          "bdata": "PL1SliGOA8DZzvdT4+UWQFjKMsSxziBA",
          "dtype": "f8"
         },
         "marker": {
          "color": "red",
          "size": {
           "bdata": "FhYW",
           "dtype": "i1"
          },
          "sizemode": "area",
          "sizeref": 0.22
         },
         "mode": "markers",
         "name": "Warehouse",
         "showlegend": true,
         "subplot": "map",
         "type": "scattermap"
        },
        {
         "customdata": [
          [
           40.6292,
           -3.1614,
           "Customer",
           "21 - Vázquez & Asociados S.Com.",
           5
          ],
          [
           41.2956,
           -7.7464,
           "Customer",
           "8 - Rodrigues Pires S.A.",
           5
          ],
          [
           41.6523,
           -4.7236,
           "Customer",
           "11 - Logística VWFK S.L.L.",
           5
          ],
          [
           39.9596,
           -4.8308,
           "Customer",
           "20 - Soluciones BMV S.L.L.",
           5
          ],
          [
           38.5243,
           -8.8926,
           "Customer",
           "3 - Fernandes",
           5
          ],
          [
           44.8378,
           -0.5792,
           "Customer",
           "31 - Hardy Thomas S.A.",
           5
          ],
          [
           43.263,
           -2.935,
           "Customer",
           "17 - Talleres OSMZ S.Com.",
           5
          ],
          [
           38.7169,
           -9.1399,
           "Customer",
           "2 - Araújo",
           5
          ],
          [
           41.1496,
           -8.6109,
           "Customer",
           "1 - Campos S/A",
           5
          ],
          [
           37.0194,
           -7.9302,
           "Customer",
           "6 - Machado",
           5
          ],
          [
           42.2406,
           -8.7207,
           "Customer",
           "18 - Cadenas y Tejero S.L.N.E",
           5
          ],
          [
           43.6045,
           1.4442,
           "Customer",
           "30 - Moulin Merle et Fils",
           5
          ],
          [
           36.742,
           -3.5179,
           "Customer",
           "16 - Suministros Cabrera & Asociados S.A.",
           5
          ],
          [
           40.6405,
           -8.6538,
           "Customer",
           "4 - Ferreira",
           5
          ],
          [
           38.9943,
           -1.8585,
           "Customer",
           "14 - Servicios Pont & Asociados S.A.",
           5
          ],
          [
           48.1173,
           -1.6778,
           "Customer",
           "33 - Ferreira",
           5
          ],
          [
           42.5987,
           -5.5671,
           "Customer",
           "15 - Suministros Globales S.A.",
           5
          ],
          [
           48.3904,
           -4.4861,
           "Customer",
           "34 - Gros",
           5
          ],
          [
           44.8562,
           0.4819,
           "Customer",
           "39 - Neveu",
           5
          ],
          [
           41.6488,
           -0.8891,
           "Customer",
           "12 - Sierra y Blanca S.L.U.",
           5
          ],
          [
           42.3439,
           -3.6969,
           "Customer",
           "13 - Juana Costa Isern S.L.U.",
           5
          ],
          [
           42.5078,
           1.5211,
           "Customer",
           "9 - Alba & Asociados S.L.L.",
           5
          ],
          [
           41.6696,
           -3.6892,
           "Customer",
           "10 - Despacho Ferrando S.A.U",
           5
          ],
          [
           38.1401,
           -7.4486,
           "Customer",
           "7 - Pereira",
           5
          ],
          [
           42.8125,
           -1.6458,
           "Customer",
           "19 - Instalaciones del Noroeste S.L.U.",
           5
          ],
          [
           41.4969,
           -6.2732,
           "Customer",
           "5 - Figueiredo",
           5
          ],
          [
           44.4949,
           11.3426,
           "Customer",
           "64 - Lombardo-Martinelli SPA",
           5
          ],
          [
           45.764,
           4.8357,
           "Customer",
           "24 - Girard",
           5
          ],
          [
           44.8015,
           10.3279,
           "Customer",
           "67 - Ariasso, Fibonacci e Campano SPA",
           5
          ],
          [
           41.4598,
           12.8461,
           "Customer",
           "73 - Roccabonella-Finzi SPA",
           5
          ],
          [
           44.6471,
           10.9252,
           "Customer",
           "68 - Redi e figli",
           5
          ],
          [
           44.4056,
           8.9463,
           "Customer",
           "62 - Bertoni, Pellico e Bettin Group",
           5
          ],
          [
           42.4618,
           14.2139,
           "Customer",
           "72 - Almagià-Loredan s.r.l.",
           5
          ],
          [
           43.7102,
           7.262,
           "Customer",
           "32 - Fleury",
           5
          ],
          [
           47.3941,
           0.6848,
           "Customer",
           "35 - Bègue Munoz et Fils",
           5
          ],
          [
           45.0703,
           7.6869,
           "Customer",
           "61 - Garozzo-Spanevello e figli",
           5
          ],
          [
           43.7384,
           7.4246,
           "Customer",
           "94 - Bouchet SARL",
           5
          ],
          [
           45.4384,
           10.9916,
           "Customer",
           "65 - Canil-Rosselli s.r.l.",
           5
          ],
          [
           46.948,
           7.4474,
           "Customer",
           "88 - Rosenow Wiek GmbH",
           5
          ],
          [
           44.9333,
           4.8924,
           "Customer",
           "40 - Guérin",
           5
          ],
          [
           45.5416,
           10.2118,
           "Customer",
           "63 - Aloisio, Sraffa e Ceci s.r.l.",
           5
          ],
          [
           38.9108,
           16.5874,
           "Customer",
           "70 - Rensi-Giorgetti SPA",
           5
          ],
          [
           43.9415,
           12.4474,
           "Customer",
           "93 - Cerquiglini-Capone e figli",
           5
          ],
          [
           41.0822,
           14.3346,
           "Customer",
           "71 - Surian-Carosone e figli",
           5
          ],
          [
           45.4397,
           4.3872,
           "Customer",
           "41 - Legrand Dos Santos et Fils",
           5
          ],
          [
           41.4623,
           15.5446,
           "Customer",
           "74 - Morricone SPA",
           5
          ],
          [
           47.322,
           5.0415,
           "Customer",
           "28 - Mallet",
           5
          ],
          [
           38.1112,
           15.6473,
           "Customer",
           "69 - Foà, Scarpetta e Monte s.r.l.",
           5
          ],
          [
           51.0543,
           3.7174,
           "Customer",
           "78 - Meyer-Gustin",
           5
          ],
          [
           48.5734,
           7.7521,
           "Customer",
           "26 - Boulanger SA",
           5
          ],
          [
           51.4556,
           7.0116,
           "Customer",
           "42 - Scholtz Weitzel GmbH",
           5
          ],
          [
           52.52,
           13.405,
           "Customer",
           "50 - Kohl Lorch KG",
           5
          ],
          [
           49.1193,
           6.1757,
           "Customer",
           "22 - Hervé",
           5
          ],
          [
           51.9225,
           4.4792,
           "Customer",
           "80 - Koninklijke van Cuijck",
           5
          ],
          [
           50.6326,
           5.5797,
           "Customer",
           "76 - Ghislain-Motte",
           5
          ],
          [
           48.3069,
           14.2858,
           "Customer",
           "60 - Kensy Etzler AG",
           5
          ],
          [
           48.6797,
           2.35,
           "Customer",
           "38 - Leclerc",
           5
          ],
          [
           51.2076,
           16.1589,
           "Customer",
           "86 - Kurzyna-Semenowicz Sp. z o.o.",
           5
          ],
          [
           48.7758,
           9.1829,
           "Customer",
           "44 - Ladeck Lorch KG",
           5
          ],
          [
           51.2194,
           4.4025,
           "Customer",
           "77 - Delhaye, Gilles and Dubois",
           5
          ],
          [
           48.3705,
           10.8978,
           "Customer",
           "52 - Jopich",
           5
          ],
          [
           50.4114,
           4.4445,
           "Customer",
           "75 - Lemaire, Delattre and Wouters",
           5
          ],
          [
           47.8095,
           13.055,
           "Customer",
           "58 - Geisler Stadelmann GmbH & Co. OHG",
           5
          ],
          [
           49.4432,
           1.0999,
           "Customer",
           "25 - Gérard",
           5
          ],
          [
           49.4875,
           8.466,
           "Customer",
           "46 - Weiß Schäfer GbR",
           5
          ],
          [
           48.8924,
           2.2153,
           "Customer",
           "37 - Bertin",
           5
          ],
          [
           51.9607,
           7.6261,
           "Customer",
           "53 - Mende GmbH",
           5
          ],
          [
           49.7913,
           9.9534,
           "Customer",
           "55 - Steinberg AG",
           5
          ],
          [
           49.1951,
           16.6068,
           "Customer",
           "90 - Růžička",
           5
          ],
          [
           49.4958,
           5.9804,
           "Customer",
           "91 - Sevrin, Gustin and De Clercq",
           5
          ],
          [
           51.3397,
           12.3731,
           "Customer",
           "45 - Peukert AG & Co. KG",
           5
          ],
          [
           47.999,
           7.8421,
           "Customer",
           "51 - Geisel",
           5
          ],
          [
           47.165,
           9.5087,
           "Customer",
           "92 - Holzapfel Tintzmann KGaA",
           5
          ],
          [
           51.5136,
           7.4653,
           "Customer",
           "43 - Fliegner",
           5
          ],
          [
           50.9787,
           11.0328,
           "Customer",
           "57 - Lindau",
           5
          ],
          [
           49.2583,
           4.0317,
           "Customer",
           "29 - Bouchet",
           5
          ],
          [
           51.7592,
           19.455,
           "Customer",
           "84 - Majorczyk-Groth Sp.k.",
           5
          ],
          [
           47.0707,
           15.4395,
           "Customer",
           "59 - Reichmann",
           5
          ],
          [
           51.1079,
           17.0385,
           "Customer",
           "82 - Grupa Wota-Breś i syn s.c.",
           5
          ],
          [
           51.2277,
           6.7735,
           "Customer",
           "48 - Süßebier",
           5
          ],
          [
           48.5459,
           2.6458,
           "Customer",
           "36 - Da Silva",
           5
          ],
          [
           47.6603,
           9.1758,
           "Customer",
           "56 - Bolzmann",
           5
          ],
          [
           53.6956,
           17.5573,
           "Customer",
           "85 - Stowarzyszenie Lada",
           5
          ],
          [
           50.9375,
           6.9603,
           "Customer",
           "49 - Martin GbR",
           5
          ],
          [
           47.4999,
           8.7266,
           "Customer",
           "87 - Killer",
           5
          ],
          [
           56.1629,
           10.2039,
           "Customer",
           "89 - Thygesen & Søn A/S",
           5
          ],
          [
           51.4416,
           5.4697,
           "Customer",
           "79 - de Bruyn & van Goerle",
           5
          ],
          [
           52.0907,
           5.1214,
           "Customer",
           "81 - Royal Chrodtrud",
           5
          ],
          [
           50.6292,
           3.0573,
           "Customer",
           "23 - Garcia Chartier SA",
           5
          ],
          [
           48.6921,
           6.1844,
           "Customer",
           "27 - Durand",
           5
          ],
          [
           53.0793,
           8.8017,
           "Customer",
           "47 - Dippel GmbH",
           5
          ],
          [
           45.4064,
           11.8779,
           "Customer",
           "66 - Spinelli, Duodo e Balla e figli",
           5
          ],
          [
           48.4,
           9.9833,
           "Customer",
           "54 - Kraus",
           5
          ],
          [
           50.2707,
           19.0399,
           "Customer",
           "83 - Bubak S.A.",
           5
          ]
         ],
         "hovertemplate": "<b>%{hovertext}</b><extra></extra>",
         "hovertext": [
          "Customer: 21 - Vázquez & Asociados S.Com.",
          "Customer: 8 - Rodrigues Pires S.A.",
          "Customer: 11 - Logística VWFK S.L.L.",
          "Customer: 20 - Soluciones BMV S.L.L.",
          "Customer: 3 - Fernandes",
          "Customer: 31 - Hardy Thomas S.A.",
          "Customer: 17 - Talleres OSMZ S.Com.",
          "Customer: 2 - Araújo",
          "Customer: 1 - Campos S/A",
          "Customer: 6 - Machado",
          "Customer: 18 - Cadenas y Tejero S.L.N.E",
          "Customer: 30 - Moulin Merle et Fils",
          "Customer: 16 - Suministros Cabrera & Asociados S.A.",
          "Customer: 4 - Ferreira",
          "Customer: 14 - Servicios Pont & Asociados S.A.",
          "Customer: 33 - Ferreira",
          "Customer: 15 - Suministros Globales S.A.",
          "Customer: 34 - Gros",
          "Customer: 39 - Neveu",
          "Customer: 12 - Sierra y Blanca S.L.U.",
          "Customer: 13 - Juana Costa Isern S.L.U.",
          "Customer: 9 - Alba & Asociados S.L.L.",
          "Customer: 10 - Despacho Ferrando S.A.U",
          "Customer: 7 - Pereira",
          "Customer: 19 - Instalaciones del Noroeste S.L.U.",
          "Customer: 5 - Figueiredo",
          "Customer: 64 - Lombardo-Martinelli SPA",
          "Customer: 24 - Girard",
          "Customer: 67 - Ariasso, Fibonacci e Campano SPA",
          "Customer: 73 - Roccabonella-Finzi SPA",
          "Customer: 68 - Redi e figli",
          "Customer: 62 - Bertoni, Pellico e Bettin Group",
          "Customer: 72 - Almagià-Loredan s.r.l.",
          "Customer: 32 - Fleury",
          "Customer: 35 - Bègue Munoz et Fils",
          "Customer: 61 - Garozzo-Spanevello e figli",
          "Customer: 94 - Bouchet SARL",
          "Customer: 65 - Canil-Rosselli s.r.l.",
          "Customer: 88 - Rosenow Wiek GmbH",
          "Customer: 40 - Guérin",
          "Customer: 63 - Aloisio, Sraffa e Ceci s.r.l.",
          "Customer: 70 - Rensi-Giorgetti SPA",
          "Customer: 93 - Cerquiglini-Capone e figli",
          "Customer: 71 - Surian-Carosone e figli",
          "Customer: 41 - Legrand Dos Santos et Fils",
          "Customer: 74 - Morricone SPA",
          "Customer: 28 - Mallet",
          "Customer: 69 - Foà, Scarpetta e Monte s.r.l.",
          "Customer: 78 - Meyer-Gustin",
          "Customer: 26 - Boulanger SA",
          "Customer: 42 - Scholtz Weitzel GmbH",
          "Customer: 50 - Kohl Lorch KG",
          "Customer: 22 - Hervé",
          "Customer: 80 - Koninklijke van Cuijck",
          "Customer: 76 - Ghislain-Motte",
          "Customer: 60 - Kensy Etzler AG",
          "Customer: 38 - Leclerc",
          "Customer: 86 - Kurzyna-Semenowicz Sp. z o.o.",
          "Customer: 44 - Ladeck Lorch KG",
          "Customer: 77 - Delhaye, Gilles and Dubois",
          "Customer: 52 - Jopich",
          "Customer: 75 - Lemaire, Delattre and Wouters",
          "Customer: 58 - Geisler Stadelmann GmbH & Co. OHG",
          "Customer: 25 - Gérard",
          "Customer: 46 - Weiß Schäfer GbR",
          "Customer: 37 - Bertin",
          "Customer: 53 - Mende GmbH",
          "Customer: 55 - Steinberg AG",
          "Customer: 90 - Růžička",
          "Customer: 91 - Sevrin, Gustin and De Clercq",
          "Customer: 45 - Peukert AG & Co. KG",
          "Customer: 51 - Geisel",
          "Customer: 92 - Holzapfel Tintzmann KGaA",
          "Customer: 43 - Fliegner",
          "Customer: 57 - Lindau",
          "Customer: 29 - Bouchet",
          "Customer: 84 - Majorczyk-Groth Sp.k.",
          "Customer: 59 - Reichmann",
          "Customer: 82 - Grupa Wota-Breś i syn s.c.",
          "Customer: 48 - Süßebier",
          "Customer: 36 - Da Silva",
          "Customer: 56 - Bolzmann",
          "Customer: 85 - Stowarzyszenie Lada",
          "Customer: 49 - Martin GbR",
          "Customer: 87 - Killer",
          "Customer: 89 - Thygesen & Søn A/S",
          "Customer: 79 - de Bruyn & van Goerle",
          "Customer: 81 - Royal Chrodtrud",
          "Customer: 23 - Garcia Chartier SA",
          "Customer: 27 - Durand",
          "Customer: 47 - Dippel GmbH",
          "Customer: 66 - Spinelli, Duodo e Balla e figli",
          "Customer: 54 - Kraus",
          "Customer: 83 - Bubak S.A."
         ],
         "lat": {
          "bdata": "VFInoIlQREBLWYY41qVEQCSX/5B+00RA7Z48LNT6Q0B6pSxDHENDQF5LyAc9a0ZAi2zn+6mhRUBPQBNhw1tDQKW9wRcmk0RAbcX+snuCQkB0tRX7yx5FQEw3iUFgzUVA5dAi2/leQkBEi2zn+1FEQNc07zhFf0NAEOm3rwMPSEC/DpwzokxFQOAtkKD4MUhA6Gor9pdtRkCJ0t7gC9NEQBWMSuoELEVAVHQkl/9ARUBos+pztdVEQLUV+8vuEUNAAAAAAABoRUDysFBrmr9EQCxlGeJYP0ZAbxKDwMrhRkA730+Nl2ZGQLRZ9bnaukRA7Z48LNRSRkD5oGez6jNGQHqlLEMcO0VAQs9m1efaRUBDrWnecbJHQFR0JJf/iEZA5q4l5IPeRUCASL99HbhGQNNNYhBYeUdArK3YX3Z3RkC+wRcmU8VGQDGZKhiVdENAjZduEoP4RUCY3ZOHhYpEQI4G8BZIuEZAbHh6pSy7REDwp8ZLN6lHQFioNc07DkNAHhZqTfOGSUBhw9MrZUlIQF8HzhlRuklAw/UoXI9CSkDXNO84RY9IQK5H4XoU9klAjLlrCflQSUA6kst/SCdIQKyL22gAV0hAJlMFo5KaSUBPHhZqTWNIQAdfmEwVnElAgZVDi2wvSECGyVTBqDRJQFYOLbKd50dAKcsQx7q4SEBmZmZmZr5IQKd5xyk6ckhANKK0N/j6SUCTqYJRSeVIQIy5awn5mEhArK3YX3a/SEDBOSNKe6tJQB1aZDvf/0dAhetRuB6VR0DgnBGlvcFJQDBMpgpGfUlARUdy+Q+hSEDFjzF3LeFJQOLplbIMiUdAhJ7Nqs+NSUBMpgpGJZ1JQHZxGw3gRUhAP8bctYTUR0B+jLlrCdlKQAAAAAAAeElAnKIjufy/R0BbQj7o2RRMQPH0SlmGuElApN++DpwLSkBUUiegiVBJQOPHmLuWWEhAUkmdgCaKSkAVjErqBLRGQDMzMzMzM0hAe4MvTKYiSUA=",
          "dtype": "f8"
         },
         "legendgroup": "Customer",
         "lon": {
          "bdata": "X5hMFYxKCcAH8BZIUPwewNuK/WX35BLANBE2PL1SE8C30QDeAskhwH/7OnDOiOK/exSuR+F6B8C6awn5oEciwLhAguLHOCHA8fRKWYa4H8BUdCSX/3AhwJYhjnVxG/c/hslUwagkDMDmP6Tfvk4hwCPb+X5qvP2/KqkT0ETY+r8UP8bctUQWwKhXyjLE8RHASFD8GHPX3j+I9NvXgXPsv8GopE5Akw3ALSEf9GxW+D/BOSNKe4MNwEHxY8xdyx3A2ht8YTJV+r+dEaW9wRcZwB04Z0RpryZAnRGlvcFXE0CAt0CC4qckQIxK6gQ0sSlAtoR80LPZJUDcaABvgeQhQJM6AU2EbSxAPzVeukkMHUAnoImw4enlP1Z9rrZivx5AwoanV8qyHUBdbcX+svslQO7rwDkjyh1ANs07TtGRE0DqlbIMcWwkQJ+rrdhfljBA93XgnBHlKECze/KwUKssQHgLJCh+jBFAn82qz9UWL0DRItv5fioUQM9m1edqSy9ABTQRNjy9DUBSSZ2AJgIfQM6I0t7gCxxAj8L1KFzPKkD5oGez6rMYQAn5oGez6hFA/fZ14JxRFkDDZKpgVJIsQM3MzMzMzAJAm1Wfq60oMEB24JwRpV0iQFyPwvUonBFAlrIMcazLJUC6SQwCK8cRQFyPwvUoHCpAKe0NvjCZ8T8730+Nl+4gQGKh1jTvuAFANxrAWyCBHkBHA3gLJOgjQHo2qz5XmzBAXf5D+u3rF0B0RpT2Br8oQK7YX3ZPXh9ATfOOU3QEI0CxUGuad9wdQBueXinLECZA/yH99nUgEEAUrkfhenQzQBsv3SQG4S5AYOXQItsJMUDy0k1iEBgbQO0NvjCZKgVAC0YldQJaIkCRD3o2q44xQCxlGeJY1xtAFYxK6gR0IUAOT6+UZWgkQIy5awn54BVAB/AWSFB8FECFfNCzWXUIQJSHhVrTvBhACmgibHiaIUAaUdobfMEnQEhQ/Bhz9yNAQxzr4jYKM0A=",
          "dtype": "f8"
         },
         "marker": {
          "color": "blue",
          "size": {
           "bdata": "BQUFBQUFBQUFBQUFBQUFBQUFBQUFBQUFBQUFBQUFBQUFBQUFBQUFBQUFBQUFBQUFBQUFBQUFBQUFBQUFBQUFBQUFBQUFBQUFBQUFBQUFBQUFBQUFBQUFBQUFBQUFBQ==",
           "dtype": "i1"
          },
          "sizemode": "area",
          "sizeref": 0.22
         },
         "mode": "markers",
         "name": "Customer",
         "showlegend": true,
         "subplot": "map",
         "type": "scattermap"
        },
        {
         "hovertemplate": "<b>%{hovertext}</b><extra></extra>",
         "lat": [
          42.4627,
          40.6292,
          null,
          42.4627,
          41.2956,
          null,
          42.4627,
          41.6523,
          null,
          42.4627,
          39.9596,
          null,
          42.4627,
          38.5243,
          null,
          42.4627,
          44.8378,
          null,
          42.4627,
          43.263,
          null,
          42.4627,
          38.7169,
          null,
          42.4627,
          41.1496,
          null,
          42.4627,
          37.0194,
          null,
          42.4627,
          42.2406,
          null,
          42.4627,
          43.6045,
          null,
          42.4627,
          36.742,
          null,
          42.4627,
          40.6405,
          null,
          42.4627,
          38.9943,
          null,
          42.4627,
          48.1173,
          null,
          42.4627,
          42.5987,
          null,
          42.4627,
          48.3904,
          null,
          42.4627,
          44.8562,
          null,
          42.4627,
          41.6488,
          null,
          42.4627,
          42.3439,
          null,
          42.4627,
          42.5078,
          null,
          42.4627,
          41.6696,
          null,
          42.4627,
          38.1401,
          null,
          42.4627,
          42.8125,
          null,
          42.4627,
          41.4969,
          null,
          45.1885,
          44.4949,
          null,
          45.1885,
          45.764,
          null,
          45.1885,
          44.8015,
          null,
          45.1885,
          41.4598,
          null,
          45.1885,
          44.6471,
          null,
          45.1885,
          44.4056,
          null,
          45.1885,
          42.4618,
          null,
          45.1885,
          43.7102,
          null,
          45.1885,
          47.3941,
          null,
          45.1885,
          45.0703,
          null,
          45.1885,
          43.7384,
          null,
          45.1885,
          45.4384,
          null,
          45.1885,
          46.948,
          null,
          45.1885,
          44.9333,
          null,
          45.1885,
          45.5416,
          null,
          45.1885,
          38.9108,
          null,
          45.1885,
          43.9415,
          null,
          45.1885,
          41.0822,
          null,
          45.1885,
          45.4397,
          null,
          45.1885,
          41.4623,
          null,
          45.1885,
          47.322,
          null,
          45.1885,
          38.1112,
          null,
          49.0069,
          51.0543,
          null,
          49.0069,
          48.5734,
          null,
          49.0069,
          51.4556,
          null,
          49.0069,
          52.52,
          null,
          49.0069,
          49.1193,
          null,
          49.0069,
          51.9225,
          null,
          49.0069,
          50.6326,
          null,
          49.0069,
          48.3069,
          null,
          49.0069,
          48.6797,
          null,
          49.0069,
          51.2076,
          null,
          49.0069,
          48.7758,
          null,
          49.0069,
          51.2194,
          null,
          49.0069,
          48.3705,
          null,
          49.0069,
          50.4114,
          null,
          49.0069,
          47.8095,
          null,
          49.0069,
          49.4432,
          null,
          49.0069,
          49.4875,
          null,
          49.0069,
          48.8924,
          null,
          49.0069,
          51.9607,
          null,
          49.0069,
          49.7913,
          null,
          49.0069,
          49.1951,
          null,
          49.0069,
          49.4958,
          null,
          49.0069,
          51.3397,
          null,
          49.0069,
          47.999,
          null,
          49.0069,
          47.165,
          null,
          49.0069,
          51.5136,
          null,
          49.0069,
          50.9787,
          null,
          49.0069,
          49.2583,
          null,
          49.0069,
          51.7592,
          null,
          49.0069,
          47.0707,
          null,
          49.0069,
          51.1079,
          null,
          49.0069,
          51.2277,
          null,
          49.0069,
          48.5459,
          null,
          49.0069,
          47.6603,
          null,
          49.0069,
          53.6956,
          null,
          49.0069,
          50.9375,
          null,
          49.0069,
          47.4999,
          null,
          49.0069,
          56.1629,
          null,
          49.0069,
          51.4416,
          null,
          49.0069,
          52.0907,
          null,
          49.0069,
          50.6292,
          null,
          49.0069,
          48.6921,
          null,
          49.0069,
          53.0793,
          null,
          49.0069,
          45.4064,
          null,
          49.0069,
          48.4,
          null,
          49.0069,
          50.2707,
          null
         ],
         "line": {
          "color": "#003399",
          "width": 1
         },
         "lon": [
          -2.4444,
          -3.1614,
          null,
          -2.4444,
          -7.7464,
          null,
          -2.4444,
          -4.7236,
          null,
          -2.4444,
          -4.8308,
          null,
          -2.4444,
          -8.8926,
          null,
          -2.4444,
          -0.5792,
          null,
          -2.4444,
          -2.935,
          null,
          -2.4444,
          -9.1399,
          null,
          -2.4444,
          -8.6109,
          null,
          -2.4444,
          -7.9302,
          null,
          -2.4444,
          -8.7207,
          null,
          -2.4444,
          1.4442,
          null,
          -2.4444,
          -3.5179,
          null,
          -2.4444,
          -8.6538,
          null,
          -2.4444,
          -1.8585,
          null,
          -2.4444,
          -1.6778,
          null,
          -2.4444,
          -5.5671,
          null,
          -2.4444,
          -4.4861,
          null,
          -2.4444,
          0.4819,
          null,
          -2.4444,
          -0.8891,
          null,
          -2.4444,
          -3.6969,
          null,
          -2.4444,
          1.5211,
          null,
          -2.4444,
          -3.6892,
          null,
          -2.4444,
          -7.4486,
          null,
          -2.4444,
          -1.6458,
          null,
          -2.4444,
          -6.2732,
          null,
          5.7245,
          11.3426,
          null,
          5.7245,
          4.8357,
          null,
          5.7245,
          10.3279,
          null,
          5.7245,
          12.8461,
          null,
          5.7245,
          10.9252,
          null,
          5.7245,
          8.9463,
          null,
          5.7245,
          14.2139,
          null,
          5.7245,
          7.262,
          null,
          5.7245,
          0.6848,
          null,
          5.7245,
          7.6869,
          null,
          5.7245,
          7.4246,
          null,
          5.7245,
          10.9916,
          null,
          5.7245,
          7.4474,
          null,
          5.7245,
          4.8924,
          null,
          5.7245,
          10.2118,
          null,
          5.7245,
          16.5874,
          null,
          5.7245,
          12.4474,
          null,
          5.7245,
          14.3346,
          null,
          5.7245,
          4.3872,
          null,
          5.7245,
          15.5446,
          null,
          5.7245,
          5.0415,
          null,
          5.7245,
          15.6473,
          null,
          8.4037,
          3.7174,
          null,
          8.4037,
          7.7521,
          null,
          8.4037,
          7.0116,
          null,
          8.4037,
          13.405,
          null,
          8.4037,
          6.1757,
          null,
          8.4037,
          4.4792,
          null,
          8.4037,
          5.5797,
          null,
          8.4037,
          14.2858,
          null,
          8.4037,
          2.35,
          null,
          8.4037,
          16.1589,
          null,
          8.4037,
          9.1829,
          null,
          8.4037,
          4.4025,
          null,
          8.4037,
          10.8978,
          null,
          8.4037,
          4.4445,
          null,
          8.4037,
          13.055,
          null,
          8.4037,
          1.0999,
          null,
          8.4037,
          8.466,
          null,
          8.4037,
          2.2153,
          null,
          8.4037,
          7.6261,
          null,
          8.4037,
          9.9534,
          null,
          8.4037,
          16.6068,
          null,
          8.4037,
          5.9804,
          null,
          8.4037,
          12.3731,
          null,
          8.4037,
          7.8421,
          null,
          8.4037,
          9.5087,
          null,
          8.4037,
          7.4653,
          null,
          8.4037,
          11.0328,
          null,
          8.4037,
          4.0317,
          null,
          8.4037,
          19.455,
          null,
          8.4037,
          15.4395,
          null,
          8.4037,
          17.0385,
          null,
          8.4037,
          6.7735,
          null,
          8.4037,
          2.6458,
          null,
          8.4037,
          9.1758,
          null,
          8.4037,
          17.5573,
          null,
          8.4037,
          6.9603,
          null,
          8.4037,
          8.7266,
          null,
          8.4037,
          10.2039,
          null,
          8.4037,
          5.4697,
          null,
          8.4037,
          5.1214,
          null,
          8.4037,
          3.0573,
          null,
          8.4037,
          6.1844,
          null,
          8.4037,
          8.8017,
          null,
          8.4037,
          11.8779,
          null,
          8.4037,
          9.9833,
          null,
          8.4037,
          19.0399,
          null
         ],
         "mode": "lines",
         "showlegend": false,
         "type": "scattermap"
        }
       ],
       "layout": {
        "height": 700,
        "legend": {
         "bgcolor": "rgba(255,255,255,0.8)",
         "bordercolor": "black",
         "borderwidth": 1,
         "itemsizing": "constant",
         "title": {
          "text": "type"
         },
         "tracegroupgap": 0,
         "x": 0.02,
         "y": 0.98
        },
        "map": {
         "center": {
          "lat": 50,
          "lon": 10
         },
         "domain": {
          "x": [
           0,
           1
          ],
          "y": [
           0,
           1
          ]
         },
         "style": "carto-positron",
         "zoom": 3
        },
        "mapbox": {
         "center": {
          "lat": 50,
          "lon": 10
         },
         "style": "carto-positron",
         "zoom": 3
        },
        "margin": {
         "b": 0,
         "l": 0,
         "r": 0,
         "t": 50
        },
        "template": {
         "data": {
          "bar": [
           {
            "error_x": {
             "color": "#2a3f5f"
            },
            "error_y": {
             "color": "#2a3f5f"
            },
            "marker": {
             "line": {
              "color": "#E5ECF6",
              "width": 0.5
             },
             "pattern": {
              "fillmode": "overlay",
              "size": 10,
              "solidity": 0.2
             }
            },
            "type": "bar"
           }
          ],
          "barpolar": [
           {
            "marker": {
             "line": {
              "color": "#E5ECF6",
              "width": 0.5
             },
             "pattern": {
              "fillmode": "overlay",
              "size": 10,
              "solidity": 0.2
             }
            },
            "type": "barpolar"
           }
          ],
          "carpet": [
           {
            "aaxis": {
             "endlinecolor": "#2a3f5f",
             "gridcolor": "white",
             "linecolor": "white",
             "minorgridcolor": "white",
             "startlinecolor": "#2a3f5f"
            },
            "baxis": {
             "endlinecolor": "#2a3f5f",
             "gridcolor": "white",
             "linecolor": "white",
             "minorgridcolor": "white",
             "startlinecolor": "#2a3f5f"
            },
            "type": "carpet"
           }
          ],
          "choropleth": [
           {
            "colorbar": {
             "outlinewidth": 0,
             "ticks": ""
            },
            "type": "choropleth"
           }
          ],
          "contour": [
           {
            "colorbar": {
             "outlinewidth": 0,
             "ticks": ""
            },
            "colorscale": [
             [
              0,
              "#0d0887"
             ],
             [
              0.1111111111111111,
              "#46039f"
             ],
             [
              0.2222222222222222,
              "#7201a8"
             ],
             [
              0.3333333333333333,
              "#9c179e"
             ],
             [
              0.4444444444444444,
              "#bd3786"
             ],
             [
              0.5555555555555556,
              "#d8576b"
             ],
             [
              0.6666666666666666,
              "#ed7953"
             ],
             [
              0.7777777777777778,
              "#fb9f3a"
             ],
             [
              0.8888888888888888,
              "#fdca26"
             ],
             [
              1,
              "#f0f921"
             ]
            ],
            "type": "contour"
           }
          ],
          "contourcarpet": [
           {
            "colorbar": {
             "outlinewidth": 0,
             "ticks": ""
            },
            "type": "contourcarpet"
           }
          ],
          "heatmap": [
           {
            "colorbar": {
             "outlinewidth": 0,
             "ticks": ""
            },
            "colorscale": [
             [
              0,
              "#0d0887"
             ],
             [
              0.1111111111111111,
              "#46039f"
             ],
             [
              0.2222222222222222,
              "#7201a8"
             ],
             [
              0.3333333333333333,
              "#9c179e"
             ],
             [
              0.4444444444444444,
              "#bd3786"
             ],
             [
              0.5555555555555556,
              "#d8576b"
             ],
             [
              0.6666666666666666,
              "#ed7953"
             ],
             [
              0.7777777777777778,
              "#fb9f3a"
             ],
             [
              0.8888888888888888,
              "#fdca26"
             ],
             [
              1,
              "#f0f921"
             ]
            ],
            "type": "heatmap"
           }
          ],
          "histogram": [
           {
            "marker": {
             "pattern": {
              "fillmode": "overlay",
              "size": 10,
              "solidity": 0.2
             }
            },
            "type": "histogram"
           }
          ],
          "histogram2d": [
           {
            "colorbar": {
             "outlinewidth": 0,
             "ticks": ""
            },
            "colorscale": [
             [
              0,
              "#0d0887"
             ],
             [
              0.1111111111111111,
              "#46039f"
             ],
             [
              0.2222222222222222,
              "#7201a8"
             ],
             [
              0.3333333333333333,
              "#9c179e"
             ],
             [
              0.4444444444444444,
              "#bd3786"
             ],
             [
              0.5555555555555556,
              "#d8576b"
             ],
             [
              0.6666666666666666,
              "#ed7953"
             ],
             [
              0.7777777777777778,
              "#fb9f3a"
             ],
             [
              0.8888888888888888,
              "#fdca26"
             ],
             [
              1,
              "#f0f921"
             ]
            ],
            "type": "histogram2d"
           }
          ],
          "histogram2dcontour": [
           {
            "colorbar": {
             "outlinewidth": 0,
             "ticks": ""
            },
            "colorscale": [
             [
              0,
              "#0d0887"
             ],
             [
              0.1111111111111111,
              "#46039f"
             ],
             [
              0.2222222222222222,
              "#7201a8"
             ],
             [
              0.3333333333333333,
              "#9c179e"
             ],
             [
              0.4444444444444444,
              "#bd3786"
             ],
             [
              0.5555555555555556,
              "#d8576b"
             ],
             [
              0.6666666666666666,
              "#ed7953"
             ],
             [
              0.7777777777777778,
              "#fb9f3a"
             ],
             [
              0.8888888888888888,
              "#fdca26"
             ],
             [
              1,
              "#f0f921"
             ]
            ],
            "type": "histogram2dcontour"
           }
          ],
          "mesh3d": [
           {
            "colorbar": {
             "outlinewidth": 0,
             "ticks": ""
            },
            "type": "mesh3d"
           }
          ],
          "parcoords": [
           {
            "line": {
             "colorbar": {
              "outlinewidth": 0,
              "ticks": ""
             }
            },
            "type": "parcoords"
           }
          ],
          "pie": [
           {
            "automargin": true,
            "type": "pie"
           }
          ],
          "scatter": [
           {
            "fillpattern": {
             "fillmode": "overlay",
             "size": 10,
             "solidity": 0.2
            },
            "type": "scatter"
           }
          ],
          "scatter3d": [
           {
            "line": {
             "colorbar": {
              "outlinewidth": 0,
              "ticks": ""
             }
            },
            "marker": {
             "colorbar": {
              "outlinewidth": 0,
              "ticks": ""
             }
            },
            "type": "scatter3d"
           }
          ],
          "scattercarpet": [
           {
            "marker": {
             "colorbar": {
              "outlinewidth": 0,
              "ticks": ""
             }
            },
            "type": "scattercarpet"
           }
          ],
          "scattergeo": [
           {
            "marker": {
             "colorbar": {
              "outlinewidth": 0,
              "ticks": ""
             }
            },
            "type": "scattergeo"
           }
          ],
          "scattergl": [
           {
            "marker": {
             "colorbar": {
              "outlinewidth": 0,
              "ticks": ""
             }
            },
            "type": "scattergl"
           }
          ],
          "scattermap": [
           {
            "marker": {
             "colorbar": {
              "outlinewidth": 0,
              "ticks": ""
             }
            },
            "type": "scattermap"
           }
          ],
          "scattermapbox": [
           {
            "marker": {
             "colorbar": {
              "outlinewidth": 0,
              "ticks": ""
             }
            },
            "type": "scattermapbox"
           }
          ],
          "scatterpolar": [
           {
            "marker": {
             "colorbar": {
              "outlinewidth": 0,
              "ticks": ""
             }
            },
            "type": "scatterpolar"
           }
          ],
          "scatterpolargl": [
           {
            "marker": {
             "colorbar": {
              "outlinewidth": 0,
              "ticks": ""
             }
            },
            "type": "scatterpolargl"
           }
          ],
          "scatterternary": [
           {
            "marker": {
             "colorbar": {
              "outlinewidth": 0,
              "ticks": ""
             }
            },
            "type": "scatterternary"
           }
          ],
          "surface": [
           {
            "colorbar": {
             "outlinewidth": 0,
             "ticks": ""
            },
            "colorscale": [
             [
              0,
              "#0d0887"
             ],
             [
              0.1111111111111111,
              "#46039f"
             ],
             [
              0.2222222222222222,
              "#7201a8"
             ],
             [
              0.3333333333333333,
              "#9c179e"
             ],
             [
              0.4444444444444444,
              "#bd3786"
             ],
             [
              0.5555555555555556,
              "#d8576b"
             ],
             [
              0.6666666666666666,
              "#ed7953"
             ],
             [
              0.7777777777777778,
              "#fb9f3a"
             ],
             [
              0.8888888888888888,
              "#fdca26"
             ],
             [
              1,
              "#f0f921"
             ]
            ],
            "type": "surface"
           }
          ],
          "table": [
           {
            "cells": {
             "fill": {
              "color": "#EBF0F8"
             },
             "line": {
              "color": "white"
             }
            },
            "header": {
             "fill": {
              "color": "#C8D4E3"
             },
             "line": {
              "color": "white"
             }
            },
            "type": "table"
           }
          ]
         },
         "layout": {
          "annotationdefaults": {
           "arrowcolor": "#2a3f5f",
           "arrowhead": 0,
           "arrowwidth": 1
          },
          "autotypenumbers": "strict",
          "coloraxis": {
           "colorbar": {
            "outlinewidth": 0,
            "ticks": ""
           }
          },
          "colorscale": {
           "diverging": [
            [
             0,
             "#8e0152"
            ],
            [
             0.1,
             "#c51b7d"
            ],
            [
             0.2,
             "#de77ae"
            ],
            [
             0.3,
             "#f1b6da"
            ],
            [
             0.4,
             "#fde0ef"
            ],
            [
             0.5,
             "#f7f7f7"
            ],
            [
             0.6,
             "#e6f5d0"
            ],
            [
             0.7,
             "#b8e186"
            ],
            [
             0.8,
             "#7fbc41"
            ],
            [
             0.9,
             "#4d9221"
            ],
            [
             1,
             "#276419"
            ]
           ],
           "sequential": [
            [
             0,
             "#0d0887"
            ],
            [
             0.1111111111111111,
             "#46039f"
            ],
            [
             0.2222222222222222,
             "#7201a8"
            ],
            [
             0.3333333333333333,
             "#9c179e"
            ],
            [
             0.4444444444444444,
             "#bd3786"
            ],
            [
             0.5555555555555556,
             "#d8576b"
            ],
            [
             0.6666666666666666,
             "#ed7953"
            ],
            [
             0.7777777777777778,
             "#fb9f3a"
            ],
            [
             0.8888888888888888,
             "#fdca26"
            ],
            [
             1,
             "#f0f921"
            ]
           ],
           "sequentialminus": [
            [
             0,
             "#0d0887"
            ],
            [
             0.1111111111111111,
             "#46039f"
            ],
            [
             0.2222222222222222,
             "#7201a8"
            ],
            [
             0.3333333333333333,
             "#9c179e"
            ],
            [
             0.4444444444444444,
             "#bd3786"
            ],
            [
             0.5555555555555556,
             "#d8576b"
            ],
            [
             0.6666666666666666,
             "#ed7953"
            ],
            [
             0.7777777777777778,
             "#fb9f3a"
            ],
            [
             0.8888888888888888,
             "#fdca26"
            ],
            [
             1,
             "#f0f921"
            ]
           ]
          },
          "colorway": [
           "#636efa",
           "#EF553B",
           "#00cc96",
           "#ab63fa",
           "#FFA15A",
           "#19d3f3",
           "#FF6692",
           "#B6E880",
           "#FF97FF",
           "#FECB52"
          ],
          "font": {
           "color": "#2a3f5f"
          },
          "geo": {
           "bgcolor": "white",
           "lakecolor": "white",
           "landcolor": "#E5ECF6",
           "showlakes": true,
           "showland": true,
           "subunitcolor": "white"
          },
          "hoverlabel": {
           "align": "left"
          },
          "hovermode": "closest",
          "mapbox": {
           "style": "light"
          },
          "paper_bgcolor": "white",
          "plot_bgcolor": "#E5ECF6",
          "polar": {
           "angularaxis": {
            "gridcolor": "white",
            "linecolor": "white",
            "ticks": ""
           },
           "bgcolor": "#E5ECF6",
           "radialaxis": {
            "gridcolor": "white",
            "linecolor": "white",
            "ticks": ""
           }
          },
          "scene": {
           "xaxis": {
            "backgroundcolor": "#E5ECF6",
            "gridcolor": "white",
            "gridwidth": 2,
            "linecolor": "white",
            "showbackground": true,
            "ticks": "",
            "zerolinecolor": "white"
           },
           "yaxis": {
            "backgroundcolor": "#E5ECF6",
            "gridcolor": "white",
            "gridwidth": 2,
            "linecolor": "white",
            "showbackground": true,
            "ticks": "",
            "zerolinecolor": "white"
           },
           "zaxis": {
            "backgroundcolor": "#E5ECF6",
            "gridcolor": "white",
            "gridwidth": 2,
            "linecolor": "white",
            "showbackground": true,
            "ticks": "",
            "zerolinecolor": "white"
           }
          },
          "shapedefaults": {
           "line": {
            "color": "#2a3f5f"
           }
          },
          "ternary": {
           "aaxis": {
            "gridcolor": "white",
            "linecolor": "white",
            "ticks": ""
           },
           "baxis": {
            "gridcolor": "white",
            "linecolor": "white",
            "ticks": ""
           },
           "bgcolor": "#E5ECF6",
           "caxis": {
            "gridcolor": "white",
            "linecolor": "white",
            "ticks": ""
           }
          },
          "title": {
           "x": 0.05
          },
          "xaxis": {
           "automargin": true,
           "gridcolor": "white",
           "linecolor": "white",
           "ticks": "",
           "title": {
            "standoff": 15
           },
           "zerolinecolor": "white",
           "zerolinewidth": 2
          },
          "yaxis": {
           "automargin": true,
           "gridcolor": "white",
           "linecolor": "white",
           "ticks": "",
           "title": {
            "standoff": 15
           },
           "zerolinecolor": "white",
           "zerolinewidth": 2
          }
         }
        },
        "title": {
         "text": "📍 Customer-Warehouse Assignments"
        }
       }
      }
     },
     "metadata": {},
     "output_type": "display_data"
    }
   ],
   "source": [
    "plot_assignments(df_assignments)"
   ]
  }
 ],
 "metadata": {
  "kernelspec": {
   "display_name": "chapter8",
   "language": "python",
   "name": "python3"
  },
  "language_info": {
   "codemirror_mode": {
    "name": "ipython",
    "version": 3
   },
   "file_extension": ".py",
   "mimetype": "text/x-python",
   "name": "python",
   "nbconvert_exporter": "python",
   "pygments_lexer": "ipython3",
   "version": "3.12.0"
  }
 },
 "nbformat": 4,
 "nbformat_minor": 5
}

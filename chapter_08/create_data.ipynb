{
 "cells": [
  {
   "cell_type": "code",
   "execution_count": 1,
   "metadata": {},
   "outputs": [],
   "source": [
    "import pandas as pd\n",
    "import random\n",
    "from faker import Faker\n",
    "import geopandas as gpd\n",
    "import matplotlib.pyplot as plt\n",
    "import numpy as np\n",
    "import plotly.express as px"
   ]
  },
  {
   "cell_type": "markdown",
   "metadata": {},
   "source": [
    "# Create mockup data for the app"
   ]
  },
  {
   "cell_type": "code",
   "execution_count": 2,
   "metadata": {},
   "outputs": [],
   "source": [
    "faker = Faker()"
   ]
  },
  {
   "cell_type": "code",
   "execution_count": 3,
   "metadata": {},
   "outputs": [
    {
     "data": {
      "text/html": [
       "<div>\n",
       "<style scoped>\n",
       "    .dataframe tbody tr th:only-of-type {\n",
       "        vertical-align: middle;\n",
       "    }\n",
       "\n",
       "    .dataframe tbody tr th {\n",
       "        vertical-align: top;\n",
       "    }\n",
       "\n",
       "    .dataframe thead th {\n",
       "        text-align: right;\n",
       "    }\n",
       "</style>\n",
       "<table border=\"1\" class=\"dataframe\">\n",
       "  <thead>\n",
       "    <tr style=\"text-align: right;\">\n",
       "      <th></th>\n",
       "      <th>id</th>\n",
       "      <th>country</th>\n",
       "      <th>city</th>\n",
       "      <th>latitude</th>\n",
       "      <th>longitude</th>\n",
       "      <th>company_name</th>\n",
       "      <th>yearly_orders</th>\n",
       "    </tr>\n",
       "  </thead>\n",
       "  <tbody>\n",
       "    <tr>\n",
       "      <th>23</th>\n",
       "      <td>24</td>\n",
       "      <td>France</td>\n",
       "      <td>Lyon</td>\n",
       "      <td>45.7640</td>\n",
       "      <td>4.8357</td>\n",
       "      <td>24 - Girard</td>\n",
       "      <td>114</td>\n",
       "    </tr>\n",
       "    <tr>\n",
       "      <th>61</th>\n",
       "      <td>62</td>\n",
       "      <td>Italy</td>\n",
       "      <td>Genoa</td>\n",
       "      <td>44.4056</td>\n",
       "      <td>8.9463</td>\n",
       "      <td>62 - Bertoni, Pellico e Bettin Group</td>\n",
       "      <td>148</td>\n",
       "    </tr>\n",
       "    <tr>\n",
       "      <th>72</th>\n",
       "      <td>73</td>\n",
       "      <td>Italy</td>\n",
       "      <td>Ciampino</td>\n",
       "      <td>41.4598</td>\n",
       "      <td>12.8461</td>\n",
       "      <td>73 - Roccabonella-Finzi SPA</td>\n",
       "      <td>134</td>\n",
       "    </tr>\n",
       "    <tr>\n",
       "      <th>35</th>\n",
       "      <td>36</td>\n",
       "      <td>France</td>\n",
       "      <td>Melun</td>\n",
       "      <td>48.5459</td>\n",
       "      <td>2.6458</td>\n",
       "      <td>36 - Da Silva</td>\n",
       "      <td>309</td>\n",
       "    </tr>\n",
       "    <tr>\n",
       "      <th>54</th>\n",
       "      <td>55</td>\n",
       "      <td>Germany</td>\n",
       "      <td>Würzburg</td>\n",
       "      <td>49.7913</td>\n",
       "      <td>9.9534</td>\n",
       "      <td>55 - Steinberg AG</td>\n",
       "      <td>269</td>\n",
       "    </tr>\n",
       "    <tr>\n",
       "      <th>58</th>\n",
       "      <td>59</td>\n",
       "      <td>Austria</td>\n",
       "      <td>Graz</td>\n",
       "      <td>47.0707</td>\n",
       "      <td>15.4395</td>\n",
       "      <td>59 - Reichmann</td>\n",
       "      <td>298</td>\n",
       "    </tr>\n",
       "    <tr>\n",
       "      <th>50</th>\n",
       "      <td>51</td>\n",
       "      <td>Germany</td>\n",
       "      <td>Freiburg</td>\n",
       "      <td>47.9990</td>\n",
       "      <td>7.8421</td>\n",
       "      <td>51 - Geisel</td>\n",
       "      <td>277</td>\n",
       "    </tr>\n",
       "    <tr>\n",
       "      <th>62</th>\n",
       "      <td>63</td>\n",
       "      <td>Italy</td>\n",
       "      <td>Brescia</td>\n",
       "      <td>45.5416</td>\n",
       "      <td>10.2118</td>\n",
       "      <td>63 - Aloisio, Sraffa e Ceci s.r.l.</td>\n",
       "      <td>230</td>\n",
       "    </tr>\n",
       "    <tr>\n",
       "      <th>52</th>\n",
       "      <td>53</td>\n",
       "      <td>Germany</td>\n",
       "      <td>Münster</td>\n",
       "      <td>51.9607</td>\n",
       "      <td>7.6261</td>\n",
       "      <td>53 - Mende GmbH</td>\n",
       "      <td>268</td>\n",
       "    </tr>\n",
       "    <tr>\n",
       "      <th>34</th>\n",
       "      <td>35</td>\n",
       "      <td>France</td>\n",
       "      <td>Tours</td>\n",
       "      <td>47.3941</td>\n",
       "      <td>0.6848</td>\n",
       "      <td>35 - Bègue Munoz et Fils</td>\n",
       "      <td>190</td>\n",
       "    </tr>\n",
       "  </tbody>\n",
       "</table>\n",
       "</div>"
      ],
      "text/plain": [
       "    id  country      city  latitude  longitude  \\\n",
       "23  24   France      Lyon   45.7640     4.8357   \n",
       "61  62    Italy     Genoa   44.4056     8.9463   \n",
       "72  73    Italy  Ciampino   41.4598    12.8461   \n",
       "35  36   France     Melun   48.5459     2.6458   \n",
       "54  55  Germany  Würzburg   49.7913     9.9534   \n",
       "58  59  Austria      Graz   47.0707    15.4395   \n",
       "50  51  Germany  Freiburg   47.9990     7.8421   \n",
       "62  63    Italy   Brescia   45.5416    10.2118   \n",
       "52  53  Germany   Münster   51.9607     7.6261   \n",
       "34  35   France     Tours   47.3941     0.6848   \n",
       "\n",
       "                            company_name  yearly_orders  \n",
       "23                           24 - Girard            114  \n",
       "61  62 - Bertoni, Pellico e Bettin Group            148  \n",
       "72           73 - Roccabonella-Finzi SPA            134  \n",
       "35                         36 - Da Silva            309  \n",
       "54                     55 - Steinberg AG            269  \n",
       "58                        59 - Reichmann            298  \n",
       "50                           51 - Geisel            277  \n",
       "62    63 - Aloisio, Sraffa e Ceci s.r.l.            230  \n",
       "52                       53 - Mende GmbH            268  \n",
       "34              35 - Bègue Munoz et Fils            190  "
      ]
     },
     "execution_count": 3,
     "metadata": {},
     "output_type": "execute_result"
    }
   ],
   "source": [
    "# Initialize Faker instances per locale\n",
    "faker_locales = {\n",
    "    \"Portugal\": Faker(\"pt_PT\"),\n",
    "    \"Andorra\": Faker(\"es_ES\"),\n",
    "    \"Spain\": Faker(\"es_ES\"),\n",
    "    \"France\": Faker(\"fr_FR\"),\n",
    "    \"Germany\": Faker(\"de_DE\"),\n",
    "    \"Austria\": Faker(\"de_DE\"),\n",
    "    \"Italy\": Faker(\"it_IT\"),\n",
    "    \"Belgium\": Faker(\"fr_BE\"),\n",
    "    \"Netherlands\": Faker(\"nl_NL\"),\n",
    "    \"Poland\": Faker(\"pl_PL\"),\n",
    "    \"Denmark\": Faker(\"da_DK\"),\n",
    "    \"Czech Republic\": Faker(\"cs_CZ\"),\n",
    "    \"Luxembourg\": Faker(\"fr_BE\"),\n",
    "    \"Switzerland\": Faker(\"de_DE\"),\n",
    "    \"Liechtenstein\": Faker(\"de_DE\"),\n",
    "    \"San Marino\": Faker(\"it_IT\"),\n",
    "    \"Monaco\": Faker(\"fr_FR\"),\n",
    "}\n",
    "\n",
    "# Given data\n",
    "cities = {\n",
    "    \"Portugal\": [\n",
    "        (\"Porto\", 41.1496, -8.6109),\n",
    "        (\"Lisbon\", 38.7169, -9.1399),\n",
    "        (\"Setúbal\", 38.5243, -8.8926),\n",
    "        (\"Aveiro\", 40.6405, -8.6538),\n",
    "        (\"Miranda do Douro\", 41.4969, -6.2732),\n",
    "        (\"Faro\", 37.0194, -7.9302),\n",
    "        (\"Moura\", 38.1401, -7.4486),\n",
    "        (\"Vila Real\", 41.2956, -7.7464),\n",
    "    ],\n",
    "    \"Andorra\": [(\"Andorra la Vella\", 42.5078, 1.5211)],\n",
    "    \"Spain\": [\n",
    "        (\"Aranda de Duero\", 41.6696, -3.6892),\n",
    "        (\"Valladolid\", 41.6523, -4.7236),\n",
    "        (\"Zaragoza\", 41.6488, -0.8891),\n",
    "        (\"Burgos\", 42.3439, -3.6969),\n",
    "        (\"Albacete\", 38.9943, -1.8585),\n",
    "        (\"León\", 42.5987, -5.5671),\n",
    "        (\"Motril\", 36.7420, -3.5179),\n",
    "        (\"Bilbao\", 43.2630, -2.9350),\n",
    "        (\"Vigo\", 42.2406, -8.7207),\n",
    "        (\"Pamplona\", 42.8125, -1.6458),\n",
    "        (\"Talavera de la Reina\", 39.9596, -4.8308),\n",
    "        (\"Guadalajara\", 40.6292, -3.1614),\n",
    "    ],\n",
    "    \"France\": [\n",
    "        (\"Metz\", 49.1193, 6.1757),\n",
    "        (\"Lille\", 50.6292, 3.0573),\n",
    "        (\"Lyon\", 45.764, 4.8357),\n",
    "        (\"Rouen\", 49.4432, 1.0999),\n",
    "        (\"Strasbourg\", 48.5734, 7.7521),\n",
    "        (\"Nancy\", 48.6921, 6.1844),\n",
    "        (\"Dijon\", 47.322, 5.0415),\n",
    "        (\"Reims\", 49.2583, 4.0317),\n",
    "        (\"Toulouse\", 43.6045, 1.4442),\n",
    "        (\"Bordeaux\", 44.8378, -0.5792),\n",
    "        (\"Nice\", 43.7102, 7.2620),\n",
    "        (\"Rennes\", 48.1173, -1.6778),\n",
    "        (\"Brest\", 48.3904, -4.4861),\n",
    "        (\"Tours\", 47.3941, 0.6848),\n",
    "        (\"Melun\", 48.5459, 2.6458),\n",
    "        (\"Nanterre\", 48.8924, 2.2153),\n",
    "        (\"Savigny sur Orge\", 48.6797, 2.3500),\n",
    "        (\"Bergerac\", 44.8562, 0.4819),\n",
    "        (\"Valence\", 44.9333, 4.8924),\n",
    "        (\"Saint-Étienne\", 45.4397, 4.3872),\n",
    "    ],\n",
    "    \"Germany\": [\n",
    "        (\"Essen\", 51.4556, 7.0116),\n",
    "        (\"Dortmund\", 51.5136, 7.4653),\n",
    "        (\"Stuttgart\", 48.7758, 9.1829),\n",
    "        (\"Leipzig\", 51.3397, 12.3731),\n",
    "        (\"Mannheim\", 49.4875, 8.466),\n",
    "        (\"Bremen\", 53.0793, 8.8017),\n",
    "        (\"Düsseldorf\", 51.2277, 6.7735),\n",
    "        (\"Köln\", 50.9375, 6.9603),\n",
    "        (\"Berlin\", 52.5200, 13.4050),\n",
    "        (\"Freiburg\", 47.9990, 7.8421),\n",
    "        (\"Augsburg\", 48.3705, 10.8978),\n",
    "        (\"Münster\", 51.9607, 7.6261),\n",
    "        (\"Ulm\", 48.4000, 9.9833),\n",
    "        (\"Würzburg\", 49.7913, 9.9534),\n",
    "        (\"Constance\", 47.6603, 9.1758),\n",
    "        (\"Erfurt\", 50.9787, 11.0328),\n",
    "    ],\n",
    "    \"Austria\": [\n",
    "        (\"Salzburg\", 47.8095, 13.0550),\n",
    "        (\"Graz\", 47.0707, 15.4395),\n",
    "        (\"Linz\", 48.3069, 14.2858),\n",
    "    ],\n",
    "    \"Italy\": [\n",
    "        (\"Turin\", 45.0703, 7.6869),\n",
    "        (\"Genoa\", 44.4056, 8.9463),\n",
    "        (\"Brescia\", 45.5416, 10.2118),\n",
    "        (\"Bologna\", 44.4949, 11.3426),\n",
    "        (\"Verona\", 45.4384, 10.9916),\n",
    "        (\"Padua\", 45.4064, 11.8779),\n",
    "        (\"Parma\", 44.8015, 10.3279),\n",
    "        (\"Modena\", 44.6471, 10.9252),\n",
    "        (\"Reggio de Calabre\", 38.1112, 15.6473),\n",
    "        (\"Catanzaro\", 38.9108, 16.5874),\n",
    "        (\"Caserta\", 41.0822, 14.3346),\n",
    "        (\"Pescara\", 42.4618, 14.2139),\n",
    "        (\"Ciampino\", 41.4598, 12.8461),\n",
    "        (\"Foggia\", 41.4623, 15.5446),\n",
    "    ],\n",
    "    \"Belgium\": [\n",
    "        (\"Charleroi\", 50.4114, 4.4445),\n",
    "        (\"Liège\", 50.6326, 5.5797),\n",
    "        (\"Antwerp\", 51.2194, 4.4025),\n",
    "        (\"Ghent\", 51.0543, 3.7174),\n",
    "    ],\n",
    "    \"Netherlands\": [\n",
    "        (\"Eindhoven\", 51.4416, 5.4697),\n",
    "        (\"Rotterdam\", 51.9225, 4.4792),\n",
    "        (\"Utrecht\", 52.0907, 5.1214),\n",
    "    ],\n",
    "    \"Poland\": [\n",
    "        (\"Wrocław\", 51.1079, 17.0385),\n",
    "        (\"Katowice\", 50.2707, 19.0399),\n",
    "        (\"Lodz\", 51.7592, 19.4550),\n",
    "        (\"Chojnice\", 53.6956, 17.5573),\n",
    "        (\"Legnica\", 51.2076, 16.1589),\n",
    "    ],\n",
    "    \"Switzerland\": [\n",
    "        (\"Winterthur\", 47.4999, 8.7266),\n",
    "        (\"Bern\", 46.9480, 7.4474),\n",
    "    ],\n",
    "    \"Denmark\": [(\"Aarhus\", 56.1629, 10.2039)],\n",
    "    \"Czech Republic\": [(\"Brno\", 49.1951, 16.6068)],\n",
    "    \"Luxembourg\": [(\"Esch-sur-Alzette\", 49.4958, 5.9804)],\n",
    "    \"Liechtenstein\": [(\"Schaan\", 47.1650, 9.5087)],\n",
    "    \"San Marino\": [(\"Borgo Maggiore\", 43.9415, 12.4474)],\n",
    "    \"Monaco\": [(\"Monaco\", 43.7384, 7.4246)],\n",
    "}\n",
    "\n",
    "# Generate data\n",
    "customers = []\n",
    "id = 1\n",
    "for country, city_list in cities.items():\n",
    "    faker_instance = faker_locales[country]\n",
    "    for city, lat, lon in city_list:\n",
    "        customers.append(\n",
    "            {\n",
    "                \"id\": id,\n",
    "                \"country\": country,\n",
    "                \"city\": city,\n",
    "                \"latitude\": lat,\n",
    "                \"longitude\": lon,\n",
    "                \"company_name\": f\"{id} - {faker_instance.company()}\",\n",
    "                \"yearly_orders\": int(50 + (np.random.uniform(0, 1) ** 0.5) * 300),\n",
    "            }\n",
    "        )\n",
    "        id += 1\n",
    "\n",
    "# Convert to DataFrame\n",
    "df_customers = pd.DataFrame(customers)\n",
    "df_customers = df_customers.sort_values(by=\"yearly_orders\")\n",
    "\n",
    "# Show sample\n",
    "df_customers.sample(10)"
   ]
  },
  {
   "cell_type": "code",
   "execution_count": 4,
   "metadata": {},
   "outputs": [],
   "source": [
    "gdf_customers = gpd.GeoDataFrame(\n",
    "    df_customers,\n",
    "    geometry=gpd.points_from_xy(df_customers.longitude, df_customers.latitude),\n",
    ")"
   ]
  },
  {
   "cell_type": "code",
   "execution_count": 5,
   "metadata": {},
   "outputs": [
    {
     "data": {
      "text/html": [
       "<div>\n",
       "<style scoped>\n",
       "    .dataframe tbody tr th:only-of-type {\n",
       "        vertical-align: middle;\n",
       "    }\n",
       "\n",
       "    .dataframe tbody tr th {\n",
       "        vertical-align: top;\n",
       "    }\n",
       "\n",
       "    .dataframe thead th {\n",
       "        text-align: right;\n",
       "    }\n",
       "</style>\n",
       "<table border=\"1\" class=\"dataframe\">\n",
       "  <thead>\n",
       "    <tr style=\"text-align: right;\">\n",
       "      <th></th>\n",
       "      <th>warehouse</th>\n",
       "      <th>country</th>\n",
       "      <th>city</th>\n",
       "      <th>latitude</th>\n",
       "      <th>longitude</th>\n",
       "      <th>yearly_cost</th>\n",
       "      <th>yearly_co2_tons</th>\n",
       "    </tr>\n",
       "  </thead>\n",
       "  <tbody>\n",
       "    <tr>\n",
       "      <th>2</th>\n",
       "      <td>Warehouse 3</td>\n",
       "      <td>Spain</td>\n",
       "      <td>Logroño</td>\n",
       "      <td>42.4627</td>\n",
       "      <td>-2.4444</td>\n",
       "      <td>850071</td>\n",
       "      <td>441</td>\n",
       "    </tr>\n",
       "    <tr>\n",
       "      <th>9</th>\n",
       "      <td>Warehouse 10</td>\n",
       "      <td>France</td>\n",
       "      <td>Clermont-Ferrand</td>\n",
       "      <td>45.7772</td>\n",
       "      <td>3.0870</td>\n",
       "      <td>901430</td>\n",
       "      <td>568</td>\n",
       "    </tr>\n",
       "    <tr>\n",
       "      <th>10</th>\n",
       "      <td>Warehouse 11</td>\n",
       "      <td>Germany</td>\n",
       "      <td>Hanover</td>\n",
       "      <td>52.3759</td>\n",
       "      <td>9.7320</td>\n",
       "      <td>1003279</td>\n",
       "      <td>531</td>\n",
       "    </tr>\n",
       "    <tr>\n",
       "      <th>17</th>\n",
       "      <td>Warehouse 18</td>\n",
       "      <td>Italy</td>\n",
       "      <td>Bari</td>\n",
       "      <td>41.1171</td>\n",
       "      <td>16.8719</td>\n",
       "      <td>1022038</td>\n",
       "      <td>528</td>\n",
       "    </tr>\n",
       "    <tr>\n",
       "      <th>0</th>\n",
       "      <td>Warehouse 1</td>\n",
       "      <td>Portugal</td>\n",
       "      <td>Braga</td>\n",
       "      <td>41.5454</td>\n",
       "      <td>-8.4265</td>\n",
       "      <td>1146105</td>\n",
       "      <td>336</td>\n",
       "    </tr>\n",
       "  </tbody>\n",
       "</table>\n",
       "</div>"
      ],
      "text/plain": [
       "       warehouse   country              city  latitude  longitude  \\\n",
       "2    Warehouse 3     Spain           Logroño   42.4627    -2.4444   \n",
       "9   Warehouse 10    France  Clermont-Ferrand   45.7772     3.0870   \n",
       "10  Warehouse 11   Germany           Hanover   52.3759     9.7320   \n",
       "17  Warehouse 18     Italy              Bari   41.1171    16.8719   \n",
       "0    Warehouse 1  Portugal             Braga   41.5454    -8.4265   \n",
       "\n",
       "    yearly_cost  yearly_co2_tons  \n",
       "2        850071              441  \n",
       "9        901430              568  \n",
       "10      1003279              531  \n",
       "17      1022038              528  \n",
       "0       1146105              336  "
      ]
     },
     "execution_count": 5,
     "metadata": {},
     "output_type": "execute_result"
    }
   ],
   "source": [
    "# Define warehouse cities (not in customers' list)\n",
    "warehouse_cities = {\n",
    "    \"Portugal\": [(\"Braga\", 41.5454, -8.4265), (\"Coimbra\", 40.2033, -8.4103)],\n",
    "    \"Spain\": [\n",
    "        (\"Logroño\", 42.4627, -2.4444),\n",
    "        (\"Salamanca\", 40.9701, -5.6635),\n",
    "        (\"Toledo\", 39.8628, -4.0273),\n",
    "    ],\n",
    "    \"France\": [\n",
    "        (\"Grenoble\", 45.1885, 5.7245),\n",
    "        (\"Caen\", 49.1829, -0.3707),\n",
    "        (\"Perpignan\", 42.6973, 2.8956),\n",
    "        (\"Nantes\", 47.2184, -1.5536),\n",
    "        (\"Clermont-Ferrand\", 45.7772, 3.0870),\n",
    "    ],\n",
    "    \"Germany\": [\n",
    "        (\"Hanover\", 52.3759, 9.7320),\n",
    "        (\"Dresden\", 51.0504, 13.7373),\n",
    "        (\"Karlsruhe\", 49.0069, 8.4037),\n",
    "        (\"Kiel\", 54.3233, 10.1394),\n",
    "        (\"Nuremberg\", 49.4521, 11.0767),\n",
    "        (\"Magdeburg\", 52.1317, 11.6399),\n",
    "    ],\n",
    "    \"Italy\": [\n",
    "        (\"Florence\", 43.7696, 11.2558),\n",
    "        (\"Bari\", 41.1171, 16.8719),\n",
    "        (\"Taranto\", 40.4643, 17.2470),\n",
    "    ],\n",
    "    \"Poland\": [(\"Gdańsk\", 54.352, 18.6466)],\n",
    "}\n",
    "\n",
    "# Generate warehouses\n",
    "warehouses = []\n",
    "warehouse_index = 1\n",
    "for country, city_list in warehouse_cities.items():\n",
    "    for city, lat, lon in city_list:\n",
    "        warehouses.append(\n",
    "            {\n",
    "                \"warehouse\": f\"Warehouse {warehouse_index}\",\n",
    "                \"country\": country,\n",
    "                \"city\": city,\n",
    "                \"latitude\": lat,\n",
    "                \"longitude\": lon,\n",
    "                \"yearly_cost\": random.randint(800_000, 2_500_000),\n",
    "                \"yearly_co2_tons\": random.randint(300, 800),\n",
    "            }\n",
    "        )\n",
    "        warehouse_index += 1\n",
    "\n",
    "# Convert to DataFrame\n",
    "df_warehouses = pd.DataFrame(warehouses)\n",
    "df_warehouses = df_warehouses.sort_values(by=\"yearly_cost\")\n",
    "\n",
    "df_warehouses.head()"
   ]
  },
  {
   "cell_type": "code",
   "execution_count": 6,
   "metadata": {},
   "outputs": [],
   "source": [
    "gdf_warehouses = gpd.GeoDataFrame(\n",
    "    df_warehouses,\n",
    "    geometry=gpd.points_from_xy(df_warehouses.longitude, df_warehouses.latitude),\n",
    ")"
   ]
  },
  {
   "cell_type": "code",
   "execution_count": 7,
   "metadata": {},
   "outputs": [
    {
     "data": {
      "image/png": "[encoded data removed]",
      "text/plain": [
       "<Figure size 1000x600 with 1 Axes>"
      ]
     },
     "metadata": {},
     "output_type": "display_data"
    }
   ],
   "source": [
    "# Plot\n",
    "fig, ax = plt.subplots(figsize=(10, 6))\n",
    "\n",
    "# Plot customers and warehouses\n",
    "gdf_customers.plot(ax=ax, color=\"blue\", markersize=30, label=\"Customers\", alpha=0.7)\n",
    "gdf_warehouses.plot(ax=ax, color=\"red\", markersize=50, label=\"Warehouses\", alpha=0.8)\n",
    "\n",
    "# Formatting\n",
    "plt.legend()\n",
    "plt.title(\"Customers (Blue) & Warehouses (Red) in Europe\")\n",
    "plt.xlabel(\"Longitude\")\n",
    "plt.ylabel(\"Latitude\")\n",
    "plt.grid(True)\n",
    "\n",
    "# Show plot\n",
    "plt.show()"
   ]
  },
  {
   "cell_type": "code",
   "execution_count": 8,
   "metadata": {},
   "outputs": [],
   "source": [
    "def plot_customers_warehouses(df_customers, df_warehouses):\n",
    "\n",
    "    df_customers[\"type\"] = \"Customer\"\n",
    "    df_warehouses[\"type\"] = \"Warehouse\"\n",
    "    data = pd.concat([df_customers, df_warehouses])\n",
    "\n",
    "    data[\"hover_amount\"] = data.apply(\n",
    "        lambda row: (\n",
    "            f\"Yearly Orders: {row['yearly_orders']}\"\n",
    "            if row[\"type\"] == \"Customer\"\n",
    "            else f\"Yearly Rent: {row['yearly_cost']:,.0f} €\"\n",
    "        ),\n",
    "        axis=1,\n",
    "    )\n",
    "    data[\"hover_name\"] = data.apply(\n",
    "        lambda row: (\n",
    "            f\"Company Name: {row['company_name']}\"\n",
    "            if row[\"type\"] == \"Customer\"\n",
    "            else f\"Warehouse {row['warehouse']}\"\n",
    "        ),\n",
    "        axis=1,\n",
    "    )\n",
    "    # Different marker size for Warehouses and customers\n",
    "    data[\"size\"] = data[\"type\"].map({\"Customer\": 5, \"Warehouse\": 22})\n",
    "\n",
    "    # Create the map\n",
    "    fig = px.scatter_mapbox(\n",
    "        data,\n",
    "        lat=\"latitude\",\n",
    "        lon=\"longitude\",\n",
    "        color=\"type\",\n",
    "        size=\"size\",\n",
    "        hover_name=\"hover_name\",\n",
    "        hover_data={\n",
    "            \"city\": True,\n",
    "            \"hover_amount\": True,\n",
    "            \"latitude\": False,\n",
    "            \"longitude\": False,\n",
    "        },\n",
    "        mapbox_style=\"carto-positron\",\n",
    "        zoom=3,\n",
    "        center={\"lat\": 50, \"lon\": 10},  # Center on Europe\n",
    "        size_max=10,\n",
    "    )\n",
    "\n",
    "    fig.update_traces(\n",
    "        hovertemplate=\"<b>%{hovertext}</b><br>%{customdata[0]}<br>%{customdata[1]}<extra></extra>\"\n",
    "    )\n",
    "    # Customize legend (inside map, white background)\n",
    "    fig.update_layout(\n",
    "        title=\"📍 Customers & Potential Warehouses\",\n",
    "        height=700,\n",
    "        margin={\"r\": 0, \"t\": 50, \"l\": 0, \"b\": 0},\n",
    "        legend=dict(\n",
    "            x=0.02,\n",
    "            y=0.98,  # Position: top-left inside the map\n",
    "            bgcolor=\"rgba(255,255,255,0.8)\",  # White semi-transparent background\n",
    "            bordercolor=\"black\",\n",
    "            borderwidth=1,\n",
    "        ),\n",
    "    )\n",
    "\n",
    "    return fig"
   ]
  },
  {
   "cell_type": "code",
   "execution_count": 9,
   "metadata": {},
   "outputs": [
    {
     "data": {
      "application/vnd.plotly.v1+json": {
       "config": {
        "plotlyServerURL": "https://plot.ly"
       },
       "data": [
        {
         "customdata": [
          [
           "Bologna",
           "Yearly Orders: 60.0",
           44.4949,
           11.3426
          ],
          [
           "Guadalajara",
           "Yearly Orders: 113.0",
           40.6292,
           -3.1614
          ],
          [
           "Lyon",
           "Yearly Orders: 114.0",
           45.764,
           4.8357
          ],
          [
           "Parma",
           "Yearly Orders: 130.0",
           44.8015,
           10.3279
          ],
          [
           "Ghent",
           "Yearly Orders: 132.0",
           51.0543,
           3.7174
          ],
          [
           "Ciampino",
           "Yearly Orders: 134.0",
           41.4598,
           12.8461
          ],
          [
           "Modena",
           "Yearly Orders: 138.0",
           44.6471,
           10.9252
          ],
          [
           "Strasbourg",
           "Yearly Orders: 145.0",
           48.5734,
           7.7521
          ],
          [
           "Genoa",
           "Yearly Orders: 148.0",
           44.4056,
           8.9463
          ],
          [
           "Essen",
           "Yearly Orders: 150.0",
           51.4556,
           7.0116
          ],
          [
           "Vila Real",
           "Yearly Orders: 153.0",
           41.2956,
           -7.7464
          ],
          [
           "Berlin",
           "Yearly Orders: 164.0",
           52.52,
           13.405
          ],
          [
           "Metz",
           "Yearly Orders: 166.0",
           49.1193,
           6.1757
          ],
          [
           "Rotterdam",
           "Yearly Orders: 171.0",
           51.9225,
           4.4792
          ],
          [
           "Liège",
           "Yearly Orders: 174.0",
           50.6326,
           5.5797
          ],
          [
           "Pescara",
           "Yearly Orders: 175.0",
           42.4618,
           14.2139
          ],
          [
           "Valladolid",
           "Yearly Orders: 178.0",
           41.6523,
           -4.7236
          ],
          [
           "Nice",
           "Yearly Orders: 186.0",
           43.7102,
           7.262
          ],
          [
           "Linz",
           "Yearly Orders: 188.0",
           48.3069,
           14.2858
          ],
          [
           "Tours",
           "Yearly Orders: 190.0",
           47.3941,
           0.6848
          ],
          [
           "Turin",
           "Yearly Orders: 192.0",
           45.0703,
           7.6869
          ],
          [
           "Monaco",
           "Yearly Orders: 201.0",
           43.7384,
           7.4246
          ],
          [
           "Verona",
           "Yearly Orders: 205.0",
           45.4384,
           10.9916
          ],
          [
           "Bern",
           "Yearly Orders: 205.0",
           46.948,
           7.4474
          ],
          [
           "Talavera de la Reina",
           "Yearly Orders: 207.0",
           39.9596,
           -4.8308
          ],
          [
           "Setúbal",
           "Yearly Orders: 207.0",
           38.5243,
           -8.8926
          ],
          [
           "Savigny sur Orge",
           "Yearly Orders: 209.0",
           48.6797,
           2.35
          ],
          [
           "Valence",
           "Yearly Orders: 217.0",
           44.9333,
           4.8924
          ],
          [
           "Legnica",
           "Yearly Orders: 222.0",
           51.2076,
           16.1589
          ],
          [
           "Brescia",
           "Yearly Orders: 230.0",
           45.5416,
           10.2118
          ],
          [
           "Stuttgart",
           "Yearly Orders: 232.0",
           48.7758,
           9.1829
          ],
          [
           "Bordeaux",
           "Yearly Orders: 235.0",
           44.8378,
           -0.5792
          ],
          [
           "Bilbao",
           "Yearly Orders: 246.0",
           43.263,
           -2.935
          ],
          [
           "Antwerp",
           "Yearly Orders: 248.0",
           51.2194,
           4.4025
          ],
          [
           "Lisbon",
           "Yearly Orders: 251.0",
           38.7169,
           -9.1399
          ],
          [
           "Augsburg",
           "Yearly Orders: 256.0",
           48.3705,
           10.8978
          ],
          [
           "Porto",
           "Yearly Orders: 257.0",
           41.1496,
           -8.6109
          ],
          [
           "Charleroi",
           "Yearly Orders: 258.0",
           50.4114,
           4.4445
          ],
          [
           "Salzburg",
           "Yearly Orders: 259.0",
           47.8095,
           13.055
          ],
          [
           "Catanzaro",
           "Yearly Orders: 260.0",
           38.9108,
           16.5874
          ],
          [
           "Rouen",
           "Yearly Orders: 260.0",
           49.4432,
           1.0999
          ],
          [
           "Mannheim",
           "Yearly Orders: 263.0",
           49.4875,
           8.466
          ],
          [
           "Nanterre",
           "Yearly Orders: 266.0",
           48.8924,
           2.2153
          ],
          [
           "Borgo Maggiore",
           "Yearly Orders: 268.0",
           43.9415,
           12.4474
          ],
          [
           "Münster",
           "Yearly Orders: 268.0",
           51.9607,
           7.6261
          ],
          [
           "Würzburg",
           "Yearly Orders: 269.0",
           49.7913,
           9.9534
          ],
          [
           "Faro",
           "Yearly Orders: 271.0",
           37.0194,
           -7.9302
          ],
          [
           "Caserta",
           "Yearly Orders: 272.0",
           41.0822,
           14.3346
          ],
          [
           "Brno",
           "Yearly Orders: 272.0",
           49.1951,
           16.6068
          ],
          [
           "Esch-sur-Alzette",
           "Yearly Orders: 273.0",
           49.4958,
           5.9804
          ],
          [
           "Vigo",
           "Yearly Orders: 277.0",
           42.2406,
           -8.7207
          ],
          [
           "Leipzig",
           "Yearly Orders: 277.0",
           51.3397,
           12.3731
          ],
          [
           "Freiburg",
           "Yearly Orders: 277.0",
           47.999,
           7.8421
          ],
          [
           "Toulouse",
           "Yearly Orders: 280.0",
           43.6045,
           1.4442
          ],
          [
           "Motril",
           "Yearly Orders: 281.0",
           36.742,
           -3.5179
          ],
          [
           "Aveiro",
           "Yearly Orders: 283.0",
           40.6405,
           -8.6538
          ],
          [
           "Albacete",
           "Yearly Orders: 284.0",
           38.9943,
           -1.8585
          ],
          [
           "Schaan",
           "Yearly Orders: 287.0",
           47.165,
           9.5087
          ],
          [
           "Dortmund",
           "Yearly Orders: 287.0",
           51.5136,
           7.4653
          ],
          [
           "Saint-Étienne",
           "Yearly Orders: 288.0",
           45.4397,
           4.3872
          ],
          [
           "Foggia",
           "Yearly Orders: 289.0",
           41.4623,
           15.5446
          ],
          [
           "Rennes",
           "Yearly Orders: 289.0",
           48.1173,
           -1.6778
          ],
          [
           "Erfurt",
           "Yearly Orders: 289.0",
           50.9787,
           11.0328
          ],
          [
           "León",
           "Yearly Orders: 291.0",
           42.5987,
           -5.5671
          ],
          [
           "Reims",
           "Yearly Orders: 291.0",
           49.2583,
           4.0317
          ],
          [
           "Brest",
           "Yearly Orders: 294.0",
           48.3904,
           -4.4861
          ],
          [
           "Bergerac",
           "Yearly Orders: 294.0",
           44.8562,
           0.4819
          ],
          [
           "Lodz",
           "Yearly Orders: 295.0",
           51.7592,
           19.455
          ],
          [
           "Graz",
           "Yearly Orders: 298.0",
           47.0707,
           15.4395
          ],
          [
           "Wrocław",
           "Yearly Orders: 298.0",
           51.1079,
           17.0385
          ],
          [
           "Zaragoza",
           "Yearly Orders: 304.0",
           41.6488,
           -0.8891
          ],
          [
           "Düsseldorf",
           "Yearly Orders: 308.0",
           51.2277,
           6.7735
          ],
          [
           "Melun",
           "Yearly Orders: 309.0",
           48.5459,
           2.6458
          ],
          [
           "Constance",
           "Yearly Orders: 309.0",
           47.6603,
           9.1758
          ],
          [
           "Chojnice",
           "Yearly Orders: 311.0",
           53.6956,
           17.5573
          ],
          [
           "Burgos",
           "Yearly Orders: 314.0",
           42.3439,
           -3.6969
          ],
          [
           "Andorra la Vella",
           "Yearly Orders: 318.0",
           42.5078,
           1.5211
          ],
          [
           "Dijon",
           "Yearly Orders: 319.0",
           47.322,
           5.0415
          ],
          [
           "Köln",
           "Yearly Orders: 319.0",
           50.9375,
           6.9603
          ],
          [
           "Winterthur",
           "Yearly Orders: 321.0",
           47.4999,
           8.7266
          ],
          [
           "Aarhus",
           "Yearly Orders: 323.0",
           56.1629,
           10.2039
          ],
          [
           "Aranda de Duero",
           "Yearly Orders: 323.0",
           41.6696,
           -3.6892
          ],
          [
           "Eindhoven",
           "Yearly Orders: 325.0",
           51.4416,
           5.4697
          ],
          [
           "Utrecht",
           "Yearly Orders: 328.0",
           52.0907,
           5.1214
          ],
          [
           "Lille",
           "Yearly Orders: 330.0",
           50.6292,
           3.0573
          ],
          [
           "Moura",
           "Yearly Orders: 331.0",
           38.1401,
           -7.4486
          ],
          [
           "Nancy",
           "Yearly Orders: 332.0",
           48.6921,
           6.1844
          ],
          [
           "Reggio de Calabre",
           "Yearly Orders: 332.0",
           38.1112,
           15.6473
          ],
          [
           "Pamplona",
           "Yearly Orders: 336.0",
           42.8125,
           -1.6458
          ],
          [
           "Bremen",
           "Yearly Orders: 336.0",
           53.0793,
           8.8017
          ],
          [
           "Padua",
           "Yearly Orders: 342.0",
           45.4064,
           11.8779
          ],
          [
           "Ulm",
           "Yearly Orders: 342.0",
           48.4,
           9.9833
          ],
          [
           "Miranda do Douro",
           "Yearly Orders: 344.0",
           41.4969,
           -6.2732
          ],
          [
           "Katowice",
           "Yearly Orders: 348.0",
           50.2707,
           19.0399
          ]
         ],
         "hovertemplate": "<b>%{hovertext}</b><br>%{customdata[0]}<br>%{customdata[1]}<extra></extra>",
         "hovertext": [
          "Company Name: 64 - Lombardo-Martinelli SPA",
          "Company Name: 21 - Vázquez & Asociados S.Com.",
          "Company Name: 24 - Girard",
          "Company Name: 67 - Ariasso, Fibonacci e Campano SPA",
          "Company Name: 78 - Meyer-Gustin",
          "Company Name: 73 - Roccabonella-Finzi SPA",
          "Company Name: 68 - Redi e figli",
          "Company Name: 26 - Boulanger SA",
          "Company Name: 62 - Bertoni, Pellico e Bettin Group",
          "Company Name: 42 - Scholtz Weitzel GmbH",
          "Company Name: 8 - Rodrigues Pires S.A.",
          "Company Name: 50 - Kohl Lorch KG",
          "Company Name: 22 - Hervé",
          "Company Name: 80 - Koninklijke van Cuijck",
          "Company Name: 76 - Ghislain-Motte",
          "Company Name: 72 - Almagià-Loredan s.r.l.",
          "Company Name: 11 - Logística VWFK S.L.L.",
          "Company Name: 32 - Fleury",
          "Company Name: 60 - Kensy Etzler AG",
          "Company Name: 35 - Bègue Munoz et Fils",
          "Company Name: 61 - Garozzo-Spanevello e figli",
          "Company Name: 94 - Bouchet SARL",
          "Company Name: 65 - Canil-Rosselli s.r.l.",
          "Company Name: 88 - Rosenow Wiek GmbH",
          "Company Name: 20 - Soluciones BMV S.L.L.",
          "Company Name: 3 - Fernandes",
          "Company Name: 38 - Leclerc",
          "Company Name: 40 - Guérin",
          "Company Name: 86 - Kurzyna-Semenowicz Sp. z o.o.",
          "Company Name: 63 - Aloisio, Sraffa e Ceci s.r.l.",
          "Company Name: 44 - Ladeck Lorch KG",
          "Company Name: 31 - Hardy Thomas S.A.",
          "Company Name: 17 - Talleres OSMZ S.Com.",
          "Company Name: 77 - Delhaye, Gilles and Dubois",
          "Company Name: 2 - Araújo",
          "Company Name: 52 - Jopich",
          "Company Name: 1 - Campos S/A",
          "Company Name: 75 - Lemaire, Delattre and Wouters",
          "Company Name: 58 - Geisler Stadelmann GmbH & Co. OHG",
          "Company Name: 70 - Rensi-Giorgetti SPA",
          "Company Name: 25 - Gérard",
          "Company Name: 46 - Weiß Schäfer GbR",
          "Company Name: 37 - Bertin",
          "Company Name: 93 - Cerquiglini-Capone e figli",
          "Company Name: 53 - Mende GmbH",
          "Company Name: 55 - Steinberg AG",
          "Company Name: 6 - Machado",
          "Company Name: 71 - Surian-Carosone e figli",
          "Company Name: 90 - Růžička",
          "Company Name: 91 - Sevrin, Gustin and De Clercq",
          "Company Name: 18 - Cadenas y Tejero S.L.N.E",
          "Company Name: 45 - Peukert AG & Co. KG",
          "Company Name: 51 - Geisel",
          "Company Name: 30 - Moulin Merle et Fils",
          "Company Name: 16 - Suministros Cabrera & Asociados S.A.",
          "Company Name: 4 - Ferreira",
          "Company Name: 14 - Servicios Pont & Asociados S.A.",
          "Company Name: 92 - Holzapfel Tintzmann KGaA",
          "Company Name: 43 - Fliegner",
          "Company Name: 41 - Legrand Dos Santos et Fils",
          "Company Name: 74 - Morricone SPA",
          "Company Name: 33 - Ferreira",
          "Company Name: 57 - Lindau",
          "Company Name: 15 - Suministros Globales S.A.",
          "Company Name: 29 - Bouchet",
          "Company Name: 34 - Gros",
          "Company Name: 39 - Neveu",
          "Company Name: 84 - Majorczyk-Groth Sp.k.",
          "Company Name: 59 - Reichmann",
          "Company Name: 82 - Grupa Wota-Breś i syn s.c.",
          "Company Name: 12 - Sierra y Blanca S.L.U.",
          "Company Name: 48 - Süßebier",
          "Company Name: 36 - Da Silva",
          "Company Name: 56 - Bolzmann",
          "Company Name: 85 - Stowarzyszenie Lada",
          "Company Name: 13 - Juana Costa Isern S.L.U.",
          "Company Name: 9 - Alba & Asociados S.L.L.",
          "Company Name: 28 - Mallet",
          "Company Name: 49 - Martin GbR",
          "Company Name: 87 - Killer",
          "Company Name: 89 - Thygesen & Søn A/S",
          "Company Name: 10 - Despacho Ferrando S.A.U",
          "Company Name: 79 - de Bruyn & van Goerle",
          "Company Name: 81 - Royal Chrodtrud",
          "Company Name: 23 - Garcia Chartier SA",
          "Company Name: 7 - Pereira",
          "Company Name: 27 - Durand",
          "Company Name: 69 - Foà, Scarpetta e Monte s.r.l.",
          "Company Name: 19 - Instalaciones del Noroeste S.L.U.",
          "Company Name: 47 - Dippel GmbH",
          "Company Name: 66 - Spinelli, Duodo e Balla e figli",
          "Company Name: 54 - Kraus",
          "Company Name: 5 - Figueiredo",
          "Company Name: 83 - Bubak S.A."
         ],
         "lat": [
          44.4949,
          40.6292,
          45.764,
          44.8015,
          51.0543,
          41.4598,
          44.6471,
          48.5734,
          44.4056,
          51.4556,
          41.2956,
          52.52,
          49.1193,
          51.9225,
          50.6326,
          42.4618,
          41.6523,
          43.7102,
          48.3069,
          47.3941,
          45.0703,
          43.7384,
          45.4384,
          46.948,
          39.9596,
          38.5243,
          48.6797,
          44.9333,
          51.2076,
          45.5416,
          48.7758,
          44.8378,
          43.263,
          51.2194,
          38.7169,
          48.3705,
          41.1496,
          50.4114,
          47.8095,
          38.9108,
          49.4432,
          49.4875,
          48.8924,
          43.9415,
          51.9607,
          49.7913,
          37.0194,
          41.0822,
          49.1951,
          49.4958,
          42.2406,
          51.3397,
          47.999,
          43.6045,
          36.742,
          40.6405,
          38.9943,
          47.165,
          51.5136,
          45.4397,
          41.4623,
          48.1173,
          50.9787,
          42.5987,
          49.2583,
          48.3904,
          44.8562,
          51.7592,
          47.0707,
          51.1079,
          41.6488,
          51.2277,
          48.5459,
          47.6603,
          53.6956,
          42.3439,
          42.5078,
          47.322,
          50.9375,
          47.4999,
          56.1629,
          41.6696,
          51.4416,
          52.0907,
          50.6292,
          38.1401,
          48.6921,
          38.1112,
          42.8125,
          53.0793,
          45.4064,
          48.4,
          41.4969,
          50.2707
         ],
         "legendgroup": "Customer",
         "lon": [
          11.3426,
          -3.1614,
          4.8357,
          10.3279,
          3.7174,
          12.8461,
          10.9252,
          7.7521,
          8.9463,
          7.0116,
          -7.7464,
          13.405,
          6.1757,
          4.4792,
          5.5797,
          14.2139,
          -4.7236,
          7.262,
          14.2858,
          0.6848,
          7.6869,
          7.4246,
          10.9916,
          7.4474,
          -4.8308,
          -8.8926,
          2.35,
          4.8924,
          16.1589,
          10.2118,
          9.1829,
          -0.5792,
          -2.935,
          4.4025,
          -9.1399,
          10.8978,
          -8.6109,
          4.4445,
          13.055,
          16.5874,
          1.0999,
          8.466,
          2.2153,
          12.4474,
          7.6261,
          9.9534,
          -7.9302,
          14.3346,
          16.6068,
          5.9804,
          -8.7207,
          12.3731,
          7.8421,
          1.4442,
          -3.5179,
          -8.6538,
          -1.8585,
          9.5087,
          7.4653,
          4.3872,
          15.5446,
          -1.6778,
          11.0328,
          -5.5671,
          4.0317,
          -4.4861,
          0.4819,
          19.455,
          15.4395,
          17.0385,
          -0.8891,
          6.7735,
          2.6458,
          9.1758,
          17.5573,
          -3.6969,
          1.5211,
          5.0415,
          6.9603,
          8.7266,
          10.2039,
          -3.6892,
          5.4697,
          5.1214,
          3.0573,
          -7.4486,
          6.1844,
          15.6473,
          -1.6458,
          8.8017,
          11.8779,
          9.9833,
          -6.2732,
          19.0399
         ],
         "marker": {
          "color": "#636efa",
          "size": [
           5,
           5,
           5,
           5,
           5,
           5,
           5,
           5,
           5,
           5,
           5,
           5,
           5,
           5,
           5,
           5,
           5,
           5,
           5,
           5,
           5,
           5,
           5,
           5,
           5,
           5,
           5,
           5,
           5,
           5,
           5,
           5,
           5,
           5,
           5,
           5,
           5,
           5,
           5,
           5,
           5,
           5,
           5,
           5,
           5,
           5,
           5,
           5,
           5,
           5,
           5,
           5,
           5,
           5,
           5,
           5,
           5,
           5,
           5,
           5,
           5,
           5,
           5,
           5,
           5,
           5,
           5,
           5,
           5,
           5,
           5,
           5,
           5,
           5,
           5,
           5,
           5,
           5,
           5,
           5,
           5,
           5,
           5,
           5,
           5,
           5,
           5,
           5,
           5,
           5,
           5,
           5,
           5,
           5
          ],
          "sizemode": "area",
          "sizeref": 0.22
         },
         "mode": "markers",
         "name": "Customer",
         "showlegend": true,
         "subplot": "mapbox",
         "type": "scattermapbox"
        },
        {
         "customdata": [
          [
           "Logroño",
           "Yearly Rent: 850,071 €",
           42.4627,
           -2.4444
          ],
          [
           "Clermont-Ferrand",
           "Yearly Rent: 901,430 €",
           45.7772,
           3.087
          ],
          [
           "Hanover",
           "Yearly Rent: 1,003,279 €",
           52.3759,
           9.732
          ],
          [
           "Bari",
           "Yearly Rent: 1,022,038 €",
           41.1171,
           16.8719
          ],
          [
           "Braga",
           "Yearly Rent: 1,146,105 €",
           41.5454,
           -8.4265
          ],
          [
           "Grenoble",
           "Yearly Rent: 1,232,975 €",
           45.1885,
           5.7245
          ],
          [
           "Dresden",
           "Yearly Rent: 1,483,614 €",
           51.0504,
           13.7373
          ],
          [
           "Taranto",
           "Yearly Rent: 1,592,572 €",
           40.4643,
           17.247
          ],
          [
           "Karlsruhe",
           "Yearly Rent: 1,687,606 €",
           49.0069,
           8.4037
          ],
          [
           "Florence",
           "Yearly Rent: 1,754,934 €",
           43.7696,
           11.2558
          ],
          [
           "Caen",
           "Yearly Rent: 1,839,312 €",
           49.1829,
           -0.3707
          ],
          [
           "Nuremberg",
           "Yearly Rent: 1,868,830 €",
           49.4521,
           11.0767
          ],
          [
           "Nantes",
           "Yearly Rent: 1,971,488 €",
           47.2184,
           -1.5536
          ],
          [
           "Gdańsk",
           "Yearly Rent: 2,133,166 €",
           54.352,
           18.6466
          ],
          [
           "Magdeburg",
           "Yearly Rent: 2,157,918 €",
           52.1317,
           11.6399
          ],
          [
           "Toledo",
           "Yearly Rent: 2,232,801 €",
           39.8628,
           -4.0273
          ],
          [
           "Kiel",
           "Yearly Rent: 2,235,314 €",
           54.3233,
           10.1394
          ],
          [
           "Perpignan",
           "Yearly Rent: 2,256,649 €",
           42.6973,
           2.8956
          ],
          [
           "Salamanca",
           "Yearly Rent: 2,283,738 €",
           40.9701,
           -5.6635
          ],
          [
           "Coimbra",
           "Yearly Rent: 2,342,458 €",
           40.2033,
           -8.4103
          ]
         ],
         "hovertemplate": "<b>%{hovertext}</b><br>%{customdata[0]}<br>%{customdata[1]}<extra></extra>",
         "hovertext": [
          "Warehouse Warehouse 3",
          "Warehouse Warehouse 10",
          "Warehouse Warehouse 11",
          "Warehouse Warehouse 18",
          "Warehouse Warehouse 1",
          "Warehouse Warehouse 6",
          "Warehouse Warehouse 12",
          "Warehouse Warehouse 19",
          "Warehouse Warehouse 13",
          "Warehouse Warehouse 17",
          "Warehouse Warehouse 7",
          "Warehouse Warehouse 15",
          "Warehouse Warehouse 9",
          "Warehouse Warehouse 20",
          "Warehouse Warehouse 16",
          "Warehouse Warehouse 5",
          "Warehouse Warehouse 14",
          "Warehouse Warehouse 8",
          "Warehouse Warehouse 4",
          "Warehouse Warehouse 2"
         ],
         "lat": [
          42.4627,
          45.7772,
          52.3759,
          41.1171,
          41.5454,
          45.1885,
          51.0504,
          40.4643,
          49.0069,
          43.7696,
          49.1829,
          49.4521,
          47.2184,
          54.352,
          52.1317,
          39.8628,
          54.3233,
          42.6973,
          40.9701,
          40.2033
         ],
         "legendgroup": "Warehouse",
         "lon": [
          -2.4444,
          3.087,
          9.732,
          16.8719,
          -8.4265,
          5.7245,
          13.7373,
          17.247,
          8.4037,
          11.2558,
          -0.3707,
          11.0767,
          -1.5536,
          18.6466,
          11.6399,
          -4.0273,
          10.1394,
          2.8956,
          -5.6635,
          -8.4103
         ],
         "marker": {
          "color": "#EF553B",
          "size": [
           22,
           22,
           22,
           22,
           22,
           22,
           22,
           22,
           22,
           22,
           22,
           22,
           22,
           22,
           22,
           22,
           22,
           22,
           22,
           22
          ],
          "sizemode": "area",
          "sizeref": 0.22
         },
         "mode": "markers",
         "name": "Warehouse",
         "showlegend": true,
         "subplot": "mapbox",
         "type": "scattermapbox"
        }
       ],
       "layout": {
        "height": 700,
        "legend": {
         "bgcolor": "rgba(255,255,255,0.8)",
         "bordercolor": "black",
         "borderwidth": 1,
         "itemsizing": "constant",
         "title": {
          "text": "type"
         },
         "tracegroupgap": 0,
         "x": 0.02,
         "y": 0.98
        },
        "mapbox": {
         "center": {
          "lat": 50,
          "lon": 10
         },
         "domain": {
          "x": [
           0,
           1
          ],
          "y": [
           0,
           1
          ]
         },
         "style": "carto-positron",
         "zoom": 3
        },
        "margin": {
         "b": 0,
         "l": 0,
         "r": 0,
         "t": 50
        },
        "template": {
         "data": {
          "bar": [
           {
            "error_x": {
             "color": "#2a3f5f"
            },
            "error_y": {
             "color": "#2a3f5f"
            },
            "marker": {
             "line": {
              "color": "#E5ECF6",
              "width": 0.5
             },
             "pattern": {
              "fillmode": "overlay",
              "size": 10,
              "solidity": 0.2
             }
            },
            "type": "bar"
           }
          ],
          "barpolar": [
           {
            "marker": {
             "line": {
              "color": "#E5ECF6",
              "width": 0.5
             },
             "pattern": {
              "fillmode": "overlay",
              "size": 10,
              "solidity": 0.2
             }
            },
            "type": "barpolar"
           }
          ],
          "carpet": [
           {
            "aaxis": {
             "endlinecolor": "#2a3f5f",
             "gridcolor": "white",
             "linecolor": "white",
             "minorgridcolor": "white",
             "startlinecolor": "#2a3f5f"
            },
            "baxis": {
             "endlinecolor": "#2a3f5f",
             "gridcolor": "white",
             "linecolor": "white",
             "minorgridcolor": "white",
             "startlinecolor": "#2a3f5f"
            },
            "type": "carpet"
           }
          ],
          "choropleth": [
           {
            "colorbar": {
             "outlinewidth": 0,
             "ticks": ""
            },
            "type": "choropleth"
           }
          ],
          "contour": [
           {
            "colorbar": {
             "outlinewidth": 0,
             "ticks": ""
            },
            "colorscale": [
             [
              0,
              "#0d0887"
             ],
             [
              0.1111111111111111,
              "#46039f"
             ],
             [
              0.2222222222222222,
              "#7201a8"
             ],
             [
              0.3333333333333333,
              "#9c179e"
             ],
             [
              0.4444444444444444,
              "#bd3786"
             ],
             [
              0.5555555555555556,
              "#d8576b"
             ],
             [
              0.6666666666666666,
              "#ed7953"
             ],
             [
              0.7777777777777778,
              "#fb9f3a"
             ],
             [
              0.8888888888888888,
              "#fdca26"
             ],
             [
              1,
              "#f0f921"
             ]
            ],
            "type": "contour"
           }
          ],
          "contourcarpet": [
           {
            "colorbar": {
             "outlinewidth": 0,
             "ticks": ""
            },
            "type": "contourcarpet"
           }
          ],
          "heatmap": [
           {
            "colorbar": {
             "outlinewidth": 0,
             "ticks": ""
            },
            "colorscale": [
             [
              0,
              "#0d0887"
             ],
             [
              0.1111111111111111,
              "#46039f"
             ],
             [
              0.2222222222222222,
              "#7201a8"
             ],
             [
              0.3333333333333333,
              "#9c179e"
             ],
             [
              0.4444444444444444,
              "#bd3786"
             ],
             [
              0.5555555555555556,
              "#d8576b"
             ],
             [
              0.6666666666666666,
              "#ed7953"
             ],
             [
              0.7777777777777778,
              "#fb9f3a"
             ],
             [
              0.8888888888888888,
              "#fdca26"
             ],
             [
              1,
              "#f0f921"
             ]
            ],
            "type": "heatmap"
           }
          ],
          "heatmapgl": [
           {
            "colorbar": {
             "outlinewidth": 0,
             "ticks": ""
            },
            "colorscale": [
             [
              0,
              "#0d0887"
             ],
             [
              0.1111111111111111,
              "#46039f"
             ],
             [
              0.2222222222222222,
              "#7201a8"
             ],
             [
              0.3333333333333333,
              "#9c179e"
             ],
             [
              0.4444444444444444,
              "#bd3786"
             ],
             [
              0.5555555555555556,
              "#d8576b"
             ],
             [
              0.6666666666666666,
              "#ed7953"
             ],
             [
              0.7777777777777778,
              "#fb9f3a"
             ],
             [
              0.8888888888888888,
              "#fdca26"
             ],
             [
              1,
              "#f0f921"
             ]
            ],
            "type": "heatmapgl"
           }
          ],
          "histogram": [
           {
            "marker": {
             "pattern": {
              "fillmode": "overlay",
              "size": 10,
              "solidity": 0.2
             }
            },
            "type": "histogram"
           }
          ],
          "histogram2d": [
           {
            "colorbar": {
             "outlinewidth": 0,
             "ticks": ""
            },
            "colorscale": [
             [
              0,
              "#0d0887"
             ],
             [
              0.1111111111111111,
              "#46039f"
             ],
             [
              0.2222222222222222,
              "#7201a8"
             ],
             [
              0.3333333333333333,
              "#9c179e"
             ],
             [
              0.4444444444444444,
              "#bd3786"
             ],
             [
              0.5555555555555556,
              "#d8576b"
             ],
             [
              0.6666666666666666,
              "#ed7953"
             ],
             [
              0.7777777777777778,
              "#fb9f3a"
             ],
             [
              0.8888888888888888,
              "#fdca26"
             ],
             [
              1,
              "#f0f921"
             ]
            ],
            "type": "histogram2d"
           }
          ],
          "histogram2dcontour": [
           {
            "colorbar": {
             "outlinewidth": 0,
             "ticks": ""
            },
            "colorscale": [
             [
              0,
              "#0d0887"
             ],
             [
              0.1111111111111111,
              "#46039f"
             ],
             [
              0.2222222222222222,
              "#7201a8"
             ],
             [
              0.3333333333333333,
              "#9c179e"
             ],
             [
              0.4444444444444444,
              "#bd3786"
             ],
             [
              0.5555555555555556,
              "#d8576b"
             ],
             [
              0.6666666666666666,
              "#ed7953"
             ],
             [
              0.7777777777777778,
              "#fb9f3a"
             ],
             [
              0.8888888888888888,
              "#fdca26"
             ],
             [
              1,
              "#f0f921"
             ]
            ],
            "type": "histogram2dcontour"
           }
          ],
          "mesh3d": [
           {
            "colorbar": {
             "outlinewidth": 0,
             "ticks": ""
            },
            "type": "mesh3d"
           }
          ],
          "parcoords": [
           {
            "line": {
             "colorbar": {
              "outlinewidth": 0,
              "ticks": ""
             }
            },
            "type": "parcoords"
           }
          ],
          "pie": [
           {
            "automargin": true,
            "type": "pie"
           }
          ],
          "scatter": [
           {
            "fillpattern": {
             "fillmode": "overlay",
             "size": 10,
             "solidity": 0.2
            },
            "type": "scatter"
           }
          ],
          "scatter3d": [
           {
            "line": {
             "colorbar": {
              "outlinewidth": 0,
              "ticks": ""
             }
            },
            "marker": {
             "colorbar": {
              "outlinewidth": 0,
              "ticks": ""
             }
            },
            "type": "scatter3d"
           }
          ],
          "scattercarpet": [
           {
            "marker": {
             "colorbar": {
              "outlinewidth": 0,
              "ticks": ""
             }
            },
            "type": "scattercarpet"
           }
          ],
          "scattergeo": [
           {
            "marker": {
             "colorbar": {
              "outlinewidth": 0,
              "ticks": ""
             }
            },
            "type": "scattergeo"
           }
          ],
          "scattergl": [
           {
            "marker": {
             "colorbar": {
              "outlinewidth": 0,
              "ticks": ""
             }
            },
            "type": "scattergl"
           }
          ],
          "scattermapbox": [
           {
            "marker": {
             "colorbar": {
              "outlinewidth": 0,
              "ticks": ""
             }
            },
            "type": "scattermapbox"
           }
          ],
          "scatterpolar": [
           {
            "marker": {
             "colorbar": {
              "outlinewidth": 0,
              "ticks": ""
             }
            },
            "type": "scatterpolar"
           }
          ],
          "scatterpolargl": [
           {
            "marker": {
             "colorbar": {
              "outlinewidth": 0,
              "ticks": ""
             }
            },
            "type": "scatterpolargl"
           }
          ],
          "scatterternary": [
           {
            "marker": {
             "colorbar": {
              "outlinewidth": 0,
              "ticks": ""
             }
            },
            "type": "scatterternary"
           }
          ],
          "surface": [
           {
            "colorbar": {
             "outlinewidth": 0,
             "ticks": ""
            },
            "colorscale": [
             [
              0,
              "#0d0887"
             ],
             [
              0.1111111111111111,
              "#46039f"
             ],
             [
              0.2222222222222222,
              "#7201a8"
             ],
             [
              0.3333333333333333,
              "#9c179e"
             ],
             [
              0.4444444444444444,
              "#bd3786"
             ],
             [
              0.5555555555555556,
              "#d8576b"
             ],
             [
              0.6666666666666666,
              "#ed7953"
             ],
             [
              0.7777777777777778,
              "#fb9f3a"
             ],
             [
              0.8888888888888888,
              "#fdca26"
             ],
             [
              1,
              "#f0f921"
             ]
            ],
            "type": "surface"
           }
          ],
          "table": [
           {
            "cells": {
             "fill": {
              "color": "#EBF0F8"
             },
             "line": {
              "color": "white"
             }
            },
            "header": {
             "fill": {
              "color": "#C8D4E3"
             },
             "line": {
              "color": "white"
             }
            },
            "type": "table"
           }
          ]
         },
         "layout": {
          "annotationdefaults": {
           "arrowcolor": "#2a3f5f",
           "arrowhead": 0,
           "arrowwidth": 1
          },
          "autotypenumbers": "strict",
          "coloraxis": {
           "colorbar": {
            "outlinewidth": 0,
            "ticks": ""
           }
          },
          "colorscale": {
           "diverging": [
            [
             0,
             "#8e0152"
            ],
            [
             0.1,
             "#c51b7d"
            ],
            [
             0.2,
             "#de77ae"
            ],
            [
             0.3,
             "#f1b6da"
            ],
            [
             0.4,
             "#fde0ef"
            ],
            [
             0.5,
             "#f7f7f7"
            ],
            [
             0.6,
             "#e6f5d0"
            ],
            [
             0.7,
             "#b8e186"
            ],
            [
             0.8,
             "#7fbc41"
            ],
            [
             0.9,
             "#4d9221"
            ],
            [
             1,
             "#276419"
            ]
           ],
           "sequential": [
            [
             0,
             "#0d0887"
            ],
            [
             0.1111111111111111,
             "#46039f"
            ],
            [
             0.2222222222222222,
             "#7201a8"
            ],
            [
             0.3333333333333333,
             "#9c179e"
            ],
            [
             0.4444444444444444,
             "#bd3786"
            ],
            [
             0.5555555555555556,
             "#d8576b"
            ],
            [
             0.6666666666666666,
             "#ed7953"
            ],
            [
             0.7777777777777778,
             "#fb9f3a"
            ],
            [
             0.8888888888888888,
             "#fdca26"
            ],
            [
             1,
             "#f0f921"
            ]
           ],
           "sequentialminus": [
            [
             0,
             "#0d0887"
            ],
            [
             0.1111111111111111,
             "#46039f"
            ],
            [
             0.2222222222222222,
             "#7201a8"
            ],
            [
             0.3333333333333333,
             "#9c179e"
            ],
            [
             0.4444444444444444,
             "#bd3786"
            ],
            [
             0.5555555555555556,
             "#d8576b"
            ],
            [
             0.6666666666666666,
             "#ed7953"
            ],
            [
             0.7777777777777778,
             "#fb9f3a"
            ],
            [
             0.8888888888888888,
             "#fdca26"
            ],
            [
             1,
             "#f0f921"
            ]
           ]
          },
          "colorway": [
           "#636efa",
           "#EF553B",
           "#00cc96",
           "#ab63fa",
           "#FFA15A",
           "#19d3f3",
           "#FF6692",
           "#B6E880",
           "#FF97FF",
           "#FECB52"
          ],
          "font": {
           "color": "#2a3f5f"
          },
          "geo": {
           "bgcolor": "white",
           "lakecolor": "white",
           "landcolor": "#E5ECF6",
           "showlakes": true,
           "showland": true,
           "subunitcolor": "white"
          },
          "hoverlabel": {
           "align": "left"
          },
          "hovermode": "closest",
          "mapbox": {
           "style": "light"
          },
          "paper_bgcolor": "white",
          "plot_bgcolor": "#E5ECF6",
          "polar": {
           "angularaxis": {
            "gridcolor": "white",
            "linecolor": "white",
            "ticks": ""
           },
           "bgcolor": "#E5ECF6",
           "radialaxis": {
            "gridcolor": "white",
            "linecolor": "white",
            "ticks": ""
           }
          },
          "scene": {
           "xaxis": {
            "backgroundcolor": "#E5ECF6",
            "gridcolor": "white",
            "gridwidth": 2,
            "linecolor": "white",
            "showbackground": true,
            "ticks": "",
            "zerolinecolor": "white"
           },
           "yaxis": {
            "backgroundcolor": "#E5ECF6",
            "gridcolor": "white",
            "gridwidth": 2,
            "linecolor": "white",
            "showbackground": true,
            "ticks": "",
            "zerolinecolor": "white"
           },
           "zaxis": {
            "backgroundcolor": "#E5ECF6",
            "gridcolor": "white",
            "gridwidth": 2,
            "linecolor": "white",
            "showbackground": true,
            "ticks": "",
            "zerolinecolor": "white"
           }
          },
          "shapedefaults": {
           "line": {
            "color": "#2a3f5f"
           }
          },
          "ternary": {
           "aaxis": {
            "gridcolor": "white",
            "linecolor": "white",
            "ticks": ""
           },
           "baxis": {
            "gridcolor": "white",
            "linecolor": "white",
            "ticks": ""
           },
           "bgcolor": "#E5ECF6",
           "caxis": {
            "gridcolor": "white",
            "linecolor": "white",
            "ticks": ""
           }
          },
          "title": {
           "x": 0.05
          },
          "xaxis": {
           "automargin": true,
           "gridcolor": "white",
           "linecolor": "white",
           "ticks": "",
           "title": {
            "standoff": 15
           },
           "zerolinecolor": "white",
           "zerolinewidth": 2
          },
          "yaxis": {
           "automargin": true,
           "gridcolor": "white",
           "linecolor": "white",
           "ticks": "",
           "title": {
            "standoff": 15
           },
           "zerolinecolor": "white",
           "zerolinewidth": 2
          }
         }
        },
        "title": {
         "text": "📍 Customers & Potential Warehouses"
        }
       }
      }
     },
     "metadata": {},
     "output_type": "display_data"
    }
   ],
   "source": [
    "plot_customers_warehouses(df_customers, df_warehouses)"
   ]
  },
  {
   "cell_type": "code",
   "execution_count": 10,
   "metadata": {},
   "outputs": [],
   "source": [
    "df_customers = df_customers.drop(columns=[\"type\"])\n",
    "df_warehouses = df_warehouses.drop(columns=[\"type\"])"
   ]
  },
  {
   "cell_type": "code",
   "execution_count": 11,
   "metadata": {},
   "outputs": [],
   "source": [
    "df_customers.to_csv(\"./src/data/customers.csv\", index=False)\n",
    "df_warehouses.to_csv(\"./src/data/warehouses.csv\", index=False)"
   ]
  }
 ],
 "metadata": {
  "kernelspec": {
   "display_name": "taipy_book",
   "language": "python",
   "name": "python3"
  },
  "language_info": {
   "codemirror_mode": {
    "name": "ipython",
    "version": 3
   },
   "file_extension": ".py",
   "mimetype": "text/x-python",
   "name": "python",
   "nbconvert_exporter": "python",
   "pygments_lexer": "ipython3",
   "version": "3.12.8"
  }
 },
 "nbformat": 4,
 "nbformat_minor": 2
}
